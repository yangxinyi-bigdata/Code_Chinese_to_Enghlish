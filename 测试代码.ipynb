{
 "cells": [
  {
   "cell_type": "code",
   "id": "initial_id",
   "metadata": {
    "collapsed": true,
    "ExecuteTime": {
     "end_time": "2024-08-14T06:57:45.017839Z",
     "start_time": "2024-08-14T06:57:44.954979Z"
    }
   },
   "source": [
    "import re\n",
    "import os\n",
    "import json\n",
    "import datetime\n",
    "import time\n",
    "import random\n",
    "from loguru import logger as 日志"
   ],
   "execution_count": 109,
   "outputs": []
  },
  {
   "metadata": {
    "ExecuteTime": {
     "end_time": "2024-08-14T07:54:48.822739Z",
     "start_time": "2024-08-14T07:54:48.787053Z"
    }
   },
   "cell_type": "code",
   "source": [
    "代码文本=\"def 传入大模型返回JSON(messages: List[Dict[str, str]]) -> Dict[str, str]:  # def 有一个函数():\"\n",
    "# 代码文本=\"def 传入大模型返回JSON(messages: List[Dict[str, str]]):\"\n",
    "# 代码文本=\"def 传入大模型返回JSON() -> Dict[str, str]:  # 这个有影响吗\"\n",
    "def_pattern = r\"def ([0-9a-zA-Z_\\u4e00-\\u9fa5]+)\\((.*?)\\).*:\"\n",
    "re.search(def_pattern, 代码文本)\n",
    "# re.search(def_pattern, 代码文本).group(2)\n",
    "re.search(def_pattern, 代码文本).group(2)"
   ],
   "id": "b908bbc035186e11",
   "execution_count": 149,
   "outputs": []
  },
  {
   "metadata": {
    "ExecuteTime": {
     "end_time": "2024-08-14T08:19:22.092617Z",
     "start_time": "2024-08-14T08:19:22.078047Z"
    }
   },
   "cell_type": "code",
   "source": [
    "for_pattern = r\"for\\s+([\\w\\u4e00-\\u9fa5\\s,]+?)\\s+in\"\n",
    "代码文本=\"目录列表[:] = [d for d in 目录列表 if d not in 忽略目录]\"\n",
    "for匹配结果 = re.search(for_pattern, 代码文本)\n",
    "for匹配结果.group(1)"
   ],
   "id": "c32e2aff439f2703",
   "execution_count": 152,
   "outputs": []
  },
  {
   "metadata": {
    "ExecuteTime": {
     "end_time": "2024-08-14T08:31:06.766552Z",
     "start_time": "2024-08-14T08:31:06.753088Z"
    }
   },
   "cell_type": "code",
   "source": [
    "for_pattern = r\"for\\s+([\\w\\u4e00-\\u9fa5\\s,]+?)\\s+in\"\n",
    "代码文本=\"目录列表[:] = [d for d in 目录列表 if d not in 忽略目录]\"\n",
    "代码文本=\"for 一行 in 代码文本.split():\"\n",
    "for匹配结果 = re.match(for_pattern, 代码文本)\n",
    "for匹配结果.group(1)"
   ],
   "id": "44b18757a249507f",
   "execution_count": 156,
   "outputs": []
  },
  {
   "metadata": {
    "ExecuteTime": {
     "end_time": "2024-08-14T07:18:47.615988Z",
     "start_time": "2024-08-14T07:18:47.601782Z"
    }
   },
   "cell_type": "code",
   "source": [
    "# for 目录路径, 目录列表, 文件列表 in os.walk(start_directory): \n",
    "# 这种没匹配上\n",
    "# 代码文本=\"for 目录路径, 目录列表, 文件列表 in os.walk(start_directory): \"\n",
    "代码文本=\"for 目录路径 in os.walk(start_directory): \"\n",
    "for_pattern = r\"for\\s+([\\w\\u4e00-\\u9fa5\\s,]+)\\s+in\"\n",
    "for匹配结果 = re.search(for_pattern, 代码文本)\n",
    "for匹配结果"
   ],
   "id": "f38c42281f42c315",
   "execution_count": 122,
   "outputs": []
  },
  {
   "metadata": {
    "ExecuteTime": {
     "end_time": "2024-08-09T12:46:12.551049Z",
     "start_time": "2024-08-09T12:46:12.536122Z"
    }
   },
   "cell_type": "code",
   "source": [
    "import os\n",
    "\n",
    "def is_subdirectory(parent_dir, sub_dir):\n",
    "    # 获取绝对路径并规范化路径\n",
    "    parent_dir = os.path.abspath(parent_dir)\n",
    "    sub_dir = os.path.abspath(sub_dir)\n",
    "    \n",
    "    # 获取公共路径\n",
    "    common_path = os.path.commonpath([parent_dir, sub_dir])\n",
    "    \n",
    "    # 判断公共路径是否等于父目录路径\n",
    "    return common_path == parent_dir\n",
    "\n",
    "# 示例\n",
    "parent_dir = \"/home/user/documents\"\n",
    "sub_dir = \"/home/user/documents/projects\"\n",
    "print(is_subdirectory(parent_dir, sub_dir))  # 输出: True"
   ],
   "id": "52fb06dec1075cc5",
   "execution_count": 101,
   "outputs": []
  },
  {
   "metadata": {
    "ExecuteTime": {
     "end_time": "2024-08-09T12:53:15.812276Z",
     "start_time": "2024-08-09T12:53:15.789423Z"
    }
   },
   "cell_type": "code",
   "source": [
    "parent_dir = '/Users/yangxinyi/Library/CloudStorage/OneDrive-个人/100_code/Test_Translate_Project'\n",
    "parent_dir = os.path.abspath(parent_dir)\n",
    "parent_dir"
   ],
   "id": "690660405d354a20",
   "execution_count": 105,
   "outputs": []
  },
  {
   "metadata": {
    "ExecuteTime": {
     "end_time": "2024-08-09T12:53:18.314140Z",
     "start_time": "2024-08-09T12:53:18.302478Z"
    }
   },
   "cell_type": "code",
   "source": [
    "sub_dir = '/Users/yangxinyi/Library/CloudStorage/OneDrive-个人/100_code/Test_Translate_Project/示例代码/novel_send'\n",
    "sub_dir = os.path.abspath(sub_dir)\n",
    "sub_dir"
   ],
   "id": "ffca2e90f525e9be",
   "execution_count": 106,
   "outputs": []
  },
  {
   "metadata": {
    "ExecuteTime": {
     "end_time": "2024-08-09T12:53:33.153642Z",
     "start_time": "2024-08-09T12:53:33.138877Z"
    }
   },
   "cell_type": "code",
   "source": "os.path.commonpath([sub_dir, parent_dir]) == parent_dir",
   "id": "9f5e2e0bb5223c0",
   "execution_count": 108,
   "outputs": []
  },
  {
   "metadata": {
    "ExecuteTime": {
     "end_time": "2024-08-09T12:12:12.970682Z",
     "start_time": "2024-08-09T12:12:12.964814Z"
    }
   },
   "cell_type": "code",
   "source": "test = \"/Users/yangxinyi/Library/CloudStorage/OneDrive-个人/100_code/Code_Chinese_to_Enghlish/中文变量翻译.py\"",
   "id": "232f1176481c5f48",
   "execution_count": 88,
   "outputs": []
  },
  {
   "metadata": {
    "ExecuteTime": {
     "end_time": "2024-08-09T12:12:54.621334Z",
     "start_time": "2024-08-09T12:12:54.606520Z"
    }
   },
   "cell_type": "code",
   "source": "test.rsplit(\"/\", maxsplit=1)",
   "id": "c3706e6f7951ce42",
   "execution_count": 92,
   "outputs": []
  },
  {
   "metadata": {
    "ExecuteTime": {
     "end_time": "2024-08-04T09:01:14.325Z",
     "start_time": "2024-08-04T09:01:14.316015Z"
    }
   },
   "cell_type": "code",
   "source": [
    "# 获取当前文件的绝对路径\n",
    "current_file_path = os.path.abspath(\"/Users/yangxinyi/Library/CloudStorage/OneDrive-个人/100_code/Code_Chinese_to_Enghlish/中文变量翻译.py\")\n",
    "# 获取当前文件所在的目录\n",
    "current_directory = os.path.dirname(current_file_path)\n",
    "# 改变工作目录到当前文件所在的目录\n",
    "os.chdir(current_directory)\n",
    "日志.info(\"工作目录已改变为: {}\", os.getcwd())"
   ],
   "id": "756be54ed2356096",
   "execution_count": 7,
   "outputs": []
  },
  {
   "metadata": {
    "ExecuteTime": {
     "end_time": "2024-08-04T09:01:18.643915Z",
     "start_time": "2024-08-04T09:01:18.025025Z"
    }
   },
   "cell_type": "code",
   "source": "import 通义千问模型",
   "id": "ee9d981910995a30",
   "execution_count": 8,
   "outputs": []
  },
  {
   "metadata": {
    "ExecuteTime": {
     "end_time": "2024-08-04T09:01:20.104882Z",
     "start_time": "2024-08-04T09:01:20.092779Z"
    }
   },
   "cell_type": "code",
   "source": "print(通义千问模型.__file__)",
   "id": "43e840e4fcf0d630",
   "execution_count": 9,
   "outputs": []
  },
  {
   "metadata": {
    "ExecuteTime": {
     "end_time": "2024-08-04T10:25:10.960435Z",
     "start_time": "2024-08-04T10:25:10.926704Z"
    }
   },
   "cell_type": "code",
   "source": [
    "def 遍历目录和文件列表(开始目录='.', 忽略目录=None):\n",
    "    \"\"\"\n",
    "    列出指定路径下的所有目录和文件，忽略指定的目录。\n",
    "    \n",
    "    :param 开始目录: 起始目录，默认为当前目录。\n",
    "    :param 忽略目录: 要忽略的目录列表。\n",
    "    \"\"\"\n",
    "    if 忽略目录 is None:\n",
    "        忽略目录 = ['__pycache__', '.git', '.idea']\n",
    "    收集_目录列表 = []\n",
    "    收集_文件列表 = []\n",
    "    # 遍历目录\n",
    "    for 目录路径, 目录列表, 文件列表 in os.walk(开始目录):\n",
    "        # 修改 目录列表，移除忽略的目录，影响 os.walk 的遍历行为\n",
    "        目录列表[:] = [d for d in 目录列表 if d not in 忽略目录]\n",
    "        \n",
    "        收集_目录列表.append(目录路径)\n",
    "        \n",
    "        # 输出当前目录下的所有文件\n",
    "        for 文件 in 文件列表:\n",
    "            收集_文件列表.append(os.path.join(目录路径, 文件))\n",
    "    return 收集_目录列表, 收集_文件列表\n",
    "\n",
    "# 调用函数，默认从当前目录开始\n",
    "收集_目录列表, 收集_文件列表 = 遍历目录和文件列表()"
   ],
   "id": "92b19e88a9129e18",
   "execution_count": 17,
   "outputs": []
  },
  {
   "metadata": {
    "ExecuteTime": {
     "end_time": "2024-08-04T10:25:14.744078Z",
     "start_time": "2024-08-04T10:25:14.732756Z"
    }
   },
   "cell_type": "code",
   "source": "收集_目录列表",
   "id": "7972e2e9ecdce4b7",
   "execution_count": 18,
   "outputs": []
  },
  {
   "metadata": {
    "ExecuteTime": {
     "end_time": "2024-08-04T10:25:35.524231Z",
     "start_time": "2024-08-04T10:25:35.485867Z"
    }
   },
   "cell_type": "code",
   "source": "收集_文件列表",
   "id": "47fe6803b2126da5",
   "execution_count": 19,
   "outputs": []
  },
  {
   "metadata": {
    "ExecuteTime": {
     "end_time": "2024-08-02T10:08:27.527673Z",
     "start_time": "2024-08-02T10:08:27.520504Z"
    }
   },
   "cell_type": "code",
   "source": [
    "# 原始代码\n",
    "代码文本 = '''\n",
    "import 张三\n",
    "import 张三, 李四\n",
    "import pandas as 数据处理\n",
    "import re as 正则表达式, os as 文件管理包\n",
    "from numpy import array\n",
    "from numpy import ndarray as 数组\n",
    "from datetime import datetime as 时间, date as 日期\n",
    "\n",
    "import re\n",
    "import re, os\n",
    "import pandas as 数据处理\n",
    "import re as 正则表达式, os as 文件管理包\n",
    "from numpy import 数组\n",
    "from numpy import ndarray as 数组\n",
    "from datetime import datetime as 时间, date as 日期\n",
    "\n",
    "# 获取当前代码文件的绝对路径\n",
    "当前_文件_路径 = os.path.abspath(__file__)\n",
    "# 获取该路径的目录部分\n",
    "当前_文件 = os.path.dirname(当前_文件_路径)\n",
    "\n",
    "# 将工作目录切换到代码所在目录\n",
    "os.chdir(当前_文件)\n",
    "\n",
    "# 打印当前工作目录（确认更改）\n",
    "print(\"当前工作目录：\", os.getcwd())\n",
    "# 思路, 设置几个类呢?\n",
    "# 第一个 小说处理类\n",
    "# 第二个 邮件发送类\n",
    "\n",
    "class 小说处理器_类:\n",
    "    def __init__(self, 小说名称, 输入文件_路径, 输出文件_路径):\n",
    "        self.小说内容 = None\n",
    "        self.章节正则匹配模式 = None\n",
    "        self.小说名称 = 小说名称\n",
    "        if not os.path.exists(输出文件_路径):\n",
    "            os.mkdir(输出文件_路径)\n",
    "        self.输入文件_路径 = 输入文件_路径\n",
    "        self.输出文件_路径 = 输出文件_路径\n",
    "        正则表达式.\n",
    "\n",
    "    def 读取小说内容(self):\n",
    "        # 第一次的时候执行, 后面不执行\n",
    "        self.章节正则匹配模式 = r'(第\\s*(\\d+|[零一二两三四五六七八九十百千万]+)\\s*章\\s*.*)'\n",
    "        with open(self.输入文件_路径, \"r\", encoding=\"utf8\") as 文件:\n",
    "            # 按行模式读取整本小说内容\n",
    "            self.小说内容_按行切分 = 文件.readlines()\n",
    "    \n",
    "    for 每行 in self.小说内容_按行切分:\n",
    "        当前行 = 每行.strip()\n",
    "        # 判断这行符不符合标准 第XX章\n",
    "        匹配结果 = re.search(self.章节正则匹配模式, 当前行)\n",
    "        if (len(当前行) <= 30) and 匹配结果:\n",
    "            # 找到一个新的章节的内容, 说明上一章节结束\n",
    "            # 添加到总的列表当中content_list\n",
    "            一章内容列表.append(一章节内容)\n",
    "    \n",
    "    for i in self.小说内容_按行切分:\n",
    "        当前行 = 每行.strip()\n",
    "        # 判断这行符不符合标准 第XX章\n",
    "        匹配结果 = re.search(self.章节正则匹配模式, 当前行)\n",
    "        if (len(当前行) <= 30) and 匹配结果:\n",
    "            # 找到一个新的章节的内容, 说明上一章节结束\n",
    "            # 添加到总的列表当中content_list\n",
    "            一章内容列表.append(一章节内容)\n",
    "'''"
   ],
   "id": "ed9e1609bf2e26d6",
   "execution_count": 66,
   "outputs": []
  },
  {
   "metadata": {
    "ExecuteTime": {
     "end_time": "2024-07-31T03:54:35.365983Z",
     "start_time": "2024-07-31T03:54:35.353673Z"
    }
   },
   "cell_type": "code",
   "source": [
    "# 定义中文变量与英文变量的映射\n",
    "translation_dict = {\n",
    "    '文件': 'haha', \n",
    "    '当前_文件_路径': 'current_file_path',\n",
    "    '当前_文件': 'current_file',\n",
    "    '小说处理器_类': 'NovelProcessor',\n",
    "    '小说名称': 'novel_name',\n",
    "    '输入文件_路径': 'input_file_path',\n",
    "    '输出文件_路径': 'output_file_path',\n",
    "    '小说内容': 'novel_content',\n",
    "    '章节正则匹配模式': 'chapter_regex_pattern'\n",
    "}\n",
    "\n",
    "# 正则表达式匹配变量定义\n",
    "var_pattern = re.compile(r'([0-9a-zA-Z_\\u4e00-\\u9fa5]+)\\s*=\\s*')"
   ],
   "id": "437502c9c20d3985",
   "execution_count": 38,
   "outputs": []
  },
  {
   "metadata": {
    "ExecuteTime": {
     "end_time": "2024-07-31T10:03:09.903375Z",
     "start_time": "2024-07-31T10:03:09.888173Z"
    }
   },
   "cell_type": "code",
   "source": [
    "# 提取所有变量名\n",
    "variables = var_pattern.findall(代码文本)"
   ],
   "id": "bccdd77ca4ec8e0c",
   "execution_count": 92,
   "outputs": []
  },
  {
   "metadata": {
    "ExecuteTime": {
     "end_time": "2024-07-31T10:03:10.219089Z",
     "start_time": "2024-07-31T10:03:10.201024Z"
    }
   },
   "cell_type": "code",
   "source": "variables",
   "id": "f6a1f3eaf5c3d837",
   "execution_count": 93,
   "outputs": []
  },
  {
   "metadata": {
    "ExecuteTime": {
     "end_time": "2024-07-31T07:17:19.917542Z",
     "start_time": "2024-07-31T07:17:19.911470Z"
    }
   },
   "cell_type": "code",
   "source": [
    "test_import = \"\"\"import 张三\n",
    "import 张三, 李四\n",
    "import pandas as 数据处理\n",
    "import re as 正则表达式, os as 文件管理包\"\"\""
   ],
   "id": "45a9e6ac1f0dd0c7",
   "execution_count": 50,
   "outputs": []
  },
  {
   "metadata": {
    "ExecuteTime": {
     "end_time": "2024-07-31T07:56:27.901293Z",
     "start_time": "2024-07-31T07:56:27.885610Z"
    }
   },
   "cell_type": "code",
   "source": [
    "test_import = \"\"\"import 张三\n",
    "import 宋六, 李四\n",
    "import 王五, sunqi as 孙七\n",
    "import pandas as 数据处理\n",
    "import re as 正则表达式, os as 文件管理包\n",
    "from numpy import 测试1\n",
    "from numpy import ndarray as 测试1\n",
    "from datetime import 测试3, date as 测试4\n",
    "from datetime import datetime as 测试5, date as 测试6\"\"\""
   ],
   "id": "ff80900f1e2d82f3",
   "execution_count": 62,
   "outputs": []
  },
  {
   "metadata": {
    "ExecuteTime": {
     "end_time": "2024-07-31T07:23:48.081541Z",
     "start_time": "2024-07-31T07:23:48.058646Z"
    }
   },
   "cell_type": "code",
   "source": "test_import.split(\"\\n\")",
   "id": "4b562ef7a8a61d97",
   "execution_count": 54,
   "outputs": []
  },
  {
   "metadata": {
    "ExecuteTime": {
     "end_time": "2024-07-31T09:25:02.393971Z",
     "start_time": "2024-07-31T09:25:02.368095Z"
    }
   },
   "cell_type": "code",
   "source": [
    "变量列表 = []\n",
    "for 一行 in test_import.split(\"\\n\"):\n",
    "    # 判断这行是不是以import 开头的\n",
    "    if 一行.startswith(\"import\"):\n",
    "        # 如果是以import 开头的, 分成四种情况, \n",
    "        \"\"\"import 张三\n",
    "            import 宋六, 李四\n",
    "            import 王五, sunqi as 孙七\n",
    "            import pandas as 数据处理\n",
    "            import re as 正则表达式, os as 文件管理包\"\"\"\n",
    "        # 凡是有from的一定是有import 的, 需要的是import后面的内容, 前边from ... import 去掉\n",
    "        import_后面文本 = 一行.split(\"import \")[-1]\n",
    "        import_后面文本_切分 = import_后面文本.split(\",\")\n",
    "        for 一个 in import_后面文本_切分: \n",
    "            if 一个.find(\"as\") < 0:  # 没有as, 直接保存\n",
    "                变量列表.append(一个)\n",
    "            else:  # 有as, 提取后面部分\n",
    "                变量列表.append(一个.split(\"as\")[-1].strip())\n",
    "        \n",
    "        # # 提取出import后面东全部内容\n",
    "        # import_后面文本 = 一行.replace(\"import \", \"\")\n",
    "        # # 区分有逗号的, 没有逗号的\n",
    "        # if 一行.find(\"as\") < 0:  # 没有 as\n",
    "        #     if 一行.find(\",\") < 0:  # 没有逗号\n",
    "        #         变量列表.append(import_后面文本)\n",
    "        #     else:\n",
    "        #         变量列表.extend([一个.strip() for 一个 in import_后面文本.split(\",\")])\n",
    "        # else:  # 有as存在, 首先用逗号切分, 然后对于切分后的每一部分, 判断有没有as, 如果没有则直接保留, 如果有as, 则提取as后面的部分\n",
    "        #     import_后面文本_切分 = import_后面文本.split(\",\")\n",
    "        #     for 一个 in import_后面文本_切分: \n",
    "        #         if 一个.find(\"as\") < 0:  # 没有as, 直接保存\n",
    "        #             变量列表.append(一个)\n",
    "        #         else:  # 有as, 提取后面部分\n",
    "        #             变量列表.append(一个.split(\"as\")[-1].strip())\n",
    "    \"\"\"from numpy import 测试1\n",
    "        from numpy import ndarray as 测试1\n",
    "        from datetime import 测试3, date as 测试4\n",
    "        from datetime import datetime as 测试5, date as 测试6\"\"\"\n",
    "    if 一行.startswith(\"from\"):\n",
    "        # 凡是有from的一定是有import 的, 需要的是import后面的内容, 前边from ... import 去掉\n",
    "        import_后面文本 = 一行.split(\"import \")[-1]\n",
    "        import_后面文本_切分 = import_后面文本.split(\",\")\n",
    "        for 一个 in import_后面文本_切分: \n",
    "            if 一个.find(\"as\") < 0:  # 没有as, 直接保存\n",
    "                变量列表.append(一个)\n",
    "            else:  # 有as, 提取后面部分\n",
    "                变量列表.append(一个.split(\"as\")[-1].strip())    \n",
    "                \n",
    "变量列表"
   ],
   "id": "fc8ba4495d3a594d",
   "execution_count": 65,
   "outputs": []
  },
  {
   "metadata": {
    "ExecuteTime": {
     "end_time": "2024-07-31T09:27:03.514351Z",
     "start_time": "2024-07-31T09:27:03.496406Z"
    }
   },
   "cell_type": "code",
   "source": [
    "def 提取导入变量(代码文本):\n",
    "    变量列表 = []\n",
    "    for 一行 in 代码文本.split(\"\\n\"):\n",
    "        # 判断这行是不是以import 开头的\n",
    "        if 一行.startswith(\"import\"):\n",
    "            # 如果是以import 开头的, 分成四种情况, \n",
    "            \"\"\"import 张三\n",
    "                import 宋六, 李四\n",
    "                import 王五, sunqi as 孙七\n",
    "                import pandas as 数据处理\n",
    "                import re as 正则表达式, os as 文件管理包\"\"\"\n",
    "            # 凡是有from的一定是有import 的, 需要的是import后面的内容, 前边from ... import 去掉\n",
    "            import_后面文本 = 一行.split(\"import \")[-1]\n",
    "            import_后面文本_切分 = import_后面文本.split(\",\")\n",
    "            for 一个 in import_后面文本_切分: \n",
    "                if 一个.find(\"as\") < 0:  # 没有as, 直接保存\n",
    "                    变量列表.append(一个)\n",
    "                else:  # 有as, 提取后面部分\n",
    "                    变量列表.append(一个.split(\"as\")[-1].strip())\n",
    "            \n",
    "            # # 提取出import后面东全部内容\n",
    "            # import_后面文本 = 一行.replace(\"import \", \"\")\n",
    "            # # 区分有逗号的, 没有逗号的\n",
    "            # if 一行.find(\"as\") < 0:  # 没有 as\n",
    "            #     if 一行.find(\",\") < 0:  # 没有逗号\n",
    "            #         变量列表.append(import_后面文本)\n",
    "            #     else:\n",
    "            #         变量列表.extend([一个.strip() for 一个 in import_后面文本.split(\",\")])\n",
    "            # else:  # 有as存在, 首先用逗号切分, 然后对于切分后的每一部分, 判断有没有as, 如果没有则直接保留, 如果有as, 则提取as后面的部分\n",
    "            #     import_后面文本_切分 = import_后面文本.split(\",\")\n",
    "            #     for 一个 in import_后面文本_切分: \n",
    "            #         if 一个.find(\"as\") < 0:  # 没有as, 直接保存\n",
    "            #             变量列表.append(一个)\n",
    "            #         else:  # 有as, 提取后面部分\n",
    "            #             变量列表.append(一个.split(\"as\")[-1].strip())\n",
    "        \"\"\"from numpy import 测试1\n",
    "            from numpy import ndarray as 测试1\n",
    "            from datetime import 测试3, date as 测试4\n",
    "            from datetime import datetime as 测试5, date as 测试6\"\"\"\n",
    "        if 一行.startswith(\"from\"):\n",
    "            # 凡是有from的一定是有import 的, 需要的是import后面的内容, 前边from ... import 去掉\n",
    "            import_后面文本 = 一行.split(\"import \")[-1]\n",
    "            import_后面文本_切分 = import_后面文本.split(\",\")\n",
    "            for 一个 in import_后面文本_切分: \n",
    "                if 一个.find(\"as\") < 0:  # 没有as, 直接保存\n",
    "                    变量列表.append(一个)\n",
    "                else:  # 有as, 提取后面部分\n",
    "                    变量列表.append(一个.split(\"as\")[-1].strip())    \n",
    "    return 变量列表"
   ],
   "id": "796ec2bd9f461b90",
   "execution_count": 66,
   "outputs": []
  },
  {
   "metadata": {
    "ExecuteTime": {
     "end_time": "2024-07-31T09:27:18.258008Z",
     "start_time": "2024-07-31T09:27:18.254224Z"
    }
   },
   "cell_type": "code",
   "source": "提取导入变量(test_import)",
   "id": "5a7ee13abcb6fe8a",
   "execution_count": 67,
   "outputs": []
  },
  {
   "metadata": {
    "ExecuteTime": {
     "end_time": "2024-07-31T10:02:05.199593Z",
     "start_time": "2024-07-31T10:02:05.182015Z"
    }
   },
   "cell_type": "code",
   "source": [
    "# 提取类名和函数名\n",
    "# class 类名 class 类名1(父类):\n",
    "# def 函数():\n",
    "# var_pattern = re.compile(r'([0-9a-zA-Z_\\u4e00-\\u9fa5]+)\\s*=\\s*')\n",
    "\n",
    "测试字符串 = \"\"\"def 函数():\n",
    "def 函数2(参数1, 参数2):\n",
    "class 类名:\n",
    "class 类名1(父类):\"\"\"\n",
    "\n",
    "def 函数和类名匹配(代码文本):\n",
    "    def_pattern = r\"def ([0-9a-zA-Z_\\u4e00-\\u9fa5]+)\\((.*)\\)\"\n",
    "\n",
    "    变量列表 = []\n",
    "    函数匹配结果_列表 = re.findall(def_pattern, 代码文本)\n",
    "    for 一个 in 函数匹配结果_列表:\n",
    "        # 每一项应该返回的都是两个元素的元组\n",
    "        函数名称, 函数参数名称 = 一个\n",
    "        变量列表.append(函数名称)\n",
    "        if 函数参数名称:\n",
    "            函数参数名称_列表 = [i.strip() for i in 函数参数名称.split(\",\")]\n",
    "            变量列表.extend(函数参数名称_列表)\n",
    "    \n",
    "    class_pattern = r\"class ([0-9a-zA-Z_\\u4e00-\\u9fa5]+).*\\:\"\n",
    "    类名匹配结果_列表 = re.findall(class_pattern, 代码文本)\n",
    "    变量列表.extend(类名匹配结果_列表)\n",
    "    return 变量列表"
   ],
   "id": "66a7d85d19c1eb86",
   "execution_count": 88,
   "outputs": []
  },
  {
   "metadata": {
    "ExecuteTime": {
     "end_time": "2024-07-31T10:02:27.082594Z",
     "start_time": "2024-07-31T10:02:27.066216Z"
    }
   },
   "cell_type": "code",
   "source": "函数和类名匹配(代码文本)",
   "id": "87fe1a15f4e889ef",
   "execution_count": 91,
   "outputs": []
  },
  {
   "metadata": {},
   "cell_type": "code",
   "execution_count": null,
   "source": "",
   "id": "bde5a8530c7fa537",
   "outputs": []
  },
  {
   "metadata": {},
   "cell_type": "code",
   "execution_count": null,
   "source": "",
   "id": "f905243317c2b5f8",
   "outputs": []
  },
  {
   "metadata": {},
   "cell_type": "code",
   "execution_count": null,
   "source": "",
   "id": "cf0b847896983df2",
   "outputs": []
  },
  {
   "metadata": {
    "ExecuteTime": {
     "end_time": "2024-07-31T03:54:36.504232Z",
     "start_time": "2024-07-31T03:54:36.476506Z"
    }
   },
   "cell_type": "code",
   "source": [
    "import_pattern = r'import\\s+(\\w+)$'\n",
    "as_pattern = r'as\\s+(\\w+)$'\n",
    "\n",
    "import_matches = re.findall(import_pattern, code, re.MULTILINE)\n",
    "as_matches = re.findall(as_pattern, code, re.MULTILINE)\n",
    "\n",
    "print(\"Matches for 'import':\", import_matches)\n",
    "print(\"Matches for 'as':\", as_matches)"
   ],
   "id": "6cbb52b5a9070ec0",
   "execution_count": 41,
   "outputs": []
  },
  {
   "metadata": {
    "ExecuteTime": {
     "end_time": "2024-07-31T03:54:38.441151Z",
     "start_time": "2024-07-31T03:54:38.425660Z"
    }
   },
   "cell_type": "code",
   "source": "",
   "id": "f95ec561140db86f",
   "execution_count": 41,
   "outputs": []
  },
  {
   "metadata": {
    "ExecuteTime": {
     "end_time": "2024-07-31T03:28:53.330278Z",
     "start_time": "2024-07-31T03:28:53.307234Z"
    }
   },
   "cell_type": "code",
   "source": [
    "# 替换变量名\n",
    "for var in variables:\n",
    "    if var in translation_dict:\n",
    "        code = re.sub(r'\\b' + re.escape(var) + r'\\b', translation_dict[var], code)\n",
    "\n",
    "print(code)"
   ],
   "id": "57dcb96c2a6ef8df",
   "execution_count": 18,
   "outputs": []
  },
  {
   "metadata": {},
   "cell_type": "code",
   "execution_count": null,
   "source": "",
   "id": "1f60ea4014341289",
   "outputs": []
  },
  {
   "metadata": {
    "ExecuteTime": {
     "end_time": "2024-08-01T07:41:13.387992Z",
     "start_time": "2024-08-01T07:41:13.368180Z"
    }
   },
   "cell_type": "code",
   "source": [
    "变量列表 = {'datetime', '合并文件名称', '小说内容', '输出文件_路径', '发送邮件', '已经阅读章节数量', '章节正则匹配模式',\n",
    "     '结束时间', '开始时间', 'smtplib', '随机延迟时间', '消息', '随机延迟_按秒配置', '输入文件_路径', 'random',\n",
    "     'encoders', 'encoding', '随机秒数', '小说内容_按行切分', '最大秒数', '发送小说文件', '当前_文件_路径', '附件',\n",
    "     '当前行', '匹配结果', '延迟', '当前_文件', '已读章节数量', '合并后章节保存路径', '一章内容', 'MIMEMultipart', 're',\n",
    "     '__name__', '章节数', '创建邮箱消息', 'Header', 'seconds', '发送邮箱', '一章内容列表', '随机时间', '今天所有内容',\n",
    "     'filename', '小说处理器', 'QQ邮箱发送', 'MIMEText', '小说处理器_类', '保存数据', '小说名称', '邮件标题',\n",
    "     '开始时间小时', '章节名称列表', '接收邮箱', '上一章节名称', '字符串格式时间', '结束时间小时', '切割文本_按照章节',\n",
    "     '__init__', '邮件本体', 'e', 'time', '合并当天章节', '计数', '当前时间', '下一章节名称', '合并章节数量', '一章',\n",
    "     '合并后文件名称', '邮件正文', 'self', '最终结果', '邮箱密码', 'os', '一章节内容', '读取小说内容', '秒数',\n",
    "     '发送文件', '今天章节名称列表', 'QQ邮箱发送_类'}"
   ],
   "id": "3b43b3b1bc42f6f4",
   "execution_count": 12,
   "outputs": []
  },
  {
   "metadata": {
    "ExecuteTime": {
     "end_time": "2024-08-01T07:41:13.841682Z",
     "start_time": "2024-08-01T07:41:13.827010Z"
    }
   },
   "cell_type": "code",
   "source": [
    "# 过滤掉英文变量, 如果是中英文混合的, 只要其中包含中文变量\n",
    "包含中文字符的变量列表 = {变量 for 变量 in 变量列表 if any('\\u4e00' <= char <= '\\u9fff' for char in 变量)}"
   ],
   "id": "783edfab6ab5ecdb",
   "execution_count": 13,
   "outputs": []
  },
  {
   "metadata": {
    "ExecuteTime": {
     "end_time": "2024-08-01T07:41:14.297526Z",
     "start_time": "2024-08-01T07:41:14.279515Z"
    }
   },
   "cell_type": "code",
   "source": "包含中文字符的变量列表",
   "id": "e9c7b2982038b64e",
   "execution_count": 14,
   "outputs": []
  },
  {
   "metadata": {
    "ExecuteTime": {
     "end_time": "2024-08-01T07:24:45.924641Z",
     "start_time": "2024-08-01T07:24:45.902949Z"
    }
   },
   "cell_type": "code",
   "source": "pwd",
   "id": "b7a91cd4efdd3f35",
   "execution_count": 9,
   "outputs": []
  },
  {
   "metadata": {
    "ExecuteTime": {
     "end_time": "2024-08-01T07:25:23.299984Z",
     "start_time": "2024-08-01T07:25:23.288839Z"
    }
   },
   "cell_type": "code",
   "source": "os.getcwd()",
   "id": "f24418ed2d4a698f",
   "execution_count": 10,
   "outputs": []
  },
  {
   "metadata": {
    "ExecuteTime": {
     "end_time": "2024-08-01T07:38:16.156578Z",
     "start_time": "2024-08-01T07:38:16.150874Z"
    }
   },
   "cell_type": "code",
   "source": "",
   "id": "ded92796125f2d72",
   "execution_count": 3,
   "outputs": []
  },
  {
   "metadata": {
    "ExecuteTime": {
     "end_time": "2024-08-01T07:39:54.628841Z",
     "start_time": "2024-08-01T07:39:54.617743Z"
    }
   },
   "cell_type": "code",
   "source": [
    "\n",
    "# 改变工作目录到当前文件所在的目录\n",
    "os.chdir(\"/Users/yangxinyi/Library/CloudStorage/OneDrive-个人/100_code/Code_Chinese_to_Enghlish/\")\n",
    "\n",
    "print(\"工作目录已改变为:\", os.getcwd())"
   ],
   "id": "9647e64c0e19b46b",
   "execution_count": 9,
   "outputs": []
  },
  {
   "metadata": {
    "ExecuteTime": {
     "end_time": "2024-08-01T07:51:10.164170Z",
     "start_time": "2024-08-01T07:51:10.156302Z"
    }
   },
   "cell_type": "code",
   "source": [
    "# 检查文件是否存在\n",
    "已保存变量_路径 = \"已保存变量.json\"\n",
    "if not os.path.exists(已保存变量_路径):\n",
    "    with open(已保存变量_路径, 'w', encoding='utf-8') as f:\n",
    "        json.dump({\"测试\": \"test\"}, f, ensure_ascii=False, indent=4)\n",
    "\n",
    "with open(已保存变量_路径, 'r', encoding='utf-8') as f:\n",
    "    已保存变量 = dict(json.load(f))"
   ],
   "id": "c8a716793eadc307",
   "execution_count": 37,
   "outputs": []
  },
  {
   "metadata": {
    "ExecuteTime": {
     "end_time": "2024-08-01T07:44:50.027351Z",
     "start_time": "2024-08-01T07:44:50.015578Z"
    }
   },
   "cell_type": "code",
   "source": "",
   "id": "4216638f3bd08114",
   "execution_count": 22,
   "outputs": []
  },
  {
   "metadata": {
    "ExecuteTime": {
     "end_time": "2024-08-01T07:50:10.764058Z",
     "start_time": "2024-08-01T07:50:10.741390Z"
    }
   },
   "cell_type": "code",
   "source": "",
   "id": "6ccf1e373d41f19d",
   "execution_count": 32,
   "outputs": []
  },
  {
   "metadata": {
    "ExecuteTime": {
     "end_time": "2024-08-01T07:53:24.180010Z",
     "start_time": "2024-08-01T07:53:24.155872Z"
    }
   },
   "cell_type": "code",
   "source": [
    "新变量 = {\n",
    "    '测试': '魔法', \n",
    "    '当前_文件_路径': 'current_file_path',\n",
    "    '当前_文件': 'current_file',\n",
    "    '小说处理器_类': 'NovelProcessor',\n",
    "    '小说名称': 'novel_name',\n",
    "    '输入文件_路径': 'input_file_path',\n",
    "    '输出文件_路径': 'output_file_path',\n",
    "    '小说内容': 'novel_content',\n",
    "    '章节正则匹配模式': 'chapter_regex_pattern'\n",
    "}"
   ],
   "id": "620b8daff4a72d9",
   "execution_count": 40,
   "outputs": []
  },
  {
   "metadata": {},
   "cell_type": "code",
   "execution_count": null,
   "source": "合并后变量 = 新变量.update(已保存变量)",
   "id": "cd091a22afbc95ea",
   "outputs": []
  },
  {
   "metadata": {
    "ExecuteTime": {
     "end_time": "2024-08-01T07:51:12.289738Z",
     "start_time": "2024-08-01T07:51:12.268700Z"
    }
   },
   "cell_type": "code",
   "source": "已保存变量.update(translation_dict)",
   "id": "2ce48afb10cddc76",
   "execution_count": 38,
   "outputs": []
  },
  {
   "metadata": {
    "ExecuteTime": {
     "end_time": "2024-08-01T07:51:13.525821Z",
     "start_time": "2024-08-01T07:51:13.511591Z"
    }
   },
   "cell_type": "code",
   "source": "已保存变量",
   "id": "6bb492d0a4b15c84",
   "execution_count": 39,
   "outputs": []
  },
  {
   "metadata": {
    "ExecuteTime": {
     "end_time": "2024-08-01T07:49:35.755746Z",
     "start_time": "2024-08-01T07:49:35.737613Z"
    }
   },
   "cell_type": "code",
   "source": "a = {\"a\": \"b\"}",
   "id": "dd09b0ec7db11935",
   "execution_count": 29,
   "outputs": []
  },
  {
   "metadata": {
    "ExecuteTime": {
     "end_time": "2024-08-01T07:49:49.092743Z",
     "start_time": "2024-08-01T07:49:49.079971Z"
    }
   },
   "cell_type": "code",
   "source": "哈哈 = {\"ok\": \"ddd\"}",
   "id": "bb2e603899288661",
   "execution_count": 30,
   "outputs": []
  },
  {
   "metadata": {},
   "cell_type": "code",
   "execution_count": null,
   "source": "",
   "id": "f0a13a8b36c0525f",
   "outputs": []
  },
  {
   "metadata": {
    "ExecuteTime": {
     "end_time": "2024-08-01T11:56:02.037590Z",
     "start_time": "2024-08-01T11:56:02.018234Z"
    }
   },
   "cell_type": "code",
   "source": "r = re.match(r\"for\\s+([0-9a-zA-Z_\\u4e00-\\u9fa5]+)\\s+in\", \"or 可以 in xy:\")",
   "id": "e48432413f35f5ed",
   "execution_count": 52,
   "outputs": []
  },
  {
   "metadata": {
    "ExecuteTime": {
     "end_time": "2024-08-01T11:56:21.366539Z",
     "start_time": "2024-08-01T11:56:21.355675Z"
    }
   },
   "cell_type": "code",
   "source": "bool(r)",
   "id": "61974953399aef90",
   "execution_count": 58,
   "outputs": []
  },
  {
   "metadata": {
    "ExecuteTime": {
     "end_time": "2024-08-01T12:14:20.477009Z",
     "start_time": "2024-08-01T12:14:20.464566Z"
    }
   },
   "cell_type": "code",
   "source": [
    "匹配变量 = re.match(r\"for\\s+([0-9a-zA-Z_\\u4e00-\\u9fa5]+)\\s+in\", \"for 每行 in self.novel_content_split_by_line:\")\n",
    "if 匹配变量:\n",
    "    print(匹配变量.group(1))"
   ],
   "id": "57a6ace404a45500",
   "execution_count": 60,
   "outputs": []
  },
  {
   "metadata": {
    "ExecuteTime": {
     "end_time": "2024-08-01T12:14:37.684301Z",
     "start_time": "2024-08-01T12:14:37.667789Z"
    }
   },
   "cell_type": "code",
   "source": "\"for 每行 in self.novel_content_split_by_line:\".startswith(\"for \")",
   "id": "9837456ef808c1bd",
   "execution_count": 61,
   "outputs": []
  },
  {
   "metadata": {},
   "cell_type": "code",
   "execution_count": null,
   "source": "",
   "id": "ccb700e21438c216",
   "outputs": []
  },
  {
   "metadata": {
    "ExecuteTime": {
     "end_time": "2024-08-02T10:08:33.060756Z",
     "start_time": "2024-08-02T10:08:33.042287Z"
    }
   },
   "cell_type": "code",
   "source": [
    "for_pattern = r\"for\\s+([0-9a-zA-Z_\\u4e00-\\u9fa5]+)\\s+in\"\n",
    "循环匹配结果_列表 = re.findall(for_pattern, 代码文本)\n"
   ],
   "id": "4b477d8a38213be",
   "execution_count": 67,
   "outputs": []
  },
  {
   "metadata": {
    "ExecuteTime": {
     "end_time": "2024-08-02T10:08:33.361777Z",
     "start_time": "2024-08-02T10:08:33.343238Z"
    }
   },
   "cell_type": "code",
   "source": "循环匹配结果_列表",
   "id": "e83f221032809209",
   "execution_count": 68,
   "outputs": []
  },
  {
   "metadata": {},
   "cell_type": "code",
   "execution_count": null,
   "source": "变量列表.extend(循环匹配结果_列表)",
   "id": "af7ab2427539d784",
   "outputs": []
  },
  {
   "metadata": {
    "ExecuteTime": {
     "end_time": "2024-08-02T10:11:34.652308Z",
     "start_time": "2024-08-02T10:11:34.636005Z"
    }
   },
   "cell_type": "code",
   "source": [
    "with_pattern = r\"with.*as\\s(.+):\"\n",
    "with匹配结果_列表 = re.findall(with_pattern, 代码文本)\n",
    "with匹配结果_列表\n"
   ],
   "id": "a6de58ae36ec0538",
   "execution_count": 71,
   "outputs": []
  },
  {
   "metadata": {},
   "cell_type": "code",
   "execution_count": null,
   "source": "",
   "id": "e2b7ba9544eb6691",
   "outputs": []
  },
  {
   "metadata": {
    "ExecuteTime": {
     "end_time": "2024-08-04T06:33:26.083241Z",
     "start_time": "2024-08-04T06:33:25.994280Z"
    }
   },
   "cell_type": "code",
   "source": [
    "待处理_代码路径 = \"/Users/yangxinyi/Library/CloudStorage/OneDrive-个人/100_code/Code_Chinese_to_Enghlish/中文变量翻译.py\"\n",
    "with open(待处理_代码路径, \"r\") as 文件:\n",
    "    代码文本 = 文件.read()"
   ],
   "id": "d98ce7b90f009f",
   "execution_count": 74,
   "outputs": []
  },
  {
   "metadata": {
    "ExecuteTime": {
     "end_time": "2024-08-04T06:33:42.533825Z",
     "start_time": "2024-08-04T06:33:42.502743Z"
    }
   },
   "cell_type": "code",
   "source": [
    " var_pattern = re.compile(r'([0-9a-zA-Z_\\u4e00-\\u9fa5]+)\\s*=\\s*')\n",
    "\n",
    "# 提取所有变量名\n",
    "匹配到变量_列表 = var_pattern.findall(代码文本)\n",
    "匹配到变量_列表\n"
   ],
   "id": "65df98acb059a61e",
   "execution_count": 77,
   "outputs": []
  },
  {
   "metadata": {
    "ExecuteTime": {
     "end_time": "2024-08-04T08:09:16.655711Z",
     "start_time": "2024-08-04T08:09:16.638314Z"
    }
   },
   "cell_type": "code",
   "source": [
    "test = \"函数名称, function_argument_name = one\"\n",
    "test = \"\"\"c, d_d =[\"result\", \"result2\"]\"\"\"\n",
    "test = \"\"\"    # 提取所有变量名\n",
    "    sfsdf, ddd = var_pattern.findall(代码文本)\n",
    "    匹配结果_列表 = var_pattern.findall(代码文本)\n",
    "    \n",
    "    # 对变量列表进行循环, 如果包含逗号, 说明需要进一步处理\"\"\"\n",
    "# var_pattern = re.compile(r'([0-9a-zA-Z_\\u4e00-\\u9fa5, ]+)=[^=]+\\n')\n",
    "var_pattern = re.compile(r'\\s*([0-9a-zA-Z_\\u4e00-\\u9fa5, ]+)\\s*=\\s*[^\\s=]+')\n",
    "var_pattern.findall(test)"
   ],
   "id": "78fe16f3e5659fa4",
   "execution_count": 126,
   "outputs": []
  },
  {
   "metadata": {
    "ExecuteTime": {
     "end_time": "2024-08-04T07:24:05.664660Z",
     "start_time": "2024-08-04T07:24:05.653772Z"
    }
   },
   "cell_type": "code",
   "source": "a, b = \"666\", \"555\"",
   "id": "bb585eb0e4211006",
   "execution_count": 81,
   "outputs": []
  },
  {
   "metadata": {
    "ExecuteTime": {
     "end_time": "2024-08-04T07:24:18.822079Z",
     "start_time": "2024-08-04T07:24:18.811710Z"
    }
   },
   "cell_type": "code",
   "source": "c, d = [\"result\",  \"result2\"]",
   "id": "5f2bbd63f0b0eec4",
   "execution_count": 83,
   "outputs": []
  },
  {
   "metadata": {},
   "cell_type": "code",
   "execution_count": null,
   "source": "",
   "id": "374a3ceef1f40b37",
   "outputs": []
  },
  {
   "metadata": {},
   "cell_type": "code",
   "execution_count": null,
   "source": "",
   "id": "de1bd830f595addc",
   "outputs": []
  },
  {
   "metadata": {
    "ExecuteTime": {
     "end_time": "2024-08-04T07:23:04.132303Z",
     "start_time": "2024-08-04T07:23:04.118809Z"
    }
   },
   "cell_type": "code",
   "source": [
    "var_pattern = re.compile(r'([0-9a-zA-Z_\\u4e00-\\u9fa5]+)\\s*=\\s*')\n",
    "\n",
    "# 提取所有变量名\n",
    "匹配到变量_列表 = var_pattern.findall(test)\n",
    "匹配到变量_列表"
   ],
   "id": "c6947680b824d591",
   "execution_count": 79,
   "outputs": []
  },
  {
   "metadata": {
    "ExecuteTime": {
     "end_time": "2024-08-05T10:01:18.452861Z",
     "start_time": "2024-08-05T10:01:18.442089Z"
    }
   },
   "cell_type": "code",
   "source": [
    "# var_pattern = re.compile(r'([0-9a-zA-Z_\\u4e00-\\u9fa5]+)\\s*=\\s*')\n",
    "var_pattern = re.compile(r'\\s*[^#]\\s*([0-9a-zA-Z_\\u4e00-\\u9fa5, ]+)\\s*=\\s*[^\\s=]+')"
   ],
   "id": "49c0335b933dc3aa",
   "execution_count": 26,
   "outputs": []
  },
  {
   "metadata": {
    "ExecuteTime": {
     "end_time": "2024-08-05T10:01:43.227888Z",
     "start_time": "2024-08-05T10:01:43.204848Z"
    }
   },
   "cell_type": "code",
   "source": "代码文本 = \"\"\"    # 正则表达式匹配使用等号定义的变量 a = b\"\"\"",
   "id": "5896685b1d122b35",
   "execution_count": 29,
   "outputs": []
  },
  {
   "metadata": {
    "ExecuteTime": {
     "end_time": "2024-08-05T10:01:43.484042Z",
     "start_time": "2024-08-05T10:01:43.467717Z"
    }
   },
   "cell_type": "code",
   "source": [
    "# 提取所有变量名\n",
    "匹配结果_列表 = var_pattern.findall(代码文本)\n",
    "匹配结果_列表"
   ],
   "id": "afc26615e1abe538",
   "execution_count": 30,
   "outputs": []
  },
  {
   "metadata": {
    "ExecuteTime": {
     "end_time": "2024-08-05T09:37:20.510521Z",
     "start_time": "2024-08-05T09:37:20.488919Z"
    }
   },
   "cell_type": "code",
   "source": "def_pattern = r\"def ([0-9a-zA-Z_\\u4e00-\\u9fa5]+)\\((.*)\\)\"",
   "id": "2ca5b3d5cb38b57e",
   "execution_count": 24,
   "outputs": []
  },
  {
   "metadata": {
    "ExecuteTime": {
     "end_time": "2024-08-05T09:37:43.957529Z",
     "start_time": "2024-08-05T09:37:43.936335Z"
    }
   },
   "cell_type": "code",
   "source": [
    "变量列表 = []\n",
    "函数匹配结果_列表 = re.findall(def_pattern, 代码文本)\n",
    "函数匹配结果_列表"
   ],
   "id": "b5b0e7ec9156a80c",
   "execution_count": 25,
   "outputs": []
  },
  {
   "metadata": {
    "ExecuteTime": {
     "end_time": "2024-08-05T11:10:10.314519Z",
     "start_time": "2024-08-05T11:10:10.286430Z"
    }
   },
   "cell_type": "code",
   "source": "a = []",
   "id": "d4dec9e4f19fdf99",
   "execution_count": 31,
   "outputs": []
  },
  {
   "metadata": {
    "ExecuteTime": {
     "end_time": "2024-08-05T11:10:24.918599Z",
     "start_time": "2024-08-05T11:10:24.898020Z"
    }
   },
   "cell_type": "code",
   "source": [
    "def test():\n",
    "    a.append(\"##\")"
   ],
   "id": "1815d2989350fe8d",
   "execution_count": 32,
   "outputs": []
  },
  {
   "metadata": {
    "ExecuteTime": {
     "end_time": "2024-08-05T11:11:17.861207Z",
     "start_time": "2024-08-05T11:11:17.850697Z"
    }
   },
   "cell_type": "code",
   "source": "test()",
   "id": "bd02aba201ad1aca",
   "execution_count": 35,
   "outputs": []
  },
  {
   "metadata": {
    "ExecuteTime": {
     "end_time": "2024-08-05T11:11:18.173681Z",
     "start_time": "2024-08-05T11:11:18.166650Z"
    }
   },
   "cell_type": "code",
   "source": "a",
   "id": "970772c3d0dfd981",
   "execution_count": 36,
   "outputs": []
  },
  {
   "metadata": {
    "ExecuteTime": {
     "end_time": "2024-08-07T09:49:58.908216Z",
     "start_time": "2024-08-07T09:49:58.896755Z"
    }
   },
   "cell_type": "code",
   "source": "d = {\"a\":\"b\", \"b\":\"d\", \"c\":\"c\"}",
   "id": "edbb96af602331d0",
   "execution_count": 38,
   "outputs": []
  },
  {
   "metadata": {
    "ExecuteTime": {
     "end_time": "2024-08-07T09:51:55.363986Z",
     "start_time": "2024-08-07T09:51:55.358664Z"
    }
   },
   "cell_type": "code",
   "source": "d.fromkeys({\"a\":\"b\", \"666\":\"haha\"}, [110, 555])",
   "id": "ec67b29b7a3d15fc",
   "execution_count": 44,
   "outputs": []
  },
  {
   "metadata": {
    "ExecuteTime": {
     "end_time": "2024-08-07T09:59:46.011984Z",
     "start_time": "2024-08-07T09:59:45.998335Z"
    }
   },
   "cell_type": "code",
   "source": "d.items()",
   "id": "6340dd783fb0123f",
   "execution_count": 47,
   "outputs": []
  },
  {
   "metadata": {
    "ExecuteTime": {
     "end_time": "2024-08-07T10:02:58.258062Z",
     "start_time": "2024-08-07T10:02:58.249573Z"
    }
   },
   "cell_type": "code",
   "source": "d.popitem()",
   "id": "fc423c0ef3ad77b2",
   "execution_count": 48,
   "outputs": []
  },
  {
   "metadata": {
    "ExecuteTime": {
     "end_time": "2024-08-07T10:03:38.885667Z",
     "start_time": "2024-08-07T10:03:38.870978Z"
    }
   },
   "cell_type": "code",
   "source": "d",
   "id": "4ac70dca76974670",
   "execution_count": 51,
   "outputs": []
  },
  {
   "metadata": {
    "ExecuteTime": {
     "end_time": "2024-08-07T10:06:26.562688Z",
     "start_time": "2024-08-07T10:06:26.548081Z"
    }
   },
   "cell_type": "code",
   "source": "d.setdefault(\"a\")",
   "id": "4bae51afef5228ef",
   "execution_count": 52,
   "outputs": []
  },
  {
   "metadata": {
    "ExecuteTime": {
     "end_time": "2024-08-07T10:06:36.183804Z",
     "start_time": "2024-08-07T10:06:36.167206Z"
    }
   },
   "cell_type": "code",
   "source": "d.setdefault(\"oo\", \"kk\")",
   "id": "ac3fbe9890b79b70",
   "execution_count": 53,
   "outputs": []
  },
  {
   "metadata": {
    "ExecuteTime": {
     "end_time": "2024-08-07T10:10:36.588783Z",
     "start_time": "2024-08-07T10:10:36.579363Z"
    }
   },
   "cell_type": "code",
   "source": "d.setdefault(\"a\", \"kk\")",
   "id": "d8b59f4f49334450",
   "execution_count": 55,
   "outputs": []
  },
  {
   "metadata": {
    "ExecuteTime": {
     "end_time": "2024-08-07T10:18:18.139899Z",
     "start_time": "2024-08-07T10:18:18.119544Z"
    }
   },
   "cell_type": "code",
   "source": "d",
   "id": "f813c726179b39e2",
   "execution_count": 57,
   "outputs": []
  },
  {
   "metadata": {
    "ExecuteTime": {
     "end_time": "2024-08-07T10:18:36.210171Z",
     "start_time": "2024-08-07T10:18:36.197917Z"
    }
   },
   "cell_type": "code",
   "source": "d.update({\"a\":\"xiugai\"})",
   "id": "b99e392ed4eb0829",
   "execution_count": 58,
   "outputs": []
  },
  {
   "metadata": {
    "ExecuteTime": {
     "end_time": "2024-08-07T10:18:36.980683Z",
     "start_time": "2024-08-07T10:18:36.965277Z"
    }
   },
   "cell_type": "code",
   "source": "d",
   "id": "b6db078a2fb93a39",
   "execution_count": 59,
   "outputs": []
  },
  {
   "metadata": {
    "ExecuteTime": {
     "end_time": "2024-08-07T10:19:51.491163Z",
     "start_time": "2024-08-07T10:19:51.474386Z"
    }
   },
   "cell_type": "code",
   "source": "d.update([(666, 777)])",
   "id": "42a754e8ce156336",
   "execution_count": 66,
   "outputs": []
  },
  {
   "metadata": {
    "ExecuteTime": {
     "end_time": "2024-08-07T10:19:53.642538Z",
     "start_time": "2024-08-07T10:19:53.626065Z"
    }
   },
   "cell_type": "code",
   "source": "d",
   "id": "cd9e21c04cf0e22a",
   "execution_count": 67,
   "outputs": []
  },
  {
   "metadata": {
    "ExecuteTime": {
     "end_time": "2024-08-07T10:20:33.875345Z",
     "start_time": "2024-08-07T10:20:33.857435Z"
    }
   },
   "cell_type": "code",
   "source": "d.update([(1, 2)], hh=55, pp=99)",
   "id": "9e4f3161c39c90fc",
   "execution_count": 68,
   "outputs": []
  },
  {
   "metadata": {
    "ExecuteTime": {
     "end_time": "2024-08-07T10:20:34.836948Z",
     "start_time": "2024-08-07T10:20:34.823287Z"
    }
   },
   "cell_type": "code",
   "source": "d",
   "id": "e4e5dc26e6244db1",
   "execution_count": 69,
   "outputs": []
  },
  {
   "metadata": {
    "ExecuteTime": {
     "end_time": "2024-08-07T10:22:32.466081Z",
     "start_time": "2024-08-07T10:22:32.453586Z"
    }
   },
   "cell_type": "code",
   "source": "os.getcwd()",
   "id": "68b70219cc2b4c40",
   "execution_count": 71,
   "outputs": []
  },
  {
   "metadata": {
    "ExecuteTime": {
     "end_time": "2024-08-07T10:24:15.920672Z",
     "start_time": "2024-08-07T10:24:15.894613Z"
    }
   },
   "cell_type": "code",
   "source": "from 内置类型 import *",
   "id": "56490cea9f9c4961",
   "execution_count": 77,
   "outputs": []
  },
  {
   "metadata": {
    "ExecuteTime": {
     "end_time": "2024-08-07T10:24:56.592517Z",
     "start_time": "2024-08-07T10:24:56.567548Z"
    }
   },
   "cell_type": "code",
   "source": "d = 字典(aa=\"bb\", cc=\"dd\")",
   "id": "6ce54a01de7ed6fb",
   "execution_count": 80,
   "outputs": []
  },
  {
   "metadata": {
    "ExecuteTime": {
     "end_time": "2024-08-07T10:24:57.628393Z",
     "start_time": "2024-08-07T10:24:57.613198Z"
    }
   },
   "cell_type": "code",
   "source": "d",
   "id": "b69f8e5162aa214c",
   "execution_count": 81,
   "outputs": []
  },
  {
   "metadata": {
    "ExecuteTime": {
     "end_time": "2024-08-07T10:25:23.567701Z",
     "start_time": "2024-08-07T10:25:23.557585Z"
    }
   },
   "cell_type": "code",
   "source": "d.更新({\"kk\":\"ff\"})",
   "id": "4e11df4fc1cc5a61",
   "execution_count": 83,
   "outputs": []
  },
  {
   "metadata": {
    "ExecuteTime": {
     "end_time": "2024-08-07T10:25:24.667329Z",
     "start_time": "2024-08-07T10:25:24.660456Z"
    }
   },
   "cell_type": "code",
   "source": "d",
   "id": "60a21ea8ac2fe086",
   "execution_count": 84,
   "outputs": []
  },
  {
   "metadata": {
    "ExecuteTime": {
     "end_time": "2024-08-07T10:26:04.760965Z",
     "start_time": "2024-08-07T10:26:04.750047Z"
    }
   },
   "cell_type": "code",
   "source": "d.更新([(5, 9)], haha=999)",
   "id": "e3db7dcf6c5d237f",
   "execution_count": 85,
   "outputs": []
  },
  {
   "metadata": {
    "ExecuteTime": {
     "end_time": "2024-08-07T10:26:05.656841Z",
     "start_time": "2024-08-07T10:26:05.641903Z"
    }
   },
   "cell_type": "code",
   "source": "d",
   "id": "13cbbc5b4b90874c",
   "execution_count": 86,
   "outputs": []
  },
  {
   "metadata": {},
   "cell_type": "code",
   "execution_count": null,
   "source": "",
   "id": "ffd71108f2e06d3",
   "outputs": []
  },
  {
   "metadata": {},
   "cell_type": "code",
   "execution_count": null,
   "source": "",
   "id": "fef319cc7653c3e0",
   "outputs": []
  },
  {
   "metadata": {},
   "cell_type": "code",
   "execution_count": null,
   "source": "",
   "id": "edc3724b557a6f22",
   "outputs": []
  },
  {
   "metadata": {},
   "cell_type": "code",
   "execution_count": null,
   "source": "",
   "id": "948e28da8328565",
   "outputs": []
  }
 ],
 "metadata": {
  "kernelspec": {
   "display_name": "code_chinese_to_english",
   "language": "python",
   "name": "code_chinese_to_english"
  },
  "language_info": {
   "codemirror_mode": {
    "name": "ipython",
    "version": 2
   },
   "file_extension": ".py",
   "mimetype": "text/x-python",
   "name": "python",
   "nbconvert_exporter": "python",
   "pygments_lexer": "ipython2",
   "version": "2.7.6"
  }
 },
 "nbformat": 4,
 "nbformat_minor": 5
}
