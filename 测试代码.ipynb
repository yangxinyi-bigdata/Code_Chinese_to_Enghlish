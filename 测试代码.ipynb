{
 "cells": [
  {
   "cell_type": "code",
   "id": "initial_id",
   "metadata": {
    "collapsed": true,
    "ExecuteTime": {
     "end_time": "2024-08-04T06:33:08.504074Z",
     "start_time": "2024-08-04T06:33:08.475719Z"
    }
   },
   "source": [
    "import re\n",
    "import os\n",
    "import json\n",
    "import datetime\n",
    "import time\n",
    "import random"
   ],
   "outputs": [],
   "execution_count": 72
  },
  {
   "metadata": {
    "ExecuteTime": {
     "end_time": "2024-08-02T10:08:27.527673Z",
     "start_time": "2024-08-02T10:08:27.520504Z"
    }
   },
   "cell_type": "code",
   "source": [
    "# 原始代码\n",
    "代码文本 = '''\n",
    "import 张三\n",
    "import 张三, 李四\n",
    "import pandas as 数据处理\n",
    "import re as 正则表达式, os as 文件管理包\n",
    "from numpy import array\n",
    "from numpy import ndarray as 数组\n",
    "from datetime import datetime as 时间, date as 日期\n",
    "\n",
    "import re\n",
    "import re, os\n",
    "import pandas as 数据处理\n",
    "import re as 正则表达式, os as 文件管理包\n",
    "from numpy import 数组\n",
    "from numpy import ndarray as 数组\n",
    "from datetime import datetime as 时间, date as 日期\n",
    "\n",
    "# 获取当前代码文件的绝对路径\n",
    "当前_文件_路径 = os.path.abspath(__file__)\n",
    "# 获取该路径的目录部分\n",
    "当前_文件 = os.path.dirname(当前_文件_路径)\n",
    "\n",
    "# 将工作目录切换到代码所在目录\n",
    "os.chdir(当前_文件)\n",
    "\n",
    "# 打印当前工作目录（确认更改）\n",
    "print(\"当前工作目录：\", os.getcwd())\n",
    "# 思路, 设置几个类呢?\n",
    "# 第一个 小说处理类\n",
    "# 第二个 邮件发送类\n",
    "\n",
    "class 小说处理器_类:\n",
    "    def __init__(self, 小说名称, 输入文件_路径, 输出文件_路径):\n",
    "        self.小说内容 = None\n",
    "        self.章节正则匹配模式 = None\n",
    "        self.小说名称 = 小说名称\n",
    "        if not os.path.exists(输出文件_路径):\n",
    "            os.mkdir(输出文件_路径)\n",
    "        self.输入文件_路径 = 输入文件_路径\n",
    "        self.输出文件_路径 = 输出文件_路径\n",
    "        正则表达式.\n",
    "\n",
    "    def 读取小说内容(self):\n",
    "        # 第一次的时候执行, 后面不执行\n",
    "        self.章节正则匹配模式 = r'(第\\s*(\\d+|[零一二两三四五六七八九十百千万]+)\\s*章\\s*.*)'\n",
    "        with open(self.输入文件_路径, \"r\", encoding=\"utf8\") as 文件:\n",
    "            # 按行模式读取整本小说内容\n",
    "            self.小说内容_按行切分 = 文件.readlines()\n",
    "    \n",
    "    for 每行 in self.小说内容_按行切分:\n",
    "        当前行 = 每行.strip()\n",
    "        # 判断这行符不符合标准 第XX章\n",
    "        匹配结果 = re.search(self.章节正则匹配模式, 当前行)\n",
    "        if (len(当前行) <= 30) and 匹配结果:\n",
    "            # 找到一个新的章节的内容, 说明上一章节结束\n",
    "            # 添加到总的列表当中content_list\n",
    "            一章内容列表.append(一章节内容)\n",
    "    \n",
    "    for i in self.小说内容_按行切分:\n",
    "        当前行 = 每行.strip()\n",
    "        # 判断这行符不符合标准 第XX章\n",
    "        匹配结果 = re.search(self.章节正则匹配模式, 当前行)\n",
    "        if (len(当前行) <= 30) and 匹配结果:\n",
    "            # 找到一个新的章节的内容, 说明上一章节结束\n",
    "            # 添加到总的列表当中content_list\n",
    "            一章内容列表.append(一章节内容)\n",
    "'''"
   ],
   "id": "ed9e1609bf2e26d6",
   "outputs": [],
   "execution_count": 66
  },
  {
   "metadata": {
    "ExecuteTime": {
     "end_time": "2024-07-31T03:54:35.365983Z",
     "start_time": "2024-07-31T03:54:35.353673Z"
    }
   },
   "cell_type": "code",
   "source": [
    "# 定义中文变量与英文变量的映射\n",
    "translation_dict = {\n",
    "    '文件': 'haha', \n",
    "    '当前_文件_路径': 'current_file_path',\n",
    "    '当前_文件': 'current_file',\n",
    "    '小说处理器_类': 'NovelProcessor',\n",
    "    '小说名称': 'novel_name',\n",
    "    '输入文件_路径': 'input_file_path',\n",
    "    '输出文件_路径': 'output_file_path',\n",
    "    '小说内容': 'novel_content',\n",
    "    '章节正则匹配模式': 'chapter_regex_pattern'\n",
    "}\n",
    "\n",
    "# 正则表达式匹配变量定义\n",
    "var_pattern = re.compile(r'([0-9a-zA-Z_\\u4e00-\\u9fa5]+)\\s*=\\s*')"
   ],
   "id": "437502c9c20d3985",
   "outputs": [],
   "execution_count": 38
  },
  {
   "metadata": {
    "ExecuteTime": {
     "end_time": "2024-07-31T10:03:09.903375Z",
     "start_time": "2024-07-31T10:03:09.888173Z"
    }
   },
   "cell_type": "code",
   "source": [
    "# 提取所有变量名\n",
    "variables = var_pattern.findall(代码文本)"
   ],
   "id": "bccdd77ca4ec8e0c",
   "outputs": [],
   "execution_count": 92
  },
  {
   "metadata": {
    "ExecuteTime": {
     "end_time": "2024-07-31T10:03:10.219089Z",
     "start_time": "2024-07-31T10:03:10.201024Z"
    }
   },
   "cell_type": "code",
   "source": "variables",
   "id": "f6a1f3eaf5c3d837",
   "outputs": [
    {
     "data": {
      "text/plain": [
       "['当前_文件_路径',\n",
       " '当前_文件',\n",
       " '小说内容',\n",
       " '章节正则匹配模式',\n",
       " '小说名称',\n",
       " '输入文件_路径',\n",
       " '输出文件_路径',\n",
       " '章节正则匹配模式',\n",
       " 'encoding',\n",
       " '小说内容_按行切分']"
      ]
     },
     "execution_count": 93,
     "metadata": {},
     "output_type": "execute_result"
    }
   ],
   "execution_count": 93
  },
  {
   "metadata": {
    "ExecuteTime": {
     "end_time": "2024-07-31T07:17:19.917542Z",
     "start_time": "2024-07-31T07:17:19.911470Z"
    }
   },
   "cell_type": "code",
   "source": [
    "test_import = \"\"\"import 张三\n",
    "import 张三, 李四\n",
    "import pandas as 数据处理\n",
    "import re as 正则表达式, os as 文件管理包\"\"\""
   ],
   "id": "45a9e6ac1f0dd0c7",
   "outputs": [],
   "execution_count": 50
  },
  {
   "metadata": {
    "ExecuteTime": {
     "end_time": "2024-07-31T07:56:27.901293Z",
     "start_time": "2024-07-31T07:56:27.885610Z"
    }
   },
   "cell_type": "code",
   "source": [
    "test_import = \"\"\"import 张三\n",
    "import 宋六, 李四\n",
    "import 王五, sunqi as 孙七\n",
    "import pandas as 数据处理\n",
    "import re as 正则表达式, os as 文件管理包\n",
    "from numpy import 测试1\n",
    "from numpy import ndarray as 测试1\n",
    "from datetime import 测试3, date as 测试4\n",
    "from datetime import datetime as 测试5, date as 测试6\"\"\""
   ],
   "id": "ff80900f1e2d82f3",
   "outputs": [],
   "execution_count": 62
  },
  {
   "metadata": {
    "ExecuteTime": {
     "end_time": "2024-07-31T07:23:48.081541Z",
     "start_time": "2024-07-31T07:23:48.058646Z"
    }
   },
   "cell_type": "code",
   "source": "test_import.split(\"\\n\")",
   "id": "4b562ef7a8a61d97",
   "outputs": [
    {
     "data": {
      "text/plain": [
       "['import 张三',\n",
       " 'import 张三, 李四',\n",
       " 'import pandas as 数据处理',\n",
       " 'import re as 正则表达式, os as 文件管理包',\n",
       " 'from numpy import array',\n",
       " 'from numpy import ndarray as 数组',\n",
       " 'from datetime import datetime as 时间, date as 日期']"
      ]
     },
     "execution_count": 54,
     "metadata": {},
     "output_type": "execute_result"
    }
   ],
   "execution_count": 54
  },
  {
   "metadata": {
    "ExecuteTime": {
     "end_time": "2024-07-31T09:25:02.393971Z",
     "start_time": "2024-07-31T09:25:02.368095Z"
    }
   },
   "cell_type": "code",
   "source": [
    "变量列表 = []\n",
    "for 一行 in test_import.split(\"\\n\"):\n",
    "    # 判断这行是不是以import 开头的\n",
    "    if 一行.startswith(\"import\"):\n",
    "        # 如果是以import 开头的, 分成四种情况, \n",
    "        \"\"\"import 张三\n",
    "            import 宋六, 李四\n",
    "            import 王五, sunqi as 孙七\n",
    "            import pandas as 数据处理\n",
    "            import re as 正则表达式, os as 文件管理包\"\"\"\n",
    "        # 凡是有from的一定是有import 的, 需要的是import后面的内容, 前边from ... import 去掉\n",
    "        import_后面文本 = 一行.split(\"import \")[-1]\n",
    "        import_后面文本_切分 = import_后面文本.split(\",\")\n",
    "        for 一个 in import_后面文本_切分: \n",
    "            if 一个.find(\"as\") < 0:  # 没有as, 直接保存\n",
    "                变量列表.append(一个)\n",
    "            else:  # 有as, 提取后面部分\n",
    "                变量列表.append(一个.split(\"as\")[-1].strip())\n",
    "        \n",
    "        # # 提取出import后面东全部内容\n",
    "        # import_后面文本 = 一行.replace(\"import \", \"\")\n",
    "        # # 区分有逗号的, 没有逗号的\n",
    "        # if 一行.find(\"as\") < 0:  # 没有 as\n",
    "        #     if 一行.find(\",\") < 0:  # 没有逗号\n",
    "        #         变量列表.append(import_后面文本)\n",
    "        #     else:\n",
    "        #         变量列表.extend([一个.strip() for 一个 in import_后面文本.split(\",\")])\n",
    "        # else:  # 有as存在, 首先用逗号切分, 然后对于切分后的每一部分, 判断有没有as, 如果没有则直接保留, 如果有as, 则提取as后面的部分\n",
    "        #     import_后面文本_切分 = import_后面文本.split(\",\")\n",
    "        #     for 一个 in import_后面文本_切分: \n",
    "        #         if 一个.find(\"as\") < 0:  # 没有as, 直接保存\n",
    "        #             变量列表.append(一个)\n",
    "        #         else:  # 有as, 提取后面部分\n",
    "        #             变量列表.append(一个.split(\"as\")[-1].strip())\n",
    "    \"\"\"from numpy import 测试1\n",
    "        from numpy import ndarray as 测试1\n",
    "        from datetime import 测试3, date as 测试4\n",
    "        from datetime import datetime as 测试5, date as 测试6\"\"\"\n",
    "    if 一行.startswith(\"from\"):\n",
    "        # 凡是有from的一定是有import 的, 需要的是import后面的内容, 前边from ... import 去掉\n",
    "        import_后面文本 = 一行.split(\"import \")[-1]\n",
    "        import_后面文本_切分 = import_后面文本.split(\",\")\n",
    "        for 一个 in import_后面文本_切分: \n",
    "            if 一个.find(\"as\") < 0:  # 没有as, 直接保存\n",
    "                变量列表.append(一个)\n",
    "            else:  # 有as, 提取后面部分\n",
    "                变量列表.append(一个.split(\"as\")[-1].strip())    \n",
    "                \n",
    "变量列表"
   ],
   "id": "fc8ba4495d3a594d",
   "outputs": [
    {
     "data": {
      "text/plain": [
       "['张三',\n",
       " '宋六',\n",
       " ' 李四',\n",
       " '王五',\n",
       " '孙七',\n",
       " '数据处理',\n",
       " '正则表达式',\n",
       " '文件管理包',\n",
       " '测试1',\n",
       " '测试1',\n",
       " '测试3',\n",
       " '测试4',\n",
       " '测试5',\n",
       " '测试6']"
      ]
     },
     "execution_count": 65,
     "metadata": {},
     "output_type": "execute_result"
    }
   ],
   "execution_count": 65
  },
  {
   "metadata": {
    "ExecuteTime": {
     "end_time": "2024-07-31T09:27:03.514351Z",
     "start_time": "2024-07-31T09:27:03.496406Z"
    }
   },
   "cell_type": "code",
   "source": [
    "def 提取导入变量(代码文本):\n",
    "    变量列表 = []\n",
    "    for 一行 in 代码文本.split(\"\\n\"):\n",
    "        # 判断这行是不是以import 开头的\n",
    "        if 一行.startswith(\"import\"):\n",
    "            # 如果是以import 开头的, 分成四种情况, \n",
    "            \"\"\"import 张三\n",
    "                import 宋六, 李四\n",
    "                import 王五, sunqi as 孙七\n",
    "                import pandas as 数据处理\n",
    "                import re as 正则表达式, os as 文件管理包\"\"\"\n",
    "            # 凡是有from的一定是有import 的, 需要的是import后面的内容, 前边from ... import 去掉\n",
    "            import_后面文本 = 一行.split(\"import \")[-1]\n",
    "            import_后面文本_切分 = import_后面文本.split(\",\")\n",
    "            for 一个 in import_后面文本_切分: \n",
    "                if 一个.find(\"as\") < 0:  # 没有as, 直接保存\n",
    "                    变量列表.append(一个)\n",
    "                else:  # 有as, 提取后面部分\n",
    "                    变量列表.append(一个.split(\"as\")[-1].strip())\n",
    "            \n",
    "            # # 提取出import后面东全部内容\n",
    "            # import_后面文本 = 一行.replace(\"import \", \"\")\n",
    "            # # 区分有逗号的, 没有逗号的\n",
    "            # if 一行.find(\"as\") < 0:  # 没有 as\n",
    "            #     if 一行.find(\",\") < 0:  # 没有逗号\n",
    "            #         变量列表.append(import_后面文本)\n",
    "            #     else:\n",
    "            #         变量列表.extend([一个.strip() for 一个 in import_后面文本.split(\",\")])\n",
    "            # else:  # 有as存在, 首先用逗号切分, 然后对于切分后的每一部分, 判断有没有as, 如果没有则直接保留, 如果有as, 则提取as后面的部分\n",
    "            #     import_后面文本_切分 = import_后面文本.split(\",\")\n",
    "            #     for 一个 in import_后面文本_切分: \n",
    "            #         if 一个.find(\"as\") < 0:  # 没有as, 直接保存\n",
    "            #             变量列表.append(一个)\n",
    "            #         else:  # 有as, 提取后面部分\n",
    "            #             变量列表.append(一个.split(\"as\")[-1].strip())\n",
    "        \"\"\"from numpy import 测试1\n",
    "            from numpy import ndarray as 测试1\n",
    "            from datetime import 测试3, date as 测试4\n",
    "            from datetime import datetime as 测试5, date as 测试6\"\"\"\n",
    "        if 一行.startswith(\"from\"):\n",
    "            # 凡是有from的一定是有import 的, 需要的是import后面的内容, 前边from ... import 去掉\n",
    "            import_后面文本 = 一行.split(\"import \")[-1]\n",
    "            import_后面文本_切分 = import_后面文本.split(\",\")\n",
    "            for 一个 in import_后面文本_切分: \n",
    "                if 一个.find(\"as\") < 0:  # 没有as, 直接保存\n",
    "                    变量列表.append(一个)\n",
    "                else:  # 有as, 提取后面部分\n",
    "                    变量列表.append(一个.split(\"as\")[-1].strip())    \n",
    "    return 变量列表"
   ],
   "id": "796ec2bd9f461b90",
   "outputs": [],
   "execution_count": 66
  },
  {
   "metadata": {
    "ExecuteTime": {
     "end_time": "2024-07-31T09:27:18.258008Z",
     "start_time": "2024-07-31T09:27:18.254224Z"
    }
   },
   "cell_type": "code",
   "source": "提取导入变量(test_import)",
   "id": "5a7ee13abcb6fe8a",
   "outputs": [
    {
     "data": {
      "text/plain": [
       "['张三',\n",
       " '宋六',\n",
       " ' 李四',\n",
       " '王五',\n",
       " '孙七',\n",
       " '数据处理',\n",
       " '正则表达式',\n",
       " '文件管理包',\n",
       " '测试1',\n",
       " '测试1',\n",
       " '测试3',\n",
       " '测试4',\n",
       " '测试5',\n",
       " '测试6']"
      ]
     },
     "execution_count": 67,
     "metadata": {},
     "output_type": "execute_result"
    }
   ],
   "execution_count": 67
  },
  {
   "metadata": {
    "ExecuteTime": {
     "end_time": "2024-07-31T10:02:05.199593Z",
     "start_time": "2024-07-31T10:02:05.182015Z"
    }
   },
   "cell_type": "code",
   "source": [
    "# 提取类名和函数名\n",
    "# class 类名 class 类名1(父类):\n",
    "# def 函数():\n",
    "# var_pattern = re.compile(r'([0-9a-zA-Z_\\u4e00-\\u9fa5]+)\\s*=\\s*')\n",
    "\n",
    "测试字符串 = \"\"\"def 函数():\n",
    "def 函数2(参数1, 参数2):\n",
    "class 类名:\n",
    "class 类名1(父类):\"\"\"\n",
    "\n",
    "def 函数和类名匹配(代码文本):\n",
    "    def_pattern = r\"def ([0-9a-zA-Z_\\u4e00-\\u9fa5]+)\\((.*)\\)\"\n",
    "\n",
    "    变量列表 = []\n",
    "    函数匹配结果_列表 = re.findall(def_pattern, 代码文本)\n",
    "    for 一个 in 函数匹配结果_列表:\n",
    "        # 每一项应该返回的都是两个元素的元组\n",
    "        函数名称, 函数参数名称 = 一个\n",
    "        变量列表.append(函数名称)\n",
    "        if 函数参数名称:\n",
    "            函数参数名称_列表 = [i.strip() for i in 函数参数名称.split(\",\")]\n",
    "            变量列表.extend(函数参数名称_列表)\n",
    "    \n",
    "    class_pattern = r\"class ([0-9a-zA-Z_\\u4e00-\\u9fa5]+).*\\:\"\n",
    "    类名匹配结果_列表 = re.findall(class_pattern, 代码文本)\n",
    "    变量列表.extend(类名匹配结果_列表)\n",
    "    return 变量列表"
   ],
   "id": "66a7d85d19c1eb86",
   "outputs": [],
   "execution_count": 88
  },
  {
   "metadata": {
    "ExecuteTime": {
     "end_time": "2024-07-31T10:02:27.082594Z",
     "start_time": "2024-07-31T10:02:27.066216Z"
    }
   },
   "cell_type": "code",
   "source": "函数和类名匹配(代码文本)",
   "id": "87fe1a15f4e889ef",
   "outputs": [
    {
     "data": {
      "text/plain": [
       "['__init__', 'self', '小说名称', '输入文件_路径', '输出文件_路径', '读取小说内容', 'self', '小说处理器_类']"
      ]
     },
     "execution_count": 91,
     "metadata": {},
     "output_type": "execute_result"
    }
   ],
   "execution_count": 91
  },
  {
   "metadata": {},
   "cell_type": "code",
   "outputs": [],
   "execution_count": null,
   "source": "",
   "id": "bde5a8530c7fa537"
  },
  {
   "metadata": {},
   "cell_type": "code",
   "outputs": [],
   "execution_count": null,
   "source": "",
   "id": "f905243317c2b5f8"
  },
  {
   "metadata": {},
   "cell_type": "code",
   "outputs": [],
   "execution_count": null,
   "source": "",
   "id": "cf0b847896983df2"
  },
  {
   "metadata": {
    "ExecuteTime": {
     "end_time": "2024-07-31T03:54:36.504232Z",
     "start_time": "2024-07-31T03:54:36.476506Z"
    }
   },
   "cell_type": "code",
   "source": [
    "import_pattern = r'import\\s+(\\w+)$'\n",
    "as_pattern = r'as\\s+(\\w+)$'\n",
    "\n",
    "import_matches = re.findall(import_pattern, code, re.MULTILINE)\n",
    "as_matches = re.findall(as_pattern, code, re.MULTILINE)\n",
    "\n",
    "print(\"Matches for 'import':\", import_matches)\n",
    "print(\"Matches for 'as':\", as_matches)"
   ],
   "id": "6cbb52b5a9070ec0",
   "outputs": [
    {
     "name": "stdout",
     "output_type": "stream",
     "text": [
      "Matches for 'import': ['张三']\n",
      "Matches for 'as': ['正则表达式', '数据处理', '时间']\n"
     ]
    }
   ],
   "execution_count": 41
  },
  {
   "metadata": {
    "ExecuteTime": {
     "end_time": "2024-07-31T03:54:38.441151Z",
     "start_time": "2024-07-31T03:54:38.425660Z"
    }
   },
   "cell_type": "code",
   "source": "",
   "id": "f95ec561140db86f",
   "outputs": [],
   "execution_count": 41
  },
  {
   "metadata": {
    "ExecuteTime": {
     "end_time": "2024-07-31T03:28:53.330278Z",
     "start_time": "2024-07-31T03:28:53.307234Z"
    }
   },
   "cell_type": "code",
   "source": [
    "# 替换变量名\n",
    "for var in variables:\n",
    "    if var in translation_dict:\n",
    "        code = re.sub(r'\\b' + re.escape(var) + r'\\b', translation_dict[var], code)\n",
    "\n",
    "print(code)"
   ],
   "id": "57dcb96c2a6ef8df",
   "outputs": [
    {
     "name": "stdout",
     "output_type": "stream",
     "text": [
      "\n",
      "# 获取当前代码文件的绝对路径\n",
      "haha=1\n",
      "current_file_path=os.path.abspath(__file__)\n",
      "# 获取该路径的目录部分\n",
      "current_file = os.path.dirname(current_file_path)\n",
      "\n",
      "# 将工作目录切换到代码所在目录\n",
      "os.chdir(current_file)\n",
      "\n",
      "# 打印当前工作目录（确认更改）\n",
      "print(\"当前工作目录：\", os.getcwd())\n",
      "# 思路, 设置几个类呢?\n",
      "# 第一个 小说处理类\n",
      "# 第二个 邮件发送类\n",
      "\n",
      "class 小说处理器_类:\n",
      "    def __init__(self, novel_name, input_file_path, output_file_path):\n",
      "        self.novel_content = None\n",
      "        self.chapter_regex_pattern = None\n",
      "        self.novel_name = novel_name\n",
      "        if not os.path.exists(output_file_path):\n",
      "            os.mkdir(output_file_path)\n",
      "        self.input_file_path = input_file_path\n",
      "        self.output_file_path = output_file_path\n",
      "\n"
     ]
    }
   ],
   "execution_count": 18
  },
  {
   "metadata": {},
   "cell_type": "code",
   "outputs": [],
   "execution_count": null,
   "source": "",
   "id": "1f60ea4014341289"
  },
  {
   "metadata": {
    "ExecuteTime": {
     "end_time": "2024-08-01T07:41:13.387992Z",
     "start_time": "2024-08-01T07:41:13.368180Z"
    }
   },
   "cell_type": "code",
   "source": [
    "变量列表 = {'datetime', '合并文件名称', '小说内容', '输出文件_路径', '发送邮件', '已经阅读章节数量', '章节正则匹配模式',\n",
    "     '结束时间', '开始时间', 'smtplib', '随机延迟时间', '消息', '随机延迟_按秒配置', '输入文件_路径', 'random',\n",
    "     'encoders', 'encoding', '随机秒数', '小说内容_按行切分', '最大秒数', '发送小说文件', '当前_文件_路径', '附件',\n",
    "     '当前行', '匹配结果', '延迟', '当前_文件', '已读章节数量', '合并后章节保存路径', '一章内容', 'MIMEMultipart', 're',\n",
    "     '__name__', '章节数', '创建邮箱消息', 'Header', 'seconds', '发送邮箱', '一章内容列表', '随机时间', '今天所有内容',\n",
    "     'filename', '小说处理器', 'QQ邮箱发送', 'MIMEText', '小说处理器_类', '保存数据', '小说名称', '邮件标题',\n",
    "     '开始时间小时', '章节名称列表', '接收邮箱', '上一章节名称', '字符串格式时间', '结束时间小时', '切割文本_按照章节',\n",
    "     '__init__', '邮件本体', 'e', 'time', '合并当天章节', '计数', '当前时间', '下一章节名称', '合并章节数量', '一章',\n",
    "     '合并后文件名称', '邮件正文', 'self', '最终结果', '邮箱密码', 'os', '一章节内容', '读取小说内容', '秒数',\n",
    "     '发送文件', '今天章节名称列表', 'QQ邮箱发送_类'}"
   ],
   "id": "3b43b3b1bc42f6f4",
   "outputs": [],
   "execution_count": 12
  },
  {
   "metadata": {
    "ExecuteTime": {
     "end_time": "2024-08-01T07:41:13.841682Z",
     "start_time": "2024-08-01T07:41:13.827010Z"
    }
   },
   "cell_type": "code",
   "source": [
    "# 过滤掉英文变量, 如果是中英文混合的, 只要其中包含中文变量\n",
    "包含中文字符的变量列表 = {变量 for 变量 in 变量列表 if any('\\u4e00' <= char <= '\\u9fff' for char in 变量)}"
   ],
   "id": "783edfab6ab5ecdb",
   "outputs": [],
   "execution_count": 13
  },
  {
   "metadata": {
    "ExecuteTime": {
     "end_time": "2024-08-01T07:41:14.297526Z",
     "start_time": "2024-08-01T07:41:14.279515Z"
    }
   },
   "cell_type": "code",
   "source": "包含中文字符的变量列表",
   "id": "e9c7b2982038b64e",
   "outputs": [
    {
     "data": {
      "text/plain": [
       "{'QQ邮箱发送',\n",
       " 'QQ邮箱发送_类',\n",
       " '一章',\n",
       " '一章内容',\n",
       " '一章内容列表',\n",
       " '一章节内容',\n",
       " '上一章节名称',\n",
       " '下一章节名称',\n",
       " '今天所有内容',\n",
       " '今天章节名称列表',\n",
       " '保存数据',\n",
       " '切割文本_按照章节',\n",
       " '创建邮箱消息',\n",
       " '匹配结果',\n",
       " '发送小说文件',\n",
       " '发送文件',\n",
       " '发送邮件',\n",
       " '发送邮箱',\n",
       " '合并后文件名称',\n",
       " '合并后章节保存路径',\n",
       " '合并当天章节',\n",
       " '合并文件名称',\n",
       " '合并章节数量',\n",
       " '字符串格式时间',\n",
       " '小说内容',\n",
       " '小说内容_按行切分',\n",
       " '小说名称',\n",
       " '小说处理器',\n",
       " '小说处理器_类',\n",
       " '已经阅读章节数量',\n",
       " '已读章节数量',\n",
       " '延迟',\n",
       " '开始时间',\n",
       " '开始时间小时',\n",
       " '当前_文件',\n",
       " '当前_文件_路径',\n",
       " '当前时间',\n",
       " '当前行',\n",
       " '接收邮箱',\n",
       " '最大秒数',\n",
       " '最终结果',\n",
       " '消息',\n",
       " '秒数',\n",
       " '章节名称列表',\n",
       " '章节数',\n",
       " '章节正则匹配模式',\n",
       " '结束时间',\n",
       " '结束时间小时',\n",
       " '计数',\n",
       " '读取小说内容',\n",
       " '输入文件_路径',\n",
       " '输出文件_路径',\n",
       " '邮件本体',\n",
       " '邮件标题',\n",
       " '邮件正文',\n",
       " '邮箱密码',\n",
       " '附件',\n",
       " '随机延迟_按秒配置',\n",
       " '随机延迟时间',\n",
       " '随机时间',\n",
       " '随机秒数'}"
      ]
     },
     "execution_count": 14,
     "metadata": {},
     "output_type": "execute_result"
    }
   ],
   "execution_count": 14
  },
  {
   "metadata": {
    "ExecuteTime": {
     "end_time": "2024-08-01T07:24:45.924641Z",
     "start_time": "2024-08-01T07:24:45.902949Z"
    }
   },
   "cell_type": "code",
   "source": "pwd",
   "id": "b7a91cd4efdd3f35",
   "outputs": [
    {
     "data": {
      "text/plain": [
       "'/Users/yangxinyi/Library/Mobile Documents/com~apple~CloudDocs/100-CodeEngine'"
      ]
     },
     "execution_count": 9,
     "metadata": {},
     "output_type": "execute_result"
    }
   ],
   "execution_count": 9
  },
  {
   "metadata": {
    "ExecuteTime": {
     "end_time": "2024-08-01T07:25:23.299984Z",
     "start_time": "2024-08-01T07:25:23.288839Z"
    }
   },
   "cell_type": "code",
   "source": "os.getcwd()",
   "id": "f24418ed2d4a698f",
   "outputs": [
    {
     "data": {
      "text/plain": [
       "'/Users/yangxinyi/Library/Mobile Documents/com~apple~CloudDocs/100-CodeEngine'"
      ]
     },
     "execution_count": 10,
     "metadata": {},
     "output_type": "execute_result"
    }
   ],
   "execution_count": 10
  },
  {
   "metadata": {
    "ExecuteTime": {
     "end_time": "2024-08-01T07:38:16.156578Z",
     "start_time": "2024-08-01T07:38:16.150874Z"
    }
   },
   "cell_type": "code",
   "source": "",
   "id": "ded92796125f2d72",
   "outputs": [],
   "execution_count": 3
  },
  {
   "metadata": {
    "ExecuteTime": {
     "end_time": "2024-08-01T07:39:54.628841Z",
     "start_time": "2024-08-01T07:39:54.617743Z"
    }
   },
   "cell_type": "code",
   "source": [
    "\n",
    "# 改变工作目录到当前文件所在的目录\n",
    "os.chdir(\"/Users/yangxinyi/Library/CloudStorage/OneDrive-个人/100_code/Code_Chinese_to_Enghlish/\")\n",
    "\n",
    "print(\"工作目录已改变为:\", os.getcwd())"
   ],
   "id": "9647e64c0e19b46b",
   "outputs": [
    {
     "name": "stdout",
     "output_type": "stream",
     "text": [
      "工作目录已改变为: /Users/yangxinyi/Library/CloudStorage/OneDrive-个人/100_code/Code_Chinese_to_Enghlish\n"
     ]
    }
   ],
   "execution_count": 9
  },
  {
   "metadata": {
    "ExecuteTime": {
     "end_time": "2024-08-01T07:51:10.164170Z",
     "start_time": "2024-08-01T07:51:10.156302Z"
    }
   },
   "cell_type": "code",
   "source": [
    "# 检查文件是否存在\n",
    "已保存变量_路径 = \"已保存变量.json\"\n",
    "if not os.path.exists(已保存变量_路径):\n",
    "    with open(已保存变量_路径, 'w', encoding='utf-8') as f:\n",
    "        json.dump({\"测试\": \"test\"}, f, ensure_ascii=False, indent=4)\n",
    "\n",
    "with open(已保存变量_路径, 'r', encoding='utf-8') as f:\n",
    "    已保存变量 = dict(json.load(f))"
   ],
   "id": "c8a716793eadc307",
   "outputs": [],
   "execution_count": 37
  },
  {
   "metadata": {
    "ExecuteTime": {
     "end_time": "2024-08-01T07:44:50.027351Z",
     "start_time": "2024-08-01T07:44:50.015578Z"
    }
   },
   "cell_type": "code",
   "source": "",
   "id": "4216638f3bd08114",
   "outputs": [],
   "execution_count": 22
  },
  {
   "metadata": {
    "ExecuteTime": {
     "end_time": "2024-08-01T07:50:10.764058Z",
     "start_time": "2024-08-01T07:50:10.741390Z"
    }
   },
   "cell_type": "code",
   "source": "",
   "id": "6ccf1e373d41f19d",
   "outputs": [
    {
     "data": {
      "text/plain": [
       "'abc'"
      ]
     },
     "execution_count": 32,
     "metadata": {},
     "output_type": "execute_result"
    }
   ],
   "execution_count": 32
  },
  {
   "metadata": {
    "ExecuteTime": {
     "end_time": "2024-08-01T07:53:24.180010Z",
     "start_time": "2024-08-01T07:53:24.155872Z"
    }
   },
   "cell_type": "code",
   "source": [
    "新变量 = {\n",
    "    '测试': '魔法', \n",
    "    '当前_文件_路径': 'current_file_path',\n",
    "    '当前_文件': 'current_file',\n",
    "    '小说处理器_类': 'NovelProcessor',\n",
    "    '小说名称': 'novel_name',\n",
    "    '输入文件_路径': 'input_file_path',\n",
    "    '输出文件_路径': 'output_file_path',\n",
    "    '小说内容': 'novel_content',\n",
    "    '章节正则匹配模式': 'chapter_regex_pattern'\n",
    "}"
   ],
   "id": "620b8daff4a72d9",
   "outputs": [],
   "execution_count": 40
  },
  {
   "metadata": {},
   "cell_type": "code",
   "outputs": [],
   "execution_count": null,
   "source": "合并后变量 = 新变量.update(已保存变量)",
   "id": "cd091a22afbc95ea"
  },
  {
   "metadata": {
    "ExecuteTime": {
     "end_time": "2024-08-01T07:51:12.289738Z",
     "start_time": "2024-08-01T07:51:12.268700Z"
    }
   },
   "cell_type": "code",
   "source": "已保存变量.update(translation_dict)",
   "id": "2ce48afb10cddc76",
   "outputs": [],
   "execution_count": 38
  },
  {
   "metadata": {
    "ExecuteTime": {
     "end_time": "2024-08-01T07:51:13.525821Z",
     "start_time": "2024-08-01T07:51:13.511591Z"
    }
   },
   "cell_type": "code",
   "source": "已保存变量",
   "id": "6bb492d0a4b15c84",
   "outputs": [
    {
     "data": {
      "text/plain": [
       "{'测试': '魔法',\n",
       " '当前_文件_路径': 'current_file_path',\n",
       " '当前_文件': 'current_file',\n",
       " '小说处理器_类': 'NovelProcessor',\n",
       " '小说名称': 'novel_name',\n",
       " '输入文件_路径': 'input_file_path',\n",
       " '输出文件_路径': 'output_file_path',\n",
       " '小说内容': 'novel_content',\n",
       " '章节正则匹配模式': 'chapter_regex_pattern'}"
      ]
     },
     "execution_count": 39,
     "metadata": {},
     "output_type": "execute_result"
    }
   ],
   "execution_count": 39
  },
  {
   "metadata": {
    "ExecuteTime": {
     "end_time": "2024-08-01T07:49:35.755746Z",
     "start_time": "2024-08-01T07:49:35.737613Z"
    }
   },
   "cell_type": "code",
   "source": "a = {\"a\": \"b\"}",
   "id": "dd09b0ec7db11935",
   "outputs": [],
   "execution_count": 29
  },
  {
   "metadata": {
    "ExecuteTime": {
     "end_time": "2024-08-01T07:49:49.092743Z",
     "start_time": "2024-08-01T07:49:49.079971Z"
    }
   },
   "cell_type": "code",
   "source": "哈哈 = {\"ok\": \"ddd\"}",
   "id": "bb2e603899288661",
   "outputs": [],
   "execution_count": 30
  },
  {
   "metadata": {},
   "cell_type": "code",
   "outputs": [],
   "execution_count": null,
   "source": "",
   "id": "f0a13a8b36c0525f"
  },
  {
   "metadata": {
    "ExecuteTime": {
     "end_time": "2024-08-01T11:56:02.037590Z",
     "start_time": "2024-08-01T11:56:02.018234Z"
    }
   },
   "cell_type": "code",
   "source": "r = re.match(r\"for\\s+([0-9a-zA-Z_\\u4e00-\\u9fa5]+)\\s+in\", \"or 可以 in xy:\")",
   "id": "e48432413f35f5ed",
   "outputs": [],
   "execution_count": 52
  },
  {
   "metadata": {
    "ExecuteTime": {
     "end_time": "2024-08-01T11:56:21.366539Z",
     "start_time": "2024-08-01T11:56:21.355675Z"
    }
   },
   "cell_type": "code",
   "source": "bool(r)",
   "id": "61974953399aef90",
   "outputs": [
    {
     "data": {
      "text/plain": [
       "False"
      ]
     },
     "execution_count": 58,
     "metadata": {},
     "output_type": "execute_result"
    }
   ],
   "execution_count": 58
  },
  {
   "metadata": {
    "ExecuteTime": {
     "end_time": "2024-08-01T12:14:20.477009Z",
     "start_time": "2024-08-01T12:14:20.464566Z"
    }
   },
   "cell_type": "code",
   "source": [
    "匹配变量 = re.match(r\"for\\s+([0-9a-zA-Z_\\u4e00-\\u9fa5]+)\\s+in\", \"for 每行 in self.novel_content_split_by_line:\")\n",
    "if 匹配变量:\n",
    "    print(匹配变量.group(1))"
   ],
   "id": "57a6ace404a45500",
   "outputs": [
    {
     "name": "stdout",
     "output_type": "stream",
     "text": [
      "每行\n"
     ]
    }
   ],
   "execution_count": 60
  },
  {
   "metadata": {
    "ExecuteTime": {
     "end_time": "2024-08-01T12:14:37.684301Z",
     "start_time": "2024-08-01T12:14:37.667789Z"
    }
   },
   "cell_type": "code",
   "source": "\"for 每行 in self.novel_content_split_by_line:\".startswith(\"for \")",
   "id": "9837456ef808c1bd",
   "outputs": [
    {
     "data": {
      "text/plain": [
       "True"
      ]
     },
     "execution_count": 61,
     "metadata": {},
     "output_type": "execute_result"
    }
   ],
   "execution_count": 61
  },
  {
   "metadata": {},
   "cell_type": "code",
   "outputs": [],
   "execution_count": null,
   "source": "",
   "id": "ccb700e21438c216"
  },
  {
   "metadata": {
    "ExecuteTime": {
     "end_time": "2024-08-02T10:08:33.060756Z",
     "start_time": "2024-08-02T10:08:33.042287Z"
    }
   },
   "cell_type": "code",
   "source": [
    "for_pattern = r\"for\\s+([0-9a-zA-Z_\\u4e00-\\u9fa5]+)\\s+in\"\n",
    "循环匹配结果_列表 = re.findall(for_pattern, 代码文本)\n"
   ],
   "id": "4b477d8a38213be",
   "outputs": [],
   "execution_count": 67
  },
  {
   "metadata": {
    "ExecuteTime": {
     "end_time": "2024-08-02T10:08:33.361777Z",
     "start_time": "2024-08-02T10:08:33.343238Z"
    }
   },
   "cell_type": "code",
   "source": "循环匹配结果_列表",
   "id": "e83f221032809209",
   "outputs": [
    {
     "data": {
      "text/plain": [
       "['每行', 'i']"
      ]
     },
     "execution_count": 68,
     "metadata": {},
     "output_type": "execute_result"
    }
   ],
   "execution_count": 68
  },
  {
   "metadata": {},
   "cell_type": "code",
   "outputs": [],
   "execution_count": null,
   "source": "变量列表.extend(循环匹配结果_列表)",
   "id": "af7ab2427539d784"
  },
  {
   "metadata": {
    "ExecuteTime": {
     "end_time": "2024-08-02T10:11:34.652308Z",
     "start_time": "2024-08-02T10:11:34.636005Z"
    }
   },
   "cell_type": "code",
   "source": [
    "with_pattern = r\"with.*as\\s(.+):\"\n",
    "with匹配结果_列表 = re.findall(with_pattern, 代码文本)\n",
    "with匹配结果_列表\n"
   ],
   "id": "a6de58ae36ec0538",
   "outputs": [
    {
     "data": {
      "text/plain": [
       "['文件']"
      ]
     },
     "execution_count": 71,
     "metadata": {},
     "output_type": "execute_result"
    }
   ],
   "execution_count": 71
  },
  {
   "metadata": {},
   "cell_type": "code",
   "outputs": [],
   "execution_count": null,
   "source": "",
   "id": "e2b7ba9544eb6691"
  },
  {
   "metadata": {
    "ExecuteTime": {
     "end_time": "2024-08-04T06:33:26.083241Z",
     "start_time": "2024-08-04T06:33:25.994280Z"
    }
   },
   "cell_type": "code",
   "source": [
    "待处理_代码路径 = \"/Users/yangxinyi/Library/CloudStorage/OneDrive-个人/100_code/Code_Chinese_to_Enghlish/中文变量翻译.py\"\n",
    "with open(待处理_代码路径, \"r\") as 文件:\n",
    "    代码文本 = 文件.read()"
   ],
   "id": "d98ce7b90f009f",
   "outputs": [],
   "execution_count": 74
  },
  {
   "metadata": {
    "ExecuteTime": {
     "end_time": "2024-08-04T06:33:42.533825Z",
     "start_time": "2024-08-04T06:33:42.502743Z"
    }
   },
   "cell_type": "code",
   "source": [
    " var_pattern = re.compile(r'([0-9a-zA-Z_\\u4e00-\\u9fa5]+)\\s*=\\s*')\n",
    "\n",
    "# 提取所有变量名\n",
    "匹配到变量_列表 = var_pattern.findall(代码文本)\n",
    "匹配到变量_列表\n"
   ],
   "id": "65df98acb059a61e",
   "outputs": [
    {
     "data": {
      "text/plain": [
       "['代码文本',\n",
       " '当前_文件_路径',\n",
       " '当前_文件',\n",
       " '小说内容',\n",
       " '章节正则匹配模式',\n",
       " '小说名称',\n",
       " '输入文件_路径',\n",
       " '输出文件_路径',\n",
       " '章节正则匹配模式',\n",
       " 'encoding',\n",
       " '小说内容_按行切分',\n",
       " 'a',\n",
       " 'var_pattern',\n",
       " '匹配到变量_列表',\n",
       " '变量列表',\n",
       " 'import_后面文本',\n",
       " 'import_后面文本_切分',\n",
       " 'import_后面文本',\n",
       " 'import_后面文本_切分',\n",
       " 'import_后面文本',\n",
       " 'import_后面文本_切分',\n",
       " '匹配变量',\n",
       " 'def_pattern',\n",
       " '变量列表',\n",
       " '函数匹配结果_列表',\n",
       " '函数参数名称',\n",
       " '函数参数名称_列表',\n",
       " 'class_pattern',\n",
       " '类名匹配结果_列表',\n",
       " 'for_pattern',\n",
       " '循环匹配结果_列表',\n",
       " 'with_pattern',\n",
       " 'with匹配结果_列表',\n",
       " '中文变量列表',\n",
       " '已保存变量_路径',\n",
       " 'current_file_path',\n",
       " 'current_directory',\n",
       " 'encoding',\n",
       " 'ensure_ascii',\n",
       " 'indent',\n",
       " 'encoding',\n",
       " '已保存变量',\n",
       " '翻转字典',\n",
       " '重复项',\n",
       " '已保存变量_路径',\n",
       " '已保存变量',\n",
       " '未保存变量',\n",
       " '新变量_字典',\n",
       " '合并后变量',\n",
       " '合并后变量',\n",
       " '翻转字典',\n",
       " '重复项',\n",
       " '去重字典',\n",
       " 'encoding',\n",
       " 'ensure_ascii',\n",
       " 'indent',\n",
       " '__name__',\n",
       " '待处理_代码路径',\n",
       " '代码文本',\n",
       " '变量列表',\n",
       " '变量列表1',\n",
       " '变量列表2',\n",
       " '变量列表3',\n",
       " '变量列表_集合',\n",
       " '中文变量列表',\n",
       " '合并后变量_字典',\n",
       " '代码文本',\n",
       " '代码所在目录',\n",
       " '文件名',\n",
       " '文件名后缀',\n",
       " '文件名前缀_翻译',\n",
       " '英文代码_保存路径']"
      ]
     },
     "execution_count": 77,
     "metadata": {},
     "output_type": "execute_result"
    }
   ],
   "execution_count": 77
  },
  {
   "metadata": {
    "ExecuteTime": {
     "end_time": "2024-08-04T08:09:16.655711Z",
     "start_time": "2024-08-04T08:09:16.638314Z"
    }
   },
   "cell_type": "code",
   "source": [
    "test = \"函数名称, function_argument_name = one\"\n",
    "test = \"\"\"c, d_d =[\"result\", \"result2\"]\"\"\"\n",
    "test = \"\"\"    # 提取所有变量名\n",
    "    sfsdf, ddd = var_pattern.findall(代码文本)\n",
    "    匹配结果_列表 = var_pattern.findall(代码文本)\n",
    "    \n",
    "    # 对变量列表进行循环, 如果包含逗号, 说明需要进一步处理\"\"\"\n",
    "# var_pattern = re.compile(r'([0-9a-zA-Z_\\u4e00-\\u9fa5, ]+)=[^=]+\\n')\n",
    "var_pattern = re.compile(r'\\s*([0-9a-zA-Z_\\u4e00-\\u9fa5, ]+)\\s*=\\s*[^\\s=]+')\n",
    "var_pattern.findall(test)"
   ],
   "id": "78fe16f3e5659fa4",
   "outputs": [
    {
     "data": {
      "text/plain": [
       "['sfsdf, ddd ', '匹配结果_列表 ']"
      ]
     },
     "execution_count": 126,
     "metadata": {},
     "output_type": "execute_result"
    }
   ],
   "execution_count": 126
  },
  {
   "metadata": {
    "ExecuteTime": {
     "end_time": "2024-08-04T07:24:05.664660Z",
     "start_time": "2024-08-04T07:24:05.653772Z"
    }
   },
   "cell_type": "code",
   "source": "a, b = \"666\", \"555\"",
   "id": "bb585eb0e4211006",
   "outputs": [],
   "execution_count": 81
  },
  {
   "metadata": {
    "ExecuteTime": {
     "end_time": "2024-08-04T07:24:18.822079Z",
     "start_time": "2024-08-04T07:24:18.811710Z"
    }
   },
   "cell_type": "code",
   "source": "c, d = [\"result\",  \"result2\"]",
   "id": "5f2bbd63f0b0eec4",
   "outputs": [],
   "execution_count": 83
  },
  {
   "metadata": {},
   "cell_type": "code",
   "outputs": [],
   "execution_count": null,
   "source": "",
   "id": "374a3ceef1f40b37"
  },
  {
   "metadata": {},
   "cell_type": "code",
   "outputs": [],
   "execution_count": null,
   "source": "",
   "id": "de1bd830f595addc"
  },
  {
   "metadata": {
    "ExecuteTime": {
     "end_time": "2024-08-04T07:23:04.132303Z",
     "start_time": "2024-08-04T07:23:04.118809Z"
    }
   },
   "cell_type": "code",
   "source": [
    "var_pattern = re.compile(r'([0-9a-zA-Z_\\u4e00-\\u9fa5]+)\\s*=\\s*')\n",
    "\n",
    "# 提取所有变量名\n",
    "匹配到变量_列表 = var_pattern.findall(test)\n",
    "匹配到变量_列表"
   ],
   "id": "c6947680b824d591",
   "outputs": [
    {
     "data": {
      "text/plain": [
       "['function_argument_name']"
      ]
     },
     "execution_count": 79,
     "metadata": {},
     "output_type": "execute_result"
    }
   ],
   "execution_count": 79
  },
  {
   "metadata": {},
   "cell_type": "code",
   "outputs": [],
   "execution_count": null,
   "source": "",
   "id": "49c0335b933dc3aa"
  },
  {
   "metadata": {},
   "cell_type": "code",
   "outputs": [],
   "execution_count": null,
   "source": "",
   "id": "2ca5b3d5cb38b57e"
  }
 ],
 "metadata": {
  "kernelspec": {
   "display_name": "Python 3",
   "language": "python",
   "name": "python3"
  },
  "language_info": {
   "codemirror_mode": {
    "name": "ipython",
    "version": 2
   },
   "file_extension": ".py",
   "mimetype": "text/x-python",
   "name": "python",
   "nbconvert_exporter": "python",
   "pygments_lexer": "ipython2",
   "version": "2.7.6"
  }
 },
 "nbformat": 4,
 "nbformat_minor": 5
}
