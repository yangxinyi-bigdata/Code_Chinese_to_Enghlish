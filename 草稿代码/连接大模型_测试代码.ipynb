{
 "cells": [
  {
   "cell_type": "code",
   "id": "initial_id",
   "metadata": {
    "collapsed": true,
    "ExecuteTime": {
     "end_time": "2024-08-01T11:39:28.810317Z",
     "start_time": "2024-08-01T11:39:28.313307Z"
    }
   },
   "source": [
    "# 连接的大模型有哪些呢? 国内的就可以, 便宜的就可以\n",
    "from http import HTTPStatus\n",
    "from openai import OpenAI\n",
    "import dashscope as 通义千问\n",
    "import json\n",
    "import os\n",
    "\n"
   ],
   "outputs": [],
   "execution_count": 1
  },
  {
   "metadata": {},
   "cell_type": "markdown",
   "source": "### 豆包大模型",
   "id": "be377855e9a0f861"
  },
  {
   "metadata": {
    "ExecuteTime": {
     "end_time": "2024-08-01T11:45:37.991719Z",
     "start_time": "2024-08-01T11:45:37.959094Z"
    }
   },
   "cell_type": "code",
   "source": [
    "client = OpenAI(\n",
    "    api_key = \"6cdd6e93-a62d-4b22-a821-8eb3c5bfd245\",\n",
    "    base_url = \"https://ark.cn-beijing.volces.com/api/v3\",\n",
    ")"
   ],
   "id": "59a5782f158267a9",
   "outputs": [],
   "execution_count": 7
  },
  {
   "metadata": {
    "ExecuteTime": {
     "end_time": "2024-08-01T11:45:40.983969Z",
     "start_time": "2024-08-01T11:45:38.367382Z"
    }
   },
   "cell_type": "code",
   "source": [
    "# Non-streaming:\n",
    "completion = client.chat.completions.create(\n",
    "    model = \"ep-20240801193759-nqxc7\",  # your model endpoint ID\n",
    "    messages = [\n",
    "        {\"role\": \"system\", \"content\": \"你是豆包，是由字节跳动开发的 AI 人工智能助手\"},\n",
    "        {\"role\": \"user\", \"content\": \"介绍你自己\"},\n",
    "    ],\n",
    ")\n",
    "print(completion.choices[0].message.content)"
   ],
   "id": "55bfa1d8fcb45626",
   "outputs": [
    {
     "name": "stdout",
     "output_type": "stream",
     "text": [
      "我是豆包呀，我可以回答各种各样的问题，包括科学、历史、文化、技术、生活常识等等。我还能和你聊天，陪你探讨各种话题，为你提供信息和建议呢。无论你是想获取知识、寻求创意灵感，还是只是想找个伙伴聊聊天，都随时可以来找我哦。\n"
     ]
    }
   ],
   "execution_count": 8
  },
  {
   "metadata": {},
   "cell_type": "code",
   "outputs": [],
   "execution_count": null,
   "source": "",
   "id": "daa2d6c0f0c9b29"
  },
  {
   "metadata": {},
   "cell_type": "markdown",
   "source": "### 通义千问大模型",
   "id": "611494550f9f5da2"
  },
  {
   "metadata": {
    "ExecuteTime": {
     "end_time": "2024-08-01T03:19:55.335875Z",
     "start_time": "2024-08-01T03:19:54.770945Z"
    }
   },
   "cell_type": "code",
   "source": "",
   "id": "9ab8bf276b1758fe",
   "outputs": [],
   "execution_count": 101
  },
  {
   "metadata": {
    "ExecuteTime": {
     "end_time": "2024-08-01T03:22:19.675058Z",
     "start_time": "2024-08-01T03:22:19.632019Z"
    }
   },
   "cell_type": "code",
   "source": [
    "client = OpenAI(\n",
    "        api_key=\"sk-ec6d564ac02c46f086d06df15acc4c4c\", # 如果您没有配置环境变量，请在此处用您的API Key进行替换\n",
    "        base_url=\"https://dashscope.aliyuncs.com/compatible-mode/v1\",  # 填写DashScope服务的base_url\n",
    "    )"
   ],
   "id": "a42009df4cf078a5",
   "outputs": [],
   "execution_count": 104
  },
  {
   "metadata": {
    "ExecuteTime": {
     "end_time": "2024-08-01T03:22:19.947246Z",
     "start_time": "2024-08-01T03:22:19.941053Z"
    }
   },
   "cell_type": "code",
   "source": "变量列表 = ['init', 'self', '小说名称', '输入文件_路径', '输出文件_路径', '读取小说内容', 'self', '小说处理器_类']",
   "id": "e3611bb727f254bc",
   "outputs": [],
   "execution_count": 105
  },
  {
   "metadata": {
    "ExecuteTime": {
     "end_time": "2024-08-01T03:22:25.454677Z",
     "start_time": "2024-08-01T03:22:20.297048Z"
    }
   },
   "cell_type": "code",
   "source": [
    "提示语_预备 = \"\"\"下面是我在编程中使用的中文变量, 请帮助我翻译成对应的英文变量名称.\n",
    "对于列表当中的英文请直接忽略, 对于中文变量, 请将中文和英文对应的结果使用JSON格式进行返回:\n",
    "\"\"\"\n",
    "提示语_完整 = 提示语_预备 + str(变量列表)\n",
    "messages = [{'role': 'system', 'content': '你是一个Python编程助手.'},\n",
    "            {'role': 'user', 'content': 提示语_完整}]\n",
    "completion = client.chat.completions.create(\n",
    "    model=\"qwen-max\",\n",
    "    messages=messages,\n",
    "    temperature=0.8,\n",
    "    top_p=0.8\n",
    "    )\n"
   ],
   "id": "62b03f320e14cf87",
   "outputs": [],
   "execution_count": 106
  },
  {
   "metadata": {
    "ExecuteTime": {
     "end_time": "2024-08-01T03:25:14.318043Z",
     "start_time": "2024-08-01T03:25:14.314644Z"
    }
   },
   "cell_type": "code",
   "source": "json_str = completion.choices[0].message.content",
   "id": "21489b0e42abd9e1",
   "outputs": [],
   "execution_count": 120
  },
  {
   "metadata": {
    "ExecuteTime": {
     "end_time": "2024-08-01T03:25:23.155864Z",
     "start_time": "2024-08-01T03:25:23.151318Z"
    }
   },
   "cell_type": "code",
   "source": [
    "# 移除代码块标记\n",
    "json_str = json_str.strip('```json\\n').strip('```')\n"
   ],
   "id": "a4ca7588deb4070f",
   "outputs": [],
   "execution_count": 121
  },
  {
   "metadata": {
    "ExecuteTime": {
     "end_time": "2024-08-01T03:25:38.061197Z",
     "start_time": "2024-08-01T03:25:38.050966Z"
    }
   },
   "cell_type": "code",
   "source": [
    "# 将 JSON 字符串转换成 Python 字典\n",
    "result_dict = json.loads(json_str)"
   ],
   "id": "b30013eccfc5d15b",
   "outputs": [],
   "execution_count": 122
  },
  {
   "metadata": {
    "ExecuteTime": {
     "end_time": "2024-08-01T03:25:41.513236Z",
     "start_time": "2024-08-01T03:25:41.498671Z"
    }
   },
   "cell_type": "code",
   "source": "result_dict",
   "id": "c2ac3103734b1def",
   "outputs": [
    {
     "data": {
      "text/plain": [
       "{'小说名称': 'novel_title',\n",
       " '输入文件_路径': 'input_file_path',\n",
       " '输出文件_路径': 'output_file_path',\n",
       " '读取小说内容': 'read_novel_content',\n",
       " '小说处理器_类': 'novel_processor_class'}"
      ]
     },
     "execution_count": 123,
     "metadata": {},
     "output_type": "execute_result"
    }
   ],
   "execution_count": 123
  },
  {
   "metadata": {},
   "cell_type": "code",
   "outputs": [],
   "execution_count": null,
   "source": "",
   "id": "22a97b7b91a56c3d"
  },
  {
   "metadata": {},
   "cell_type": "code",
   "outputs": [],
   "execution_count": null,
   "source": "",
   "id": "53a1710254a83539"
  },
  {
   "metadata": {},
   "cell_type": "code",
   "outputs": [],
   "execution_count": null,
   "source": "通义千问.api_key = \"sk-ec6d564ac02c46f086d06df15acc4c4c\"",
   "id": "b73a565af81c5705"
  },
  {
   "metadata": {
    "ExecuteTime": {
     "end_time": "2024-08-01T03:09:46.540969Z",
     "start_time": "2024-08-01T03:09:46.523229Z"
    }
   },
   "cell_type": "code",
   "source": [
    "# 定义一个函数, 直接导入就可以调用, 传入数据, 获取结果\n",
    "def 调用通义千问(变量列表, 提示语_预备):\n",
    "    提示语_预备 = \"\"\"下面是我在编程中使用的中文变量, 请帮助我翻译成对应的英文变量名称.\n",
    "对于列表当中的英文请直接忽略, 对于中文变量, 请将中文和英文对应的结果使用JSON格式进行返回:\n",
    "\"\"\"\n",
    "    提示语_完整 = 提示语_预备 + str(变量列表)\n",
    "    messages = [{'role': 'system', 'content': '你是一个Python编程助手.'},\n",
    "                {'role': 'user', 'content': 提示语_完整}]\n",
    "    response = 通义千问.Generation.call(\n",
    "        model=\"qwen-max\",\n",
    "        messages=messages,\n",
    "        result_format='message',  # 将返回结果格式设置为 message\n",
    "    )\n",
    "    if response.status_code == HTTPStatus.OK:\n",
    "        return response\n",
    "    else:\n",
    "        return 'Request id: %s, Status code: %s, error code: %s, error message: %s' % (\n",
    "            response.request_id, response.status_code,\n",
    "            response.code, response.message\n",
    "        )"
   ],
   "id": "da02541178ba6fc9",
   "outputs": [],
   "execution_count": 92
  },
  {
   "metadata": {
    "ExecuteTime": {
     "end_time": "2024-08-01T03:09:49.142141Z",
     "start_time": "2024-08-01T03:09:49.133082Z"
    }
   },
   "cell_type": "code",
   "source": [
    "提示语_预备 = \"\"\"下面是我在编程中使用的中文变量, 请帮助我翻译成对应的英文变量名称, \n",
    "        对于英文请直接忽略, 对于中文变量, 请将中文和英文对接的结果使用python字典格式进行返回:\"\"\""
   ],
   "id": "e2546e3dabf876cd",
   "outputs": [],
   "execution_count": 93
  },
  {
   "metadata": {
    "ExecuteTime": {
     "end_time": "2024-08-01T03:09:49.400032Z",
     "start_time": "2024-08-01T03:09:49.390474Z"
    }
   },
   "cell_type": "code",
   "source": "test = ['init', 'self', '小说名称', '输入文件_路径', '输出文件_路径', '读取小说内容', 'self', '小说处理器_类']",
   "id": "5a09257232e9e65e",
   "outputs": [],
   "execution_count": 94
  },
  {
   "metadata": {
    "ExecuteTime": {
     "end_time": "2024-08-01T03:09:56.056084Z",
     "start_time": "2024-08-01T03:09:50.895465Z"
    }
   },
   "cell_type": "code",
   "source": "response = 调用通义千问(test, 提示语_预备)",
   "id": "1ad4e6727acd7dbb",
   "outputs": [],
   "execution_count": 95
  },
  {
   "metadata": {
    "ExecuteTime": {
     "end_time": "2024-08-01T03:09:56.066421Z",
     "start_time": "2024-08-01T03:09:56.060217Z"
    }
   },
   "cell_type": "code",
   "source": "a = response.output.choices[0].message.content",
   "id": "49440be53e4c36cd",
   "outputs": [],
   "execution_count": 96
  },
  {
   "metadata": {
    "ExecuteTime": {
     "end_time": "2024-08-01T03:09:56.074931Z",
     "start_time": "2024-08-01T03:09:56.068561Z"
    }
   },
   "cell_type": "code",
   "source": "a",
   "id": "20c40c8eef2caac3",
   "outputs": [
    {
     "data": {
      "text/plain": [
       "'```json\\n{\\n  \"小说名称\": \"novel_name\",\\n  \"输入文件_路径\": \"input_file_path\",\\n  \"输出文件_路径\": \"output_file_path\",\\n  \"读取小说内容\": \"read_novel_content\",\\n  \"小说处理器_类\": \"novel_processor_class\"\\n}\\n```'"
      ]
     },
     "execution_count": 97,
     "metadata": {},
     "output_type": "execute_result"
    }
   ],
   "execution_count": 97
  },
  {
   "metadata": {
    "ExecuteTime": {
     "end_time": "2024-08-01T03:09:57.843706Z",
     "start_time": "2024-08-01T03:09:57.836703Z"
    }
   },
   "cell_type": "code",
   "source": [
    "# 移除代码块标记\n",
    "json_str = a.strip('```json\\n').strip('```')"
   ],
   "id": "bf5758772dec4003",
   "outputs": [],
   "execution_count": 98
  },
  {
   "metadata": {
    "ExecuteTime": {
     "end_time": "2024-08-01T03:09:58.269048Z",
     "start_time": "2024-08-01T03:09:58.259480Z"
    }
   },
   "cell_type": "code",
   "source": [
    "# 将 JSON 字符串转换成 Python 字典\n",
    "result_dict = json.loads(json_str)"
   ],
   "id": "21e9267c1b9525f6",
   "outputs": [],
   "execution_count": 99
  },
  {
   "metadata": {
    "ExecuteTime": {
     "end_time": "2024-08-01T03:09:58.710528Z",
     "start_time": "2024-08-01T03:09:58.694657Z"
    }
   },
   "cell_type": "code",
   "source": "result_dict",
   "id": "edd71a9a4be98c41",
   "outputs": [
    {
     "data": {
      "text/plain": [
       "{'小说名称': 'novel_name',\n",
       " '输入文件_路径': 'input_file_path',\n",
       " '输出文件_路径': 'output_file_path',\n",
       " '读取小说内容': 'read_novel_content',\n",
       " '小说处理器_类': 'novel_processor_class'}"
      ]
     },
     "execution_count": 100,
     "metadata": {},
     "output_type": "execute_result"
    }
   ],
   "execution_count": 100
  },
  {
   "metadata": {
    "ExecuteTime": {
     "end_time": "2024-07-31T11:42:42.098759Z",
     "start_time": "2024-07-31T11:42:40.167575Z"
    }
   },
   "cell_type": "code",
   "source": [
    "\n",
    "\n",
    "\n",
    "\n",
    "def call_with_messages():\n",
    "    messages = [{'role': 'system', 'content': 'You are a helpful assistant.'},\n",
    "                {'role': 'user', 'content': '请介绍一下通义千问'}]\n",
    "\n",
    "    response = 通义千问.Generation.call(\n",
    "        model=\"qwen-turbo\",\n",
    "        messages=messages,\n",
    "        result_format='message',  # 将返回结果格式设置为 message\n",
    "    )\n",
    "    if response.status_code == HTTPStatus.OK:\n",
    "        print(response)\n",
    "    else:\n",
    "        print('Request id: %s, Status code: %s, error code: %s, error message: %s' % (\n",
    "            response.request_id, response.status_code,\n",
    "            response.code, response.message\n",
    "        ))\n",
    "\n",
    "\n",
    "if __name__ == '__main__':\n",
    "    call_with_messages()"
   ],
   "id": "1ed9fc5313cb8b3b",
   "outputs": [
    {
     "name": "stdout",
     "output_type": "stream",
     "text": [
      "{\"status_code\": 200, \"request_id\": \"b4f4de8d-63e4-92b8-a124-cd0bb3448cda\", \"code\": \"\", \"message\": \"\", \"output\": {\"text\": null, \"finish_reason\": null, \"choices\": [{\"finish_reason\": \"stop\", \"message\": {\"role\": \"assistant\", \"content\": \"通义千问是阿里云自主研发的超大规模语言模型，能够回答问题、创作文字，还能表达观点、撰写代码。它在预训练过程中学习了海量文本数据和知识，因此具备广泛的知识背景和语言理解能力。通义千问可以用于各种场景，如生成文章、故事、诗歌，提供技术解决方案，解答疑问等。它的目标是为用户提供高效、准确的信息和服务支持。\"}}]}, \"usage\": {\"input_tokens\": 25, \"output_tokens\": 88, \"total_tokens\": 113}}\n"
     ]
    }
   ],
   "execution_count": 3
  },
  {
   "metadata": {},
   "cell_type": "code",
   "outputs": [],
   "execution_count": null,
   "source": "",
   "id": "af6364215f28a82e"
  },
  {
   "metadata": {},
   "cell_type": "code",
   "outputs": [],
   "execution_count": null,
   "source": "",
   "id": "6b9ad3e1ee50bb22"
  },
  {
   "metadata": {},
   "cell_type": "code",
   "outputs": [],
   "execution_count": null,
   "source": "",
   "id": "45331f1ba1423022"
  },
  {
   "metadata": {},
   "cell_type": "code",
   "outputs": [],
   "execution_count": null,
   "source": "",
   "id": "87bfbaf035288eea"
  },
  {
   "metadata": {},
   "cell_type": "code",
   "outputs": [],
   "execution_count": null,
   "source": "",
   "id": "2d2afad79370880b"
  },
  {
   "metadata": {},
   "cell_type": "code",
   "outputs": [],
   "execution_count": null,
   "source": "",
   "id": "149caeb8da99452d"
  },
  {
   "metadata": {},
   "cell_type": "code",
   "outputs": [],
   "execution_count": null,
   "source": "",
   "id": "42f1f6d2db9a0ce8"
  }
 ],
 "metadata": {
  "kernelspec": {
   "display_name": "code_chinese_to_english",
   "language": "python",
   "name": "code_chinese_to_english"
  },
  "language_info": {
   "codemirror_mode": {
    "name": "ipython",
    "version": 2
   },
   "file_extension": ".py",
   "mimetype": "text/x-python",
   "name": "python",
   "nbconvert_exporter": "python",
   "pygments_lexer": "ipython2",
   "version": "2.7.6"
  }
 },
 "nbformat": 4,
 "nbformat_minor": 5
}
