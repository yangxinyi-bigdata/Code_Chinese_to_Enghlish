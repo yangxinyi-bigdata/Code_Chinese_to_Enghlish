{
 "cells": [
  {
   "cell_type": "code",
   "id": "initial_id",
   "metadata": {
    "collapsed": true,
    "ExecuteTime": {
     "end_time": "2024-09-08T08:17:40.251525Z",
     "start_time": "2024-09-08T08:17:39.370839Z"
    }
   },
   "source": [
    "\n",
    "from 翻译程序.中文项目翻译 import 代码文件翻译_V2\n",
    "from 翻译程序.通用处理 import *"
   ],
   "outputs": [],
   "execution_count": 1
  },
  {
   "metadata": {
    "ExecuteTime": {
     "end_time": "2024-09-08T08:26:33.721238Z",
     "start_time": "2024-09-08T08:26:33.713787Z"
    }
   },
   "cell_type": "code",
   "source": [
    "def 删除单行代码注释和字符串(代码文本, 引号=0):\n",
    "    \"\"\"引号:\n",
    "    1: 开启引号中的中文匹配\n",
    "    0: 去掉引号中的中文提取\"\"\"\n",
    "\n",
    "    # 匹配注释部分，保留换行符\n",
    "    注释匹配模式 = r'(#.*?)'\n",
    "\n",
    "    # 字符串匹配模式，包括多行和单行字符串\n",
    "    字符串匹配模式 = r'(\\\"\\\"\\\".*?\\\"\\\"\\\"|\\'\\'\\'.*?\\'\\'\\'|\\\".*?\\\"|\\'.*?\\')'\n",
    "\n",
    "    # 合并所有模式\n",
    "    综合匹配模式 =  字符串匹配模式 + r'|' + 注释匹配模式\n",
    "\n",
    "    # 替换时保留换行符\n",
    "    替换结果 = re.sub(综合匹配模式, \"''\", 代码文本)\n",
    "\n",
    "    return 替换结果"
   ],
   "id": "464ff005e7ea6817",
   "outputs": [],
   "execution_count": 9
  },
  {
   "metadata": {
    "ExecuteTime": {
     "end_time": "2024-09-08T08:28:07.212819Z",
     "start_time": "2024-09-08T08:28:07.202124Z"
    }
   },
   "cell_type": "code",
   "source": "t = 'x = \"haha\"  # This is a comment'",
   "id": "f36c939c5c870c9d",
   "outputs": [],
   "execution_count": 16
  },
  {
   "metadata": {
    "ExecuteTime": {
     "end_time": "2024-09-08T08:28:52.778731Z",
     "start_time": "2024-09-08T08:28:52.773663Z"
    }
   },
   "cell_type": "code",
   "source": [
    "注释匹配模式 = r'(#.*)'\n",
    "字符串匹配模式 = r'(\\\"\\\"\\\".*\\\"\\\"\\\"|\\'\\'\\'.*\\'\\'\\'|\\\".*\\\"|\\'.*\\')'\n",
    "综合匹配模式 =  字符串匹配模式 + r'|' + 注释匹配模式\n",
    "综合匹配模式"
   ],
   "id": "e06ce3d48c8cce67",
   "outputs": [
    {
     "data": {
      "text/plain": [
       "'(\\\\\"\\\\\"\\\\\".*\\\\\"\\\\\"\\\\\"|\\\\\\'\\\\\\'\\\\\\'.*\\\\\\'\\\\\\'\\\\\\'|\\\\\".*\\\\\"|\\\\\\'.*\\\\\\')|(#.*)'"
      ]
     },
     "execution_count": 21,
     "metadata": {},
     "output_type": "execute_result"
    }
   ],
   "execution_count": 21
  },
  {
   "metadata": {
    "ExecuteTime": {
     "end_time": "2024-09-08T08:29:41.970649Z",
     "start_time": "2024-09-08T08:29:41.964893Z"
    }
   },
   "cell_type": "code",
   "source": "re.sub(综合匹配模式, \"''\", t)",
   "id": "5ef5f41c75936989",
   "outputs": [
    {
     "data": {
      "text/plain": [
       "\"x = ''  ''\""
      ]
     },
     "execution_count": 23,
     "metadata": {},
     "output_type": "execute_result"
    }
   ],
   "execution_count": 23
  },
  {
   "metadata": {
    "ExecuteTime": {
     "end_time": "2024-09-08T08:37:51.175897Z",
     "start_time": "2024-09-08T08:37:51.156696Z"
    }
   },
   "cell_type": "code",
   "source": "a = \"abc\"",
   "id": "d274b5d92ae9aca3",
   "outputs": [],
   "execution_count": 24
  },
  {
   "metadata": {
    "ExecuteTime": {
     "end_time": "2024-09-08T08:37:58.878992Z",
     "start_time": "2024-09-08T08:37:58.533260Z"
    }
   },
   "cell_type": "code",
   "source": "a.index(\"q\")",
   "id": "6e2597a0f98a36f1",
   "outputs": [
    {
     "ename": "ValueError",
     "evalue": "substring not found",
     "output_type": "error",
     "traceback": [
      "\u001B[0;31m---------------------------------------------------------------------------\u001B[0m",
      "\u001B[0;31mValueError\u001B[0m                                Traceback (most recent call last)",
      "Cell \u001B[0;32mIn[26], line 1\u001B[0m\n\u001B[0;32m----> 1\u001B[0m \u001B[43ma\u001B[49m\u001B[38;5;241;43m.\u001B[39;49m\u001B[43mindex\u001B[49m\u001B[43m(\u001B[49m\u001B[38;5;124;43m\"\u001B[39;49m\u001B[38;5;124;43mq\u001B[39;49m\u001B[38;5;124;43m\"\u001B[39;49m\u001B[43m)\u001B[49m\n",
      "\u001B[0;31mValueError\u001B[0m: substring not found"
     ]
    }
   ],
   "execution_count": 26
  },
  {
   "metadata": {
    "ExecuteTime": {
     "end_time": "2024-09-08T08:26:34.885625Z",
     "start_time": "2024-09-08T08:26:34.881753Z"
    }
   },
   "cell_type": "code",
   "source": "删除代码注释和字符串()",
   "id": "9e5a5a5310ce58fd",
   "outputs": [
    {
     "data": {
      "text/plain": [
       "'x = 5  # This is a comment'"
      ]
     },
     "execution_count": 10,
     "metadata": {},
     "output_type": "execute_result"
    }
   ],
   "execution_count": 10
  },
  {
   "metadata": {
    "ExecuteTime": {
     "end_time": "2024-09-08T08:22:45.814083Z",
     "start_time": "2024-09-08T08:22:45.807188Z"
    }
   },
   "cell_type": "code",
   "source": [
    "pattern = r'([\"\\'])(?:\\\\.|[^\\\\])*?\\1'  # 匹配字符串\n",
    "lines = [\n",
    "    'x = 5  # This is a comment',          # 有注释\n",
    "    'y = \"# Not a comment\"',               # 字符串中的 #\n",
    "    'print(x)',                            # 无注释\n",
    "    '# Full line comment',                 # 全行注释\n",
    "]\n",
    "# 去掉字符串内容，剩下的部分检查是否有 #\n",
    "stripped_line = re.sub(pattern, '', lines[1])\n",
    "stripped_line"
   ],
   "id": "6be3eba221dc7928",
   "outputs": [
    {
     "data": {
      "text/plain": [
       "'y = '"
      ]
     },
     "execution_count": 6,
     "metadata": {},
     "output_type": "execute_result"
    }
   ],
   "execution_count": 6
  },
  {
   "metadata": {
    "ExecuteTime": {
     "end_time": "2024-08-17T08:55:48.970582Z",
     "start_time": "2024-08-17T08:55:48.957694Z"
    }
   },
   "cell_type": "code",
   "source": "代码文件翻译_V2(\"/Users/yangxinyi/Library/CloudStorage/OneDrive-个人/100_code/Code_Chinese_to_Enghlish/测试代码2.ipynb\")",
   "id": "ea9147bfa00fae72",
   "outputs": [
    {
     "name": "stderr",
     "output_type": "stream",
     "text": [
      "\u001B[32m2024-08-17 16:55:48.962\u001B[0m | \u001B[34m\u001B[1mDEBUG   \u001B[0m | \u001B[36m中文项目翻译\u001B[0m:\u001B[36m代码文件翻译_V2\u001B[0m:\u001B[36m523\u001B[0m - \u001B[34m\u001B[1m{'替换函数', '项目_根路径', '上层目录名称', '变量匹配模式', '代码文本', '中文变量', '字符串匹配模式', '目录', '文件', '注释匹配模式', '函数_替换代码变量', '收集_目录列表', '日志', '原目录', '匹配文本', '判断中文变量', '内容', '综合匹配模式', '遍历目录和文件列表', '合并后变量', '项目_中文目录映射', '查询并合并变量', '文件夹名称', '哈哈', '变量映射', '元素', '项目_目录表单', '多行字符串匹配模式', '上级英文目录', '创建目录', '项目_目录映射', '项目_中文目录表单', '收集_文件列表', '收集_相对目录列表', '项目翻译', '匹配结果', '完整路径'}\u001B[0m\n",
      "\u001B[32m2024-08-17 16:55:48.963\u001B[0m | \u001B[34m\u001B[1mDEBUG   \u001B[0m | \u001B[36m中文项目翻译\u001B[0m:\u001B[36m查询并合并变量\u001B[0m:\u001B[36m400\u001B[0m - \u001B[34m\u001B[1m未检测到重复项\u001B[0m\n"
     ]
    },
    {
     "data": {
      "text/plain": [
       "'/Users/yangxinyi/Library/CloudStorage/OneDrive-个人/100_code/Code_Chinese_to_Enghlish/test_code_2.ipynb'"
      ]
     },
     "execution_count": 3,
     "metadata": {},
     "output_type": "execute_result"
    }
   ],
   "execution_count": 3
  },
  {
   "metadata": {
    "ExecuteTime": {
     "end_time": "2024-08-29T09:48:39.800533Z",
     "start_time": "2024-08-29T09:48:39.772595Z"
    }
   },
   "cell_type": "code",
   "source": [
    "项目_文件表单 = pd.DataFrame(columns=[\"文件名称\", \"中文变量\", \"英文相对路径\",\n",
    "                                          \"中文相对路径\", \"英文上层路径\", \"中文上层路径\",\n",
    "                                          \"翻译英文变量\", \"英中变量映射\",\n",
    "                                          \"修改标识\", \"翻译文件\"], dtype='object'\n",
    "                                 )"
   ],
   "id": "9556af0eb6495c4e",
   "outputs": [],
   "execution_count": 65
  },
  {
   "metadata": {
    "ExecuteTime": {
     "end_time": "2024-08-29T09:48:40.072160Z",
     "start_time": "2024-08-29T09:48:40.065985Z"
    }
   },
   "cell_type": "code",
   "source": [
    "项目_文件表单.loc[1] = {\n",
    "            \"文件名称\": \"1\",\n",
    "            \"中文变量\": \"\",\n",
    "            \"英文相对路径\": \"\",\n",
    "            \"中文相对路径\": \"1\",\n",
    "            \"英文上层路径\": \"\",\n",
    "            \"中文上层路径\": \"1\",\n",
    "            \"翻译英文变量\": {},\n",
    "            \"英中变量映射\": {},\n",
    "            \"修改标识\": 0,\n",
    "            \"翻译文件\": 0\n",
    "        }"
   ],
   "id": "c22aba00206fb6ef",
   "outputs": [],
   "execution_count": 66
  },
  {
   "metadata": {
    "ExecuteTime": {
     "end_time": "2024-08-29T09:48:45.131003Z",
     "start_time": "2024-08-29T09:48:45.108563Z"
    }
   },
   "cell_type": "code",
   "source": "项目_文件表单.at[1, \"翻译英文变量\"] = {\"a\", \"b\"}",
   "id": "b99513aa0e08aa37",
   "outputs": [],
   "execution_count": 67
  },
  {
   "metadata": {
    "ExecuteTime": {
     "end_time": "2024-08-29T09:48:47.641967Z",
     "start_time": "2024-08-29T09:48:47.629578Z"
    }
   },
   "cell_type": "code",
   "source": "项目_文件表单",
   "id": "5a0739736bf5b46c",
   "outputs": [
    {
     "data": {
      "text/plain": [
       "  文件名称 中文变量 英文相对路径 中文相对路径 英文上层路径 中文上层路径  翻译英文变量 英中变量映射  修改标识  翻译文件\n",
       "1    1                  1             1  {a, b}     {}     0     0"
      ],
      "text/html": [
       "<div>\n",
       "<style scoped>\n",
       "    .dataframe tbody tr th:only-of-type {\n",
       "        vertical-align: middle;\n",
       "    }\n",
       "\n",
       "    .dataframe tbody tr th {\n",
       "        vertical-align: top;\n",
       "    }\n",
       "\n",
       "    .dataframe thead th {\n",
       "        text-align: right;\n",
       "    }\n",
       "</style>\n",
       "<table border=\"1\" class=\"dataframe\">\n",
       "  <thead>\n",
       "    <tr style=\"text-align: right;\">\n",
       "      <th></th>\n",
       "      <th>文件名称</th>\n",
       "      <th>中文变量</th>\n",
       "      <th>英文相对路径</th>\n",
       "      <th>中文相对路径</th>\n",
       "      <th>英文上层路径</th>\n",
       "      <th>中文上层路径</th>\n",
       "      <th>翻译英文变量</th>\n",
       "      <th>英中变量映射</th>\n",
       "      <th>修改标识</th>\n",
       "      <th>翻译文件</th>\n",
       "    </tr>\n",
       "  </thead>\n",
       "  <tbody>\n",
       "    <tr>\n",
       "      <th>1</th>\n",
       "      <td>1</td>\n",
       "      <td></td>\n",
       "      <td></td>\n",
       "      <td>1</td>\n",
       "      <td></td>\n",
       "      <td>1</td>\n",
       "      <td>{a, b}</td>\n",
       "      <td>{}</td>\n",
       "      <td>0</td>\n",
       "      <td>0</td>\n",
       "    </tr>\n",
       "  </tbody>\n",
       "</table>\n",
       "</div>"
      ]
     },
     "execution_count": 68,
     "metadata": {},
     "output_type": "execute_result"
    }
   ],
   "execution_count": 68
  },
  {
   "metadata": {
    "ExecuteTime": {
     "end_time": "2024-08-30T03:46:44.936077Z",
     "start_time": "2024-08-30T03:46:44.925398Z"
    }
   },
   "cell_type": "code",
   "source": "\"My_Class\".title() == \"My_Class\"",
   "id": "4d636522e51bd6f0",
   "outputs": [
    {
     "data": {
      "text/plain": [
       "True"
      ]
     },
     "execution_count": 70,
     "metadata": {},
     "output_type": "execute_result"
    }
   ],
   "execution_count": 70
  },
  {
   "metadata": {
    "ExecuteTime": {
     "end_time": "2024-08-29T09:29:09.660432Z",
     "start_time": "2024-08-29T09:29:09.622811Z"
    }
   },
   "cell_type": "code",
   "source": [
    "df1 = pd.DataFrame({\n",
    "    'key': ['A', 'B', 'c', 'd'],\n",
    "    'value1': [1, 2, 3, 4], \n",
    "    'test': {set(), set(), set(), set()}\n",
    "})"
   ],
   "id": "2988c7b69e9f973d",
   "outputs": [
    {
     "ename": "TypeError",
     "evalue": "unhashable type: 'set'",
     "output_type": "error",
     "traceback": [
      "\u001B[0;31m---------------------------------------------------------------------------\u001B[0m",
      "\u001B[0;31mTypeError\u001B[0m                                 Traceback (most recent call last)",
      "Cell \u001B[0;32mIn[46], line 4\u001B[0m\n\u001B[1;32m      1\u001B[0m df1 \u001B[38;5;241m=\u001B[39m pd\u001B[38;5;241m.\u001B[39mDataFrame({\n\u001B[1;32m      2\u001B[0m     \u001B[38;5;124m'\u001B[39m\u001B[38;5;124mkey\u001B[39m\u001B[38;5;124m'\u001B[39m: [\u001B[38;5;124m'\u001B[39m\u001B[38;5;124mA\u001B[39m\u001B[38;5;124m'\u001B[39m, \u001B[38;5;124m'\u001B[39m\u001B[38;5;124mB\u001B[39m\u001B[38;5;124m'\u001B[39m, \u001B[38;5;124m'\u001B[39m\u001B[38;5;124mc\u001B[39m\u001B[38;5;124m'\u001B[39m, \u001B[38;5;124m'\u001B[39m\u001B[38;5;124md\u001B[39m\u001B[38;5;124m'\u001B[39m],\n\u001B[1;32m      3\u001B[0m     \u001B[38;5;124m'\u001B[39m\u001B[38;5;124mvalue1\u001B[39m\u001B[38;5;124m'\u001B[39m: [\u001B[38;5;241m1\u001B[39m, \u001B[38;5;241m2\u001B[39m, \u001B[38;5;241m3\u001B[39m, \u001B[38;5;241m4\u001B[39m], \n\u001B[0;32m----> 4\u001B[0m     \u001B[38;5;124m'\u001B[39m\u001B[38;5;124mtest\u001B[39m\u001B[38;5;124m'\u001B[39m: {\u001B[38;5;28mset\u001B[39m(), \u001B[38;5;28mset\u001B[39m(), \u001B[38;5;28mset\u001B[39m(), \u001B[38;5;28mset\u001B[39m()}\n\u001B[1;32m      5\u001B[0m })\n",
      "\u001B[0;31mTypeError\u001B[0m: unhashable type: 'set'"
     ]
    }
   ],
   "execution_count": 46
  },
  {
   "metadata": {
    "ExecuteTime": {
     "end_time": "2024-08-29T09:27:59.848465Z",
     "start_time": "2024-08-29T09:27:59.831064Z"
    }
   },
   "cell_type": "code",
   "source": "df1",
   "id": "f8a5b7cb169477db",
   "outputs": [
    {
     "data": {
      "text/plain": [
       "  key  value1 test\n",
       "0   A       1     \n",
       "1   B       2     \n",
       "2   c       3     \n",
       "3   d       4     "
      ],
      "text/html": [
       "<div>\n",
       "<style scoped>\n",
       "    .dataframe tbody tr th:only-of-type {\n",
       "        vertical-align: middle;\n",
       "    }\n",
       "\n",
       "    .dataframe tbody tr th {\n",
       "        vertical-align: top;\n",
       "    }\n",
       "\n",
       "    .dataframe thead th {\n",
       "        text-align: right;\n",
       "    }\n",
       "</style>\n",
       "<table border=\"1\" class=\"dataframe\">\n",
       "  <thead>\n",
       "    <tr style=\"text-align: right;\">\n",
       "      <th></th>\n",
       "      <th>key</th>\n",
       "      <th>value1</th>\n",
       "      <th>test</th>\n",
       "    </tr>\n",
       "  </thead>\n",
       "  <tbody>\n",
       "    <tr>\n",
       "      <th>0</th>\n",
       "      <td>A</td>\n",
       "      <td>1</td>\n",
       "      <td></td>\n",
       "    </tr>\n",
       "    <tr>\n",
       "      <th>1</th>\n",
       "      <td>B</td>\n",
       "      <td>2</td>\n",
       "      <td></td>\n",
       "    </tr>\n",
       "    <tr>\n",
       "      <th>2</th>\n",
       "      <td>c</td>\n",
       "      <td>3</td>\n",
       "      <td></td>\n",
       "    </tr>\n",
       "    <tr>\n",
       "      <th>3</th>\n",
       "      <td>d</td>\n",
       "      <td>4</td>\n",
       "      <td></td>\n",
       "    </tr>\n",
       "  </tbody>\n",
       "</table>\n",
       "</div>"
      ]
     },
     "execution_count": 39,
     "metadata": {},
     "output_type": "execute_result"
    }
   ],
   "execution_count": 39
  },
  {
   "metadata": {
    "ExecuteTime": {
     "end_time": "2024-08-29T09:28:18.776730Z",
     "start_time": "2024-08-29T09:28:18.760232Z"
    }
   },
   "cell_type": "code",
   "source": "df1.loc[0, \"test\"] = {}",
   "id": "b26ea1c8ca6ccf85",
   "outputs": [],
   "execution_count": 42
  },
  {
   "metadata": {
    "ExecuteTime": {
     "end_time": "2024-08-29T09:28:19.941793Z",
     "start_time": "2024-08-29T09:28:19.937174Z"
    }
   },
   "cell_type": "code",
   "source": "df1",
   "id": "d30ecc2bcae4296e",
   "outputs": [
    {
     "data": {
      "text/plain": [
       "  key  value1 test\n",
       "0   A       1   aa\n",
       "1   B       2     \n",
       "2   c       3     \n",
       "3   d       4     "
      ],
      "text/html": [
       "<div>\n",
       "<style scoped>\n",
       "    .dataframe tbody tr th:only-of-type {\n",
       "        vertical-align: middle;\n",
       "    }\n",
       "\n",
       "    .dataframe tbody tr th {\n",
       "        vertical-align: top;\n",
       "    }\n",
       "\n",
       "    .dataframe thead th {\n",
       "        text-align: right;\n",
       "    }\n",
       "</style>\n",
       "<table border=\"1\" class=\"dataframe\">\n",
       "  <thead>\n",
       "    <tr style=\"text-align: right;\">\n",
       "      <th></th>\n",
       "      <th>key</th>\n",
       "      <th>value1</th>\n",
       "      <th>test</th>\n",
       "    </tr>\n",
       "  </thead>\n",
       "  <tbody>\n",
       "    <tr>\n",
       "      <th>0</th>\n",
       "      <td>A</td>\n",
       "      <td>1</td>\n",
       "      <td>aa</td>\n",
       "    </tr>\n",
       "    <tr>\n",
       "      <th>1</th>\n",
       "      <td>B</td>\n",
       "      <td>2</td>\n",
       "      <td></td>\n",
       "    </tr>\n",
       "    <tr>\n",
       "      <th>2</th>\n",
       "      <td>c</td>\n",
       "      <td>3</td>\n",
       "      <td></td>\n",
       "    </tr>\n",
       "    <tr>\n",
       "      <th>3</th>\n",
       "      <td>d</td>\n",
       "      <td>4</td>\n",
       "      <td></td>\n",
       "    </tr>\n",
       "  </tbody>\n",
       "</table>\n",
       "</div>"
      ]
     },
     "execution_count": 43,
     "metadata": {},
     "output_type": "execute_result"
    }
   ],
   "execution_count": 43
  },
  {
   "metadata": {
    "ExecuteTime": {
     "end_time": "2024-08-29T09:32:30.594500Z",
     "start_time": "2024-08-29T09:32:30.586694Z"
    }
   },
   "cell_type": "code",
   "source": [
    "# 直接初始化 DataFrame\n",
    "data = {'A': [{'key1': 'value1', 'key2': 'value2'}, {'keyA': 'valueA', 'keyB': 'valueB'}]}\n",
    "df = pd.DataFrame(data)"
   ],
   "id": "e509bf90ae907cbe",
   "outputs": [],
   "execution_count": 49
  },
  {
   "metadata": {
    "ExecuteTime": {
     "end_time": "2024-08-29T09:33:30.147090Z",
     "start_time": "2024-08-29T09:33:30.112929Z"
    }
   },
   "cell_type": "code",
   "source": "df.info()",
   "id": "f5e40240b2b97c86",
   "outputs": [
    {
     "name": "stdout",
     "output_type": "stream",
     "text": [
      "<class 'pandas.core.frame.DataFrame'>\n",
      "RangeIndex: 2 entries, 0 to 1\n",
      "Data columns (total 1 columns):\n",
      " #   Column  Non-Null Count  Dtype \n",
      "---  ------  --------------  ----- \n",
      " 0   A       2 non-null      object\n",
      "dtypes: object(1)\n",
      "memory usage: 148.0+ bytes\n"
     ]
    }
   ],
   "execution_count": 51
  },
  {
   "metadata": {
    "ExecuteTime": {
     "end_time": "2024-08-29T09:32:36.594823Z",
     "start_time": "2024-08-29T09:32:36.583809Z"
    }
   },
   "cell_type": "code",
   "source": "df",
   "id": "9dafaf796189c431",
   "outputs": [
    {
     "data": {
      "text/plain": [
       "                                      A\n",
       "0  {'key1': 'value1', 'key2': 'value2'}\n",
       "1  {'keyA': 'valueA', 'keyB': 'valueB'}"
      ],
      "text/html": [
       "<div>\n",
       "<style scoped>\n",
       "    .dataframe tbody tr th:only-of-type {\n",
       "        vertical-align: middle;\n",
       "    }\n",
       "\n",
       "    .dataframe tbody tr th {\n",
       "        vertical-align: top;\n",
       "    }\n",
       "\n",
       "    .dataframe thead th {\n",
       "        text-align: right;\n",
       "    }\n",
       "</style>\n",
       "<table border=\"1\" class=\"dataframe\">\n",
       "  <thead>\n",
       "    <tr style=\"text-align: right;\">\n",
       "      <th></th>\n",
       "      <th>A</th>\n",
       "    </tr>\n",
       "  </thead>\n",
       "  <tbody>\n",
       "    <tr>\n",
       "      <th>0</th>\n",
       "      <td>{'key1': 'value1', 'key2': 'value2'}</td>\n",
       "    </tr>\n",
       "    <tr>\n",
       "      <th>1</th>\n",
       "      <td>{'keyA': 'valueA', 'keyB': 'valueB'}</td>\n",
       "    </tr>\n",
       "  </tbody>\n",
       "</table>\n",
       "</div>"
      ]
     },
     "execution_count": 50,
     "metadata": {},
     "output_type": "execute_result"
    }
   ],
   "execution_count": 50
  },
  {
   "metadata": {
    "ExecuteTime": {
     "end_time": "2024-08-17T08:16:09.223064Z",
     "start_time": "2024-08-17T08:16:09.218316Z"
    }
   },
   "cell_type": "code",
   "source": [
    "def 读取_ipynb(路径):\n",
    "    with open(路径, 'r', encoding='utf-8') as file:\n",
    "        notebook = json.load(file)\n",
    "    return notebook"
   ],
   "id": "577a619911781c69",
   "outputs": [],
   "execution_count": 43
  },
  {
   "metadata": {
    "ExecuteTime": {
     "end_time": "2024-08-29T04:02:07.811540Z",
     "start_time": "2024-08-29T04:02:07.807391Z"
    }
   },
   "cell_type": "code",
   "source": "路径 = \"测试代码2.json\"",
   "id": "bb9deb6f1e8912f5",
   "outputs": [],
   "execution_count": 2
  },
  {
   "metadata": {
    "ExecuteTime": {
     "end_time": "2024-08-29T04:02:15.628022Z",
     "start_time": "2024-08-29T04:02:15.454362Z"
    }
   },
   "cell_type": "code",
   "source": "notebook = 读取_ipynb(路径)",
   "id": "45a4763a1c93047b",
   "outputs": [
    {
     "ename": "NameError",
     "evalue": "name '读取_ipynb' is not defined",
     "output_type": "error",
     "traceback": [
      "\u001B[0;31m---------------------------------------------------------------------------\u001B[0m",
      "\u001B[0;31mNameError\u001B[0m                                 Traceback (most recent call last)",
      "Cell \u001B[0;32mIn[3], line 1\u001B[0m\n\u001B[0;32m----> 1\u001B[0m notebook \u001B[38;5;241m=\u001B[39m \u001B[43m读取_ipynb\u001B[49m(路径)\n",
      "\u001B[0;31mNameError\u001B[0m: name '读取_ipynb' is not defined"
     ]
    }
   ],
   "execution_count": 3
  },
  {
   "metadata": {
    "ExecuteTime": {
     "end_time": "2024-08-17T08:08:58.261306Z",
     "start_time": "2024-08-17T08:08:58.258054Z"
    }
   },
   "cell_type": "code",
   "source": "notebook.keys()",
   "id": "edb32e92f696c812",
   "outputs": [
    {
     "data": {
      "text/plain": [
       "dict_keys(['cells', 'metadata', 'nbformat', 'nbformat_minor'])"
      ]
     },
     "execution_count": 35,
     "metadata": {},
     "output_type": "execute_result"
    }
   ],
   "execution_count": 35
  },
  {
   "metadata": {
    "ExecuteTime": {
     "end_time": "2024-08-17T08:08:58.766087Z",
     "start_time": "2024-08-17T08:08:58.762912Z"
    }
   },
   "cell_type": "code",
   "source": "cells = notebook.get('cells', [])",
   "id": "708024bee31d1e93",
   "outputs": [],
   "execution_count": 36
  },
  {
   "metadata": {
    "ExecuteTime": {
     "end_time": "2024-08-17T08:09:03.164110Z",
     "start_time": "2024-08-17T08:09:03.146990Z"
    }
   },
   "cell_type": "code",
   "source": [
    "def ipynb转换成py(notebook):\n",
    "    py_代码 = \"\"\n",
    "    md_文本 = \"\"\n",
    "    for cell in notebook['cells']:\n",
    "        if cell['cell_type'] == 'code':\n",
    "            code = ''.join(cell['source'])\n",
    "            py_代码 += code + '\\n'\n",
    "        \n",
    "        elif cell['cell_type'] == 'markdown':\n",
    "            # 将 Markdown 内容转换为注释\n",
    "            comments = ''.join(cell['source'])\n",
    "            # 转换每一行为注释形式\n",
    "            comment_lines = comments.splitlines()\n",
    "            for line in comment_lines:\n",
    "                py_代码 += '# ' + line + '\\n'\n",
    "    return py_代码"
   ],
   "id": "26ee7b7c4564204",
   "outputs": [],
   "execution_count": 38
  },
  {
   "metadata": {
    "ExecuteTime": {
     "end_time": "2024-08-17T08:09:03.346923Z",
     "start_time": "2024-08-17T08:09:03.344752Z"
    }
   },
   "cell_type": "code",
   "source": "py_代码 = ipynb转换成py(notebook)",
   "id": "8ed167a41fa9839c",
   "outputs": [],
   "execution_count": 39
  },
  {
   "metadata": {
    "ExecuteTime": {
     "end_time": "2024-08-17T08:09:03.693027Z",
     "start_time": "2024-08-17T08:09:03.689707Z"
    }
   },
   "cell_type": "code",
   "source": "print(py_代码)",
   "id": "ab76e5b2c8d5333a",
   "outputs": [
    {
     "name": "stdout",
     "output_type": "stream",
     "text": [
      "import re\n",
      "import os\n",
      "import json\n",
      "import datetime\n",
      "import time\n",
      "import random\n",
      "from loguru import logger as 日志\n",
      "import shutil\n",
      "import pandas as pd\n",
      "# 写一些文本内容进行测试, \n",
      "# 如果是连在一起的内容会怎么样呢? \n",
      "# \n",
      "# 如果是各行的呢?\n",
      "# \n",
      "# ### 如果是添加了标题的呢? \n",
      "\n",
      "import pandas as pd\n",
      "\n",
      "# 创建示例 DataFrame\n",
      "data = {\n",
      "    '项目': ['项目1', '项目2', '项目3'],\n",
      "    '目录': ['目录1', '目录2', '目录3'],\n",
      "    '包含中文': [1, 0, 1]\n",
      "}\n",
      "项目_目录表单 = pd.DataFrame(data)\n",
      "\n",
      "# 筛选出包含中文的行，并对其进行操作\n",
      "项目_中文目录表单 = 项目_目录表单.loc[项目_目录表单[\"包含中文\"] == 1]\n",
      "\n",
      "# 修改视图中的值\n",
      "项目_中文目录表单.loc[项目_中文目录表单[\"项目\"] == \"项目1\", \"目录\"] = \"新目录1\"\n",
      "\n",
      "项目_目录表单.update(项目_中文目录表单)\n",
      "\n",
      "# 查看原 DataFrame 的变化\n",
      "print(项目_目录表单)\n",
      "创建目录 = \"/Users/yangxinyi/Downloads/200_临时文件夹/Test_Project_V1/translation_tool\"\n",
      "原目录 = \"/Users/yangxinyi/Downloads/200_临时文件夹/Test_Project_V1/翻译工具\"\n",
      "# 删除非空文件夹\n",
      "shutil.rmtree(创建目录)\n",
      "shutil.copytree(原目录, 创建目录)\n",
      "df = pd.DataFrame(columns=[\"列\", \"列2\"])\n",
      "df.loc[0] = {\"列\": 1, \"列2\": 2}\n",
      "\n",
      "df.loc[1] = {\"列\": 2, \"列2\": 33}\n",
      "df[0] = {\"列\": 1, \"列2\": 2}\n",
      "df\n",
      "df[\"列2\"].to_list()\n",
      "项目_根路径 = '/Users/yangxinyi/Library/CloudStorage/OneDrive-个人/100_code/Test_Translate_Project'\n",
      "    \n",
      "项目_中文目录映射= {'示例代码': ['/Users/yangxinyi/Library/CloudStorage/OneDrive-个人/100_code/Test_Translate_Project/示例代码', '/Users/yangxinyi/Library/CloudStorage/OneDrive-个人/100_code/Test_Translate_Project', '', ''], '处理后': ['/Users/yangxinyi/Library/CloudStorage/OneDrive-个人/100_code/Test_Translate_Project/示例代码/novel_send/处理后', '/Users/yangxinyi/Library/CloudStorage/OneDrive-个人/100_code/Test_Translate_Project/示例代码/novel_send', '', ''], '原文件': ['/Users/yangxinyi/Library/CloudStorage/OneDrive-个人/100_code/Test_Translate_Project/示例代码/novel_send/原文件', '/Users/yangxinyi/Library/CloudStorage/OneDrive-个人/100_code/Test_Translate_Project/示例代码/novel_send', '', ''], '6章合并': ['/Users/yangxinyi/Library/CloudStorage/OneDrive-个人/100_code/Test_Translate_Project/示例代码/novel_send/6章合并', '/Users/yangxinyi/Library/CloudStorage/OneDrive-个人/100_code/Test_Translate_Project/示例代码/novel_send', '', ''], '翻译工具': ['/Users/yangxinyi/Library/CloudStorage/OneDrive-个人/100_code/Test_Translate_Project/翻译工具', '/Users/yangxinyi/Library/CloudStorage/OneDrive-个人/100_code/Test_Translate_Project', '', '']}\n",
      "\n",
      "\n",
      "import os\n",
      "\n",
      "# 示例的中文-英文目录映射\n",
      "chinese_to_english = {\n",
      "    '示例代码': 'Example_Code',\n",
      "    '处理后': 'Processed',\n",
      "    '原文件': 'Original_Files',\n",
      "    '6章合并': 'Chapter_6_Merged',\n",
      "    '翻译工具': 'Translation_Tools'\n",
      "}\n",
      "\n",
      "# 项目中的中文目录映射\n",
      "project_chinese_dirs = {\n",
      "    '示例代码': ['/Users/yangxinyi/Library/CloudStorage/OneDrive-个人/100_code/Test_Translate_Project/示例代码', '/Users/yangxinyi/Library/CloudStorage/OneDrive-个人/100_code/Test_Translate_Project'],\n",
      "    '处理后': ['/Users/yangxinyi/Library/CloudStorage/OneDrive-个人/100_code/Test_Translate_Project/示例代码/novel_send/处理后', '/Users/yangxinyi/Library/CloudStorage/OneDrive-个人/100_code/Test_Translate_Project/示例代码/novel_send'],\n",
      "    '原文件': ['/Users/yangxinyi/Library/CloudStorage/OneDrive-个人/100_code/Test_Translate_Project/示例代码/novel_send/原文件', '/Users/yangxinyi/Library/CloudStorage/OneDrive-个人/100_code/Test_Translate_Project/示例代码/novel_send'],\n",
      "    '6章合并': ['/Users/yangxinyi/Library/CloudStorage/OneDrive-个人/100_code/Test_Translate_Project/示例代码/novel_send/6章合并', '/Users/yangxinyi/Library/CloudStorage/OneDrive-个人/100_code/Test_Translate_Project/示例代码/novel_send'],\n",
      "    '翻译工具': ['/Users/yangxinyi/Library/CloudStorage/OneDrive-个人/100_code/Test_Translate_Project/翻译工具', '/Users/yangxinyi/Library/CloudStorage/OneDrive-个人/100_code/Test_Translate_Project']\n",
      "}\n",
      "for chinese_dir, paths in project_chinese_dirs.items():\n",
      "    original_path = paths[0]\n",
      "    parent_path = paths[1]\n",
      "    \n",
      "    # 获取对应的英文目录名\n",
      "    english_dir_name = chinese_to_english[chinese_dir]\n",
      "    # print(original_path)\n",
      "    # print(parent_path)\n",
      "    # print(english_dir_name)\n",
      "    # print(\"_________\")\n",
      "    # \n",
      "    # 检查父目录是否包含中文，并确定英文父目录的路径\n",
      "    parent_dirs = parent_path.split(os.sep)\n",
      "    print(parent_path)\n",
      "    print(parent_dirs)\n",
      "    print(\"_________\")\n",
      "    \n",
      "    new_parent_path = \"\"\n",
      "    for part in parent_dirs:\n",
      "        if part in chinese_to_english:\n",
      "            new_parent_path = os.path.join(new_parent_path, chinese_to_english[part])\n",
      "        else:\n",
      "            new_parent_path = os.path.join(new_parent_path, part)\n",
      "            \n",
      "    # 构造新的英文目录路径\n",
      "    english_dir_path = os.path.join(new_parent_path, english_dir_name)\n",
      "    \n",
      "    print(english_dir_path)\n",
      "    \n",
      "    print(\"_________\")\n",
      "t = \"/Users/yangxinyi/Library/CloudStorage/OneDrive-个人/100_code/Test_Translate_Project\"\n",
      "t.split(os.sep)\n",
      "new_parent_path = \"\"\n",
      "os.path.join(new_parent_path, \"Example_Code\")\n",
      "import os\n",
      "\n",
      "# 示例的中文-英文目录映射\n",
      "chinese_to_english = {\n",
      "    '示例代码': 'Example_Code',\n",
      "    '处理后': 'Processed',\n",
      "    '原文件': 'Original_Files',\n",
      "    '6章合并': 'Chapter_6_Merged',\n",
      "    '翻译工具': 'Translation_Tools'\n",
      "}\n",
      "\n",
      "# 项目中的中文目录映射\n",
      "project_chinese_dirs = {\n",
      "    '示例代码': ['/Users/yangxinyi/Library/CloudStorage/OneDrive-个人/100_code/Test_Translate_Project/示例代码', '/Users/yangxinyi/Library/CloudStorage/OneDrive-个人/100_code/Test_Translate_Project'],\n",
      "    '处理后': ['/Users/yangxinyi/Library/CloudStorage/OneDrive-个人/100_code/Test_Translate_Project/示例代码/novel_send/处理后', '/Users/yangxinyi/Library/CloudStorage/OneDrive-个人/100_code/Test_Translate_Project/示例代码/novel_send'],\n",
      "    '原文件': ['/Users/yangxinyi/Library/CloudStorage/OneDrive-个人/100_code/Test_Translate_Project/示例代码/novel_send/原文件', '/Users/yangxinyi/Library/CloudStorage/OneDrive-个人/100_code/Test_Translate_Project/示例代码/novel_send'],\n",
      "    '6章合并': ['/Users/yangxinyi/Library/CloudStorage/OneDrive-个人/100_code/Test_Translate_Project/示例代码/novel_send/6章合并', '/Users/yangxinyi/Library/CloudStorage/OneDrive-个人/100_code/Test_Translate_Project/示例代码/novel_send'],\n",
      "    '翻译工具': ['/Users/yangxinyi/Library/CloudStorage/OneDrive-个人/100_code/Test_Translate_Project/翻译工具', '/Users/yangxinyi/Library/CloudStorage/OneDrive-个人/100_code/Test_Translate_Project']\n",
      "}\n",
      "\n",
      "# 项目的根目录\n",
      "root_directory = \"/Users/yangxinyi/Library/CloudStorage/OneDrive-个人/100_code/Test_Translate_Project\"\n",
      "\n",
      "def create_english_directories(chinese_to_english, project_chinese_dirs, root_directory):\n",
      "    for chinese_dir, paths in project_chinese_dirs.items():\n",
      "        original_path = paths[0]\n",
      "        parent_path = paths[1]\n",
      "\n",
      "        # 如果是根目录中的中文目录，跳过翻译\n",
      "        if parent_path == root_directory:\n",
      "            continue\n",
      "        \n",
      "        # 获取对应的英文目录名\n",
      "        english_dir_name = chinese_to_english[chinese_dir]\n",
      "        \n",
      "        # 检查父目录是否包含中文，并确定英文父目录的路径\n",
      "        parent_dirs = parent_path.split(os.sep)\n",
      "        new_parent_path = root_directory  # 从根目录开始构建路径\n",
      "        \n",
      "        for part in parent_dirs[len(root_directory.split(os.sep)):]:\n",
      "            if part in chinese_to_english:\n",
      "                new_parent_path = os.path.join(new_parent_path, chinese_to_english[part])\n",
      "            else:\n",
      "                new_parent_path = os.path.join(new_parent_path, part)\n",
      "        \n",
      "        # 构造新的英文目录路径\n",
      "        english_dir_path = os.path.join(new_parent_path, english_dir_name)\n",
      "        \n",
      "        # 创建对应的英文目录\n",
      "        if not os.path.exists():\n",
      "            os.makedirs(english_dir_path)\n",
      "            print(f\"Created directory: {english_dir_path}\")\n",
      "        else:\n",
      "            print(f\"Directory already exists: {english_dir_path}\")\n",
      "\n",
      "# 执行目录创建\n",
      "create_english_directories(chinese_to_english, project_chinese_dirs, root_directory)\n",
      "# 获取当前文件的绝对路径\n",
      "current_file_path = os.path.abspath(\"/Users/yangxinyi/Library/CloudStorage/OneDrive-个人/100_code/Code_Chinese_to_Enghlish/中文变量翻译.py\")\n",
      "# 获取当前文件所在的目录\n",
      "current_directory = os.path.dirname(current_file_path)\n",
      "# 改变工作目录到当前文件所在的目录\n",
      "os.chdir(current_directory)\n",
      "日志.info(\"工作目录已改变为: {}\", os.getcwd())\n",
      "from 项目翻译 import *\n",
      "项目_根路径 = '/Users/yangxinyi/Downloads/Test_Translate_Project'\n",
      "收集_目录列表, 收集_文件列表 = 遍历目录和文件列表(项目_根路径)\n",
      "收集_目录列表\n",
      "收集_相对目录列表 = [元素.replace(项目_根路径, \"\") for 元素 in 收集_目录列表]\n",
      "收集_相对目录列表\n",
      "项目_目录映射 = {}\n",
      "项目_中文目录映射 = {}\n",
      "for 完整路径 in 收集_相对目录列表:\n",
      "    if 完整路径:\n",
      "        上层目录名称, 文件夹名称 = 完整路径.rsplit(\"/\", maxsplit=1)\n",
      "        项目_目录映射[文件夹名称] = [\"\", 完整路径, \"\", 上层目录名称, \"\", 0]\n",
      "        if 判断中文变量(文件夹名称):  # 过滤带有中文的目录\n",
      "            项目_中文目录映射[文件夹名称] = [\"\", 完整路径, \"\", 上层目录名称, \"\", 0]\n",
      "            \n",
      "\n",
      "合并后变量 = 查询并合并变量(项目_中文目录映射.keys())\n",
      "项目_中文目录映射\n",
      "项目_中文目录映射\n",
      "# 0 对应 英文变量\n",
      "# 1 对应 完整路径\n",
      "# 2 对应 完整路径 翻译成英文\n",
      "# 3 对应上层路径\n",
      "# 4 对应上层路径翻译成英文\n",
      "# 5 0, 1, 对应上级是否进行过修改, 如果修改则不用保留中文对应文件夹, 如果没有修改过, 则应该保留\n",
      "for 文件夹名称 in 项目_中文目录映射:\n",
      "    项目_中文目录映射[文件夹名称][0] = 合并后变量[文件夹名称]\n",
      "    if not 项目_中文目录映射[文件夹名称][5]:  # 这个文件夹还没有被替换过路径, 就是原生路径\n",
      "        # 直接创建该文件夹, \n",
      "        上级英文目录 = 项目_中文目录映射[文件夹名称][3]\n",
      "        创建目录 = 项目_根路径 + \"/\" + 上级英文目录 + \"/\" + 项目_中文目录映射[文件夹名称][0]\n",
      "        原目录 =  项目_根路径 + \"/\" + 上级英文目录 + \"/\" + 文件夹名称\n",
      "        项目_中文目录映射[文件夹名称][2] = 项目_中文目录映射[文件夹名称][1].replace(文件夹名称, 合并后变量[文件夹名称])\n",
      "        if not os.path.exists(创建目录):\n",
      "            shutil.copytree(原目录, 创建目录)\n",
      "        for 目录 in 项目_中文目录映射:  # \n",
      "            if 项目_中文目录映射[目录][1] != 项目_中文目录映射[文件夹名称][1]:\n",
      "                if 项目_中文目录映射[目录][3].find(项目_中文目录映射[文件夹名称][1]) > -1:\n",
      "                    # 上层目录修改过, 标记一下\n",
      "                    项目_中文目录映射[目录][5] = 1\n",
      "                    项目_中文目录映射[目录][4] = 项目_中文目录映射[目录][3].replace(项目_中文目录映射[文件夹名称][1], 项目_中文目录映射[文件夹名称][2])\n",
      "        # 将原文件夹中的所有内容复制过来\n",
      "    else:  # 说明不是第一层文件夹\n",
      "        # 走到这里说明父路径已经被替换过了, 这不是原生文件夹, 可以直接改名\n",
      "        上级英文目录 = 项目_中文目录映射[文件夹名称][4]\n",
      "        创建目录 = 项目_根路径 + 上级英文目录 + \"/\" + 项目_中文目录映射[文件夹名称][0]\n",
      "        原目录 =  项目_根路径 + 上级英文目录 + \"/\" + 文件夹名称\n",
      "        if not os.path.exists(创建目录):\n",
      "            os.rename(原目录, 创建目录)\n",
      "        # else:  # 如果第一层级文件夹本来就是英文, 则到这里它的父文件夹还没变过, 那么需要保留\n",
      "    \n",
      "        \n",
      "        \n",
      "项目_中文目录映射\n",
      "# 首先从父层级一层一个往下面改, 这样可以保证, 每一层级, 当前层级处理完成之后, 当前层级就全是英文了, \n",
      "# 然后所有文件已经复制了一份到英文文件夹当中.\n",
      "# 后面就处理这个子文件夹就可以了, \n",
      "# \n",
      "# 子文件夹再判断其中的目录名是否存在中文, 如果存在中文的, 则在同一层级, 创建一个英文目录, 然后将中文目录中的所有内容复制过去.\n",
      "# \n",
      "# 然后如果这个上一层级已经有过复制了, 那么就将中文目录直接删除掉.\n",
      "# 如果这个上层目录没有过复制记录, 那么就保留中文的目录.\n",
      "哈哈 = \"没错 \\\n",
      "这是可以换行的\"\n",
      "# 示例代码\n",
      "code_text = '''\n",
      "kkk = \"++++\"\n",
      "测试 = \"666\"\n",
      "哈哈 = \"没错 \\\n",
      "这是可以换行的\"\n",
      "print(测试)\n",
      "a = '测试 = \"666\"'\n",
      "b = \"测试 = '666'\"\n",
      "c = \"\"\"这是一个多行字符串，\n",
      "里面包含 哈哈 = 777 变量\"\"\"\n",
      "'''\n",
      "# 替换映射\n",
      "variable_map = {\n",
      "    'kkk': 'fff', \n",
      "    '测试': 'test', \n",
      "    '哈哈': \"haha\"\n",
      "}\n",
      "# 识别所有的字符串部分 (包括单引号和双引号, 以及单行和多行字符串)\n",
      "string_pattern = r'(\\\"\\\"\\\".*?\\\"\\\"\\\"|\\'\\'\\'.*?\\'\\'\\'|\\\".*?\\\"|\\'.*?\\')'\n",
      "\n",
      "# 修改为跨行匹配模式\n",
      "multi_line_string_pattern = r'(\\\"\\\"\\\".*?\\\"\\\"\\\"|\\'\\'\\'.*?\\'\\'\\')'\n",
      "re.findall(string_pattern, code_text, flags=re.DOTALL)\n",
      "# 用于替换的回调函数\n",
      "def replacer(match):\n",
      "    matched_text = match.group(0)\n",
      "    print(matched_text)\n",
      "    print(\"------\")\n",
      "    if matched_text.startswith(('\"', \"'\")):\n",
      "        # 如果是字符串（包括多行字符串），直接返回不做替换\n",
      "        return matched_text\n",
      "    else:\n",
      "        # 如果是变量名，根据映射进行替换\n",
      "        return variable_map.get(matched_text, matched_text)\n",
      "# 构造变量名的正则表达式 (注意这里使用了 \\b 进行词边界匹配)\n",
      "variable_pattern = r'\\b(' + '|'.join(re.escape(var) for var in variable_map.keys()) + r')\\b'\n",
      "variable_pattern\n",
      "# 合并字符串匹配模式和变量匹配模式\n",
      "combined_pattern = multi_line_string_pattern + r'|' + string_pattern + r'|' + variable_pattern\n",
      "combined_pattern\n",
      "# 使用 sub 函数进行替换，结合字符串的保护\n",
      "code_text = re.sub(combined_pattern, replacer, code_text, flags=re.DOTALL)\n",
      "print(code_text)\n",
      "\n",
      "\n",
      "def replace_variables(code_text, variable_map):\n",
      "    # 识别所有的字符串部分 (包括单引号和双引号, 以及单行和多行字符串)\n",
      "    string_pattern = r'(\\\"\\\"\\\".*?\\\"\\\"\\\"|\\'\\'\\'.*?\\'\\'\\'|\\\".*?\\\"|\\'.*?\\')'\n",
      "    \n",
      "    # 修改为跨行匹配模式\n",
      "    multi_line_string_pattern = r'(\\\"\\\"\\\".*?\\\"\\\"\\\"|\\'\\'\\'.*?\\'\\'\\')'\n",
      "    \n",
      "    # 用于替换的回调函数\n",
      "    def replacer(match):\n",
      "        matched_text = match.group(0)\n",
      "        if matched_text.startswith(('\"', \"'\")):\n",
      "            # 如果是字符串（包括多行字符串），直接返回不做替换\n",
      "            return matched_text\n",
      "        else:\n",
      "            # 如果是变量名，根据映射进行替换\n",
      "            return variable_map.get(matched_text, matched_text)\n",
      "    \n",
      "    # 构造变量名的正则表达式 (注意这里使用了 \\b 进行词边界匹配)\n",
      "    variable_pattern = r'\\b(' + '|'.join(re.escape(var) for var in variable_map.keys()) + r')\\b'\n",
      "    \n",
      "    # 合并字符串匹配模式和变量匹配模式\n",
      "    combined_pattern = multi_line_string_pattern + r'|' + string_pattern + r'|' + variable_pattern\n",
      "    \n",
      "    # 使用 sub 函数进行替换，结合字符串的保护\n",
      "    code_text = re.sub(combined_pattern, replacer, code_text, flags=re.DOTALL)\n",
      "    \n",
      "    return code_text\n",
      "\n",
      "# 示例代码\n",
      "code_text = '''\n",
      "测试 = \"666\"\n",
      "print(测试)\n",
      "a = '测试 = \"666\"'\n",
      "b = \"测试 = '666'\"\n",
      "c = \"\"\"这是一个多行字符串，里面包含 测试 变量\"\"\"\n",
      "'''\n",
      "\n",
      "# 替换映射\n",
      "variable_map = {\n",
      "    '测试': 'test'\n",
      "}\n",
      "\n",
      "# 进行替换\n",
      "new_code_text = replace_variables(code_text, variable_map)\n",
      "\n",
      "# 输出结果\n",
      "print(new_code_text)\n",
      "import re\n",
      "\n",
      "# 测试字符串包含中文字符\n",
      "test_string = '你好世界'\n",
      "\n",
      "# 使用 \\w 进行匹配\n",
      "matches = re.findall(r'\\w', test_string)\n",
      "\n",
      "# 输出匹配结果\n",
      "print(matches)  # 输出 ['你', '好', '世', '界']\n",
      "with open(\"项目翻译.py\", \"r\") as 文件:\n",
      "    代码文本 = 文件.read()\n",
      "代码文本 = \"\"\"from .数据类型 import *\n",
      "from .内置函数 import *\"\"\"\n",
      "# 匹配注释部分\n",
      "注释匹配模式 = r'(#.*?)\\n'\n",
      "字符串匹配模式 = r'(\\\"\\\"\\\".*?\\\"\\\"\\\"|\\'\\'\\'.*?\\'\\'\\'|\\\".*?\\\"|\\'.*?\\')'\n",
      "# 修改为跨行匹配模式\n",
      "多行字符串匹配模式 = r'(\\\"\\\"\\\".*?\\\"\\\"\\\"|\\'\\'\\'.*?\\'\\'\\')'\n",
      "变量匹配模式 = r'\\b(\\w*[\\u4e00-\\u9fff]+\\w*)\\b'\n",
      "# 合并所有模式\n",
      "综合匹配模式 = 注释匹配模式 + r'|' + 多行字符串匹配模式 + r'|' + 字符串匹配模式 + r'|' + 变量匹配模式\n",
      "re.findall(综合匹配模式, 代码文本, flags=re.DOTALL)\n",
      "def 函数_替换代码变量(代码文本, 变量映射):\n",
      "    # 识别所有的字符串部分 (包括单引号和双引号, 以及单行和多行字符串)\n",
      "    字符串匹配模式 = r'(\\\"\\\"\\\".*?\\\"\\\"\\\"|\\'\\'\\'.*?\\'\\'\\'|\\\".*?\\\"|\\'.*?\\')'\n",
      "\n",
      "    # 修改为跨行匹配模式\n",
      "    多行字符串匹配模式 = r'(\\\"\\\"\\\".*?\\\"\\\"\\\"|\\'\\'\\'.*?\\'\\'\\')'\n",
      "\n",
      "    # 用于替换的回调函数\n",
      "    def 替换函数(匹配结果):\n",
      "        匹配文本 = 匹配结果.group(0)\n",
      "        if 匹配文本.startswith(('\"', \"'\")):\n",
      "            # 如果是字符串（包括多行字符串），直接返回不做替换\n",
      "            return 匹配文本\n",
      "        else:\n",
      "            # 如果是变量名，根据映射进行替换\n",
      "            return 变量映射.get(匹配文本, 匹配文本)\n",
      "\n",
      "    # 构造变量名的正则表达式 (注意这里使用了 \\b 进行词边界匹配)\n",
      "    变量匹配模式 = r'\\b(' + '|'.join(re.escape(中文变量) for 中文变量 in 变量映射.keys()) + r')\\b'\n",
      "\n",
      "    # 合并字符串匹配模式和变量匹配模式\n",
      "    综合匹配模式 = 多行字符串匹配模式 + r'|' + 字符串匹配模式 + r'|' + 变量匹配模式\n",
      "\n",
      "    # 使用 sub 函数进行替换，结合字符串的保护\n",
      "    代码文本 = re.sub(综合匹配模式, 替换函数, 代码文本, flags=re.DOTALL)\n",
      "\n",
      "    return 代码文本\n",
      "import re\n",
      "\n",
      "def find_chinese_variables(code_text):\n",
      "    # 正则表达式：匹配包含中文字符的变量名\n",
      "    pattern = r'\\b\\w*[\\u4e00-\\u9fff]+\\w*\\b'\n",
      "    \n",
      "    # 使用 findall 来获取所有匹配的变量名\n",
      "    chinese_variables = re.findall(pattern, code_text)\n",
      "    \n",
      "    return chinese_variables\n",
      "\n",
      "# 示例代码\n",
      "code_text = '''\n",
      "directory_mapping_dict = tongyi_qianwen_model.翻译文件名(chinese_variable)\n",
      "directory_mapping_dict = tongyi_qianwen_model.翻译文件名Test(chinese_variable)\n",
      "directory_mapping_dict = tongyi_qianwen_model.翻译文件名_Test_OK(chinese_variable)\n",
      "directory_mapping_dict = tongyi_qianwen_model.have_a_fun(chinese_variable)\n",
      "\n",
      "'''\n",
      "\n",
      "\n",
      "\n",
      "# 查找包含中文的变量名\n",
      "chinese_variables = find_chinese_variables(内容)\n",
      "\n",
      "# 输出结果\n",
      "print(chinese_variables)\n",
      "\n",
      "\n"
     ]
    }
   ],
   "execution_count": 40
  },
  {
   "metadata": {
    "ExecuteTime": {
     "end_time": "2024-08-29T04:02:31.872539Z",
     "start_time": "2024-08-29T04:02:31.867560Z"
    }
   },
   "cell_type": "code",
   "source": "a = \"bbb\"",
   "id": "9d477d1219d7a268",
   "outputs": [],
   "execution_count": 4
  },
  {
   "metadata": {
    "ExecuteTime": {
     "end_time": "2024-08-29T09:16:23.522421Z",
     "start_time": "2024-08-29T09:16:23.490110Z"
    }
   },
   "cell_type": "code",
   "source": "a = {\"aa\":\"ggg\", \"bb\":\"6666\"}",
   "id": "f259f635f29f42d7",
   "outputs": [],
   "execution_count": 5
  },
  {
   "metadata": {
    "ExecuteTime": {
     "end_time": "2024-08-29T09:16:38.448520Z",
     "start_time": "2024-08-29T09:16:38.440259Z"
    }
   },
   "cell_type": "code",
   "source": "a.update({\"aa\":999})",
   "id": "ab5a423ef0dfe959",
   "outputs": [],
   "execution_count": 6
  },
  {
   "metadata": {
    "ExecuteTime": {
     "end_time": "2024-08-29T09:16:43.621540Z",
     "start_time": "2024-08-29T09:16:43.609997Z"
    }
   },
   "cell_type": "code",
   "source": "a",
   "id": "a4d2928d653beae3",
   "outputs": [
    {
     "data": {
      "text/plain": [
       "{'aa': 999, 'bb': '6666'}"
      ]
     },
     "execution_count": 8,
     "metadata": {},
     "output_type": "execute_result"
    }
   ],
   "execution_count": 8
  },
  {
   "metadata": {
    "ExecuteTime": {
     "end_time": "2024-08-29T09:19:07.842816Z",
     "start_time": "2024-08-29T09:19:07.837587Z"
    }
   },
   "cell_type": "code",
   "source": "k = {\"aa\", \"bb\", \"cc\"}",
   "id": "611da3017cd65649",
   "outputs": [],
   "execution_count": 21
  },
  {
   "metadata": {
    "ExecuteTime": {
     "end_time": "2024-08-29T09:19:13.338806Z",
     "start_time": "2024-08-29T09:19:13.333386Z"
    }
   },
   "cell_type": "code",
   "source": "k.update([\"aa\"])",
   "id": "93d9d2c21ddbd812",
   "outputs": [],
   "execution_count": 22
  },
  {
   "metadata": {
    "ExecuteTime": {
     "end_time": "2024-08-29T09:19:15.008087Z",
     "start_time": "2024-08-29T09:19:15.000343Z"
    }
   },
   "cell_type": "code",
   "source": "k",
   "id": "1d2ea137b8d42e05",
   "outputs": [
    {
     "data": {
      "text/plain": [
       "{'aa', 'bb', 'cc'}"
      ]
     },
     "execution_count": 23,
     "metadata": {},
     "output_type": "execute_result"
    }
   ],
   "execution_count": 23
  },
  {
   "metadata": {
    "ExecuteTime": {
     "end_time": "2024-08-17T08:11:52.706408Z",
     "start_time": "2024-08-17T08:11:52.692386Z"
    }
   },
   "cell_type": "code",
   "source": "提取中文变量(py_代码)",
   "id": "ede99ca3dd183140",
   "outputs": [
    {
     "data": {
      "text/plain": [
       "{'上层目录名称',\n",
       " '上级英文目录',\n",
       " '中文变量',\n",
       " '代码文本',\n",
       " '元素',\n",
       " '内容',\n",
       " '函数_替换代码变量',\n",
       " '创建目录',\n",
       " '判断中文变量',\n",
       " '匹配文本',\n",
       " '匹配结果',\n",
       " '原目录',\n",
       " '变量匹配模式',\n",
       " '变量映射',\n",
       " '合并后变量',\n",
       " '哈哈',\n",
       " '多行字符串匹配模式',\n",
       " '字符串匹配模式',\n",
       " '完整路径',\n",
       " '收集_文件列表',\n",
       " '收集_目录列表',\n",
       " '收集_相对目录列表',\n",
       " '文件',\n",
       " '文件夹名称',\n",
       " '日志',\n",
       " '替换函数',\n",
       " '查询并合并变量',\n",
       " '注释匹配模式',\n",
       " '目录',\n",
       " '综合匹配模式',\n",
       " '遍历目录和文件列表',\n",
       " '项目_中文目录映射',\n",
       " '项目_中文目录表单',\n",
       " '项目_根路径',\n",
       " '项目_目录映射',\n",
       " '项目_目录表单',\n",
       " '项目翻译'}"
      ]
     },
     "execution_count": 42,
     "metadata": {},
     "output_type": "execute_result"
    }
   ],
   "execution_count": 42
  },
  {
   "metadata": {},
   "cell_type": "code",
   "outputs": [],
   "execution_count": null,
   "source": [
    "for cell in notebook['cells']:\n",
    "    if cell['cell_type'] == 'code':\n",
    "        \n",
    "            "
   ],
   "id": "b131582185d195db"
  },
  {
   "metadata": {
    "ExecuteTime": {
     "end_time": "2024-08-17T08:24:16.138305Z",
     "start_time": "2024-08-17T08:24:16.134824Z"
    }
   },
   "cell_type": "code",
   "source": "notebook['cells'][1]",
   "id": "dc38861029702a73",
   "outputs": [
    {
     "data": {
      "text/plain": [
       "{'metadata': {},\n",
       " 'cell_type': 'markdown',\n",
       " 'source': ['写一些文本内容进行测试, \\n',\n",
       "  '如果是连在一起的内容会怎么样呢? \\n',\n",
       "  '\\n',\n",
       "  '如果是各行的呢?\\n',\n",
       "  '\\n',\n",
       "  '### 如果是添加了标题的呢? '],\n",
       " 'id': 'a3c1381d5fdd7244'}"
      ]
     },
     "execution_count": 48,
     "metadata": {},
     "output_type": "execute_result"
    }
   ],
   "execution_count": 48
  },
  {
   "metadata": {},
   "cell_type": "code",
   "outputs": [],
   "execution_count": null,
   "source": [
    "# 内容很容易就提取出来了, source里面应该是一个列表, 每一个元素都是一行代码, 我应该对代码内容进行提取, \n",
    "# 然后替换成英文, 然后重新传递回去\n",
    "def 转换成py代码:"
   ],
   "id": "13b4bd0f07e6ce09"
  },
  {
   "metadata": {
    "ExecuteTime": {
     "end_time": "2024-08-17T07:54:12.805968Z",
     "start_time": "2024-08-17T07:54:12.799233Z"
    }
   },
   "cell_type": "code",
   "source": [
    "for index, cell in enumerate(cells):\n",
    "    cell_type = cell.get('cell_type', 'Unknown')\n",
    "    source = cell.get('source', [])\n",
    "    print(f\"Cell {index + 1}:\")\n",
    "    print(f\"Type: {cell_type}\")\n",
    "    if isinstance(source, list):\n",
    "        source = ''.join(source)\n",
    "    print(\"Content:\")\n",
    "    print(source)\n",
    "    print(\"-\" * 40)"
   ],
   "id": "cff0963fb2142b49",
   "outputs": [
    {
     "name": "stdout",
     "output_type": "stream",
     "text": [
      "Cell 1:\n",
      "Type: code\n",
      "Content:\n",
      "import re\n",
      "import os\n",
      "import json\n",
      "import datetime\n",
      "import time\n",
      "import random\n",
      "from loguru import logger as 日志\n",
      "import shutil\n",
      "import pandas as pd\n",
      "----------------------------------------\n",
      "Cell 2:\n",
      "Type: raw\n",
      "Content:\n",
      "\n",
      "----------------------------------------\n",
      "Cell 3:\n",
      "Type: code\n",
      "Content:\n",
      "\n",
      "----------------------------------------\n",
      "Cell 4:\n",
      "Type: code\n",
      "Content:\n",
      "import pandas as pd\n",
      "\n",
      "# 创建示例 DataFrame\n",
      "data = {\n",
      "    '项目': ['项目1', '项目2', '项目3'],\n",
      "    '目录': ['目录1', '目录2', '目录3'],\n",
      "    '包含中文': [1, 0, 1]\n",
      "}\n",
      "项目_目录表单 = pd.DataFrame(data)\n",
      "\n",
      "# 筛选出包含中文的行，并对其进行操作\n",
      "项目_中文目录表单 = 项目_目录表单.loc[项目_目录表单[\"包含中文\"] == 1]\n",
      "\n",
      "# 修改视图中的值\n",
      "项目_中文目录表单.loc[项目_中文目录表单[\"项目\"] == \"项目1\", \"目录\"] = \"新目录1\"\n",
      "\n",
      "项目_目录表单.update(项目_中文目录表单)\n",
      "\n",
      "# 查看原 DataFrame 的变化\n",
      "print(项目_目录表单)\n",
      "----------------------------------------\n",
      "Cell 5:\n",
      "Type: code\n",
      "Content:\n",
      "创建目录 = \"/Users/yangxinyi/Downloads/200_临时文件夹/Test_Project_V1/translation_tool\"\n",
      "原目录 = \"/Users/yangxinyi/Downloads/200_临时文件夹/Test_Project_V1/翻译工具\"\n",
      "----------------------------------------\n",
      "Cell 6:\n",
      "Type: code\n",
      "Content:\n",
      "# 删除非空文件夹\n",
      "shutil.rmtree(创建目录)\n",
      "----------------------------------------\n",
      "Cell 7:\n",
      "Type: code\n",
      "Content:\n",
      "shutil.copytree(原目录, 创建目录)\n",
      "----------------------------------------\n",
      "Cell 8:\n",
      "Type: code\n",
      "Content:\n",
      "df = pd.DataFrame(columns=[\"列\", \"列2\"])\n",
      "----------------------------------------\n",
      "Cell 9:\n",
      "Type: code\n",
      "Content:\n",
      "df.loc[0] = {\"列\": 1, \"列2\": 2}\n",
      "\n",
      "----------------------------------------\n",
      "Cell 10:\n",
      "Type: code\n",
      "Content:\n",
      "df.loc[1] = {\"列\": 2, \"列2\": 33}\n",
      "----------------------------------------\n",
      "Cell 11:\n",
      "Type: code\n",
      "Content:\n",
      "df[0] = {\"列\": 1, \"列2\": 2}\n",
      "----------------------------------------\n",
      "Cell 12:\n",
      "Type: code\n",
      "Content:\n",
      "df\n",
      "----------------------------------------\n",
      "Cell 13:\n",
      "Type: code\n",
      "Content:\n",
      "df[\"列2\"].to_list()\n",
      "----------------------------------------\n",
      "Cell 14:\n",
      "Type: code\n",
      "Content:\n",
      "项目_根路径 = '/Users/yangxinyi/Library/CloudStorage/OneDrive-个人/100_code/Test_Translate_Project'\n",
      "    \n",
      "----------------------------------------\n",
      "Cell 15:\n",
      "Type: code\n",
      "Content:\n",
      "项目_中文目录映射= {'示例代码': ['/Users/yangxinyi/Library/CloudStorage/OneDrive-个人/100_code/Test_Translate_Project/示例代码', '/Users/yangxinyi/Library/CloudStorage/OneDrive-个人/100_code/Test_Translate_Project', '', ''], '处理后': ['/Users/yangxinyi/Library/CloudStorage/OneDrive-个人/100_code/Test_Translate_Project/示例代码/novel_send/处理后', '/Users/yangxinyi/Library/CloudStorage/OneDrive-个人/100_code/Test_Translate_Project/示例代码/novel_send', '', ''], '原文件': ['/Users/yangxinyi/Library/CloudStorage/OneDrive-个人/100_code/Test_Translate_Project/示例代码/novel_send/原文件', '/Users/yangxinyi/Library/CloudStorage/OneDrive-个人/100_code/Test_Translate_Project/示例代码/novel_send', '', ''], '6章合并': ['/Users/yangxinyi/Library/CloudStorage/OneDrive-个人/100_code/Test_Translate_Project/示例代码/novel_send/6章合并', '/Users/yangxinyi/Library/CloudStorage/OneDrive-个人/100_code/Test_Translate_Project/示例代码/novel_send', '', ''], '翻译工具': ['/Users/yangxinyi/Library/CloudStorage/OneDrive-个人/100_code/Test_Translate_Project/翻译工具', '/Users/yangxinyi/Library/CloudStorage/OneDrive-个人/100_code/Test_Translate_Project', '', '']}\n",
      "\n",
      "\n",
      "----------------------------------------\n",
      "Cell 16:\n",
      "Type: code\n",
      "Content:\n",
      "import os\n",
      "\n",
      "# 示例的中文-英文目录映射\n",
      "chinese_to_english = {\n",
      "    '示例代码': 'Example_Code',\n",
      "    '处理后': 'Processed',\n",
      "    '原文件': 'Original_Files',\n",
      "    '6章合并': 'Chapter_6_Merged',\n",
      "    '翻译工具': 'Translation_Tools'\n",
      "}\n",
      "\n",
      "# 项目中的中文目录映射\n",
      "project_chinese_dirs = {\n",
      "    '示例代码': ['/Users/yangxinyi/Library/CloudStorage/OneDrive-个人/100_code/Test_Translate_Project/示例代码', '/Users/yangxinyi/Library/CloudStorage/OneDrive-个人/100_code/Test_Translate_Project'],\n",
      "    '处理后': ['/Users/yangxinyi/Library/CloudStorage/OneDrive-个人/100_code/Test_Translate_Project/示例代码/novel_send/处理后', '/Users/yangxinyi/Library/CloudStorage/OneDrive-个人/100_code/Test_Translate_Project/示例代码/novel_send'],\n",
      "    '原文件': ['/Users/yangxinyi/Library/CloudStorage/OneDrive-个人/100_code/Test_Translate_Project/示例代码/novel_send/原文件', '/Users/yangxinyi/Library/CloudStorage/OneDrive-个人/100_code/Test_Translate_Project/示例代码/novel_send'],\n",
      "    '6章合并': ['/Users/yangxinyi/Library/CloudStorage/OneDrive-个人/100_code/Test_Translate_Project/示例代码/novel_send/6章合并', '/Users/yangxinyi/Library/CloudStorage/OneDrive-个人/100_code/Test_Translate_Project/示例代码/novel_send'],\n",
      "    '翻译工具': ['/Users/yangxinyi/Library/CloudStorage/OneDrive-个人/100_code/Test_Translate_Project/翻译工具', '/Users/yangxinyi/Library/CloudStorage/OneDrive-个人/100_code/Test_Translate_Project']\n",
      "}\n",
      "----------------------------------------\n",
      "Cell 17:\n",
      "Type: code\n",
      "Content:\n",
      "for chinese_dir, paths in project_chinese_dirs.items():\n",
      "    original_path = paths[0]\n",
      "    parent_path = paths[1]\n",
      "    \n",
      "    # 获取对应的英文目录名\n",
      "    english_dir_name = chinese_to_english[chinese_dir]\n",
      "    # print(original_path)\n",
      "    # print(parent_path)\n",
      "    # print(english_dir_name)\n",
      "    # print(\"_________\")\n",
      "    # \n",
      "    # 检查父目录是否包含中文，并确定英文父目录的路径\n",
      "    parent_dirs = parent_path.split(os.sep)\n",
      "    print(parent_path)\n",
      "    print(parent_dirs)\n",
      "    print(\"_________\")\n",
      "    \n",
      "    new_parent_path = \"\"\n",
      "    for part in parent_dirs:\n",
      "        if part in chinese_to_english:\n",
      "            new_parent_path = os.path.join(new_parent_path, chinese_to_english[part])\n",
      "        else:\n",
      "            new_parent_path = os.path.join(new_parent_path, part)\n",
      "            \n",
      "    # 构造新的英文目录路径\n",
      "    english_dir_path = os.path.join(new_parent_path, english_dir_name)\n",
      "    \n",
      "    print(english_dir_path)\n",
      "    \n",
      "    print(\"_________\")\n",
      "----------------------------------------\n",
      "Cell 18:\n",
      "Type: code\n",
      "Content:\n",
      "t = \"/Users/yangxinyi/Library/CloudStorage/OneDrive-个人/100_code/Test_Translate_Project\"\n",
      "----------------------------------------\n",
      "Cell 19:\n",
      "Type: code\n",
      "Content:\n",
      "t.split(os.sep)\n",
      "----------------------------------------\n",
      "Cell 20:\n",
      "Type: code\n",
      "Content:\n",
      "new_parent_path = \"\"\n",
      "----------------------------------------\n",
      "Cell 21:\n",
      "Type: code\n",
      "Content:\n",
      "os.path.join(new_parent_path, \"Example_Code\")\n",
      "----------------------------------------\n",
      "Cell 22:\n",
      "Type: code\n",
      "Content:\n",
      "import os\n",
      "\n",
      "# 示例的中文-英文目录映射\n",
      "chinese_to_english = {\n",
      "    '示例代码': 'Example_Code',\n",
      "    '处理后': 'Processed',\n",
      "    '原文件': 'Original_Files',\n",
      "    '6章合并': 'Chapter_6_Merged',\n",
      "    '翻译工具': 'Translation_Tools'\n",
      "}\n",
      "\n",
      "# 项目中的中文目录映射\n",
      "project_chinese_dirs = {\n",
      "    '示例代码': ['/Users/yangxinyi/Library/CloudStorage/OneDrive-个人/100_code/Test_Translate_Project/示例代码', '/Users/yangxinyi/Library/CloudStorage/OneDrive-个人/100_code/Test_Translate_Project'],\n",
      "    '处理后': ['/Users/yangxinyi/Library/CloudStorage/OneDrive-个人/100_code/Test_Translate_Project/示例代码/novel_send/处理后', '/Users/yangxinyi/Library/CloudStorage/OneDrive-个人/100_code/Test_Translate_Project/示例代码/novel_send'],\n",
      "    '原文件': ['/Users/yangxinyi/Library/CloudStorage/OneDrive-个人/100_code/Test_Translate_Project/示例代码/novel_send/原文件', '/Users/yangxinyi/Library/CloudStorage/OneDrive-个人/100_code/Test_Translate_Project/示例代码/novel_send'],\n",
      "    '6章合并': ['/Users/yangxinyi/Library/CloudStorage/OneDrive-个人/100_code/Test_Translate_Project/示例代码/novel_send/6章合并', '/Users/yangxinyi/Library/CloudStorage/OneDrive-个人/100_code/Test_Translate_Project/示例代码/novel_send'],\n",
      "    '翻译工具': ['/Users/yangxinyi/Library/CloudStorage/OneDrive-个人/100_code/Test_Translate_Project/翻译工具', '/Users/yangxinyi/Library/CloudStorage/OneDrive-个人/100_code/Test_Translate_Project']\n",
      "}\n",
      "\n",
      "# 项目的根目录\n",
      "root_directory = \"/Users/yangxinyi/Library/CloudStorage/OneDrive-个人/100_code/Test_Translate_Project\"\n",
      "\n",
      "def create_english_directories(chinese_to_english, project_chinese_dirs, root_directory):\n",
      "    for chinese_dir, paths in project_chinese_dirs.items():\n",
      "        original_path = paths[0]\n",
      "        parent_path = paths[1]\n",
      "\n",
      "        # 如果是根目录中的中文目录，跳过翻译\n",
      "        if parent_path == root_directory:\n",
      "            continue\n",
      "        \n",
      "        # 获取对应的英文目录名\n",
      "        english_dir_name = chinese_to_english[chinese_dir]\n",
      "        \n",
      "        # 检查父目录是否包含中文，并确定英文父目录的路径\n",
      "        parent_dirs = parent_path.split(os.sep)\n",
      "        new_parent_path = root_directory  # 从根目录开始构建路径\n",
      "        \n",
      "        for part in parent_dirs[len(root_directory.split(os.sep)):]:\n",
      "            if part in chinese_to_english:\n",
      "                new_parent_path = os.path.join(new_parent_path, chinese_to_english[part])\n",
      "            else:\n",
      "                new_parent_path = os.path.join(new_parent_path, part)\n",
      "        \n",
      "        # 构造新的英文目录路径\n",
      "        english_dir_path = os.path.join(new_parent_path, english_dir_name)\n",
      "        \n",
      "        # 创建对应的英文目录\n",
      "        if not os.path.exists():\n",
      "            os.makedirs(english_dir_path)\n",
      "            print(f\"Created directory: {english_dir_path}\")\n",
      "        else:\n",
      "            print(f\"Directory already exists: {english_dir_path}\")\n",
      "\n",
      "# 执行目录创建\n",
      "create_english_directories(chinese_to_english, project_chinese_dirs, root_directory)\n",
      "----------------------------------------\n",
      "Cell 23:\n",
      "Type: code\n",
      "Content:\n",
      "# 获取当前文件的绝对路径\n",
      "current_file_path = os.path.abspath(\"/Users/yangxinyi/Library/CloudStorage/OneDrive-个人/100_code/Code_Chinese_to_Enghlish/中文变量翻译.py\")\n",
      "# 获取当前文件所在的目录\n",
      "current_directory = os.path.dirname(current_file_path)\n",
      "# 改变工作目录到当前文件所在的目录\n",
      "os.chdir(current_directory)\n",
      "日志.info(\"工作目录已改变为: {}\", os.getcwd())\n",
      "----------------------------------------\n",
      "Cell 24:\n",
      "Type: code\n",
      "Content:\n",
      "from 项目翻译 import *\n",
      "----------------------------------------\n",
      "Cell 25:\n",
      "Type: code\n",
      "Content:\n",
      "项目_根路径 = '/Users/yangxinyi/Downloads/Test_Translate_Project'\n",
      "收集_目录列表, 收集_文件列表 = 遍历目录和文件列表(项目_根路径)\n",
      "----------------------------------------\n",
      "Cell 26:\n",
      "Type: code\n",
      "Content:\n",
      "收集_目录列表\n",
      "----------------------------------------\n",
      "Cell 27:\n",
      "Type: code\n",
      "Content:\n",
      "收集_相对目录列表 = [元素.replace(项目_根路径, \"\") for 元素 in 收集_目录列表]\n",
      "----------------------------------------\n",
      "Cell 28:\n",
      "Type: code\n",
      "Content:\n",
      "收集_相对目录列表\n",
      "----------------------------------------\n",
      "Cell 29:\n",
      "Type: code\n",
      "Content:\n",
      "项目_目录映射 = {}\n",
      "项目_中文目录映射 = {}\n",
      "for 完整路径 in 收集_相对目录列表:\n",
      "    if 完整路径:\n",
      "        上层目录名称, 文件夹名称 = 完整路径.rsplit(\"/\", maxsplit=1)\n",
      "        项目_目录映射[文件夹名称] = [\"\", 完整路径, \"\", 上层目录名称, \"\", 0]\n",
      "        if 判断中文变量(文件夹名称):  # 过滤带有中文的目录\n",
      "            项目_中文目录映射[文件夹名称] = [\"\", 完整路径, \"\", 上层目录名称, \"\", 0]\n",
      "            \n",
      "\n",
      "合并后变量 = 查询并合并变量(项目_中文目录映射.keys())\n",
      "项目_中文目录映射\n",
      "----------------------------------------\n",
      "Cell 30:\n",
      "Type: code\n",
      "Content:\n",
      "项目_中文目录映射\n",
      "# 0 对应 英文变量\n",
      "# 1 对应 完整路径\n",
      "# 2 对应 完整路径 翻译成英文\n",
      "# 3 对应上层路径\n",
      "# 4 对应上层路径翻译成英文\n",
      "# 5 0, 1, 对应上级是否进行过修改, 如果修改则不用保留中文对应文件夹, 如果没有修改过, 则应该保留\n",
      "----------------------------------------\n",
      "Cell 31:\n",
      "Type: code\n",
      "Content:\n",
      "for 文件夹名称 in 项目_中文目录映射:\n",
      "    项目_中文目录映射[文件夹名称][0] = 合并后变量[文件夹名称]\n",
      "    if not 项目_中文目录映射[文件夹名称][5]:  # 这个文件夹还没有被替换过路径, 就是原生路径\n",
      "        # 直接创建该文件夹, \n",
      "        上级英文目录 = 项目_中文目录映射[文件夹名称][3]\n",
      "        创建目录 = 项目_根路径 + \"/\" + 上级英文目录 + \"/\" + 项目_中文目录映射[文件夹名称][0]\n",
      "        原目录 =  项目_根路径 + \"/\" + 上级英文目录 + \"/\" + 文件夹名称\n",
      "        项目_中文目录映射[文件夹名称][2] = 项目_中文目录映射[文件夹名称][1].replace(文件夹名称, 合并后变量[文件夹名称])\n",
      "        if not os.path.exists(创建目录):\n",
      "            shutil.copytree(原目录, 创建目录)\n",
      "        for 目录 in 项目_中文目录映射:  # \n",
      "            if 项目_中文目录映射[目录][1] != 项目_中文目录映射[文件夹名称][1]:\n",
      "                if 项目_中文目录映射[目录][3].find(项目_中文目录映射[文件夹名称][1]) > -1:\n",
      "                    # 上层目录修改过, 标记一下\n",
      "                    项目_中文目录映射[目录][5] = 1\n",
      "                    项目_中文目录映射[目录][4] = 项目_中文目录映射[目录][3].replace(项目_中文目录映射[文件夹名称][1], 项目_中文目录映射[文件夹名称][2])\n",
      "        # 将原文件夹中的所有内容复制过来\n",
      "    else:  # 说明不是第一层文件夹\n",
      "        # 走到这里说明父路径已经被替换过了, 这不是原生文件夹, 可以直接改名\n",
      "        上级英文目录 = 项目_中文目录映射[文件夹名称][4]\n",
      "        创建目录 = 项目_根路径 + 上级英文目录 + \"/\" + 项目_中文目录映射[文件夹名称][0]\n",
      "        原目录 =  项目_根路径 + 上级英文目录 + \"/\" + 文件夹名称\n",
      "        if not os.path.exists(创建目录):\n",
      "            os.rename(原目录, 创建目录)\n",
      "        # else:  # 如果第一层级文件夹本来就是英文, 则到这里它的父文件夹还没变过, 那么需要保留\n",
      "    \n",
      "        \n",
      "        \n",
      "项目_中文目录映射\n",
      "----------------------------------------\n",
      "Cell 32:\n",
      "Type: markdown\n",
      "Content:\n",
      "首先从父层级一层一个往下面改, 这样可以保证, 每一层级, 当前层级处理完成之后, 当前层级就全是英文了, \n",
      "然后所有文件已经复制了一份到英文文件夹当中.\n",
      "后面就处理这个子文件夹就可以了, \n",
      "\n",
      "子文件夹再判断其中的目录名是否存在中文, 如果存在中文的, 则在同一层级, 创建一个英文目录, 然后将中文目录中的所有内容复制过去.\n",
      "\n",
      "然后如果这个上一层级已经有过复制了, 那么就将中文目录直接删除掉.\n",
      "如果这个上层目录没有过复制记录, 那么就保留中文的目录.\n",
      "\n",
      "----------------------------------------\n",
      "Cell 33:\n",
      "Type: code\n",
      "Content:\n",
      "哈哈 = \"没错 \\\n",
      "这是可以换行的\"\n",
      "----------------------------------------\n",
      "Cell 34:\n",
      "Type: code\n",
      "Content:\n",
      "# 示例代码\n",
      "code_text = '''\n",
      "kkk = \"++++\"\n",
      "测试 = \"666\"\n",
      "哈哈 = \"没错 \\\n",
      "这是可以换行的\"\n",
      "print(测试)\n",
      "a = '测试 = \"666\"'\n",
      "b = \"测试 = '666'\"\n",
      "c = \"\"\"这是一个多行字符串，\n",
      "里面包含 哈哈 = 777 变量\"\"\"\n",
      "'''\n",
      "----------------------------------------\n",
      "Cell 35:\n",
      "Type: code\n",
      "Content:\n",
      "# 替换映射\n",
      "variable_map = {\n",
      "    'kkk': 'fff', \n",
      "    '测试': 'test', \n",
      "    '哈哈': \"haha\"\n",
      "}\n",
      "----------------------------------------\n",
      "Cell 36:\n",
      "Type: code\n",
      "Content:\n",
      "# 识别所有的字符串部分 (包括单引号和双引号, 以及单行和多行字符串)\n",
      "string_pattern = r'(\\\"\\\"\\\".*?\\\"\\\"\\\"|\\'\\'\\'.*?\\'\\'\\'|\\\".*?\\\"|\\'.*?\\')'\n",
      "\n",
      "# 修改为跨行匹配模式\n",
      "multi_line_string_pattern = r'(\\\"\\\"\\\".*?\\\"\\\"\\\"|\\'\\'\\'.*?\\'\\'\\')'\n",
      "----------------------------------------\n",
      "Cell 37:\n",
      "Type: code\n",
      "Content:\n",
      "re.findall(string_pattern, code_text, flags=re.DOTALL)\n",
      "----------------------------------------\n",
      "Cell 38:\n",
      "Type: code\n",
      "Content:\n",
      "# 用于替换的回调函数\n",
      "def replacer(match):\n",
      "    matched_text = match.group(0)\n",
      "    print(matched_text)\n",
      "    print(\"------\")\n",
      "    if matched_text.startswith(('\"', \"'\")):\n",
      "        # 如果是字符串（包括多行字符串），直接返回不做替换\n",
      "        return matched_text\n",
      "    else:\n",
      "        # 如果是变量名，根据映射进行替换\n",
      "        return variable_map.get(matched_text, matched_text)\n",
      "----------------------------------------\n",
      "Cell 39:\n",
      "Type: code\n",
      "Content:\n",
      "# 构造变量名的正则表达式 (注意这里使用了 \\b 进行词边界匹配)\n",
      "variable_pattern = r'\\b(' + '|'.join(re.escape(var) for var in variable_map.keys()) + r')\\b'\n",
      "----------------------------------------\n",
      "Cell 40:\n",
      "Type: code\n",
      "Content:\n",
      "variable_pattern\n",
      "----------------------------------------\n",
      "Cell 41:\n",
      "Type: code\n",
      "Content:\n",
      "# 合并字符串匹配模式和变量匹配模式\n",
      "combined_pattern = multi_line_string_pattern + r'|' + string_pattern + r'|' + variable_pattern\n",
      "combined_pattern\n",
      "----------------------------------------\n",
      "Cell 42:\n",
      "Type: code\n",
      "Content:\n",
      "# 使用 sub 函数进行替换，结合字符串的保护\n",
      "code_text = re.sub(combined_pattern, replacer, code_text, flags=re.DOTALL)\n",
      "print(code_text)\n",
      "----------------------------------------\n",
      "Cell 43:\n",
      "Type: code\n",
      "Content:\n",
      "\n",
      "\n",
      "def replace_variables(code_text, variable_map):\n",
      "    # 识别所有的字符串部分 (包括单引号和双引号, 以及单行和多行字符串)\n",
      "    string_pattern = r'(\\\"\\\"\\\".*?\\\"\\\"\\\"|\\'\\'\\'.*?\\'\\'\\'|\\\".*?\\\"|\\'.*?\\')'\n",
      "    \n",
      "    # 修改为跨行匹配模式\n",
      "    multi_line_string_pattern = r'(\\\"\\\"\\\".*?\\\"\\\"\\\"|\\'\\'\\'.*?\\'\\'\\')'\n",
      "    \n",
      "    # 用于替换的回调函数\n",
      "    def replacer(match):\n",
      "        matched_text = match.group(0)\n",
      "        if matched_text.startswith(('\"', \"'\")):\n",
      "            # 如果是字符串（包括多行字符串），直接返回不做替换\n",
      "            return matched_text\n",
      "        else:\n",
      "            # 如果是变量名，根据映射进行替换\n",
      "            return variable_map.get(matched_text, matched_text)\n",
      "    \n",
      "    # 构造变量名的正则表达式 (注意这里使用了 \\b 进行词边界匹配)\n",
      "    variable_pattern = r'\\b(' + '|'.join(re.escape(var) for var in variable_map.keys()) + r')\\b'\n",
      "    \n",
      "    # 合并字符串匹配模式和变量匹配模式\n",
      "    combined_pattern = multi_line_string_pattern + r'|' + string_pattern + r'|' + variable_pattern\n",
      "    \n",
      "    # 使用 sub 函数进行替换，结合字符串的保护\n",
      "    code_text = re.sub(combined_pattern, replacer, code_text, flags=re.DOTALL)\n",
      "    \n",
      "    return code_text\n",
      "\n",
      "# 示例代码\n",
      "code_text = '''\n",
      "测试 = \"666\"\n",
      "print(测试)\n",
      "a = '测试 = \"666\"'\n",
      "b = \"测试 = '666'\"\n",
      "c = \"\"\"这是一个多行字符串，里面包含 测试 变量\"\"\"\n",
      "'''\n",
      "\n",
      "# 替换映射\n",
      "variable_map = {\n",
      "    '测试': 'test'\n",
      "}\n",
      "\n",
      "# 进行替换\n",
      "new_code_text = replace_variables(code_text, variable_map)\n",
      "\n",
      "# 输出结果\n",
      "print(new_code_text)\n",
      "----------------------------------------\n",
      "Cell 44:\n",
      "Type: code\n",
      "Content:\n",
      "import re\n",
      "\n",
      "# 测试字符串包含中文字符\n",
      "test_string = '你好世界'\n",
      "\n",
      "# 使用 \\w 进行匹配\n",
      "matches = re.findall(r'\\w', test_string)\n",
      "\n",
      "# 输出匹配结果\n",
      "print(matches)  # 输出 ['你', '好', '世', '界']\n",
      "----------------------------------------\n",
      "Cell 45:\n",
      "Type: code\n",
      "Content:\n",
      "with open(\"项目翻译.py\", \"r\") as 文件:\n",
      "    代码文本 = 文件.read()\n",
      "----------------------------------------\n",
      "Cell 46:\n",
      "Type: code\n",
      "Content:\n",
      "代码文本 = \"\"\"from .数据类型 import *\n",
      "from .内置函数 import *\"\"\"\n",
      "----------------------------------------\n",
      "Cell 47:\n",
      "Type: code\n",
      "Content:\n",
      "# 匹配注释部分\n",
      "注释匹配模式 = r'(#.*?)\\n'\n",
      "字符串匹配模式 = r'(\\\"\\\"\\\".*?\\\"\\\"\\\"|\\'\\'\\'.*?\\'\\'\\'|\\\".*?\\\"|\\'.*?\\')'\n",
      "# 修改为跨行匹配模式\n",
      "多行字符串匹配模式 = r'(\\\"\\\"\\\".*?\\\"\\\"\\\"|\\'\\'\\'.*?\\'\\'\\')'\n",
      "变量匹配模式 = r'\\b(\\w*[\\u4e00-\\u9fff]+\\w*)\\b'\n",
      "----------------------------------------\n",
      "Cell 48:\n",
      "Type: code\n",
      "Content:\n",
      "# 合并所有模式\n",
      "综合匹配模式 = 注释匹配模式 + r'|' + 多行字符串匹配模式 + r'|' + 字符串匹配模式 + r'|' + 变量匹配模式\n",
      "----------------------------------------\n",
      "Cell 49:\n",
      "Type: code\n",
      "Content:\n",
      "re.findall(综合匹配模式, 代码文本, flags=re.DOTALL)\n",
      "----------------------------------------\n",
      "Cell 50:\n",
      "Type: code\n",
      "Content:\n",
      "def 函数_替换代码变量(代码文本, 变量映射):\n",
      "    # 识别所有的字符串部分 (包括单引号和双引号, 以及单行和多行字符串)\n",
      "    字符串匹配模式 = r'(\\\"\\\"\\\".*?\\\"\\\"\\\"|\\'\\'\\'.*?\\'\\'\\'|\\\".*?\\\"|\\'.*?\\')'\n",
      "\n",
      "    # 修改为跨行匹配模式\n",
      "    多行字符串匹配模式 = r'(\\\"\\\"\\\".*?\\\"\\\"\\\"|\\'\\'\\'.*?\\'\\'\\')'\n",
      "\n",
      "    # 用于替换的回调函数\n",
      "    def 替换函数(匹配结果):\n",
      "        匹配文本 = 匹配结果.group(0)\n",
      "        if 匹配文本.startswith(('\"', \"'\")):\n",
      "            # 如果是字符串（包括多行字符串），直接返回不做替换\n",
      "            return 匹配文本\n",
      "        else:\n",
      "            # 如果是变量名，根据映射进行替换\n",
      "            return 变量映射.get(匹配文本, 匹配文本)\n",
      "\n",
      "    # 构造变量名的正则表达式 (注意这里使用了 \\b 进行词边界匹配)\n",
      "    变量匹配模式 = r'\\b(' + '|'.join(re.escape(中文变量) for 中文变量 in 变量映射.keys()) + r')\\b'\n",
      "\n",
      "    # 合并字符串匹配模式和变量匹配模式\n",
      "    综合匹配模式 = 多行字符串匹配模式 + r'|' + 字符串匹配模式 + r'|' + 变量匹配模式\n",
      "\n",
      "    # 使用 sub 函数进行替换，结合字符串的保护\n",
      "    代码文本 = re.sub(综合匹配模式, 替换函数, 代码文本, flags=re.DOTALL)\n",
      "\n",
      "    return 代码文本\n",
      "----------------------------------------\n",
      "Cell 51:\n",
      "Type: code\n",
      "Content:\n",
      "import re\n",
      "\n",
      "def find_chinese_variables(code_text):\n",
      "    # 正则表达式：匹配包含中文字符的变量名\n",
      "    pattern = r'\\b\\w*[\\u4e00-\\u9fff]+\\w*\\b'\n",
      "    \n",
      "    # 使用 findall 来获取所有匹配的变量名\n",
      "    chinese_variables = re.findall(pattern, code_text)\n",
      "    \n",
      "    return chinese_variables\n",
      "\n",
      "# 示例代码\n",
      "code_text = '''\n",
      "directory_mapping_dict = tongyi_qianwen_model.翻译文件名(chinese_variable)\n",
      "directory_mapping_dict = tongyi_qianwen_model.翻译文件名Test(chinese_variable)\n",
      "directory_mapping_dict = tongyi_qianwen_model.翻译文件名_Test_OK(chinese_variable)\n",
      "directory_mapping_dict = tongyi_qianwen_model.have_a_fun(chinese_variable)\n",
      "\n",
      "'''\n",
      "\n",
      "\n",
      "\n",
      "# 查找包含中文的变量名\n",
      "chinese_variables = find_chinese_variables(内容)\n",
      "\n",
      "# 输出结果\n",
      "print(chinese_variables)\n",
      "----------------------------------------\n",
      "Cell 52:\n",
      "Type: code\n",
      "Content:\n",
      "\n",
      "----------------------------------------\n"
     ]
    }
   ],
   "execution_count": 10
  },
  {
   "metadata": {
    "ExecuteTime": {
     "end_time": "2024-08-19T08:35:51.602252Z",
     "start_time": "2024-08-19T08:35:39.716803Z"
    }
   },
   "cell_type": "code",
   "source": [
    "import sys\n",
    "from PyQt5.QtWidgets import QApplication, QLabel, QWidget\n",
    "\n",
    "app = QApplication(sys.argv)\n",
    "\n",
    "window = QWidget()\n",
    "window.setWindowTitle('Hello, PyQt!')\n",
    "window.setGeometry(100, 100, 280, 80)\n",
    "\n",
    "helloMsg = QLabel('<h1>Hello, World!</h1>', parent=window)\n",
    "helloMsg.move(60, 15)\n",
    "\n",
    "window.show()\n",
    "sys.exit(app.exec_())"
   ],
   "id": "ed6a5470aae8dcc3",
   "outputs": [
    {
     "ename": "KeyboardInterrupt",
     "evalue": "",
     "output_type": "error",
     "traceback": [
      "\u001B[0;31m---------------------------------------------------------------------------\u001B[0m",
      "\u001B[0;31mKeyboardInterrupt\u001B[0m                         Traceback (most recent call last)",
      "Cell \u001B[0;32mIn[1], line 14\u001B[0m\n\u001B[1;32m     11\u001B[0m helloMsg\u001B[38;5;241m.\u001B[39mmove(\u001B[38;5;241m60\u001B[39m, \u001B[38;5;241m15\u001B[39m)\n\u001B[1;32m     13\u001B[0m window\u001B[38;5;241m.\u001B[39mshow()\n\u001B[0;32m---> 14\u001B[0m sys\u001B[38;5;241m.\u001B[39mexit(\u001B[43mapp\u001B[49m\u001B[38;5;241;43m.\u001B[39;49m\u001B[43mexec_\u001B[49m\u001B[43m(\u001B[49m\u001B[43m)\u001B[49m)\n",
      "\u001B[0;31mKeyboardInterrupt\u001B[0m: "
     ]
    }
   ],
   "execution_count": 1
  },
  {
   "metadata": {
    "ExecuteTime": {
     "end_time": "2024-08-20T08:28:37.959562Z",
     "start_time": "2024-08-20T08:28:37.953515Z"
    }
   },
   "cell_type": "code",
   "source": "var_pattern = re.compile(r'^\\s*([0-9a-zA-Z_\\u4e00-\\u9fa5, ]+?)\\s*=\\s*[^\\s=]+')",
   "id": "5064550493d0a66c",
   "outputs": [],
   "execution_count": 9
  },
  {
   "metadata": {
    "ExecuteTime": {
     "end_time": "2024-08-20T08:28:38.263144Z",
     "start_time": "2024-08-20T08:28:38.257697Z"
    }
   },
   "cell_type": "code",
   "source": "测试代码 = 'os.environ[\"WECHATY_LOG\"] = \"warn\"'",
   "id": "66a197e819251603",
   "outputs": [],
   "execution_count": 10
  },
  {
   "metadata": {},
   "cell_type": "code",
   "outputs": [],
   "execution_count": null,
   "source": "",
   "id": "c37f445f66a7217f"
  },
  {
   "metadata": {
    "ExecuteTime": {
     "end_time": "2024-08-20T08:28:39.518658Z",
     "start_time": "2024-08-20T08:28:39.515275Z"
    }
   },
   "cell_type": "code",
   "source": [
    "匹配结果_列表 = var_pattern.findall(测试代码)\n",
    "匹配结果_列表"
   ],
   "id": "ea78256bc8936a2d",
   "outputs": [
    {
     "data": {
      "text/plain": [
       "[]"
      ]
     },
     "execution_count": 11,
     "metadata": {},
     "output_type": "execute_result"
    }
   ],
   "execution_count": 11
  },
  {
   "metadata": {
    "ExecuteTime": {
     "end_time": "2024-08-27T08:24:28.666751Z",
     "start_time": "2024-08-27T08:24:28.662362Z"
    }
   },
   "cell_type": "code",
   "source": "from pathlib import Path",
   "id": "8fc91e469e3b7c6f",
   "outputs": [],
   "execution_count": 1
  },
  {
   "metadata": {
    "ExecuteTime": {
     "end_time": "2024-08-27T08:24:51.289509Z",
     "start_time": "2024-08-27T08:24:51.273609Z"
    }
   },
   "cell_type": "code",
   "source": [
    "parent_dir=\"/channel\"\n",
    "child_dir=\"/channel/wechat\""
   ],
   "id": "4eb682bb947cea36",
   "outputs": [],
   "execution_count": 2
  },
  {
   "metadata": {
    "ExecuteTime": {
     "end_time": "2024-08-27T08:25:24.834069Z",
     "start_time": "2024-08-27T08:25:24.826342Z"
    }
   },
   "cell_type": "code",
   "source": [
    "parent_path = Path(parent_dir).resolve()\n",
    "child_path = Path(child_dir).resolve()\n",
    "parent_path"
   ],
   "id": "e8ca7a6e2e51d79d",
   "outputs": [
    {
     "data": {
      "text/plain": [
       "PosixPath('/channel')"
      ]
     },
     "execution_count": 5,
     "metadata": {},
     "output_type": "execute_result"
    }
   ],
   "execution_count": 5
  },
  {
   "metadata": {
    "ExecuteTime": {
     "end_time": "2024-08-27T08:25:27.385950Z",
     "start_time": "2024-08-27T08:25:27.377709Z"
    }
   },
   "cell_type": "code",
   "source": "child_path",
   "id": "4d687ada1542f359",
   "outputs": [
    {
     "data": {
      "text/plain": [
       "PosixPath('/channel/wechat')"
      ]
     },
     "execution_count": 6,
     "metadata": {},
     "output_type": "execute_result"
    }
   ],
   "execution_count": 6
  },
  {
   "metadata": {
    "ExecuteTime": {
     "end_time": "2024-08-27T08:25:50.719123Z",
     "start_time": "2024-08-27T08:25:50.713661Z"
    }
   },
   "cell_type": "code",
   "source": "parent_path in child_path.parents",
   "id": "7c8bda77f9992629",
   "outputs": [
    {
     "data": {
      "text/plain": [
       "True"
      ]
     },
     "execution_count": 7,
     "metadata": {},
     "output_type": "execute_result"
    }
   ],
   "execution_count": 7
  },
  {
   "metadata": {
    "ExecuteTime": {
     "end_time": "2024-08-27T08:26:17.057072Z",
     "start_time": "2024-08-27T08:26:17.053374Z"
    }
   },
   "cell_type": "code",
   "source": "parent_dir, child_dir = \"/channel/wechat\", \"/channel/wechatmp\"",
   "id": "3337f92e2f863500",
   "outputs": [],
   "execution_count": 8
  },
  {
   "metadata": {
    "ExecuteTime": {
     "end_time": "2024-08-27T08:26:24.582567Z",
     "start_time": "2024-08-27T08:26:24.577574Z"
    }
   },
   "cell_type": "code",
   "source": [
    "parent_path = Path(parent_dir).resolve()\n",
    "child_path = Path(child_dir).resolve()\n",
    "parent_path"
   ],
   "id": "5b3a5a1566c81e80",
   "outputs": [
    {
     "data": {
      "text/plain": [
       "PosixPath('/channel/wechat')"
      ]
     },
     "execution_count": 9,
     "metadata": {},
     "output_type": "execute_result"
    }
   ],
   "execution_count": 9
  },
  {
   "metadata": {
    "ExecuteTime": {
     "end_time": "2024-08-27T08:26:30.561655Z",
     "start_time": "2024-08-27T08:26:30.558554Z"
    }
   },
   "cell_type": "code",
   "source": "parent_path in child_path.parents",
   "id": "a0b28c87ebe0302f",
   "outputs": [
    {
     "data": {
      "text/plain": [
       "False"
      ]
     },
     "execution_count": 10,
     "metadata": {},
     "output_type": "execute_result"
    }
   ],
   "execution_count": 10
  },
  {
   "metadata": {},
   "cell_type": "code",
   "outputs": [],
   "execution_count": null,
   "source": "",
   "id": "a6b26526f7c9e8d7"
  },
  {
   "metadata": {},
   "cell_type": "code",
   "outputs": [],
   "execution_count": null,
   "source": [
    "项目_文件表单.loc[id] = {\n",
    "            \"文件名称\": 文件名称,\n",
    "            \"中文变量\": \"\",\n",
    "            \"英文相对路径\": \"\",\n",
    "            \"中文相对路径\": 相对路径,\n",
    "            \"英文上层路径\": \"\",\n",
    "            \"中文上层路径\": 上层路径,\n",
    "            \"翻译英文变量\": {},\n",
    "            \"英中变量映射\": {},\n",
    "            \"修改标识\": 0,\n",
    "            \"翻译文件\": 0\n",
    "        }"
   ],
   "id": "e7621fa7198536c7"
  },
  {
   "metadata": {
    "ExecuteTime": {
     "end_time": "2024-08-30T07:38:24.886461Z",
     "start_time": "2024-08-30T07:38:24.749104Z"
    }
   },
   "cell_type": "code",
   "source": "",
   "id": "e0df12a7cff8a4e6",
   "outputs": [],
   "execution_count": 71
  },
  {
   "metadata": {
    "ExecuteTime": {
     "end_time": "2024-08-30T07:38:33.323762Z",
     "start_time": "2024-08-30T07:38:33.311708Z"
    }
   },
   "cell_type": "code",
   "source": "len(a)",
   "id": "a71659dd3d544cf1",
   "outputs": [
    {
     "data": {
      "text/plain": [
       "221"
      ]
     },
     "execution_count": 72,
     "metadata": {},
     "output_type": "execute_result"
    }
   ],
   "execution_count": 72
  },
  {
   "metadata": {
    "ExecuteTime": {
     "end_time": "2024-08-30T09:36:35.812397Z",
     "start_time": "2024-08-30T09:36:35.798843Z"
    }
   },
   "cell_type": "code",
   "source": [
    "from 翻译程序.通用处理 import *\n",
    "with open(\"/Users/yangxinyi/Downloads/200_临时文件夹/english_test_project/lib/itchat/components/contact.py\", \"r\") as f:\n",
    "    代码文本 = f.read()"
   ],
   "id": "cccfef58c5ed5408",
   "outputs": [],
   "execution_count": 1
  },
  {
   "metadata": {
    "ExecuteTime": {
     "end_time": "2024-08-30T09:36:37.538205Z",
     "start_time": "2024-08-30T09:36:37.534809Z"
    }
   },
   "cell_type": "code",
   "source": "结果 = 删除代码注释和字符串(代码文本)",
   "id": "1504c5b13ce5bd1d",
   "outputs": [],
   "execution_count": 2
  },
  {
   "metadata": {
    "ExecuteTime": {
     "end_time": "2024-08-30T09:36:38.180390Z",
     "start_time": "2024-08-30T09:36:38.176811Z"
    }
   },
   "cell_type": "code",
   "source": "print(结果)",
   "id": "19739843e41c6e1",
   "outputs": [
    {
     "name": "stdout",
     "output_type": "stream",
     "text": [
      "import time\n",
      "import re\n",
      "import io\n",
      "import json\n",
      "import copy\n",
      "import logging\n",
      "\n",
      "from .. import config, utils\n",
      "from ..returnvalues import ReturnValue\n",
      "from ..storage import contact_change\n",
      "from ..utils import update_info_dict\n",
      "\n",
      "logger = logging.getLogger(\"\")\n",
      "\n",
      "\n",
      "def load_contact(core):\n",
      "    core.update_chatroom = update_chatroom\n",
      "    core.update_friend = update_friend\n",
      "    core.get_contact = get_contact\n",
      "    core.get_friends = get_friends\n",
      "    core.get_chatrooms = get_chatrooms\n",
      "    core.get_mps = get_mps\n",
      "    core.set_alias = set_alias\n",
      "    core.set_pinned = set_pinned\n",
      "    core.accept_friend = accept_friend\n",
      "    core.get_head_img = get_head_img\n",
      "    core.create_chatroom = create_chatroom\n",
      "    core.set_chatroom_name = set_chatroom_name\n",
      "    core.delete_member_from_chatroom = delete_member_from_chatroom\n",
      "    core.add_member_into_chatroom = add_member_into_chatroom\n",
      "\n",
      "\n",
      "def update_chatroom(self, userName, detailedMember=False):\n",
      "    if not isinstance(userName, list):\n",
      "        userName = [userName]\n",
      "    url = \"\" % (\n",
      "        self.loginInfo[\"\"], int(time.time()))\n",
      "    headers = {\n",
      "        \"\": \"\",\n",
      "        \"\": config.USER_AGENT}\n",
      "    data = {\n",
      "        \"\": self.loginInfo[\"\"],\n",
      "        \"\": len(userName),\n",
      "        \"\": [{\n",
      "            \"\": u,\n",
      "            \"\": \"\", } for u in userName], }\n",
      "    chatroomList = json.loads(self.s.post(url, data=json.dumps(data), headers=headers\n",
      "                                          ).content.decode(\"\", \"\")).get(\"\")\n",
      "    if not chatroomList:\n",
      "        return ReturnValue({\"\": {\n",
      "            \"\": \"\",\n",
      "            \"\": -1001, }})\n",
      "\n",
      "    if detailedMember:\n",
      "        def get_detailed_member_info(encryChatroomId, memberList):\n",
      "            url = \"\" % (\n",
      "                self.loginInfo[\"\"], int(time.time()))\n",
      "            headers = {\n",
      "                \"\": \"\",\n",
      "                \"\": config.USER_AGENT, }\n",
      "            data = {\n",
      "                \"\": self.loginInfo[\"\"],\n",
      "                \"\": len(memberList),\n",
      "                \"\": [{\n",
      "                    \"\": member[\"\"],\n",
      "                    \"\": encryChatroomId}\n",
      "                    for member in memberList], }\n",
      "            return json.loads(self.s.post(url, data=json.dumps(data), headers=headers\n",
      "                                          ).content.decode(\"\", \"\"))[\"\"]\n",
      "        MAX_GET_NUMBER = 50\n",
      "        for chatroom in chatroomList:\n",
      "            totalMemberList = []\n",
      "            for i in range(int(len(chatroom[\"\"]) / MAX_GET_NUMBER + 1)):\n",
      "                memberList = chatroom[\"\"][i *\n",
      "                                                    MAX_GET_NUMBER: (i+1)*MAX_GET_NUMBER]\n",
      "                totalMemberList += get_detailed_member_info(\n",
      "                    chatroom[\"\"], memberList)\n",
      "            chatroom[\"\"] = totalMemberList\n",
      "\n",
      "    update_local_chatrooms(self, chatroomList)\n",
      "    r = [self.storageClass.search_chatrooms(userName=c[\"\"])\n",
      "         for c in chatroomList]\n",
      "    return r if 1 < len(r) else r[0]\n",
      "\n",
      "\n",
      "def update_friend(self, userName):\n",
      "    if not isinstance(userName, list):\n",
      "        userName = [userName]\n",
      "    url = \"\" % (\n",
      "        self.loginInfo[\"\"], int(time.time()))\n",
      "    headers = {\n",
      "        \"\": \"\",\n",
      "        \"\": config.USER_AGENT}\n",
      "    data = {\n",
      "        \"\": self.loginInfo[\"\"],\n",
      "        \"\": len(userName),\n",
      "        \"\": [{\n",
      "            \"\": u,\n",
      "            \"\": \"\", } for u in userName], }\n",
      "    friendList = json.loads(self.s.post(url, data=json.dumps(data), headers=headers\n",
      "                                        ).content.decode(\"\", \"\")).get(\"\")\n",
      "\n",
      "    update_local_friends(self, friendList)\n",
      "    r = [self.storageClass.search_friends(userName=f[\"\"])\n",
      "         for f in friendList]\n",
      "    return r if len(r) != 1 else r[0]\n",
      "\n",
      "\n",
      "@contact_change\n",
      "def update_local_chatrooms(core, l):\n",
      "    \"\"\n",
      "    for chatroom in l:\n",
      "        \"\"\n",
      "        utils.emoji_formatter(chatroom, \"\")\n",
      "        for member in chatroom[\"\"]:\n",
      "            if \"\" in member:\n",
      "                utils.emoji_formatter(member, \"\")\n",
      "            if \"\" in member:\n",
      "                utils.emoji_formatter(member, \"\")\n",
      "            if \"\" in member:\n",
      "                utils.emoji_formatter(member, \"\")\n",
      "        \"\"\n",
      "        oldChatroom = utils.search_dict_list(\n",
      "            core.chatroomList, \"\", chatroom[\"\"])\n",
      "        if oldChatroom:\n",
      "            update_info_dict(oldChatroom, chatroom)\n",
      "            \"\"\n",
      "            memberList = chatroom.get(\"\", [])\n",
      "            oldMemberList = oldChatroom[\"\"]\n",
      "            if memberList:\n",
      "                for member in memberList:\n",
      "                    oldMember = utils.search_dict_list(\n",
      "                        oldMemberList, \"\", member[\"\"])\n",
      "                    if oldMember:\n",
      "                        update_info_dict(oldMember, member)\n",
      "                    else:\n",
      "                        oldMemberList.append(member)\n",
      "        else:\n",
      "            core.chatroomList.append(chatroom)\n",
      "            oldChatroom = utils.search_dict_list(\n",
      "                core.chatroomList, \"\", chatroom[\"\"])\n",
      "        \"\"\n",
      "        if len(chatroom[\"\"]) != len(oldChatroom[\"\"]) and \\\n",
      "                chatroom[\"\"]:\n",
      "            existsUserNames = [member[\"\"]\n",
      "                               for member in chatroom[\"\"]]\n",
      "            delList = []\n",
      "            for i, member in enumerate(oldChatroom[\"\"]):\n",
      "                if member[\"\"] not in existsUserNames:\n",
      "                    delList.append(i)\n",
      "            delList.sort(reverse=True)\n",
      "            for i in delList:\n",
      "                del oldChatroom[\"\"][i]\n",
      "        \"\"\n",
      "        if oldChatroom.get(\"\") and oldChatroom.get(\"\"):\n",
      "            owner = utils.search_dict_list(oldChatroom[\"\"],\n",
      "                                           \"\", oldChatroom[\"\"])\n",
      "            oldChatroom[\"\"] = (owner or {}).get(\"\", 0)\n",
      "        \"\"\n",
      "        if \"\" in oldChatroom and oldChatroom[\"\"] != 0:\n",
      "            oldChatroom[\"\"] = \\\n",
      "                oldChatroom[\"\"] == int(core.loginInfo[\"\"])\n",
      "        else:\n",
      "            oldChatroom[\"\"] = None\n",
      "        \"\"\n",
      "        newSelf = utils.search_dict_list(oldChatroom[\"\"],\n",
      "                                         \"\", core.storageClass.userName)\n",
      "        oldChatroom[\"\"] = newSelf or copy.deepcopy(core.loginInfo[\"\"])\n",
      "    return {\n",
      "        \"\": \"\",\n",
      "        \"\": [chatroom[\"\"] for chatroom in l],\n",
      "        \"\": \"\",\n",
      "        \"\": core.storageClass.userName,\n",
      "        \"\": core.storageClass.userName, }\n",
      "\n",
      "\n",
      "@contact_change\n",
      "def update_local_friends(core, l):\n",
      "    \"\"\n",
      "    fullList = core.memberList + core.mpList\n",
      "    for friend in l:\n",
      "        if \"\" in friend:\n",
      "            utils.emoji_formatter(friend, \"\")\n",
      "        if \"\" in friend:\n",
      "            utils.emoji_formatter(friend, \"\")\n",
      "        if \"\" in friend:\n",
      "            utils.emoji_formatter(friend, \"\")\n",
      "        oldInfoDict = utils.search_dict_list(\n",
      "            fullList, \"\", friend[\"\"])\n",
      "        if oldInfoDict is None:\n",
      "            oldInfoDict = copy.deepcopy(friend)\n",
      "            if oldInfoDict[\"\"] & 8 == 0:\n",
      "                core.memberList.append(oldInfoDict)\n",
      "            else:\n",
      "                core.mpList.append(oldInfoDict)\n",
      "        else:\n",
      "            update_info_dict(oldInfoDict, friend)\n",
      "\n",
      "\n",
      "@contact_change\n",
      "def update_local_uin(core, msg):\n",
      "    \"\"\n",
      "    uins = re.search(\"\", msg[\"\"])\n",
      "    usernameChangedList = []\n",
      "    r = {\n",
      "        \"\": \"\",\n",
      "        \"\": usernameChangedList,\n",
      "        \"\": \"\", }\n",
      "    if uins:\n",
      "        uins = uins.group(1).split(\"\")\n",
      "        usernames = msg[\"\"].split(\"\")\n",
      "        if 0 < len(uins) == len(usernames):\n",
      "            for uin, username in zip(uins, usernames):\n",
      "                if not \"\" in username:\n",
      "                    continue\n",
      "                fullContact = core.memberList + core.chatroomList + core.mpList\n",
      "                userDicts = utils.search_dict_list(fullContact,\n",
      "                                                   \"\", username)\n",
      "                if userDicts:\n",
      "                    if userDicts.get(\"\", 0) == 0:\n",
      "                        userDicts[\"\"] = uin\n",
      "                        usernameChangedList.append(username)\n",
      "                        logger.debug(\"\" % (username, uin))\n",
      "                    else:\n",
      "                        if userDicts[\"\"] != uin:\n",
      "                            logger.debug(\"\" % (\n",
      "                                userDicts[\"\"], uin))\n",
      "                else:\n",
      "                    if \"\" in username:\n",
      "                        core.storageClass.updateLock.release()\n",
      "                        update_chatroom(core, username)\n",
      "                        core.storageClass.updateLock.acquire()\n",
      "                        newChatroomDict = utils.search_dict_list(\n",
      "                            core.chatroomList, \"\", username)\n",
      "                        if newChatroomDict is None:\n",
      "                            newChatroomDict = utils.struct_friend_info({\n",
      "                                \"\": username,\n",
      "                                \"\": uin,\n",
      "                                \"\": copy.deepcopy(core.loginInfo[\"\"])})\n",
      "                            core.chatroomList.append(newChatroomDict)\n",
      "                        else:\n",
      "                            newChatroomDict[\"\"] = uin\n",
      "                    elif \"\" in username:\n",
      "                        core.storageClass.updateLock.release()\n",
      "                        update_friend(core, username)\n",
      "                        core.storageClass.updateLock.acquire()\n",
      "                        newFriendDict = utils.search_dict_list(\n",
      "                            core.memberList, \"\", username)\n",
      "                        if newFriendDict is None:\n",
      "                            newFriendDict = utils.struct_friend_info({\n",
      "                                \"\": username,\n",
      "                                \"\": uin, })\n",
      "                            core.memberList.append(newFriendDict)\n",
      "                        else:\n",
      "                            newFriendDict[\"\"] = uin\n",
      "                    usernameChangedList.append(username)\n",
      "                    logger.debug(\"\" % (username, uin))\n",
      "        else:\n",
      "            logger.debug(\"\" % (\n",
      "                len(uins), len(usernames)))\n",
      "    else:\n",
      "        logger.debug(\"\")\n",
      "        logger.debug(msg[\"\"])\n",
      "    return r\n",
      "\n",
      "\n",
      "def get_contact(self, update=False):\n",
      "    if not update:\n",
      "        return utils.contact_deep_copy(self, self.chatroomList)\n",
      "\n",
      "    def _get_contact(seq=0):\n",
      "        url = \"\" % (self.loginInfo[\"\"],\n",
      "                                                          int(time.time()), seq, self.loginInfo[\"\"])\n",
      "        headers = {\n",
      "            \"\": \"\",\n",
      "            \"\": config.USER_AGENT, }\n",
      "        try:\n",
      "            r = self.s.get(url, headers=headers)\n",
      "        except:\n",
      "            logger.info(\n",
      "                \"\")\n",
      "            for chatroom in self.get_chatrooms():\n",
      "                self.update_chatroom(chatroom[\"\"], detailedMember=True)\n",
      "            return 0, []\n",
      "        j = json.loads(r.content.decode(\"\", \"\"))\n",
      "        return j.get(\"\", 0), j.get(\"\")\n",
      "    seq, memberList = 0, []\n",
      "    while 1:\n",
      "        seq, batchMemberList = _get_contact(seq)\n",
      "        memberList.extend(batchMemberList)\n",
      "        if seq == 0:\n",
      "            break\n",
      "    chatroomList, otherList = [], []\n",
      "    for m in memberList:\n",
      "        if m[\"\"] != 0:\n",
      "            otherList.append(m)\n",
      "        elif \"\" in m[\"\"]:\n",
      "            chatroomList.append(m)\n",
      "        elif \"\" in m[\"\"]:\n",
      "            \"\"\n",
      "            otherList.append(m)\n",
      "    if chatroomList:\n",
      "        update_local_chatrooms(self, chatroomList)\n",
      "    if otherList:\n",
      "        update_local_friends(self, otherList)\n",
      "    return utils.contact_deep_copy(self, chatroomList)\n",
      "\n",
      "\n",
      "def get_friends(self, update=False):\n",
      "    if update:\n",
      "        self.get_contact(update=True)\n",
      "    return utils.contact_deep_copy(self, self.memberList)\n",
      "\n",
      "\n",
      "def get_chatrooms(self, update=False, contactOnly=False):\n",
      "    if contactOnly:\n",
      "        return self.get_contact(update=True)\n",
      "    else:\n",
      "        if update:\n",
      "            self.get_contact(True)\n",
      "        return utils.contact_deep_copy(self, self.chatroomList)\n",
      "\n",
      "\n",
      "def get_mps(self, update=False):\n",
      "    if update:\n",
      "        self.get_contact(update=True)\n",
      "    return utils.contact_deep_copy(self, self.mpList)\n",
      "\n",
      "\n",
      "def set_alias(self, userName, alias):\n",
      "    oldFriendInfo = utils.search_dict_list(\n",
      "        self.memberList, \"\", userName)\n",
      "    if oldFriendInfo is None:\n",
      "        return ReturnValue({\"\": {\n",
      "            \"\": -1001, }})\n",
      "    url = \"\" % (\n",
      "        self.loginInfo[\"\"], \"\", self.loginInfo[\"\"])\n",
      "    data = {\n",
      "        \"\": userName,\n",
      "        \"\": 2,\n",
      "        \"\": alias,\n",
      "        \"\": self.loginInfo[\"\"], }\n",
      "    headers = {\"\": config.USER_AGENT}\n",
      "    r = self.s.post(url, json.dumps(data, ensure_ascii=False).encode(\"\"),\n",
      "                    headers=headers)\n",
      "    r = ReturnValue(rawResponse=r)\n",
      "    if r:\n",
      "        oldFriendInfo[\"\"] = alias\n",
      "    return r\n",
      "\n",
      "\n",
      "def set_pinned(self, userName, isPinned=True):\n",
      "    url = \"\" % (\n",
      "        self.loginInfo[\"\"], self.loginInfo[\"\"])\n",
      "    data = {\n",
      "        \"\": userName,\n",
      "        \"\": 3,\n",
      "        \"\": int(isPinned),\n",
      "        \"\": self.loginInfo[\"\"], }\n",
      "    headers = {\"\": config.USER_AGENT}\n",
      "    r = self.s.post(url, json=data, headers=headers)\n",
      "    return ReturnValue(rawResponse=r)\n",
      "\n",
      "\n",
      "def accept_friend(self, userName, v4=\"\", autoUpdate=True):\n",
      "    url = f\"\"\n",
      "    data = {\n",
      "        \"\": self.loginInfo[\"\"],\n",
      "        \"\": 3,  \"\"\n",
      "        \"\": 1,\n",
      "        \"\": [{\n",
      "            \"\": userName,\n",
      "            \"\": v4, }],\n",
      "        \"\": \"\",\n",
      "        \"\": 1,\n",
      "        \"\": [33],\n",
      "        \"\": self.loginInfo[\"\"], }\n",
      "    headers = {\n",
      "        \"\": \"\",\n",
      "        \"\": config.USER_AGENT}\n",
      "    r = self.s.post(url, headers=headers,\n",
      "                    data=json.dumps(data, ensure_ascii=False).encode(\"\", \"\"))\n",
      "    if autoUpdate:\n",
      "        self.update_friend(userName)\n",
      "    return ReturnValue(rawResponse=r)\n",
      "\n",
      "\n",
      "def get_head_img(self, userName=None, chatroomUserName=None, picDir=None):\n",
      "    \"\"\n",
      "    params = {\n",
      "        \"\": userName or chatroomUserName or self.storageClass.userName,\n",
      "        \"\": self.loginInfo[\"\"],\n",
      "        \"\": \"\", }\n",
      "    url = \"\" % self.loginInfo[\"\"]\n",
      "    if chatroomUserName is None:\n",
      "        infoDict = self.storageClass.search_friends(userName=userName)\n",
      "        if infoDict is None:\n",
      "            return ReturnValue({\"\": {\n",
      "                \"\": \"\",\n",
      "                \"\": -1001, }})\n",
      "    else:\n",
      "        if userName is None:\n",
      "            url = \"\" % self.loginInfo[\"\"]\n",
      "        else:\n",
      "            chatroom = self.storageClass.search_chatrooms(\n",
      "                userName=chatroomUserName)\n",
      "            if chatroomUserName is None:\n",
      "                return ReturnValue({\"\": {\n",
      "                    \"\": \"\",\n",
      "                    \"\": -1001, }})\n",
      "            if \"\" in chatroom:\n",
      "                params[\"\"] = chatroom[\"\"]\n",
      "            params[\"\"] = params.get(\n",
      "                \"\") or chatroom[\"\"]\n",
      "    headers = {\"\": config.USER_AGENT}\n",
      "    r = self.s.get(url, params=params, stream=True, headers=headers)\n",
      "    tempStorage = io.BytesIO()\n",
      "    for block in r.iter_content(1024):\n",
      "        tempStorage.write(block)\n",
      "    if picDir is None:\n",
      "        return tempStorage.getvalue()\n",
      "    with open(picDir, \"\") as f:\n",
      "        f.write(tempStorage.getvalue())\n",
      "    tempStorage.seek(0)\n",
      "    return ReturnValue({\"\": {\n",
      "        \"\": \"\",\n",
      "        \"\": 0, },\n",
      "        \"\": utils.get_image_postfix(tempStorage.read(20)), })\n",
      "\n",
      "\n",
      "def create_chatroom(self, memberList, topic=\"\"):\n",
      "    url = \"\" % (\n",
      "        self.loginInfo[\"\"], self.loginInfo[\"\"], int(time.time()))\n",
      "    data = {\n",
      "        \"\": self.loginInfo[\"\"],\n",
      "        \"\": len(memberList.split(\"\")),\n",
      "        \"\": [{\"\": member} for member in memberList.split(\"\")],\n",
      "        \"\": topic, }\n",
      "    headers = {\n",
      "        \"\": \"\",\n",
      "        \"\": config.USER_AGENT}\n",
      "    r = self.s.post(url, headers=headers,\n",
      "                    data=json.dumps(data, ensure_ascii=False).encode(\"\", \"\"))\n",
      "    return ReturnValue(rawResponse=r)\n",
      "\n",
      "\n",
      "def set_chatroom_name(self, chatroomUserName, name):\n",
      "    url = \"\" % (\n",
      "        self.loginInfo[\"\"], self.loginInfo[\"\"])\n",
      "    data = {\n",
      "        \"\": self.loginInfo[\"\"],\n",
      "        \"\": chatroomUserName,\n",
      "        \"\": name, }\n",
      "    headers = {\n",
      "        \"\": \"\",\n",
      "        \"\": config.USER_AGENT}\n",
      "    r = self.s.post(url, headers=headers,\n",
      "                    data=json.dumps(data, ensure_ascii=False).encode(\"\", \"\"))\n",
      "    return ReturnValue(rawResponse=r)\n",
      "\n",
      "\n",
      "def delete_member_from_chatroom(self, chatroomUserName, memberList):\n",
      "    url = \"\" % (\n",
      "        self.loginInfo[\"\"], self.loginInfo[\"\"])\n",
      "    data = {\n",
      "        \"\": self.loginInfo[\"\"],\n",
      "        \"\": chatroomUserName,\n",
      "        \"\": \"\".join([member[\"\"] for member in memberList]), }\n",
      "    headers = {\n",
      "        \"\": \"\",\n",
      "        \"\": config.USER_AGENT}\n",
      "    r = self.s.post(url, data=json.dumps(data), headers=headers)\n",
      "    return ReturnValue(rawResponse=r)\n",
      "\n",
      "\n",
      "def add_member_into_chatroom(self, chatroomUserName, memberList,\n",
      "                             useInvitation=False):\n",
      "    \"\"\n",
      "    if not useInvitation:\n",
      "        chatroom = self.storageClass.search_chatrooms(\n",
      "            userName=chatroomUserName)\n",
      "        if not chatroom:\n",
      "            chatroom = self.update_chatroom(chatroomUserName)\n",
      "        if len(chatroom[\"\"]) > self.loginInfo[\"\"]:\n",
      "            useInvitation = True\n",
      "    if useInvitation:\n",
      "        fun, memberKeyName = \"\", \"\"\n",
      "    else:\n",
      "        fun, memberKeyName = \"\", \"\"\n",
      "    url = \"\" % (\n",
      "        self.loginInfo[\"\"], fun, self.loginInfo[\"\"])\n",
      "    params = {\n",
      "        \"\": self.loginInfo[\"\"],\n",
      "        \"\": chatroomUserName,\n",
      "        memberKeyName: memberList, }\n",
      "    headers = {\n",
      "        \"\": \"\",\n",
      "        \"\": config.USER_AGENT}\n",
      "    r = self.s.post(url, data=json.dumps(params), headers=headers)\n",
      "    return ReturnValue(rawResponse=r)\n",
      "\n"
     ]
    }
   ],
   "execution_count": 3
  },
  {
   "metadata": {
    "ExecuteTime": {
     "end_time": "2024-08-31T07:48:49.250750Z",
     "start_time": "2024-08-31T07:48:49.219698Z"
    }
   },
   "cell_type": "code",
   "source": "import jedi",
   "id": "e5a1cffff664be63",
   "outputs": [],
   "execution_count": 4
  },
  {
   "metadata": {
    "ExecuteTime": {
     "end_time": "2024-08-31T07:48:55.788375Z",
     "start_time": "2024-08-31T07:48:55.773289Z"
    }
   },
   "cell_type": "code",
   "source": [
    "# 假设我们有一个简单的 Python 代码片段\n",
    "code = '''\n",
    "import os\n",
    "os.pa'''\n"
   ],
   "id": "143be42b187b6834",
   "outputs": [],
   "execution_count": 5
  },
  {
   "metadata": {
    "ExecuteTime": {
     "end_time": "2024-08-31T07:49:03.379039Z",
     "start_time": "2024-08-31T07:49:03.102206Z"
    }
   },
   "cell_type": "code",
   "source": [
    "# 使用 jedi.Script 来分析代码片段\n",
    "script = jedi.Script(code)\n"
   ],
   "id": "a41c3251898f94aa",
   "outputs": [],
   "execution_count": 6
  },
  {
   "metadata": {
    "ExecuteTime": {
     "end_time": "2024-08-31T07:49:08.713477Z",
     "start_time": "2024-08-31T07:49:08.681080Z"
    }
   },
   "cell_type": "code",
   "source": "script",
   "id": "3e06b59a2f5ee488",
   "outputs": [
    {
     "data": {
      "text/plain": [
       "<Script: None <SameEnvironment: 3.11.9 in /Users/yangxinyi/opt/miniforge3/envs/code_chinese_to_english>>"
      ]
     },
     "execution_count": 7,
     "metadata": {},
     "output_type": "execute_result"
    }
   ],
   "execution_count": 7
  },
  {
   "metadata": {
    "ExecuteTime": {
     "end_time": "2024-08-31T07:49:24.845524Z",
     "start_time": "2024-08-31T07:49:23.922936Z"
    }
   },
   "cell_type": "code",
   "source": [
    "# 调用 complete 方法来获取补全建议\n",
    "completions = script.complete(line=3, column=5)  # 第3行，第5列的补全"
   ],
   "id": "1795ccd36a3e4fe0",
   "outputs": [],
   "execution_count": 8
  },
  {
   "metadata": {
    "ExecuteTime": {
     "end_time": "2024-08-31T07:49:50.187558Z",
     "start_time": "2024-08-31T07:49:50.182616Z"
    }
   },
   "cell_type": "code",
   "source": "t = completions[0]",
   "id": "cbb12f23cd29e1f1",
   "outputs": [],
   "execution_count": 11
  },
  {
   "metadata": {
    "ExecuteTime": {
     "end_time": "2024-08-31T07:50:01.102286Z",
     "start_time": "2024-08-31T07:50:01.097729Z"
    }
   },
   "cell_type": "code",
   "source": [
    "for completion in completions:\n",
    "    print(completion.name)  # 输出补全建议的名称"
   ],
   "id": "5d950d534b19c81b",
   "outputs": [
    {
     "name": "stdout",
     "output_type": "stream",
     "text": [
      "pardir\n",
      "path\n",
      "pathconf\n",
      "pathconf_names\n",
      "pathsep\n"
     ]
    }
   ],
   "execution_count": 13
  },
  {
   "metadata": {
    "ExecuteTime": {
     "end_time": "2024-08-31T07:50:18.961085Z",
     "start_time": "2024-08-31T07:50:18.956576Z"
    }
   },
   "cell_type": "code",
   "source": [
    "code = '''\n",
    "x = 1\n",
    "y = \"hello\"\n",
    "z = x + 2\n",
    "'''"
   ],
   "id": "1fdd56b718998a0",
   "outputs": [],
   "execution_count": 14
  },
  {
   "metadata": {
    "ExecuteTime": {
     "end_time": "2024-08-31T07:50:22.953952Z",
     "start_time": "2024-08-31T07:50:22.944328Z"
    }
   },
   "cell_type": "code",
   "source": [
    "# 使用 jedi.Script 来分析代码片段\n",
    "script = jedi.Script(code)\n"
   ],
   "id": "8d05c5c368774b6b",
   "outputs": [],
   "execution_count": 15
  },
  {
   "metadata": {
    "ExecuteTime": {
     "end_time": "2024-08-31T07:51:23.669236Z",
     "start_time": "2024-08-31T07:51:23.650067Z"
    }
   },
   "cell_type": "code",
   "source": [
    "# 使用 infer 方法来推断变量的类型\n",
    "inferred = script.infer(line=3, column=0)  # 推断第2行第0列的变量 'x'\n",
    "for i in inferred:\n",
    "    print(i.name, i.type)  # 输出变量的名称和类型"
   ],
   "id": "c10cfbdcfa064014",
   "outputs": [
    {
     "name": "stdout",
     "output_type": "stream",
     "text": [
      "str instance\n"
     ]
    }
   ],
   "execution_count": 18
  },
  {
   "metadata": {
    "ExecuteTime": {
     "end_time": "2024-08-31T07:51:28.978039Z",
     "start_time": "2024-08-31T07:51:28.973771Z"
    }
   },
   "cell_type": "code",
   "source": "inferred",
   "id": "89f51ae65bc690cd",
   "outputs": [
    {
     "data": {
      "text/plain": [
       "[<Name full_name='builtins.str', description='instance str'>]"
      ]
     },
     "execution_count": 19,
     "metadata": {},
     "output_type": "execute_result"
    }
   ],
   "execution_count": 19
  },
  {
   "metadata": {
    "ExecuteTime": {
     "end_time": "2024-08-31T07:52:53.921896Z",
     "start_time": "2024-08-31T07:52:53.866063Z"
    }
   },
   "cell_type": "code",
   "source": [
    "import jedi\n",
    "\n",
    "code = '''\n",
    "def my_function():\n",
    "    return 42\n",
    "\n",
    "x = my_function()\n",
    "'''\n",
    "\n",
    "# 创建 jedi.Script 对象来分析代码片段\n",
    "script = jedi.Script(code)\n",
    "\n",
    "# 使用 infer 方法来查找定义\n",
    "inferred = script.infer(line=4, column=4)  # 假设第4行第4列处调用了 'my_function'\n",
    "for definition in inferred:\n",
    "    print(f\"Definition found at line {definition.line}, column {definition.column}, in module {definition.module_path}\")"
   ],
   "id": "cfe7f4fd714773b1",
   "outputs": [
    {
     "ename": "ValueError",
     "evalue": "`column` parameter (4) is not in a valid range (0-0) for line 4 ('\\n').",
     "output_type": "error",
     "traceback": [
      "\u001B[0;31m---------------------------------------------------------------------------\u001B[0m",
      "\u001B[0;31mValueError\u001B[0m                                Traceback (most recent call last)",
      "Cell \u001B[0;32mIn[22], line 14\u001B[0m\n\u001B[1;32m     11\u001B[0m script \u001B[38;5;241m=\u001B[39m jedi\u001B[38;5;241m.\u001B[39mScript(code)\n\u001B[1;32m     13\u001B[0m \u001B[38;5;66;03m# 使用 infer 方法来查找定义\u001B[39;00m\n\u001B[0;32m---> 14\u001B[0m inferred \u001B[38;5;241m=\u001B[39m \u001B[43mscript\u001B[49m\u001B[38;5;241;43m.\u001B[39;49m\u001B[43minfer\u001B[49m\u001B[43m(\u001B[49m\u001B[43mline\u001B[49m\u001B[38;5;241;43m=\u001B[39;49m\u001B[38;5;241;43m4\u001B[39;49m\u001B[43m,\u001B[49m\u001B[43m \u001B[49m\u001B[43mcolumn\u001B[49m\u001B[38;5;241;43m=\u001B[39;49m\u001B[38;5;241;43m4\u001B[39;49m\u001B[43m)\u001B[49m  \u001B[38;5;66;03m# 假设第4行第4列处调用了 'my_function'\u001B[39;00m\n\u001B[1;32m     15\u001B[0m \u001B[38;5;28;01mfor\u001B[39;00m definition \u001B[38;5;129;01min\u001B[39;00m inferred:\n\u001B[1;32m     16\u001B[0m     \u001B[38;5;28mprint\u001B[39m(\u001B[38;5;124mf\u001B[39m\u001B[38;5;124m\"\u001B[39m\u001B[38;5;124mDefinition found at line \u001B[39m\u001B[38;5;132;01m{\u001B[39;00mdefinition\u001B[38;5;241m.\u001B[39mline\u001B[38;5;132;01m}\u001B[39;00m\u001B[38;5;124m, column \u001B[39m\u001B[38;5;132;01m{\u001B[39;00mdefinition\u001B[38;5;241m.\u001B[39mcolumn\u001B[38;5;132;01m}\u001B[39;00m\u001B[38;5;124m, in module \u001B[39m\u001B[38;5;132;01m{\u001B[39;00mdefinition\u001B[38;5;241m.\u001B[39mmodule_path\u001B[38;5;132;01m}\u001B[39;00m\u001B[38;5;124m\"\u001B[39m)\n",
      "File \u001B[0;32m~/opt/miniforge3/envs/code_chinese_to_english/lib/python3.11/site-packages/jedi/api/helpers.py:484\u001B[0m, in \u001B[0;36mvalidate_line_column.<locals>.wrapper\u001B[0;34m(self, line, column, *args, **kwargs)\u001B[0m\n\u001B[1;32m    482\u001B[0m column \u001B[38;5;241m=\u001B[39m line_len \u001B[38;5;28;01mif\u001B[39;00m column \u001B[38;5;129;01mis\u001B[39;00m \u001B[38;5;28;01mNone\u001B[39;00m \u001B[38;5;28;01melse\u001B[39;00m column\n\u001B[1;32m    483\u001B[0m \u001B[38;5;28;01mif\u001B[39;00m \u001B[38;5;129;01mnot\u001B[39;00m (\u001B[38;5;241m0\u001B[39m \u001B[38;5;241m<\u001B[39m\u001B[38;5;241m=\u001B[39m column \u001B[38;5;241m<\u001B[39m\u001B[38;5;241m=\u001B[39m line_len):\n\u001B[0;32m--> 484\u001B[0m     \u001B[38;5;28;01mraise\u001B[39;00m \u001B[38;5;167;01mValueError\u001B[39;00m(\u001B[38;5;124m'\u001B[39m\u001B[38;5;124m`column` parameter (\u001B[39m\u001B[38;5;132;01m%d\u001B[39;00m\u001B[38;5;124m) is not in a valid range \u001B[39m\u001B[38;5;124m'\u001B[39m\n\u001B[1;32m    485\u001B[0m                      \u001B[38;5;124m'\u001B[39m\u001B[38;5;124m(0-\u001B[39m\u001B[38;5;132;01m%d\u001B[39;00m\u001B[38;5;124m) for line \u001B[39m\u001B[38;5;132;01m%d\u001B[39;00m\u001B[38;5;124m (\u001B[39m\u001B[38;5;132;01m%r\u001B[39;00m\u001B[38;5;124m).\u001B[39m\u001B[38;5;124m'\u001B[39m \u001B[38;5;241m%\u001B[39m (\n\u001B[1;32m    486\u001B[0m                          column, line_len, line, line_string))\n\u001B[1;32m    487\u001B[0m \u001B[38;5;28;01mreturn\u001B[39;00m func(\u001B[38;5;28mself\u001B[39m, line, column, \u001B[38;5;241m*\u001B[39margs, \u001B[38;5;241m*\u001B[39m\u001B[38;5;241m*\u001B[39mkwargs)\n",
      "\u001B[0;31mValueError\u001B[0m: `column` parameter (4) is not in a valid range (0-0) for line 4 ('\\n')."
     ]
    }
   ],
   "execution_count": 22
  },
  {
   "metadata": {
    "ExecuteTime": {
     "end_time": "2024-08-31T08:41:59.088174Z",
     "start_time": "2024-08-31T08:41:59.064900Z"
    }
   },
   "cell_type": "code",
   "source": [
    "import ast\n",
    "\n",
    "# 示例Python代码\n",
    "code = \"\"\"\n",
    "class MyClass:\n",
    "    def method(self):\n",
    "        pass\n",
    "\n",
    "def my_function():\n",
    "    return 'Hello, world!'\n",
    "\n",
    "x = 42\n",
    "\"\"\"\n",
    "\n",
    "# 解析代码\n",
    "parsed_code = ast.parse(code)\n",
    "\n",
    "# 遍历AST节点\n",
    "for node in ast.walk(parsed_code):\n",
    "    if isinstance(node, ast.ClassDef):\n",
    "        print(f\"Class definition: {node.name}\")\n",
    "    elif isinstance(node, ast.FunctionDef):\n",
    "        print(f\"Function definition: {node.name}\")\n",
    "    elif isinstance(node, ast.Assign):\n",
    "        # 获取被赋值的变量名（假设都是简单赋值）\n",
    "        for target in node.targets:\n",
    "            if isinstance(target, ast.Name):\n",
    "                print(f\"Variable assignment: {target.id}\")\n"
   ],
   "id": "72af8bc14497a15d",
   "outputs": [
    {
     "name": "stdout",
     "output_type": "stream",
     "text": [
      "Class definition: MyClass\n",
      "Function definition: my_function\n",
      "Variable assignment: x\n",
      "Function definition: method\n"
     ]
    }
   ],
   "execution_count": 23
  },
  {
   "metadata": {},
   "cell_type": "code",
   "outputs": [],
   "execution_count": null,
   "source": "",
   "id": "789075318817e594"
  },
  {
   "metadata": {},
   "cell_type": "code",
   "outputs": [],
   "execution_count": null,
   "source": "",
   "id": "98dfc49d13ebac96"
  },
  {
   "metadata": {
    "ExecuteTime": {
     "end_time": "2024-09-18T09:00:58.583420Z",
     "start_time": "2024-09-18T09:00:58.573321Z"
    }
   },
   "cell_type": "code",
   "source": [
    "import ast\n",
    "import astor\n",
    "\n",
    "# 定义变量重命名器\n",
    "class VariableRenamer(ast.NodeTransformer):\n",
    "    def __init__(self, translation_dict):\n",
    "        self.translation_dict = translation_dict\n",
    "\n",
    "    def visit_Name(self, node):\n",
    "        if node.id in self.translation_dict:\n",
    "            node.id = self.translation_dict[node.id]\n",
    "        return self.generic_visit(node)\n",
    "\n",
    "    def visit_Attribute(self, node):\n",
    "        node = self.generic_visit(node)\n",
    "        if node.attr in self.translation_dict:\n",
    "            node.attr = self.translation_dict[node.attr]\n",
    "        return node\n",
    "\n",
    "    def visit_FunctionDef(self, node):\n",
    "        # 处理函数名\n",
    "        if node.name in self.translation_dict:\n",
    "            node.name = self.translation_dict[node.name]\n",
    "        # 处理参数名\n",
    "        node.args = self.visit(node.args)\n",
    "        # 处理函数体\n",
    "        node.body = [self.visit(n) for n in node.body]\n",
    "        return node\n",
    "\n",
    "    def visit_arguments(self, node):\n",
    "        # 处理函数参数列表\n",
    "        node.args = [self.visit(arg) for arg in node.args]\n",
    "        return node\n",
    "\n",
    "    def visit_arg(self, node):\n",
    "        # 处理单个参数\n",
    "        if node.arg in self.translation_dict:\n",
    "            node.arg = self.translation_dict[node.arg]\n",
    "        return node\n",
    "\n",
    "    def visit_Return(self, node):\n",
    "        # 处理返回语句\n",
    "        node.value = self.visit(node.value)\n"
   ],
   "id": "81686e858bb23375",
   "outputs": [],
   "execution_count": 12
  },
  {
   "metadata": {
    "ExecuteTime": {
     "end_time": "2024-09-18T09:41:54.303359Z",
     "start_time": "2024-09-18T09:41:54.287159Z"
    }
   },
   "cell_type": "code",
   "source": [
    "# 假设这是要翻译的代码\n",
    "code = '''\n",
    "def add_numbers(a, b):\n",
    "    # 注释内容\n",
    "    result = a + b\n",
    "    return result\n",
    "'''\n"
   ],
   "id": "d36ef1706f04ea2a",
   "outputs": [],
   "execution_count": 21
  },
  {
   "metadata": {
    "ExecuteTime": {
     "end_time": "2024-09-18T09:41:55.975345Z",
     "start_time": "2024-09-18T09:41:55.972790Z"
    }
   },
   "cell_type": "code",
   "source": [
    "# 翻译字典\n",
    "translation_dict = {\n",
    "    'add_numbers': '添加数字',\n",
    "    'a': '数字一',\n",
    "    'b': '数字二',\n",
    "    'result': '结果'\n",
    "}"
   ],
   "id": "9acda83668724a8e",
   "outputs": [],
   "execution_count": 22
  },
  {
   "metadata": {
    "ExecuteTime": {
     "end_time": "2024-09-18T09:41:56.461372Z",
     "start_time": "2024-09-18T09:41:56.457694Z"
    }
   },
   "cell_type": "code",
   "source": [
    "# 解析代码\n",
    "tree = ast.parse(code)"
   ],
   "id": "c381daacfdcb34f3",
   "outputs": [],
   "execution_count": 23
  },
  {
   "metadata": {
    "ExecuteTime": {
     "end_time": "2024-09-18T09:41:56.885032Z",
     "start_time": "2024-09-18T09:41:56.881837Z"
    }
   },
   "cell_type": "code",
   "source": "print(ast.dump(tree, indent=4))",
   "id": "5cd076cf437f1c36",
   "outputs": [
    {
     "name": "stdout",
     "output_type": "stream",
     "text": [
      "Module(\n",
      "    body=[\n",
      "        FunctionDef(\n",
      "            name='add_numbers',\n",
      "            args=arguments(\n",
      "                posonlyargs=[],\n",
      "                args=[\n",
      "                    arg(arg='a'),\n",
      "                    arg(arg='b')],\n",
      "                kwonlyargs=[],\n",
      "                kw_defaults=[],\n",
      "                defaults=[]),\n",
      "            body=[\n",
      "                Assign(\n",
      "                    targets=[\n",
      "                        Name(id='result', ctx=Store())],\n",
      "                    value=BinOp(\n",
      "                        left=Name(id='a', ctx=Load()),\n",
      "                        op=Add(),\n",
      "                        right=Name(id='b', ctx=Load()))),\n",
      "                Return(\n",
      "                    value=Name(id='result', ctx=Load()))],\n",
      "            decorator_list=[])],\n",
      "    type_ignores=[])\n"
     ]
    }
   ],
   "execution_count": 24
  },
  {
   "metadata": {
    "ExecuteTime": {
     "end_time": "2024-09-18T09:42:01.319402Z",
     "start_time": "2024-09-18T09:42:01.313404Z"
    }
   },
   "cell_type": "code",
   "source": [
    "# 创建并应用变量重命名器\n",
    "renamer = VariableRenamer(translation_dict)\n",
    "new_tree = renamer.visit(tree)"
   ],
   "id": "e0fb8192f21a0c43",
   "outputs": [],
   "execution_count": 25
  },
  {
   "metadata": {
    "ExecuteTime": {
     "end_time": "2024-09-18T09:42:02.549454Z",
     "start_time": "2024-09-18T09:42:02.546873Z"
    }
   },
   "cell_type": "code",
   "source": [
    "# 生成新的代码\n",
    "new_code = astor.to_source(new_tree)"
   ],
   "id": "8464b26d5c2a0e44",
   "outputs": [],
   "execution_count": 26
  },
  {
   "metadata": {
    "ExecuteTime": {
     "end_time": "2024-09-18T09:42:04.561464Z",
     "start_time": "2024-09-18T09:42:04.559175Z"
    }
   },
   "cell_type": "code",
   "source": "print(new_code)",
   "id": "27f2d714fb460834",
   "outputs": [
    {
     "name": "stdout",
     "output_type": "stream",
     "text": [
      "def 添加数字(数字一, 数字二):\n",
      "    结果 = 数字一 + 数字二\n",
      "\n"
     ]
    }
   ],
   "execution_count": 27
  },
  {
   "metadata": {
    "ExecuteTime": {
     "end_time": "2024-09-19T03:43:41.426596Z",
     "start_time": "2024-09-19T03:43:41.419907Z"
    }
   },
   "cell_type": "code",
   "source": "import 配置目录",
   "id": "550b7e93993dddb3",
   "outputs": [],
   "execution_count": 30
  },
  {
   "metadata": {
    "ExecuteTime": {
     "end_time": "2024-09-19T03:43:45.672766Z",
     "start_time": "2024-09-19T03:43:45.661139Z"
    }
   },
   "cell_type": "code",
   "source": "配置目录.a",
   "id": "53eeeb4c63e1c011",
   "outputs": [
    {
     "data": {
      "text/plain": [
       "1"
      ]
     },
     "execution_count": 31,
     "metadata": {},
     "output_type": "execute_result"
    }
   ],
   "execution_count": 31
  },
  {
   "metadata": {},
   "cell_type": "code",
   "outputs": [],
   "execution_count": null,
   "source": "",
   "id": "19adf621a79a9cc2"
  }
 ],
 "metadata": {
  "kernelspec": {
   "display_name": "code_chinese_to_english",
   "language": "python",
   "name": "code_chinese_to_english"
  },
  "language_info": {
   "codemirror_mode": {
    "name": "ipython",
    "version": 2
   },
   "file_extension": ".py",
   "mimetype": "text/x-python",
   "name": "python",
   "nbconvert_exporter": "python",
   "pygments_lexer": "ipython2",
   "version": "2.7.6"
  }
 },
 "nbformat": 4,
 "nbformat_minor": 5
}
