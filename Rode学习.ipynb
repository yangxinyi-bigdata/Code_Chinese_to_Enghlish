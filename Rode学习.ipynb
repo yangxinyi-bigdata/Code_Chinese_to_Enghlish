{
 "cells": [
  {
   "metadata": {},
   "cell_type": "markdown",
   "source": [
    "项目是文件系统中的一个文件夹。\n",
    "\n",
    "Rope在需要时搜索项目中的Python模块和包。\n",
    "\n",
    "重构只会更改项目中的文件和文件夹。\n",
    "\n",
    "从项目内的模块导入的项目外模块会被处理，但不会被重构更改。\n",
    "\n",
    "Rope在项目中创建了一个rope文件夹。默认情况下，此文件夹的名称为.ropeproject，但可以使用构造函数的ropefolder参数进行更改。传递“无”将阻止rope生成此文件夹。\n",
    "\n",
    "Rope使用.ropeproject文件夹来保存对象信息和加载项目配置。\n",
    "\n",
    "项目首选项可以通过向构造函数传递选项或在.ropeproject/config.py中进行配置。有关详细信息，请参阅默认的config.py，rope.base.default_config模块。\n",
    "\n",
    "可以config.py文件中可用的所有配置指定为Project构造函数的关键字参数。这些参数将覆盖config.py文件中的参数。\n",
    "\n",
    "每个项目都有一组被忽略的资源模式。你可以用它来告诉rope忽略匹配某些模式的文件和文件夹。\n",
    "\n",
    "如果你不想丢失你的objectdb和历史记录，.ropeproject文件夹可以安全地复制到项目的其他克隆中。\n",
    "\n",
    "libutils模块提供了一些工具，可以使rope作为一个库使用变得更加容易。稍后我们将详细讨论这个模块。\n",
    "\n",
    "在rope中，项目中的文件和文件夹是通过rope.base.resources.Resource对象访问的。它有两个子类File和Folder。我们关心的是重构和修改（我们稍后会讨论它们）使用资源。\n",
    "\n",
    "为项目中的路径创建资源有两个选项。第一种方法使用Project.get_resource（）方法。\n",
    "\n",
    "```python\n",
    "from rope.base import project\n",
    "myresource = myproject.get_resource('/path/to/resource')\n",
    "```\n",
    "\n",
    "但是，最好使用libutils.path_to_resource（）函数，因为它更灵活，并且提供了一种创建资源的统一方法。它以项目(project)和路径(path)作为参数，并带有可选类型。type参数的值为file或folder，可以为尚不存在的对象创建资源。\n",
    "\n",
    "```python\n",
    "from rope.base import libutils\n",
    "myresource = libutils.path_to_resource(myproject, '/path/to/resource')\n",
    "```\n",
    "\n",
    "当我们有一个资源。我们怎么去了解它呢？答案是使用它的path和real_path属性。资源。\n",
    "Resource.real_path 是资源的绝对路径, Resource.path是项目的相对路径."
   ],
   "id": "8b435d28c7fee87f"
  },
  {
   "metadata": {},
   "cell_type": "markdown",
   "source": [
    "变量类型: \n",
    "\n",
    "PyFunction 函数\n",
    "\n",
    "PyComprehension 推导式\n",
    "\n",
    "PyClass 类\n",
    "\n",
    "PyModule 模块\n",
    "\n",
    "PyPackage 包"
   ],
   "id": "c43d33b52005885a"
  },
  {
   "cell_type": "code",
   "id": "initial_id",
   "metadata": {
    "collapsed": true,
    "ExecuteTime": {
     "end_time": "2024-09-02T11:18:58.825015Z",
     "start_time": "2024-09-02T11:18:58.725520Z"
    }
   },
   "source": [
    "import rope\n",
    "from rope.base.project import Project\n",
    "from rope.refactor.rename import Rename\n",
    "from rope.base import libutils\n",
    "from rope.refactor.extract import ExtractVariable\n",
    "from rope.contrib import codeassist\n",
    "from rope.base.evaluate import eval_location"
   ],
   "outputs": [],
   "execution_count": 1
  },
  {
   "metadata": {
    "ExecuteTime": {
     "end_time": "2024-09-02T11:47:08.345505Z",
     "start_time": "2024-09-02T11:47:08.307720Z"
    }
   },
   "cell_type": "code",
   "source": [
    "# 创建一个Rope项目\n",
    "项目路径 = '/Users/yangxinyi/Downloads/200_临时文件夹/english_test_project_V2/'\n",
    "项目 = Project(项目路径)\n",
    "代码路径 = '/Users/yangxinyi/Downloads/200_临时文件夹/english_test_project_V2/tmp/test.py'"
   ],
   "id": "8dfe00a5ee5a6b0c",
   "outputs": [],
   "execution_count": 84
  },
  {
   "metadata": {
    "ExecuteTime": {
     "end_time": "2024-09-02T11:47:08.423379Z",
     "start_time": "2024-09-02T11:47:08.419106Z"
    }
   },
   "cell_type": "code",
   "source": "项目.find_module(\"channel\")",
   "id": "49d9a0f4f6ca7e38",
   "outputs": [
    {
     "data": {
      "text/plain": [
       "<rope.base.resources.Folder \"channel\" at 0x1056b2550>"
      ]
     },
     "execution_count": 85,
     "metadata": {},
     "output_type": "execute_result"
    }
   ],
   "execution_count": 85
  },
  {
   "metadata": {
    "ExecuteTime": {
     "end_time": "2024-09-02T11:47:08.580612Z",
     "start_time": "2024-09-02T11:47:08.578589Z"
    }
   },
   "cell_type": "code",
   "source": [
    "# 加载你想要重构的文件\n",
    "# source = myproject.get_resource('config.py')\n",
    "\n",
    "资源 = libutils.path_to_resource(项目, 代码路径)"
   ],
   "id": "65dee50277e1a882",
   "outputs": [],
   "execution_count": 86
  },
  {
   "metadata": {},
   "cell_type": "markdown",
   "source": "下面展示如何从文件中提取变量, 首先需要指向某个文件的Resource对象: ",
   "id": "c4f373da2f8fbea3"
  },
  {
   "metadata": {
    "ExecuteTime": {
     "end_time": "2024-09-02T11:47:08.833860Z",
     "start_time": "2024-09-02T11:47:08.831178Z"
    }
   },
   "cell_type": "code",
   "source": "项目",
   "id": "c88005eb25bb50d8",
   "outputs": [
    {
     "data": {
      "text/plain": [
       "<rope.base.project.Project \"/Users/yangxinyi/Downloads/200_临时文件夹/english_test_project_V2\">"
      ]
     },
     "execution_count": 87,
     "metadata": {},
     "output_type": "execute_result"
    }
   ],
   "execution_count": 87
  },
  {
   "metadata": {
    "ExecuteTime": {
     "end_time": "2024-09-02T11:47:08.989051Z",
     "start_time": "2024-09-02T11:47:08.986012Z"
    }
   },
   "cell_type": "code",
   "source": "资源.read()",
   "id": "9ed317688cb6742b",
   "outputs": [
    {
     "data": {
      "text/plain": [
       "'import json\\nimport pandas as pd\\n\\nfrom math import *\\nimport math\\n\\nfrom bridge import bridge\\n\\n# A = 1\\nclass A:\\n    def __init__(self, B):\\n        self.C = B\\n\\n    def t(self, K):\\n        O = K + 1\\n        return O\\n\\n\\ndef f(x):\\n    y = x + 1\\n    return y\\n\\n\\nk = pow(10)\\nprint(k)\\n\\nd = pd.array(3)\\n\\n\\nb = bridge.Bridge()\\n\\n\\n\\n\\n\\n\\n'"
      ]
     },
     "execution_count": 88,
     "metadata": {},
     "output_type": "execute_result"
    }
   ],
   "execution_count": 88
  },
  {
   "metadata": {
    "ExecuteTime": {
     "end_time": "2024-09-02T11:47:09.160095Z",
     "start_time": "2024-09-02T11:47:09.158452Z"
    }
   },
   "cell_type": "code",
   "source": [
    "# 获取 Rope 资源\n",
    "# resource = myproject.get_file('config.py')"
   ],
   "id": "7a9d30f41c1d7ff",
   "outputs": [],
   "execution_count": 89
  },
  {
   "metadata": {
    "ExecuteTime": {
     "end_time": "2024-09-02T11:49:48.372090Z",
     "start_time": "2024-09-02T11:49:48.366592Z"
    }
   },
   "cell_type": "code",
   "source": [
    "# 寻找特定函数名的位置\n",
    "offset = 资源.read().index('bridge')\n",
    "offset"
   ],
   "id": "f1f81a9aa2e84ac9",
   "outputs": [
    {
     "data": {
      "text/plain": [
       "70"
      ]
     },
     "execution_count": 107,
     "metadata": {},
     "output_type": "execute_result"
    }
   ],
   "execution_count": 107
  },
  {
   "metadata": {
    "ExecuteTime": {
     "end_time": "2024-09-02T11:49:49.134033Z",
     "start_time": "2024-09-02T11:49:49.130373Z"
    }
   },
   "cell_type": "code",
   "source": "监控范围 = libutils.get_string_scope(项目, 资源.read(), 资源)",
   "id": "11f60b2e293d5dad",
   "outputs": [],
   "execution_count": 108
  },
  {
   "metadata": {
    "ExecuteTime": {
     "end_time": "2024-09-02T11:49:49.347881Z",
     "start_time": "2024-09-02T11:49:49.342257Z"
    }
   },
   "cell_type": "code",
   "source": "监控范围.get_names()  # 当前监控范围变量",
   "id": "19e5c66956ca53d6",
   "outputs": [
    {
     "data": {
      "text/plain": [
       "{'ArithmeticError': <rope.base.builtins.BuiltinName at 0x104b81650>,\n",
       " 'AssertionError': <rope.base.builtins.BuiltinName at 0x105098490>,\n",
       " 'AttributeError': <rope.base.builtins.BuiltinName at 0x105098590>,\n",
       " 'BaseException': <rope.base.builtins.BuiltinName at 0x1050985d0>,\n",
       " 'BaseExceptionGroup': <rope.base.builtins.BuiltinName at 0x105098650>,\n",
       " 'BlockingIOError': <rope.base.builtins.BuiltinName at 0x1050986d0>,\n",
       " 'BrokenPipeError': <rope.base.builtins.BuiltinName at 0x105098750>,\n",
       " 'BufferError': <rope.base.builtins.BuiltinName at 0x1050987d0>,\n",
       " 'BytesWarning': <rope.base.builtins.BuiltinName at 0x105098850>,\n",
       " 'ChildProcessError': <rope.base.builtins.BuiltinName at 0x1050988d0>,\n",
       " 'ConnectionAbortedError': <rope.base.builtins.BuiltinName at 0x105098950>,\n",
       " 'ConnectionError': <rope.base.builtins.BuiltinName at 0x1050989d0>,\n",
       " 'ConnectionRefusedError': <rope.base.builtins.BuiltinName at 0x105098a50>,\n",
       " 'ConnectionResetError': <rope.base.builtins.BuiltinName at 0x105098ad0>,\n",
       " 'DeprecationWarning': <rope.base.builtins.BuiltinName at 0x105098b50>,\n",
       " 'EOFError': <rope.base.builtins.BuiltinName at 0x105098bd0>,\n",
       " 'Ellipsis': <rope.base.builtins.BuiltinName at 0x105061410>,\n",
       " 'EncodingWarning': <rope.base.builtins.BuiltinName at 0x104ea1b10>,\n",
       " 'EnvironmentError': <rope.base.builtins.BuiltinName at 0x105098c10>,\n",
       " 'Exception': <rope.base.builtins.BuiltinName at 0x105098cd0>,\n",
       " 'ExceptionGroup': <rope.base.builtins.BuiltinName at 0x105098d50>,\n",
       " 'False': <rope.base.builtins.BuiltinName at 0x1050b2a10>,\n",
       " 'FileExistsError': <rope.base.builtins.BuiltinName at 0x105098dd0>,\n",
       " 'FileNotFoundError': <rope.base.builtins.BuiltinName at 0x105098e50>,\n",
       " 'FloatingPointError': <rope.base.builtins.BuiltinName at 0x105098ed0>,\n",
       " 'FutureWarning': <rope.base.builtins.BuiltinName at 0x105098f90>,\n",
       " 'GeneratorExit': <rope.base.builtins.BuiltinName at 0x105099010>,\n",
       " 'IOError': <rope.base.builtins.BuiltinName at 0x105099090>,\n",
       " 'ImportError': <rope.base.builtins.BuiltinName at 0x105099110>,\n",
       " 'ImportWarning': <rope.base.builtins.BuiltinName at 0x105099190>,\n",
       " 'IndentationError': <rope.base.builtins.BuiltinName at 0x105099210>,\n",
       " 'IndexError': <rope.base.builtins.BuiltinName at 0x105099290>,\n",
       " 'InterruptedError': <rope.base.builtins.BuiltinName at 0x105099310>,\n",
       " 'IsADirectoryError': <rope.base.builtins.BuiltinName at 0x105099390>,\n",
       " 'KeyError': <rope.base.builtins.BuiltinName at 0x105099410>,\n",
       " 'KeyboardInterrupt': <rope.base.builtins.BuiltinName at 0x105099490>,\n",
       " 'LookupError': <rope.base.builtins.BuiltinName at 0x105099510>,\n",
       " 'MemoryError': <rope.base.builtins.BuiltinName at 0x105099590>,\n",
       " 'ModuleNotFoundError': <rope.base.builtins.BuiltinName at 0x105099610>,\n",
       " 'NameError': <rope.base.builtins.BuiltinName at 0x105099650>,\n",
       " 'NotADirectoryError': <rope.base.builtins.BuiltinName at 0x1050996d0>,\n",
       " 'NotImplemented': <rope.base.builtins.BuiltinName at 0x105099750>,\n",
       " 'NotImplementedError': <rope.base.builtins.BuiltinName at 0x1050997d0>,\n",
       " 'OSError': <rope.base.builtins.BuiltinName at 0x105099850>,\n",
       " 'OverflowError': <rope.base.builtins.BuiltinName at 0x105099890>,\n",
       " 'PendingDeprecationWarning': <rope.base.builtins.BuiltinName at 0x105099910>,\n",
       " 'PermissionError': <rope.base.builtins.BuiltinName at 0x105099990>,\n",
       " 'ProcessLookupError': <rope.base.builtins.BuiltinName at 0x105099a10>,\n",
       " 'RecursionError': <rope.base.builtins.BuiltinName at 0x105099a90>,\n",
       " 'ReferenceError': <rope.base.builtins.BuiltinName at 0x104ea2690>,\n",
       " 'ResourceWarning': <rope.base.builtins.BuiltinName at 0x104ea3750>,\n",
       " 'RuntimeError': <rope.base.builtins.BuiltinName at 0x105082490>,\n",
       " 'RuntimeWarning': <rope.base.builtins.BuiltinName at 0x1050b3e10>,\n",
       " 'StopAsyncIteration': <rope.base.builtins.BuiltinName at 0x105099a50>,\n",
       " 'StopIteration': <rope.base.builtins.BuiltinName at 0x105099b50>,\n",
       " 'SyntaxError': <rope.base.builtins.BuiltinName at 0x105099bd0>,\n",
       " 'SyntaxWarning': <rope.base.builtins.BuiltinName at 0x105099dd0>,\n",
       " 'SystemError': <rope.base.builtins.BuiltinName at 0x105099e50>,\n",
       " 'SystemExit': <rope.base.builtins.BuiltinName at 0x105099ed0>,\n",
       " 'TabError': <rope.base.builtins.BuiltinName at 0x105099f50>,\n",
       " 'TimeoutError': <rope.base.builtins.BuiltinName at 0x105099fd0>,\n",
       " 'True': <rope.base.builtins.BuiltinName at 0x10509a050>,\n",
       " 'TypeError': <rope.base.builtins.BuiltinName at 0x10509a0d0>,\n",
       " 'UnboundLocalError': <rope.base.builtins.BuiltinName at 0x10509a150>,\n",
       " 'UnicodeDecodeError': <rope.base.builtins.BuiltinName at 0x10509a1d0>,\n",
       " 'UnicodeEncodeError': <rope.base.builtins.BuiltinName at 0x10509a250>,\n",
       " 'UnicodeError': <rope.base.builtins.BuiltinName at 0x10509a290>,\n",
       " 'UnicodeTranslateError': <rope.base.builtins.BuiltinName at 0x10509a2d0>,\n",
       " 'UnicodeWarning': <rope.base.builtins.BuiltinName at 0x10509a310>,\n",
       " 'UserWarning': <rope.base.builtins.BuiltinName at 0x10509a390>,\n",
       " 'ValueError': <rope.base.builtins.BuiltinName at 0x10509a410>,\n",
       " 'Warning': <rope.base.builtins.BuiltinName at 0x10509a450>,\n",
       " 'ZeroDivisionError': <rope.base.builtins.BuiltinName at 0x10509a4d0>,\n",
       " '__IPYTHON__': <rope.base.builtins.BuiltinName at 0x10509a550>,\n",
       " '__build_class__': <rope.base.builtins.BuiltinName at 0x1050acf90>,\n",
       " '__debug__': <rope.base.builtins.BuiltinName at 0x104ea2390>,\n",
       " '__doc__': <rope.base.builtins.BuiltinName at 0x10509a5d0>,\n",
       " '__import__': <rope.base.builtins.BuiltinName at 0x10509a650>,\n",
       " '__loader__': <rope.base.builtins.BuiltinName at 0x10509a6d0>,\n",
       " '__name__': <rope.base.builtins.BuiltinName at 0x10509a750>,\n",
       " '__package__': <rope.base.builtins.BuiltinName at 0x10509a7d0>,\n",
       " '__spec__': <rope.base.builtins.BuiltinName at 0x10509a850>,\n",
       " 'abs': <rope.base.builtins.BuiltinName at 0x10509a890>,\n",
       " 'aiter': <rope.base.builtins.BuiltinName at 0x10509a910>,\n",
       " 'all': <rope.base.builtins.BuiltinName at 0x10509a990>,\n",
       " 'anext': <rope.base.builtins.BuiltinName at 0x10509aa10>,\n",
       " 'any': <rope.base.builtins.BuiltinName at 0x10509aa90>,\n",
       " 'ascii': <rope.base.builtins.BuiltinName at 0x10509ab10>,\n",
       " 'bin': <rope.base.builtins.BuiltinName at 0x10509ab90>,\n",
       " 'bool': <rope.base.builtins.BuiltinName at 0x10509ac10>,\n",
       " 'breakpoint': <rope.base.builtins.BuiltinName at 0x10509ac50>,\n",
       " 'bytearray': <rope.base.builtins.BuiltinName at 0x10509acd0>,\n",
       " 'bytes': <rope.base.builtins.BuiltinName at 0x10509ad50>,\n",
       " 'callable': <rope.base.builtins.BuiltinName at 0x10509add0>,\n",
       " 'chr': <rope.base.builtins.BuiltinName at 0x10509ae50>,\n",
       " 'classmethod': <rope.base.builtins.BuiltinName at 0x10509aed0>,\n",
       " 'compile': <rope.base.builtins.BuiltinName at 0x10509af50>,\n",
       " 'complex': <rope.base.builtins.BuiltinName at 0x10509afd0>,\n",
       " 'copyright': <rope.base.builtins.BuiltinName at 0x10509b050>,\n",
       " 'credits': <rope.base.builtins.BuiltinName at 0x10509b0d0>,\n",
       " 'delattr': <rope.base.builtins.BuiltinName at 0x10509b150>,\n",
       " 'dict': <rope.base.builtins.BuiltinName at 0x104ca3610>,\n",
       " 'dir': <rope.base.builtins.BuiltinName at 0x10509b210>,\n",
       " 'display': <rope.base.builtins.BuiltinName at 0x10509b290>,\n",
       " 'divmod': <rope.base.builtins.BuiltinName at 0x10509b2d0>,\n",
       " 'enumerate': <rope.base.builtins.BuiltinName at 0x104cbac10>,\n",
       " 'eval': <rope.base.builtins.BuiltinName at 0x10509b3d0>,\n",
       " 'exec': <rope.base.builtins.BuiltinName at 0x10509b450>,\n",
       " 'execfile': <rope.base.builtins.BuiltinName at 0x10509b490>,\n",
       " 'filter': <rope.base.builtins.BuiltinName at 0x10509b510>,\n",
       " 'float': <rope.base.builtins.BuiltinName at 0x10509b590>,\n",
       " 'format': <rope.base.builtins.BuiltinName at 0x10509b5d0>,\n",
       " 'frozenset': <rope.base.builtins.BuiltinName at 0x10509b650>,\n",
       " 'get_ipython': <rope.base.builtins.BuiltinName at 0x10509b690>,\n",
       " 'getattr': <rope.base.builtins.BuiltinName at 0x10509b710>,\n",
       " 'globals': <rope.base.builtins.BuiltinName at 0x10509b790>,\n",
       " 'hasattr': <rope.base.builtins.BuiltinName at 0x10509b810>,\n",
       " 'hash': <rope.base.builtins.BuiltinName at 0x10509b850>,\n",
       " 'help': <rope.base.builtins.BuiltinName at 0x10509b8d0>,\n",
       " 'hex': <rope.base.builtins.BuiltinName at 0x10509b910>,\n",
       " 'id': <rope.base.builtins.BuiltinName at 0x10509b990>,\n",
       " 'input': <rope.base.builtins.BuiltinName at 0x104cbae10>,\n",
       " 'int': <rope.base.builtins.BuiltinName at 0x10509ba90>,\n",
       " 'isinstance': <rope.base.builtins.BuiltinName at 0x10509bb10>,\n",
       " 'issubclass': <rope.base.builtins.BuiltinName at 0x10509bb90>,\n",
       " 'iter': <rope.base.builtins.BuiltinName at 0x104cbad90>,\n",
       " 'len': <rope.base.builtins.BuiltinName at 0x10509bc90>,\n",
       " 'license': <rope.base.builtins.BuiltinName at 0x10509bd10>,\n",
       " 'list': <rope.base.builtins.BuiltinName at 0x104ca26d0>,\n",
       " 'locals': <rope.base.builtins.BuiltinName at 0x10509be10>,\n",
       " 'map': <rope.base.builtins.BuiltinName at 0x10509be50>,\n",
       " 'max': <rope.base.builtins.BuiltinName at 0x10509bed0>,\n",
       " 'memoryview': <rope.base.builtins.BuiltinName at 0x10509bf50>,\n",
       " 'min': <rope.base.builtins.BuiltinName at 0x10509bf90>,\n",
       " 'next': <rope.base.builtins.BuiltinName at 0x10509bfd0>,\n",
       " 'object': <rope.base.builtins.BuiltinName at 0x104cbac50>,\n",
       " 'oct': <rope.base.builtins.BuiltinName at 0x105094150>,\n",
       " 'open': <rope.base.builtins.BuiltinName at 0x104cba6d0>,\n",
       " 'ord': <rope.base.builtins.BuiltinName at 0x105094250>,\n",
       " 'pow': <rope.base.pynamesdef.ImportedName at 0x1057ca050>,\n",
       " 'print': <rope.base.builtins.BuiltinName at 0x105094310>,\n",
       " 'property': <rope.base.builtins.BuiltinName at 0x104cbab10>,\n",
       " 'range': <rope.base.builtins.BuiltinName at 0x104cba790>,\n",
       " 'repr': <rope.base.builtins.BuiltinName at 0x105094490>,\n",
       " 'reversed': <rope.base.builtins.BuiltinName at 0x104cba810>,\n",
       " 'round': <rope.base.builtins.BuiltinName at 0x105094590>,\n",
       " 'runfile': <rope.base.builtins.BuiltinName at 0x1050945d0>,\n",
       " 'set': <rope.base.builtins.BuiltinName at 0x104cb87d0>,\n",
       " 'setattr': <rope.base.builtins.BuiltinName at 0x1050946d0>,\n",
       " 'slice': <rope.base.builtins.BuiltinName at 0x105094750>,\n",
       " 'sorted': <rope.base.builtins.BuiltinName at 0x104cbaa10>,\n",
       " 'staticmethod': <rope.base.builtins.BuiltinName at 0x105094850>,\n",
       " 'str': <rope.base.builtins.BuiltinName at 0x104b80510>,\n",
       " 'sum': <rope.base.builtins.BuiltinName at 0x105094950>,\n",
       " 'super': <rope.base.builtins.BuiltinName at 0x104cbaa90>,\n",
       " 'tuple': <rope.base.builtins.BuiltinName at 0x104cb8790>,\n",
       " 'type': <rope.base.builtins.BuiltinName at 0x104cbacd0>,\n",
       " 'vars': <rope.base.builtins.BuiltinName at 0x105094b50>,\n",
       " 'zip': <rope.base.builtins.BuiltinName at 0x104cbab90>,\n",
       " 'acos': <rope.base.pynamesdef.ImportedName at 0x1057b2fd0>,\n",
       " 'acosh': <rope.base.pynamesdef.ImportedName at 0x10556da10>,\n",
       " 'asin': <rope.base.pynamesdef.ImportedName at 0x10556d3d0>,\n",
       " 'asinh': <rope.base.pynamesdef.ImportedName at 0x1055b6290>,\n",
       " 'atan': <rope.base.pynamesdef.ImportedName at 0x1055b4390>,\n",
       " 'atan2': <rope.base.pynamesdef.ImportedName at 0x1057aec50>,\n",
       " 'atanh': <rope.base.pynamesdef.ImportedName at 0x1057aeb10>,\n",
       " 'cbrt': <rope.base.pynamesdef.ImportedName at 0x1057ae490>,\n",
       " 'ceil': <rope.base.pynamesdef.ImportedName at 0x1057afc50>,\n",
       " 'comb': <rope.base.pynamesdef.ImportedName at 0x1057aea10>,\n",
       " 'copysign': <rope.base.pynamesdef.ImportedName at 0x1057af410>,\n",
       " 'cos': <rope.base.pynamesdef.ImportedName at 0x1057ac650>,\n",
       " 'cosh': <rope.base.pynamesdef.ImportedName at 0x1057afad0>,\n",
       " 'degrees': <rope.base.pynamesdef.ImportedName at 0x1057afb50>,\n",
       " 'dist': <rope.base.pynamesdef.ImportedName at 0x1057aeed0>,\n",
       " 'e': <rope.base.pynamesdef.ImportedName at 0x1057af910>,\n",
       " 'erf': <rope.base.pynamesdef.ImportedName at 0x1057af3d0>,\n",
       " 'erfc': <rope.base.pynamesdef.ImportedName at 0x1057afd90>,\n",
       " 'exp': <rope.base.pynamesdef.ImportedName at 0x1057afc10>,\n",
       " 'exp2': <rope.base.pynamesdef.ImportedName at 0x1057ae8d0>,\n",
       " 'expm1': <rope.base.pynamesdef.ImportedName at 0x1057ad950>,\n",
       " 'fabs': <rope.base.pynamesdef.ImportedName at 0x1057af6d0>,\n",
       " 'factorial': <rope.base.pynamesdef.ImportedName at 0x1057ad590>,\n",
       " 'floor': <rope.base.pynamesdef.ImportedName at 0x1057af9d0>,\n",
       " 'fmod': <rope.base.pynamesdef.ImportedName at 0x1057ac4d0>,\n",
       " 'frexp': <rope.base.pynamesdef.ImportedName at 0x1057ad550>,\n",
       " 'fsum': <rope.base.pynamesdef.ImportedName at 0x1057af690>,\n",
       " 'gamma': <rope.base.pynamesdef.ImportedName at 0x1057adf50>,\n",
       " 'gcd': <rope.base.pynamesdef.ImportedName at 0x1057af650>,\n",
       " 'hypot': <rope.base.pynamesdef.ImportedName at 0x1057aff50>,\n",
       " 'inf': <rope.base.pynamesdef.ImportedName at 0x1057ae7d0>,\n",
       " 'isclose': <rope.base.pynamesdef.ImportedName at 0x1057aff10>,\n",
       " 'isfinite': <rope.base.pynamesdef.ImportedName at 0x1057afd50>,\n",
       " 'isinf': <rope.base.pynamesdef.ImportedName at 0x1057ad190>,\n",
       " 'isnan': <rope.base.pynamesdef.ImportedName at 0x1057ae750>,\n",
       " 'isqrt': <rope.base.pynamesdef.ImportedName at 0x1057af790>,\n",
       " 'lcm': <rope.base.pynamesdef.ImportedName at 0x1057afbd0>,\n",
       " 'ldexp': <rope.base.pynamesdef.ImportedName at 0x1057afed0>,\n",
       " 'lgamma': <rope.base.pynamesdef.ImportedName at 0x1057acb90>,\n",
       " 'log': <rope.base.pynamesdef.ImportedName at 0x1057ad110>,\n",
       " 'log10': <rope.base.pynamesdef.ImportedName at 0x1057af110>,\n",
       " 'log1p': <rope.base.pynamesdef.ImportedName at 0x1057af0d0>,\n",
       " 'log2': <rope.base.pynamesdef.ImportedName at 0x1057ac550>,\n",
       " 'modf': <rope.base.pynamesdef.ImportedName at 0x1057af490>,\n",
       " 'nan': <rope.base.pynamesdef.ImportedName at 0x1057acc50>,\n",
       " 'nextafter': <rope.base.pynamesdef.ImportedName at 0x1057ad0d0>,\n",
       " 'perm': <rope.base.pynamesdef.ImportedName at 0x1057afcd0>,\n",
       " 'pi': <rope.base.pynamesdef.ImportedName at 0x1057cb110>,\n",
       " 'prod': <rope.base.pynamesdef.ImportedName at 0x1057cbc50>,\n",
       " 'radians': <rope.base.pynamesdef.ImportedName at 0x1057cba90>,\n",
       " 'remainder': <rope.base.pynamesdef.ImportedName at 0x1057c8110>,\n",
       " 'sin': <rope.base.pynamesdef.ImportedName at 0x1057c9250>,\n",
       " 'sinh': <rope.base.pynamesdef.ImportedName at 0x1057c93d0>,\n",
       " 'sqrt': <rope.base.pynamesdef.ImportedName at 0x1057c8810>,\n",
       " 'tan': <rope.base.pynamesdef.ImportedName at 0x1057c8610>,\n",
       " 'tanh': <rope.base.pynamesdef.ImportedName at 0x1057c9190>,\n",
       " 'tau': <rope.base.pynamesdef.ImportedName at 0x1057c8050>,\n",
       " 'trunc': <rope.base.pynamesdef.ImportedName at 0x1057c8150>,\n",
       " 'ulp': <rope.base.pynamesdef.ImportedName at 0x1057c8390>,\n",
       " 'json': <rope.base.pynamesdef.ImportedModule at 0x1057a5fd0>,\n",
       " 'pd': <rope.base.pynamesdef.ImportedModule at 0x1057c26d0>,\n",
       " 'math': <rope.base.pynamesdef.ImportedModule at 0x1057c1f50>,\n",
       " 'bridge': <rope.base.pynamesdef.ImportedName at 0x1057ac890>,\n",
       " 'A': <rope.base.pynamesdef.DefinedName at 0x105571a90>,\n",
       " 'f': <rope.base.pynamesdef.DefinedName at 0x1057ad450>,\n",
       " 'k': <rope.base.pynamesdef.AssignedName at 0x10579a450>,\n",
       " 'd': <rope.base.pynamesdef.AssignedName at 0x1057acfd0>,\n",
       " 'b': <rope.base.pynamesdef.AssignedName at 0x1057ae9d0>}"
      ]
     },
     "execution_count": 109,
     "metadata": {},
     "output_type": "execute_result"
    }
   ],
   "execution_count": 109
  },
  {
   "metadata": {
    "ExecuteTime": {
     "end_time": "2024-09-02T11:49:49.552892Z",
     "start_time": "2024-09-02T11:49:49.549907Z"
    }
   },
   "cell_type": "code",
   "source": "监控范围.get_defined_names()  # 当前监控范围变量",
   "id": "681ea192f1966ef7",
   "outputs": [
    {
     "data": {
      "text/plain": [
       "{'json': <rope.base.pynamesdef.ImportedModule at 0x1057a5fd0>,\n",
       " 'pd': <rope.base.pynamesdef.ImportedModule at 0x1057c26d0>,\n",
       " 'math': <rope.base.pynamesdef.ImportedModule at 0x1057c1f50>,\n",
       " 'bridge': <rope.base.pynamesdef.ImportedName at 0x1057ac890>,\n",
       " 'A': <rope.base.pynamesdef.DefinedName at 0x105571a90>,\n",
       " 'f': <rope.base.pynamesdef.DefinedName at 0x1057ad450>,\n",
       " 'k': <rope.base.pynamesdef.AssignedName at 0x10579a450>,\n",
       " 'd': <rope.base.pynamesdef.AssignedName at 0x1057acfd0>,\n",
       " 'b': <rope.base.pynamesdef.AssignedName at 0x1057ae9d0>}"
      ]
     },
     "execution_count": 110,
     "metadata": {},
     "output_type": "execute_result"
    }
   ],
   "execution_count": 110
  },
  {
   "metadata": {
    "ExecuteTime": {
     "end_time": "2024-09-02T11:49:49.745384Z",
     "start_time": "2024-09-02T11:49:49.742650Z"
    }
   },
   "cell_type": "code",
   "source": "dir(监控范围)",
   "id": "f2b8e08b7399fd39",
   "outputs": [
    {
     "data": {
      "text/plain": [
       "['__class__',\n",
       " '__contains__',\n",
       " '__delattr__',\n",
       " '__dict__',\n",
       " '__dir__',\n",
       " '__doc__',\n",
       " '__eq__',\n",
       " '__format__',\n",
       " '__ge__',\n",
       " '__getattribute__',\n",
       " '__getitem__',\n",
       " '__getstate__',\n",
       " '__gt__',\n",
       " '__hash__',\n",
       " '__init__',\n",
       " '__init_subclass__',\n",
       " '__le__',\n",
       " '__lt__',\n",
       " '__module__',\n",
       " '__ne__',\n",
       " '__new__',\n",
       " '__reduce__',\n",
       " '__reduce_ex__',\n",
       " '__repr__',\n",
       " '__setattr__',\n",
       " '__sizeof__',\n",
       " '__str__',\n",
       " '__subclasshook__',\n",
       " '__weakref__',\n",
       " '_calculate_scope_regions',\n",
       " '_calculate_scope_regions_for_module',\n",
       " '_create_scopes',\n",
       " '_get_global_scope',\n",
       " '_get_source',\n",
       " '_propagated_lookup',\n",
       " '_scope_finder',\n",
       " 'builtin_names',\n",
       " 'end',\n",
       " 'get_body_start',\n",
       " 'get_defined_names',\n",
       " 'get_end',\n",
       " 'get_inner_scope_for_line',\n",
       " 'get_inner_scope_for_offset',\n",
       " 'get_kind',\n",
       " 'get_logical_end',\n",
       " 'get_name',\n",
       " 'get_names',\n",
       " 'get_propagated_names',\n",
       " 'get_region',\n",
       " 'get_scopes',\n",
       " 'get_start',\n",
       " 'in_region',\n",
       " 'logical_end',\n",
       " 'lookup',\n",
       " 'names',\n",
       " 'parent',\n",
       " 'pycore',\n",
       " 'pyobject',\n",
       " 'start']"
      ]
     },
     "execution_count": 111,
     "metadata": {},
     "output_type": "execute_result"
    }
   ],
   "execution_count": 111
  },
  {
   "metadata": {
    "ExecuteTime": {
     "end_time": "2024-09-02T11:49:49.943310Z",
     "start_time": "2024-09-02T11:49:49.941980Z"
    }
   },
   "cell_type": "code",
   "source": "",
   "id": "515d34afe6601a1c",
   "outputs": [],
   "execution_count": null
  },
  {
   "metadata": {
    "ExecuteTime": {
     "end_time": "2024-09-02T11:49:50.695938Z",
     "start_time": "2024-09-02T11:49:50.692752Z"
    }
   },
   "cell_type": "code",
   "source": "模块 = libutils.get_string_module(项目, 资源.read(), 资源)",
   "id": "df2e17c58bbe1b7d",
   "outputs": [],
   "execution_count": 112
  },
  {
   "metadata": {
    "ExecuteTime": {
     "end_time": "2024-09-02T11:49:51.202170Z",
     "start_time": "2024-09-02T11:49:51.198968Z"
    }
   },
   "cell_type": "code",
   "source": [
    "py_变量 = eval_location(模块, offset)\n",
    "py_变量"
   ],
   "id": "5eb9ccae8203dd30",
   "outputs": [
    {
     "data": {
      "text/plain": [
       "<rope.base.pynames.ImportedModule at 0x105570810>"
      ]
     },
     "execution_count": 113,
     "metadata": {},
     "output_type": "execute_result"
    }
   ],
   "execution_count": 113
  },
  {
   "metadata": {
    "ExecuteTime": {
     "end_time": "2024-09-02T11:49:53.045891Z",
     "start_time": "2024-09-02T11:49:53.042317Z"
    }
   },
   "cell_type": "code",
   "source": "dir(py_变量)",
   "id": "2588442a4bc0c645",
   "outputs": [
    {
     "data": {
      "text/plain": [
       "['__class__',\n",
       " '__delattr__',\n",
       " '__dict__',\n",
       " '__dir__',\n",
       " '__doc__',\n",
       " '__eq__',\n",
       " '__format__',\n",
       " '__ge__',\n",
       " '__getattribute__',\n",
       " '__getstate__',\n",
       " '__gt__',\n",
       " '__hash__',\n",
       " '__init__',\n",
       " '__init_subclass__',\n",
       " '__le__',\n",
       " '__lt__',\n",
       " '__module__',\n",
       " '__ne__',\n",
       " '__new__',\n",
       " '__reduce__',\n",
       " '__reduce_ex__',\n",
       " '__repr__',\n",
       " '__setattr__',\n",
       " '__sizeof__',\n",
       " '__str__',\n",
       " '__subclasshook__',\n",
       " '__weakref__',\n",
       " '_current_folder',\n",
       " '_get_pymodule',\n",
       " 'get_definition_location',\n",
       " 'get_object',\n",
       " 'importing_module',\n",
       " 'level',\n",
       " 'module_name',\n",
       " 'pymodule',\n",
       " 'resource']"
      ]
     },
     "execution_count": 114,
     "metadata": {},
     "output_type": "execute_result"
    }
   ],
   "execution_count": 114
  },
  {
   "metadata": {
    "ExecuteTime": {
     "end_time": "2024-09-02T11:49:58.346741Z",
     "start_time": "2024-09-02T11:49:58.344767Z"
    }
   },
   "cell_type": "code",
   "source": "",
   "id": "d682787480fa696f",
   "outputs": [],
   "execution_count": null
  },
  {
   "metadata": {
    "ExecuteTime": {
     "end_time": "2024-09-02T11:49:58.817730Z",
     "start_time": "2024-09-02T11:49:58.812491Z"
    }
   },
   "cell_type": "code",
   "source": [
    "变量对象 = py_变量.get_object()\n",
    "变量对象"
   ],
   "id": "fe1653aae6715d35",
   "outputs": [
    {
     "data": {
      "text/plain": [
       "<rope.base.pyobjectsdef.PyPackage \"bridge\" at 0x10566a490>"
      ]
     },
     "execution_count": 115,
     "metadata": {},
     "output_type": "execute_result"
    }
   ],
   "execution_count": 115
  },
  {
   "metadata": {
    "ExecuteTime": {
     "end_time": "2024-09-02T11:50:00.466560Z",
     "start_time": "2024-09-02T11:50:00.463705Z"
    }
   },
   "cell_type": "code",
   "source": "py_变量.get_definition_location()",
   "id": "2ca4cca7f246e43e",
   "outputs": [
    {
     "data": {
      "text/plain": [
       "(<rope.base.pyobjectsdef.PyPackage \"bridge\" at 0x10566a490>, 1)"
      ]
     },
     "execution_count": 116,
     "metadata": {},
     "output_type": "execute_result"
    }
   ],
   "execution_count": 116
  },
  {
   "metadata": {},
   "cell_type": "code",
   "outputs": [],
   "execution_count": null,
   "source": "",
   "id": "c728839ccb69445d"
  },
  {
   "metadata": {
    "ExecuteTime": {
     "end_time": "2024-09-02T11:48:09.391801Z",
     "start_time": "2024-09-02T11:48:09.388150Z"
    }
   },
   "cell_type": "code",
   "source": "dir(变量对象)",
   "id": "3a90dc443f98cf8",
   "outputs": [
    {
     "data": {
      "text/plain": [
       "['__class__',\n",
       " '__contains__',\n",
       " '__delattr__',\n",
       " '__dict__',\n",
       " '__dir__',\n",
       " '__doc__',\n",
       " '__eq__',\n",
       " '__format__',\n",
       " '__ge__',\n",
       " '__getattribute__',\n",
       " '__getitem__',\n",
       " '__getstate__',\n",
       " '__gt__',\n",
       " '__hash__',\n",
       " '__init__',\n",
       " '__init_subclass__',\n",
       " '__iter__',\n",
       " '__le__',\n",
       " '__lt__',\n",
       " '__module__',\n",
       " '__ne__',\n",
       " '__new__',\n",
       " '__reduce__',\n",
       " '__reduce_ex__',\n",
       " '__repr__',\n",
       " '__setattr__',\n",
       " '__sizeof__',\n",
       " '__str__',\n",
       " '__subclasshook__',\n",
       " '__weakref__',\n",
       " '_create_concluded_attributes',\n",
       " '_create_scope',\n",
       " '_create_structural_attributes',\n",
       " '_get_base_type',\n",
       " '_get_bases',\n",
       " '_get_concluded_attributes',\n",
       " '_get_defined_objects',\n",
       " '_get_structural_attributes',\n",
       " '_superclasses',\n",
       " '_types',\n",
       " '_unknown',\n",
       " 'absolute_name',\n",
       " 'ast_node',\n",
       " 'attributes',\n",
       " 'concluded_attributes',\n",
       " 'defineds',\n",
       " 'get_ast',\n",
       " 'get_attribute',\n",
       " 'get_attributes',\n",
       " 'get_doc',\n",
       " 'get_module',\n",
       " 'get_name',\n",
       " 'get_scope',\n",
       " 'get_superclasses',\n",
       " 'get_type',\n",
       " 'parent',\n",
       " 'pycore',\n",
       " 'scope',\n",
       " 'structural_attributes',\n",
       " 'type',\n",
       " 'visitor_class']"
      ]
     },
     "execution_count": 106,
     "metadata": {},
     "output_type": "execute_result"
    }
   ],
   "execution_count": 106
  },
  {
   "metadata": {
    "ExecuteTime": {
     "end_time": "2024-09-02T11:47:14.847225Z",
     "start_time": "2024-09-02T11:47:14.843906Z"
    }
   },
   "cell_type": "code",
   "source": "变量对象.get_type()",
   "id": "77350e997bbc2246",
   "outputs": [
    {
     "data": {
      "text/plain": [
       "<rope.base.pyobjects.PyObject at 0x104ca2b50>"
      ]
     },
     "execution_count": 102,
     "metadata": {},
     "output_type": "execute_result"
    }
   ],
   "execution_count": 102
  },
  {
   "metadata": {
    "ExecuteTime": {
     "end_time": "2024-09-02T11:47:15.400745Z",
     "start_time": "2024-09-02T11:47:15.392587Z"
    }
   },
   "cell_type": "code",
   "source": "t = a.get_type()",
   "id": "2998aab45b95f0d5",
   "outputs": [
    {
     "ename": "NameError",
     "evalue": "name 'a' is not defined",
     "output_type": "error",
     "traceback": [
      "\u001B[0;31m---------------------------------------------------------------------------\u001B[0m",
      "\u001B[0;31mNameError\u001B[0m                                 Traceback (most recent call last)",
      "Cell \u001B[0;32mIn[103], line 1\u001B[0m\n\u001B[0;32m----> 1\u001B[0m t \u001B[38;5;241m=\u001B[39m \u001B[43ma\u001B[49m\u001B[38;5;241m.\u001B[39mget_type()\n",
      "\u001B[0;31mNameError\u001B[0m: name 'a' is not defined"
     ]
    }
   ],
   "execution_count": 103
  },
  {
   "metadata": {
    "ExecuteTime": {
     "end_time": "2024-09-02T03:38:06.173643Z",
     "start_time": "2024-09-02T03:38:06.170186Z"
    }
   },
   "cell_type": "code",
   "source": "type(a)",
   "id": "fa9b9fb756c60284",
   "outputs": [
    {
     "data": {
      "text/plain": [
       "rope.base.pyobjectsdef.PyClass"
      ]
     },
     "execution_count": 31,
     "metadata": {},
     "output_type": "execute_result"
    }
   ],
   "execution_count": 31
  },
  {
   "metadata": {
    "ExecuteTime": {
     "end_time": "2024-09-02T03:38:27.609127Z",
     "start_time": "2024-09-02T03:38:27.604233Z"
    }
   },
   "cell_type": "code",
   "source": "type(t)",
   "id": "613305f515713a6c",
   "outputs": [
    {
     "data": {
      "text/plain": [
       "rope.base.pyobjects.PyObject"
      ]
     },
     "execution_count": 32,
     "metadata": {},
     "output_type": "execute_result"
    }
   ],
   "execution_count": 32
  },
  {
   "metadata": {
    "ExecuteTime": {
     "end_time": "2024-09-01T11:18:41.908367Z",
     "start_time": "2024-09-01T11:18:41.905050Z"
    }
   },
   "cell_type": "code",
   "source": "a.get_name",
   "id": "d17a7f527f2db5bf",
   "outputs": [
    {
     "data": {
      "text/plain": [
       "'Config'"
      ]
     },
     "execution_count": 127,
     "metadata": {},
     "output_type": "execute_result"
    }
   ],
   "execution_count": 127
  },
  {
   "metadata": {
    "ExecuteTime": {
     "end_time": "2024-09-01T07:35:42.102789Z",
     "start_time": "2024-09-01T07:35:42.092571Z"
    }
   },
   "cell_type": "code",
   "source": [
    "result = codeassist.get_definition_location(myproject, content, offset, resource)\n",
    "result"
   ],
   "id": "9b405492c56fa071",
   "outputs": [
    {
     "data": {
      "text/plain": [
       "(None, None)"
      ]
     },
     "execution_count": 134,
     "metadata": {},
     "output_type": "execute_result"
    }
   ],
   "execution_count": 134
  },
  {
   "metadata": {},
   "cell_type": "code",
   "outputs": [],
   "execution_count": null,
   "source": "result",
   "id": "6d1c518a49cf83d4"
  },
  {
   "metadata": {
    "ExecuteTime": {
     "end_time": "2024-09-01T07:34:25.849567Z",
     "start_time": "2024-09-01T07:34:25.840578Z"
    }
   },
   "cell_type": "code",
   "source": "file",
   "id": "2348d5a104f501e",
   "outputs": [
    {
     "data": {
      "text/plain": [
       "<rope.base.resources.File \"config.py\" at 0x125dcaa10>"
      ]
     },
     "execution_count": 129,
     "metadata": {},
     "output_type": "execute_result"
    }
   ],
   "execution_count": 129
  },
  {
   "metadata": {
    "ExecuteTime": {
     "end_time": "2024-09-01T07:35:37.089701Z",
     "start_time": "2024-09-01T07:35:37.078230Z"
    }
   },
   "cell_type": "code",
   "source": [
    "result = codeassist.get_doc(myproject, content, offset, resource)\n",
    "print(result)"
   ],
   "id": "a0a3a754f1d5d53c",
   "outputs": [
    {
     "name": "stdout",
     "output_type": "stream",
     "text": [
      "None\n"
     ]
    }
   ],
   "execution_count": 133
  },
  {
   "metadata": {
    "ExecuteTime": {
     "end_time": "2024-09-01T04:19:10.253910Z",
     "start_time": "2024-09-01T04:19:10.247081Z"
    }
   },
   "cell_type": "code",
   "source": "extractor = ExtractVariable(myproject, resource, offset, end)",
   "id": "537414e7bb8a6c6c",
   "outputs": [],
   "execution_count": 35
  },
  {
   "metadata": {
    "ExecuteTime": {
     "end_time": "2024-09-01T04:19:38.626771Z",
     "start_time": "2024-09-01T04:19:38.617939Z"
    }
   },
   "cell_type": "code",
   "source": "extractor",
   "id": "79f3dd5d48908743",
   "outputs": [
    {
     "data": {
      "text/plain": [
       "<rope.refactor.extract.ExtractVariable at 0x11076df10>"
      ]
     },
     "execution_count": 36,
     "metadata": {},
     "output_type": "execute_result"
    }
   ],
   "execution_count": 36
  },
  {
   "metadata": {},
   "cell_type": "markdown",
   "source": [
    "然后，我们可以计算变化：\n",
    "\n",
    "changes = extractor.get_changes('extracted_variable')每次重构都返回一个rope.base.change.Change对象，该对象保存了它所做的更改。计算这些变化可能很耗时"
   ],
   "id": "6221a0d96ddc99a6"
  },
  {
   "metadata": {
    "ExecuteTime": {
     "end_time": "2024-09-01T04:20:28.081174Z",
     "start_time": "2024-09-01T04:20:28.061374Z"
    }
   },
   "cell_type": "code",
   "source": "changes = extractor.get_changes('extracted_variable')",
   "id": "7b4c1bd8e474ecaf",
   "outputs": [],
   "execution_count": 38
  },
  {
   "metadata": {},
   "cell_type": "markdown",
   "source": [
    "如上一节所述，每次重构都会返回一个rope.base.change.Change对象。现在我们如何知道它包含什么以及如何执行它？\n",
    "\n",
    "你可以使用changes.get_description（）来获得预览。当你不太关心格式时，它很有用。否则，您可以直接使用更改对象。请参阅rope.base.change模块中的文档。"
   ],
   "id": "9bf6c835eeeab4db"
  },
  {
   "metadata": {
    "ExecuteTime": {
     "end_time": "2024-09-01T04:21:54.951689Z",
     "start_time": "2024-09-01T04:21:54.929535Z"
    }
   },
   "cell_type": "code",
   "source": "print(changes.get_description())",
   "id": "ba4f9e710b928b7",
   "outputs": [
    {
     "name": "stdout",
     "output_type": "stream",
     "text": [
      "Extract variable <extracted_variable>:\n",
      "\n",
      "\n",
      "--- a/config.py\n",
      "+++ b/config.py\n",
      "@@ -9,7 +9,8 @@\n",
      " \n",
      " # 将所有可用的配置项写在字典里, 请使用小写字母\n",
      " # 此处的配置值无实际意义，程序不会读取此处的配置，仅用于提示格式，请将配置加入到config.json中\n",
      "-new_variable_name = {\n",
      "+extracted_variable = new_variable_name\n",
      "+extracted_variable = {\n",
      "     # openai api配置\n",
      "     \"open_ai_api_key\": \"\",  # openai api key\n",
      "     # openai apibase，当use_azure_chatgpt为true时，需要设置对应的api base\n",
      "\n",
      "\n"
     ]
    }
   ],
   "execution_count": 40
  },
  {
   "metadata": {},
   "cell_type": "markdown",
   "source": [
    "执行:\n",
    "\n",
    "myproject.do(changes)"
   ],
   "id": "bfd915d8d2da3e05"
  },
  {
   "metadata": {},
   "cell_type": "markdown",
   "source": [
    "第一种方法是使用rope.base.fscommands（请参阅编写文件系统命令）。可以像以前一样使用Project.do（）执行更改。\n",
    "\n",
    "第二种方法是根据返回的changes对象手动执行更改（再次参见rope.base.change模块中的文档）。如果使用这种方法，则无法使用project.history.undo（）撤销重构。"
   ],
   "id": "dc41467b0de161e3"
  },
  {
   "metadata": {},
   "cell_type": "markdown",
   "source": "通常编辑器需要重新加载通过rope更改的文件。您可以使用 Change.get_changed_resources() 来获取需要重新加载的资源列表。",
   "id": "9ee848d23aca87bc"
  },
  {
   "metadata": {
    "ExecuteTime": {
     "end_time": "2024-09-01T04:25:40.993650Z",
     "start_time": "2024-09-01T04:25:40.960561Z"
    }
   },
   "cell_type": "code",
   "source": "myproject.do(changes)",
   "id": "47de5c5a5f768414",
   "outputs": [],
   "execution_count": 41
  },
  {
   "metadata": {
    "ExecuteTime": {
     "end_time": "2024-09-01T04:28:30.478132Z",
     "start_time": "2024-09-01T04:28:30.452335Z"
    }
   },
   "cell_type": "code",
   "source": "myproject.validate(resource)",
   "id": "342eace805f89457",
   "outputs": [],
   "execution_count": 42
  },
  {
   "metadata": {
    "ExecuteTime": {
     "end_time": "2024-09-01T04:28:54.261319Z",
     "start_time": "2024-09-01T04:28:54.210794Z"
    }
   },
   "cell_type": "code",
   "source": "myproject.close()",
   "id": "934c5b3e004c901d",
   "outputs": [],
   "execution_count": 43
  },
  {
   "metadata": {
    "ExecuteTime": {
     "end_time": "2024-09-01T04:29:56.290094Z",
     "start_time": "2024-09-01T04:29:56.155807Z"
    }
   },
   "cell_type": "code",
   "source": "pymodule = libutils.get_string_module(myproject, resource)",
   "id": "f32259245736adda",
   "outputs": [
    {
     "ename": "TypeError",
     "evalue": "argument of type 'File' is not iterable",
     "output_type": "error",
     "traceback": [
      "\u001B[0;31m---------------------------------------------------------------------------\u001B[0m",
      "\u001B[0;31mTypeError\u001B[0m                                 Traceback (most recent call last)",
      "Cell \u001B[0;32mIn[47], line 1\u001B[0m\n\u001B[0;32m----> 1\u001B[0m pymodule \u001B[38;5;241m=\u001B[39m \u001B[43mlibutils\u001B[49m\u001B[38;5;241;43m.\u001B[39;49m\u001B[43mget_string_module\u001B[49m\u001B[43m(\u001B[49m\u001B[43mmyproject\u001B[49m\u001B[43m,\u001B[49m\u001B[43m \u001B[49m\u001B[43mresource\u001B[49m\u001B[43m)\u001B[49m\n",
      "File \u001B[0;32m~/opt/miniforge3/envs/code_chinese_to_english/lib/python3.11/site-packages/rope/base/libutils.py:92\u001B[0m, in \u001B[0;36mget_string_module\u001B[0;34m(project, code, resource, force_errors)\u001B[0m\n\u001B[1;32m     84\u001B[0m \u001B[38;5;28;01mdef\u001B[39;00m \u001B[38;5;21mget_string_module\u001B[39m(project, code, resource\u001B[38;5;241m=\u001B[39m\u001B[38;5;28;01mNone\u001B[39;00m, force_errors\u001B[38;5;241m=\u001B[39m\u001B[38;5;28;01mFalse\u001B[39;00m):\n\u001B[1;32m     85\u001B[0m \u001B[38;5;250m    \u001B[39m\u001B[38;5;124;03m\"\"\"Returns a `PyObject` object for the given code\u001B[39;00m\n\u001B[1;32m     86\u001B[0m \n\u001B[1;32m     87\u001B[0m \u001B[38;5;124;03m    If `force_errors` is `True`, `exceptions.ModuleSyntaxError` is\u001B[39;00m\n\u001B[0;32m   (...)\u001B[0m\n\u001B[1;32m     90\u001B[0m \n\u001B[1;32m     91\u001B[0m \u001B[38;5;124;03m    \"\"\"\u001B[39;00m\n\u001B[0;32m---> 92\u001B[0m     \u001B[38;5;28;01mreturn\u001B[39;00m \u001B[43mpyobjectsdef\u001B[49m\u001B[38;5;241;43m.\u001B[39;49m\u001B[43mPyModule\u001B[49m\u001B[43m(\u001B[49m\n\u001B[1;32m     93\u001B[0m \u001B[43m        \u001B[49m\u001B[43mproject\u001B[49m\u001B[38;5;241;43m.\u001B[39;49m\u001B[43mpycore\u001B[49m\u001B[43m,\u001B[49m\u001B[43m \u001B[49m\u001B[43mcode\u001B[49m\u001B[43m,\u001B[49m\u001B[43m \u001B[49m\u001B[43mresource\u001B[49m\u001B[43m,\u001B[49m\u001B[43m \u001B[49m\u001B[43mforce_errors\u001B[49m\u001B[38;5;241;43m=\u001B[39;49m\u001B[43mforce_errors\u001B[49m\n\u001B[1;32m     94\u001B[0m \u001B[43m    \u001B[49m\u001B[43m)\u001B[49m\n",
      "File \u001B[0;32m~/opt/miniforge3/envs/code_chinese_to_english/lib/python3.11/site-packages/rope/base/pyobjectsdef.py:173\u001B[0m, in \u001B[0;36mPyModule.__init__\u001B[0;34m(self, pycore, source, resource, force_errors)\u001B[0m\n\u001B[1;32m    171\u001B[0m \u001B[38;5;28mself\u001B[39m\u001B[38;5;241m.\u001B[39mhas_errors \u001B[38;5;241m=\u001B[39m \u001B[38;5;28;01mFalse\u001B[39;00m\n\u001B[1;32m    172\u001B[0m \u001B[38;5;28;01mtry\u001B[39;00m:\n\u001B[0;32m--> 173\u001B[0m     source, node \u001B[38;5;241m=\u001B[39m \u001B[38;5;28;43mself\u001B[39;49m\u001B[38;5;241;43m.\u001B[39;49m\u001B[43m_init_source\u001B[49m\u001B[43m(\u001B[49m\u001B[43mpycore\u001B[49m\u001B[43m,\u001B[49m\u001B[43m \u001B[49m\u001B[43msource\u001B[49m\u001B[43m,\u001B[49m\u001B[43m \u001B[49m\u001B[43mresource\u001B[49m\u001B[43m)\u001B[49m\n\u001B[1;32m    174\u001B[0m \u001B[38;5;28;01mexcept\u001B[39;00m exceptions\u001B[38;5;241m.\u001B[39mModuleSyntaxError:\n\u001B[1;32m    175\u001B[0m     \u001B[38;5;28mself\u001B[39m\u001B[38;5;241m.\u001B[39mhas_errors \u001B[38;5;241m=\u001B[39m \u001B[38;5;28;01mTrue\u001B[39;00m\n",
      "File \u001B[0;32m~/opt/miniforge3/envs/code_chinese_to_english/lib/python3.11/site-packages/rope/base/pyobjectsdef.py:200\u001B[0m, in \u001B[0;36mPyModule._init_source\u001B[0;34m(self, pycore, source_code, resource)\u001B[0m\n\u001B[1;32m    198\u001B[0m         \u001B[38;5;28;01melse\u001B[39;00m:\n\u001B[1;32m    199\u001B[0m             source_bytes \u001B[38;5;241m=\u001B[39m source_code\n\u001B[0;32m--> 200\u001B[0m     ast_node \u001B[38;5;241m=\u001B[39m \u001B[43mast\u001B[49m\u001B[38;5;241;43m.\u001B[39;49m\u001B[43mparse\u001B[49m\u001B[43m(\u001B[49m\u001B[43msource_bytes\u001B[49m\u001B[43m,\u001B[49m\u001B[43m \u001B[49m\u001B[43mfilename\u001B[49m\u001B[38;5;241;43m=\u001B[39;49m\u001B[43mfilename\u001B[49m\u001B[43m)\u001B[49m\n\u001B[1;32m    201\u001B[0m \u001B[38;5;28;01mexcept\u001B[39;00m \u001B[38;5;167;01mSyntaxError\u001B[39;00m \u001B[38;5;28;01mas\u001B[39;00m e:\n\u001B[1;32m    202\u001B[0m     \u001B[38;5;28;01mraise\u001B[39;00m exceptions\u001B[38;5;241m.\u001B[39mModuleSyntaxError(filename, e\u001B[38;5;241m.\u001B[39mlineno, e\u001B[38;5;241m.\u001B[39mmsg)\n",
      "File \u001B[0;32m~/opt/miniforge3/envs/code_chinese_to_english/lib/python3.11/site-packages/rope/base/ast.py:28\u001B[0m, in \u001B[0;36mparse\u001B[0;34m(source, filename, *args, **kwargs)\u001B[0m\n\u001B[1;32m     26\u001B[0m \u001B[38;5;28;01mif\u001B[39;00m \u001B[38;5;28misinstance\u001B[39m(source, \u001B[38;5;28mstr\u001B[39m):\n\u001B[1;32m     27\u001B[0m     source \u001B[38;5;241m=\u001B[39m fscommands\u001B[38;5;241m.\u001B[39municode_to_file_data(source)\n\u001B[0;32m---> 28\u001B[0m \u001B[38;5;28;01mif\u001B[39;00m \u001B[38;5;124;43mb\u001B[39;49m\u001B[38;5;124;43m\"\u001B[39;49m\u001B[38;5;130;43;01m\\r\u001B[39;49;00m\u001B[38;5;124;43m\"\u001B[39;49m\u001B[43m \u001B[49m\u001B[38;5;129;43;01min\u001B[39;49;00m\u001B[43m \u001B[49m\u001B[43msource\u001B[49m:\n\u001B[1;32m     29\u001B[0m     source \u001B[38;5;241m=\u001B[39m source\u001B[38;5;241m.\u001B[39mreplace(\u001B[38;5;124mb\u001B[39m\u001B[38;5;124m\"\u001B[39m\u001B[38;5;130;01m\\r\u001B[39;00m\u001B[38;5;130;01m\\n\u001B[39;00m\u001B[38;5;124m\"\u001B[39m, \u001B[38;5;124mb\u001B[39m\u001B[38;5;124m\"\u001B[39m\u001B[38;5;130;01m\\n\u001B[39;00m\u001B[38;5;124m\"\u001B[39m)\u001B[38;5;241m.\u001B[39mreplace(\u001B[38;5;124mb\u001B[39m\u001B[38;5;124m\"\u001B[39m\u001B[38;5;130;01m\\r\u001B[39;00m\u001B[38;5;124m\"\u001B[39m, \u001B[38;5;124mb\u001B[39m\u001B[38;5;124m\"\u001B[39m\u001B[38;5;130;01m\\n\u001B[39;00m\u001B[38;5;124m\"\u001B[39m)\n\u001B[1;32m     30\u001B[0m \u001B[38;5;28;01mif\u001B[39;00m \u001B[38;5;129;01mnot\u001B[39;00m source\u001B[38;5;241m.\u001B[39mendswith(\u001B[38;5;124mb\u001B[39m\u001B[38;5;124m\"\u001B[39m\u001B[38;5;130;01m\\n\u001B[39;00m\u001B[38;5;124m\"\u001B[39m):\n",
      "\u001B[0;31mTypeError\u001B[0m: argument of type 'File' is not iterable"
     ]
    }
   ],
   "execution_count": 47
  },
  {
   "metadata": {
    "ExecuteTime": {
     "end_time": "2024-09-01T04:29:35.428957Z",
     "start_time": "2024-09-01T04:29:28.110106Z"
    }
   },
   "cell_type": "code",
   "source": "libutils.analyze_modules(myproject)",
   "id": "10b50c91620a45df",
   "outputs": [],
   "execution_count": 45
  },
  {
   "metadata": {},
   "cell_type": "code",
   "outputs": [],
   "execution_count": null,
   "source": "",
   "id": "f37a75cdc3257600"
  },
  {
   "metadata": {},
   "cell_type": "code",
   "outputs": [],
   "execution_count": null,
   "source": "",
   "id": "5999d4b0e2a2ae27"
  },
  {
   "metadata": {},
   "cell_type": "code",
   "outputs": [],
   "execution_count": null,
   "source": "",
   "id": "e5f514554293f836"
  },
  {
   "metadata": {},
   "cell_type": "code",
   "outputs": [],
   "execution_count": null,
   "source": "",
   "id": "6c1b76166a2e57b8"
  },
  {
   "metadata": {
    "ExecuteTime": {
     "end_time": "2024-08-31T09:14:55.338205Z",
     "start_time": "2024-08-31T09:14:55.308281Z"
    }
   },
   "cell_type": "code",
   "source": [
    "filename = Project_path + \"/\" + \"config.py\"\n",
    "with open(filename, 'r') as file:\n",
    "    content = file.read()\n",
    "\n",
    "# 寻找特定函数名的位置\n",
    "offset = content.index('available_setting')\n",
    "offset"
   ],
   "id": "8faf06d8ff9bdabe",
   "outputs": [
    {
     "data": {
      "text/plain": [
       "181"
      ]
     },
     "execution_count": 9,
     "metadata": {},
     "output_type": "execute_result"
    }
   ],
   "execution_count": 9
  },
  {
   "metadata": {},
   "cell_type": "markdown",
   "source": "",
   "id": "8a250a793a53f25c"
  },
  {
   "metadata": {
    "ExecuteTime": {
     "end_time": "2024-08-31T09:15:03.053436Z",
     "start_time": "2024-08-31T09:15:03.007132Z"
    }
   },
   "cell_type": "code",
   "source": [
    "# 创建一个重命名重构\n",
    "rename = Rename(project, module, offset)\n",
    "# offset 是变量名在文件中的位置"
   ],
   "id": "76b0788f5c4647eb",
   "outputs": [],
   "execution_count": 10
  },
  {
   "metadata": {
    "ExecuteTime": {
     "end_time": "2024-08-31T09:15:18.383670Z",
     "start_time": "2024-08-31T09:15:17.844828Z"
    }
   },
   "cell_type": "code",
   "source": [
    "# 执行重命名操作\n",
    "change = rename.get_changes(new_name='new_variable_name')\n",
    "project.do(change)"
   ],
   "id": "15f95d185f716211",
   "outputs": [],
   "execution_count": 11
  },
  {
   "metadata": {
    "ExecuteTime": {
     "end_time": "2024-08-31T09:19:48.677071Z",
     "start_time": "2024-08-31T09:19:48.647457Z"
    }
   },
   "cell_type": "code",
   "source": [
    "import rope.base.project\n",
    "import rope.refactor.rename"
   ],
   "id": "442b2516b33e0a0c",
   "outputs": [],
   "execution_count": 12
  },
  {
   "metadata": {
    "ExecuteTime": {
     "end_time": "2024-08-31T09:20:01.233894Z",
     "start_time": "2024-08-31T09:20:01.177757Z"
    }
   },
   "cell_type": "code",
   "source": [
    "Project_path = '/Users/yangxinyi/Downloads/200_临时文件夹/english_test_project_V2'\n",
    "project = Project(Project_path)"
   ],
   "id": "bc49e19bb7e5164e",
   "outputs": [],
   "execution_count": 13
  },
  {
   "metadata": {
    "ExecuteTime": {
     "end_time": "2024-08-31T09:20:11.828958Z",
     "start_time": "2024-08-31T09:20:11.825261Z"
    }
   },
   "cell_type": "code",
   "source": [
    "# 指定要重命名的变量的文件和位置\n",
    "file_path = 'app.py'"
   ],
   "id": "2b7e66c7e0130b4a",
   "outputs": [],
   "execution_count": 14
  },
  {
   "metadata": {
    "ExecuteTime": {
     "end_time": "2024-08-31T09:22:46.883872Z",
     "start_time": "2024-08-31T09:22:46.867036Z"
    }
   },
   "cell_type": "code",
   "source": [
    "filename = Project_path + \"/\" + \"app.py\"\n",
    "with open(filename, 'r') as file:\n",
    "    content = file.read()\n",
    "\n",
    "# 寻找特定函数名的位置\n",
    "offset = content.index('os')\n",
    "offset"
   ],
   "id": "ca79eccf2381872c",
   "outputs": [
    {
     "data": {
      "text/plain": [
       "25"
      ]
     },
     "execution_count": 19,
     "metadata": {},
     "output_type": "execute_result"
    }
   ],
   "execution_count": 19
  },
  {
   "metadata": {},
   "cell_type": "code",
   "outputs": [],
   "execution_count": null,
   "source": [
    "# 加载文件\n",
    "resource = project.get_file(file_path)"
   ],
   "id": "7dffcc581bfc7a8d"
  },
  {
   "metadata": {},
   "cell_type": "code",
   "outputs": [],
   "execution_count": null,
   "source": [
    "# 创建重命名重构对象\n",
    "renamer = rope.refactor.rename.Rename(project, resource, offset)"
   ],
   "id": "ee2587e042482b4c"
  },
  {
   "metadata": {
    "ExecuteTime": {
     "end_time": "2024-08-31T09:22:56.826078Z",
     "start_time": "2024-08-31T09:22:54.289745Z"
    }
   },
   "cell_type": "code",
   "source": [
    "# 获取重命名变更\n",
    "new_name = '系统'\n",
    "change = renamer.get_changes(new_name)\n",
    "\n",
    "# 执行重构\n",
    "project.do(change)\n",
    "\n",
    "# 保存项目，确保所有更改被写入文件\n",
    "project.close()\n"
   ],
   "id": "77f90939a77b42b8",
   "outputs": [],
   "execution_count": 22
  },
  {
   "metadata": {},
   "cell_type": "markdown",
   "source": "## Restructuring 重构案例",
   "id": "d3fdcb752616360d"
  },
  {
   "metadata": {
    "ExecuteTime": {
     "end_time": "2024-09-01T04:37:30.254618Z",
     "start_time": "2024-09-01T04:37:30.181700Z"
    }
   },
   "cell_type": "code",
   "source": [
    "from rope.base.project import Project\n",
    "project = Project('.')"
   ],
   "id": "4e92418ea016a6a0",
   "outputs": [],
   "execution_count": 48
  },
  {
   "metadata": {
    "ExecuteTime": {
     "end_time": "2024-09-01T04:37:37.299055Z",
     "start_time": "2024-09-01T04:37:37.222628Z"
    }
   },
   "cell_type": "code",
   "source": "mod1 = project.root.create_file('mod1.py')",
   "id": "703a6a7e44859f85",
   "outputs": [],
   "execution_count": 49
  },
  {
   "metadata": {
    "ExecuteTime": {
     "end_time": "2024-09-01T04:37:59.207763Z",
     "start_time": "2024-09-01T04:37:59.138628Z"
    }
   },
   "cell_type": "code",
   "source": [
    "mod1.write('def pow(x, y):\\n    result = 1\\n'\n",
    "           '    for i in range(y):\\n        result *= x\\n'\n",
    "           '    return result\\n')\n",
    "mod2 = project.root.create_file('mod2.py')\n",
    "mod2.write('import mod1\\nprint(mod1.pow(2, 3))\\n')"
   ],
   "id": "47fb40647416b4a2",
   "outputs": [],
   "execution_count": 50
  },
  {
   "metadata": {
    "ExecuteTime": {
     "end_time": "2024-09-01T04:39:06.949982Z",
     "start_time": "2024-09-01T04:39:06.934764Z"
    }
   },
   "cell_type": "code",
   "source": "from rope.refactor import restructure",
   "id": "a5eac52338b89308",
   "outputs": [],
   "execution_count": 51
  },
  {
   "metadata": {
    "ExecuteTime": {
     "end_time": "2024-09-01T04:39:43.645181Z",
     "start_time": "2024-09-01T04:39:43.638729Z"
    }
   },
   "cell_type": "code",
   "source": "pattern = '${pow_func}(${param1}, ${param2})'",
   "id": "a5ec28a0d229158d",
   "outputs": [],
   "execution_count": 52
  },
  {
   "metadata": {
    "ExecuteTime": {
     "end_time": "2024-09-01T04:39:54.267523Z",
     "start_time": "2024-09-01T04:39:54.262461Z"
    }
   },
   "cell_type": "code",
   "source": "goal = '${param1} ** ${param2}'",
   "id": "c7eafa44297b1d1a",
   "outputs": [],
   "execution_count": 53
  },
  {
   "metadata": {
    "ExecuteTime": {
     "end_time": "2024-09-01T04:40:02.292752Z",
     "start_time": "2024-09-01T04:40:02.278310Z"
    }
   },
   "cell_type": "code",
   "source": "args = {'pow_func': 'name=mod1.pow'}",
   "id": "ee5e3aebefd87c88",
   "outputs": [],
   "execution_count": 54
  },
  {
   "metadata": {
    "ExecuteTime": {
     "end_time": "2024-09-01T04:40:13.701450Z",
     "start_time": "2024-09-01T04:40:13.695260Z"
    }
   },
   "cell_type": "code",
   "source": "restructuring = restructure.Restructure(project, pattern, goal, args)",
   "id": "8072bc78adc2730a",
   "outputs": [],
   "execution_count": 55
  },
  {
   "metadata": {
    "ExecuteTime": {
     "end_time": "2024-09-01T04:40:49.043108Z",
     "start_time": "2024-09-01T04:40:37.943398Z"
    }
   },
   "cell_type": "code",
   "source": "project.do(restructuring.get_changes())",
   "id": "8cabf7ffcd61a482",
   "outputs": [],
   "execution_count": 56
  },
  {
   "metadata": {
    "ExecuteTime": {
     "end_time": "2024-09-01T04:42:54.111577Z",
     "start_time": "2024-09-01T04:42:54.029357Z"
    }
   },
   "cell_type": "code",
   "source": "mod1.remove()",
   "id": "1b8c887ea68cb80",
   "outputs": [
    {
     "name": "stderr",
     "output_type": "stream",
     "text": [
      "error: the following file has staged content different from both the\n",
      "file and the HEAD:\n",
      "    mod1.py\n",
      "(use -f to force removal)\n"
     ]
    }
   ],
   "execution_count": 57
  },
  {
   "metadata": {},
   "cell_type": "code",
   "outputs": [],
   "execution_count": null,
   "source": "",
   "id": "59d57135d2dba217"
  },
  {
   "metadata": {},
   "cell_type": "markdown",
   "source": "## autoimport 查找模块",
   "id": "fafb208bacb1abf7"
  },
  {
   "metadata": {
    "ExecuteTime": {
     "end_time": "2024-09-01T05:00:51.323565Z",
     "start_time": "2024-09-01T05:00:51.234867Z"
    }
   },
   "cell_type": "code",
   "source": [
    "from rope.base.project import Project\n",
    "from rope.contrib.autoimport.sqlite import AutoImport\n",
    "\n",
    "project = Project(\"/Users/yangxinyi/Downloads/200_临时文件夹/english_test_project_V2\")\n",
    "autoimport = AutoImport(project, memory=False)\n"
   ],
   "id": "e21ceef4b667c8a0",
   "outputs": [],
   "execution_count": 92
  },
  {
   "metadata": {
    "ExecuteTime": {
     "end_time": "2024-09-01T05:01:22.997135Z",
     "start_time": "2024-09-01T05:01:22.249258Z"
    }
   },
   "cell_type": "code",
   "source": "autoimport.generate_cache()",
   "id": "f0d31673707cda82",
   "outputs": [],
   "execution_count": 94
  },
  {
   "metadata": {
    "ExecuteTime": {
     "end_time": "2024-09-01T05:01:39.600211Z",
     "start_time": "2024-09-01T05:01:30.694447Z"
    }
   },
   "cell_type": "code",
   "source": "autoimport.generate_modules_cache()",
   "id": "7248a1e759a98054",
   "outputs": [
    {
     "name": "stdout",
     "output_type": "stream",
     "text": [
      "Missing parentheses in call to 'print'. Did you mean print(...)? (<string>, line 116)\n",
      "leading zeros in decimal integer literals are not permitted; use an 0o prefix for octal integers (<string>, line 31)\n",
      "invalid syntax (<string>, line 27)\n",
      "multiple exception types must be parenthesized (<string>, line 93)\n",
      "multiple exception types must be parenthesized (<string>, line 63)\n",
      "multiple exception types must be parenthesized (<string>, line 126)\n",
      "multiple exception types must be parenthesized (<string>, line 59)\n",
      "Missing parentheses in call to 'print'. Did you mean print(...)? (<string>, line 157)\n",
      "Missing parentheses in call to 'print'. Did you mean print(...)? (<string>, line 3)\n",
      "Missing parentheses in call to 'print'. Did you mean print(...)? (<string>, line 40)\n",
      "invalid syntax (<string>, line 136)\n",
      "Missing parentheses in call to 'print'. Did you mean print(...)? (<string>, line 2)\n",
      "invalid syntax (<string>, line 32)\n",
      "Missing parentheses in call to 'print'. Did you mean print(...)? (<string>, line 206)\n",
      "Missing parentheses in call to 'print'. Did you mean print(...)? (<string>, line 36)\n",
      "Missing parentheses in call to 'print'. Did you mean print(...)? (<string>, line 2)\n",
      "Missing parentheses in call to 'print'. Did you mean print(...)? (<string>, line 1)\n",
      "Missing parentheses in call to 'print'. Did you mean print(...)? (<string>, line 46)\n",
      "Missing parentheses in call to 'print'. Did you mean print(...)? (<string>, line 37)\n",
      "Missing parentheses in call to 'print'. Did you mean print(...)? (<string>, line 56)\n"
     ]
    }
   ],
   "execution_count": 95
  },
  {
   "metadata": {
    "ExecuteTime": {
     "end_time": "2024-09-01T05:03:37.667418Z",
     "start_time": "2024-09-01T05:03:37.629590Z"
    }
   },
   "cell_type": "code",
   "source": "list(autoimport.search_full(\"os\"))",
   "id": "62c74a1cf775d8a3",
   "outputs": [
    {
     "data": {
      "text/plain": [
       "[SearchResult(import_statement='from pydevd_attach_to_process.winappdbg.win32.shlwapi import OS_DATACENTER', name='OS_DATACENTER', source=5, itemkind=6),\n",
       " SearchResult(import_statement='from pydevd_attach_to_process.winappdbg.win32.shlwapi import OS_HOME', name='OS_HOME', source=5, itemkind=6),\n",
       " SearchResult(import_statement='from pydevd_attach_to_process.winappdbg.win32.shlwapi import OS_PROFESSIONAL', name='OS_PROFESSIONAL', source=5, itemkind=6),\n",
       " SearchResult(import_statement='from PyObjCTools.TestSupport import os_level_between', name='os_level_between', source=4, itemkind=3),\n",
       " SearchResult(import_statement='from pydevd_attach_to_process.winappdbg.win32.version import OS_UNKNOWN', name='OS_UNKNOWN', source=5, itemkind=6),\n",
       " SearchResult(import_statement='from pydevd_attach_to_process.winappdbg.win32.shlwapi import OS_SERVERADMINUI', name='OS_SERVERADMINUI', source=5, itemkind=6),\n",
       " SearchResult(import_statement='from pydevd_attach_to_process.winappdbg.win32.shlwapi import OS_PERSONALTERMINALSERVER', name='OS_PERSONALTERMINALSERVER', source=5, itemkind=6),\n",
       " SearchResult(import_statement='from pydevd_attach_to_process.winappdbg.win32.version import OS_VISTA_64', name='OS_VISTA_64', source=5, itemkind=6),\n",
       " SearchResult(import_statement='from pydevd_attach_to_process.winappdbg.win32.shlwapi import OS_APPLIANCE', name='OS_APPLIANCE', source=5, itemkind=6),\n",
       " SearchResult(import_statement='from pydevd_attach_to_process.winappdbg.win32.shlwapi import OS_TERMINALSERVER', name='OS_TERMINALSERVER', source=5, itemkind=6),\n",
       " SearchResult(import_statement='from pydevd_attach_to_process.winappdbg.win32.version import OS_W2K3R2', name='OS_W2K3R2', source=5, itemkind=6),\n",
       " SearchResult(import_statement='from pydevd_attach_to_process.winappdbg.win32.version import os', name='os', source=5, itemkind=6),\n",
       " SearchResult(import_statement='from setuptools.tests.compat.py39 import os_helper', name='os_helper', source=4, itemkind=6),\n",
       " SearchResult(import_statement='from pydevd_attach_to_process.winappdbg.win32.shlwapi import OS_XPORGREATER', name='OS_XPORGREATER', source=5, itemkind=6),\n",
       " SearchResult(import_statement='from dashscope.utils.oss_utils import OssUtils', name='OssUtils', source=4, itemkind=7),\n",
       " SearchResult(import_statement='from pydevd_attach_to_process.winappdbg.win32.version import OS_WINDOWS_2008_R2', name='OS_WINDOWS_2008_R2', source=5, itemkind=6),\n",
       " SearchResult(import_statement='from lib2to3.tests.data.infinite_recursion import OSBigEndian', name='OSBigEndian', source=3, itemkind=6),\n",
       " SearchResult(import_statement='from pydevd_attach_to_process.winappdbg.win32.shlwapi import OS_WEBSERVER', name='OS_WEBSERVER', source=5, itemkind=6),\n",
       " SearchResult(import_statement='from pydevd_attach_to_process.winappdbg.win32.shlwapi import OS_EMBEDDED', name='OS_EMBEDDED', source=5, itemkind=6),\n",
       " SearchResult(import_statement='from pydevd_attach_to_process.winappdbg.win32.version import OS_WINDOWS_SEVEN_64', name='OS_WINDOWS_SEVEN_64', source=5, itemkind=6),\n",
       " SearchResult(import_statement='from pydevd_attach_to_process.winappdbg.win32.shlwapi import OS_DOMAINMEMBER', name='OS_DOMAINMEMBER', source=5, itemkind=6),\n",
       " SearchResult(import_statement='from pydevd_attach_to_process.winappdbg.win32.shlwapi import OS_WIN2000PRO', name='OS_WIN2000PRO', source=5, itemkind=6),\n",
       " SearchResult(import_statement='from lib.itchat.config import OS', name='OS', source=0, itemkind=6),\n",
       " SearchResult(import_statement='from pydevd_attach_to_process.winappdbg.win32.version import OS_W2K8', name='OS_W2K8', source=5, itemkind=6),\n",
       " SearchResult(import_statement='from pydevd_attach_to_process.winappdbg.win32.shlwapi import OS_WIN98ORGREATER', name='OS_WIN98ORGREATER', source=5, itemkind=6),\n",
       " SearchResult(import_statement='from pydevd_attach_to_process.winappdbg.win32.version import OS_WINDOWS_2003', name='OS_WINDOWS_2003', source=5, itemkind=6),\n",
       " SearchResult(import_statement='from pydevd_attach_to_process.winappdbg.win32.version import OS_W2K3R2_64', name='OS_W2K3R2_64', source=5, itemkind=6),\n",
       " SearchResult(import_statement='from PyObjCTools.TestSupport import os_level_key', name='os_level_key', source=4, itemkind=3),\n",
       " SearchResult(import_statement='from pydevd_attach_to_process.winappdbg.win32.version import OS_W2K8R2', name='OS_W2K8R2', source=5, itemkind=6),\n",
       " SearchResult(import_statement='from pydevd_attach_to_process.winappdbg.win32.shlwapi import OS_WIN2000DATACENTER', name='OS_WIN2000DATACENTER', source=5, itemkind=6),\n",
       " SearchResult(import_statement='from test.support import os_helper', name='os_helper', source=5, itemkind=9),\n",
       " SearchResult(import_statement='from pydevd_attach_to_process.winappdbg.win32.shlwapi import OS_TERMINALREMOTEADMIN', name='OS_TERMINALREMOTEADMIN', source=5, itemkind=6),\n",
       " SearchResult(import_statement='from pydevd_attach_to_process.winappdbg.win32.shlwapi import OS_WIN2000ORGREATER', name='OS_WIN2000ORGREATER', source=5, itemkind=6),\n",
       " SearchResult(import_statement='from pydevd_attach_to_process.winappdbg.win32.version import OS_W2K8R2_64', name='OS_W2K8R2_64', source=5, itemkind=6),\n",
       " SearchResult(import_statement='from pydevd_attach_to_process.winappdbg.win32.shlwapi import OS_WIN95ORGREATER', name='OS_WIN95ORGREATER', source=5, itemkind=6),\n",
       " SearchResult(import_statement='from pydevd_attach_to_process.winappdbg.win32.version import OS_SEVEN_64', name='OS_SEVEN_64', source=5, itemkind=6),\n",
       " SearchResult(import_statement='from pydevd_attach_to_process.winappdbg.win32.shlwapi import OS_NT', name='OS_NT', source=5, itemkind=6),\n",
       " SearchResult(import_statement='from importlib_resources.tests.compat.py39 import os_helper', name='os_helper', source=4, itemkind=6),\n",
       " SearchResult(import_statement='from pydevd_attach_to_process.winappdbg.win32.version import OS_WINDOWS_NT', name='OS_WINDOWS_NT', source=5, itemkind=6),\n",
       " SearchResult(import_statement='from pydevd_attach_to_process.winappdbg.win32.shlwapi import OS_WIN98_GOLD', name='OS_WIN98_GOLD', source=5, itemkind=6),\n",
       " SearchResult(import_statement='from pydevd_attach_to_process.winappdbg.win32.version import OS_WINDOWS_2003_64', name='OS_WINDOWS_2003_64', source=5, itemkind=6),\n",
       " SearchResult(import_statement='from pydevd_attach_to_process.winappdbg.win32.version import OSVERSIONINFOW', name='OSVERSIONINFOW', source=5, itemkind=7),\n",
       " SearchResult(import_statement='from pydevd_attach_to_process.winappdbg.win32.version import OS_W7_64', name='OS_W7_64', source=5, itemkind=6),\n",
       " SearchResult(import_statement='from lib2to3.tests.data.infinite_recursion import OSUnknownByteOrder', name='OSUnknownByteOrder', source=3, itemkind=6),\n",
       " SearchResult(import_statement='from pydevd_attach_to_process.winappdbg.win32.shlwapi import OS_WIN2000SERVER', name='OS_WIN2000SERVER', source=5, itemkind=6),\n",
       " SearchResult(import_statement='from pydevd_attach_to_process.winappdbg.win32.version import OS_WINDOWS_2003_R2_64', name='OS_WINDOWS_2003_R2_64', source=5, itemkind=6),\n",
       " SearchResult(import_statement='from pydevd_attach_to_process.winappdbg.win32.shlwapi import OS_WOW6432', name='OS_WOW6432', source=5, itemkind=6),\n",
       " SearchResult(import_statement='from pydevd_attach_to_process.winappdbg.win32.shlwapi import OS_WIN95_GOLD', name='OS_WIN95_GOLD', source=5, itemkind=6),\n",
       " SearchResult(import_statement='from pydevd_attach_to_process.winappdbg.win32.shlwapi import OS_SMALLBUSINESSSERVER', name='OS_SMALLBUSINESSSERVER', source=5, itemkind=6),\n",
       " SearchResult(import_statement='from pydevd_attach_to_process.winappdbg.win32.version import OS_WINDOWS_2008_64', name='OS_WINDOWS_2008_64', source=5, itemkind=6),\n",
       " SearchResult(import_statement='from pydevd_attach_to_process.winappdbg.win32.shlwapi import OS_ANYSERVER', name='OS_ANYSERVER', source=5, itemkind=6),\n",
       " SearchResult(import_statement='from pydevd_attach_to_process.winappdbg.win32.version import OS_W7', name='OS_W7', source=5, itemkind=6),\n",
       " SearchResult(import_statement='from pydevd_attach_to_process.winappdbg.win32.version import OS_WINDOWS_2008_R2_64', name='OS_WINDOWS_2008_R2_64', source=5, itemkind=6),\n",
       " SearchResult(import_statement='from IPython.lib.clipboard import osx_clipboard_get', name='osx_clipboard_get', source=4, itemkind=3),\n",
       " SearchResult(import_statement='from pydevd_attach_to_process.winappdbg.win32.version import OS_WINDOWS_2008', name='OS_WINDOWS_2008', source=5, itemkind=6),\n",
       " SearchResult(import_statement='from pydevd_attach_to_process.winappdbg.win32.version import OS_W2K', name='OS_W2K', source=5, itemkind=6),\n",
       " SearchResult(import_statement='from pydevd_attach_to_process.winappdbg.win32.version import OS_W2K3', name='OS_W2K3', source=5, itemkind=6),\n",
       " SearchResult(import_statement='from qtconsole.ansi_code_processor import OSC_SUBPATTERN', name='OSC_SUBPATTERN', source=4, itemkind=6),\n",
       " SearchResult(import_statement='from pydevd_attach_to_process.winappdbg.win32.shlwapi import OS_WELCOMELOGONUI', name='OS_WELCOMELOGONUI', source=5, itemkind=6),\n",
       " SearchResult(import_statement='from pydevd_attach_to_process.winappdbg.win32.shlwapi import OS_FASTUSERSWITCHING', name='OS_FASTUSERSWITCHING', source=5, itemkind=6),\n",
       " SearchResult(import_statement='from pip._vendor.distro import os_release_attr', name='os_release_attr', source=4, itemkind=6),\n",
       " SearchResult(import_statement='from pydevd_attach_to_process.winappdbg.win32.version import OS_WINDOWS_SEVEN', name='OS_WINDOWS_SEVEN', source=5, itemkind=6),\n",
       " SearchResult(import_statement='from pydevd_attach_to_process.winappdbg.win32.version import OSVERSIONINFOA', name='OSVERSIONINFOA', source=5, itemkind=7),\n",
       " SearchResult(import_statement='from numpy.compat.py3k import os_PathLike', name='os_PathLike', source=4, itemkind=6),\n",
       " SearchResult(import_statement='from IPython.core.magics import OSMagics', name='OSMagics', source=4, itemkind=6),\n",
       " SearchResult(import_statement='from pip._vendor.distro import os_release_info', name='os_release_info', source=4, itemkind=6),\n",
       " SearchResult(import_statement='from pydevd_attach_to_process.winappdbg.win32.shlwapi import OS_WIN2000TERMINAL', name='OS_WIN2000TERMINAL', source=5, itemkind=6),\n",
       " SearchResult(import_statement='from pydevd_attach_to_process.winappdbg.win32.shlwapi import OS_ADVSERVER', name='OS_ADVSERVER', source=5, itemkind=6),\n",
       " SearchResult(import_statement='from pydevd_attach_to_process.winappdbg.win32.shlwapi import OS_WINDOWS', name='OS_WINDOWS', source=5, itemkind=6),\n",
       " SearchResult(import_statement='from pydevd_attach_to_process.winappdbg.win32.version import OS_WINDOWS_2003_R2', name='OS_WINDOWS_2003_R2', source=5, itemkind=6),\n",
       " SearchResult(import_statement='from pydevd_attach_to_process.winappdbg.win32.version import OS_WINDOWS_XP', name='OS_WINDOWS_XP', source=5, itemkind=6),\n",
       " SearchResult(import_statement='from distro.distro import os_release_info', name='os_release_info', source=4, itemkind=3),\n",
       " SearchResult(import_statement='from pydevd_attach_to_process.winappdbg.win32.shlwapi import OS_MEORGREATER', name='OS_MEORGREATER', source=5, itemkind=6),\n",
       " SearchResult(import_statement='from pydevd_attach_to_process.winappdbg.win32.version import OS_XP', name='OS_XP', source=5, itemkind=6),\n",
       " SearchResult(import_statement='from pydevd_attach_to_process.winappdbg.win32.shlwapi import OS_MEDIACENTER', name='OS_MEDIACENTER', source=5, itemkind=6),\n",
       " SearchResult(import_statement='from PyObjCTools.TestSupport import os_release', name='os_release', source=4, itemkind=3),\n",
       " SearchResult(import_statement='from pydevd_attach_to_process.winappdbg.win32.shlwapi import OS_TERMINALCLIENT', name='OS_TERMINALCLIENT', source=5, itemkind=6),\n",
       " SearchResult(import_statement='from IPython.core.magics import osm', name='osm', source=4, itemkind=9),\n",
       " SearchResult(import_statement='from IPython.terminal.pt_inputhooks import osx', name='osx', source=4, itemkind=9),\n",
       " SearchResult(import_statement='from pydevd_attach_to_process.winappdbg.win32.shlwapi import OS_TABLETPC', name='OS_TABLETPC', source=5, itemkind=6),\n",
       " SearchResult(import_statement='from tty import OSPEED', name='OSPEED', source=3, itemkind=6),\n",
       " SearchResult(import_statement='from pydevd_attach_to_process.winappdbg.win32.version import OS_W2K3_64', name='OS_W2K3_64', source=5, itemkind=6),\n",
       " SearchResult(import_statement='from pydevd_attach_to_process.winappdbg.win32.shlwapi import OS_NT4ORGREATER', name='OS_NT4ORGREATER', source=5, itemkind=6),\n",
       " SearchResult(import_statement='from pydevd_attach_to_process.winappdbg.win32.shlwapi import OS_WIN2000ADVSERVER', name='OS_WIN2000ADVSERVER', source=5, itemkind=6),\n",
       " SearchResult(import_statement='from IPython.core.magics.osm import OSMagics', name='OSMagics', source=4, itemkind=7),\n",
       " SearchResult(import_statement='from distro.distro import os_release_attr', name='os_release_attr', source=4, itemkind=3),\n",
       " SearchResult(import_statement='from pydevd_attach_to_process.winappdbg.win32.version import OSVERSION_MASK', name='OSVERSION_MASK', source=5, itemkind=6),\n",
       " SearchResult(import_statement='from dashscope.utils import oss_utils', name='oss_utils', source=4, itemkind=9),\n",
       " SearchResult(import_statement='from pydevd_attach_to_process.winappdbg.win32.version import OS_WINDOWS_VISTA_64', name='OS_WINDOWS_VISTA_64', source=5, itemkind=6),\n",
       " SearchResult(import_statement='from pydevd_attach_to_process.winappdbg.win32.version import OS_NT', name='OS_NT', source=5, itemkind=6),\n",
       " SearchResult(import_statement='from numpy.compat.py3k import os_fspath', name='os_fspath', source=4, itemkind=6),\n",
       " SearchResult(import_statement='import os', name='os', source=3, itemkind=9),\n",
       " SearchResult(import_statement='from pydevd_attach_to_process.winappdbg.win32.version import OS_VISTA', name='OS_VISTA', source=5, itemkind=6),\n",
       " SearchResult(import_statement='from pydevd_attach_to_process.winappdbg.win32.version import OS_XP_64', name='OS_XP_64', source=5, itemkind=6),\n",
       " SearchResult(import_statement='from pydevd_attach_to_process.winappdbg.win32.version import OS_WINDOWS_2000', name='OS_WINDOWS_2000', source=5, itemkind=6),\n",
       " SearchResult(import_statement='from pydevd_attach_to_process.winappdbg.win32.version import OS_W2K8_64', name='OS_W2K8_64', source=5, itemkind=6),\n",
       " SearchResult(import_statement='from lib2to3.tests.data.infinite_recursion import OSLittleEndian', name='OSLittleEndian', source=3, itemkind=6),\n",
       " SearchResult(import_statement='from pydevd_attach_to_process.winappdbg.win32.shlwapi import OS_SERVER', name='OS_SERVER', source=5, itemkind=6),\n",
       " SearchResult(import_statement='from pydevd_attach_to_process.winappdbg.win32.version import OS_WINDOWS_XP_64', name='OS_WINDOWS_XP_64', source=5, itemkind=6),\n",
       " SearchResult(import_statement='from pydevd_attach_to_process.winappdbg.win32.version import OSVERSIONINFOEXW', name='OSVERSIONINFOEXW', source=5, itemkind=7),\n",
       " SearchResult(import_statement='from psutil import OSX', name='OSX', source=4, itemkind=6),\n",
       " SearchResult(import_statement='from pydevd_attach_to_process.winappdbg.win32.version import OS_WINDOWS_VISTA', name='OS_WINDOWS_VISTA', source=5, itemkind=6),\n",
       " SearchResult(import_statement='from pydevd_attach_to_process.winappdbg.win32.version import OS_SEVEN', name='OS_SEVEN', source=5, itemkind=6),\n",
       " SearchResult(import_statement='from pydevd_attach_to_process.winappdbg.win32.version import OSVERSIONINFOEXA', name='OSVERSIONINFOEXA', source=5, itemkind=7)]"
      ]
     },
     "execution_count": 100,
     "metadata": {},
     "output_type": "execute_result"
    }
   ],
   "execution_count": 100
  },
  {
   "metadata": {
    "ExecuteTime": {
     "end_time": "2024-09-01T05:02:19.232092Z",
     "start_time": "2024-09-01T05:02:19.192188Z"
    }
   },
   "cell_type": "code",
   "source": "print(autoimport.search(\"os\"))",
   "id": "1fe36ad8b8a89897",
   "outputs": [
    {
     "name": "stdout",
     "output_type": "stream",
     "text": [
      "[('from lib.itchat.config import OS', 'OS'), ('from lib2to3.tests.data.infinite_recursion import OSBigEndian', 'OSBigEndian'), ('from lib2to3.tests.data.infinite_recursion import OSUnknownByteOrder', 'OSUnknownByteOrder'), ('from tty import OSPEED', 'OSPEED'), ('import os', 'os'), ('from lib2to3.tests.data.infinite_recursion import OSLittleEndian', 'OSLittleEndian'), ('from PyObjCTools.TestSupport import os_level_between', 'os_level_between'), ('from setuptools.tests.compat.py39 import os_helper', 'os_helper'), ('from dashscope.utils.oss_utils import OssUtils', 'OssUtils'), ('from PyObjCTools.TestSupport import os_level_key', 'os_level_key'), ('from importlib_resources.tests.compat.py39 import os_helper', 'os_helper'), ('from IPython.lib.clipboard import osx_clipboard_get', 'osx_clipboard_get'), ('from qtconsole.ansi_code_processor import OSC_SUBPATTERN', 'OSC_SUBPATTERN'), ('from pip._vendor.distro import os_release_attr', 'os_release_attr'), ('from numpy.compat.py3k import os_PathLike', 'os_PathLike'), ('from IPython.core.magics import OSMagics', 'OSMagics'), ('from pip._vendor.distro import os_release_info', 'os_release_info'), ('from distro.distro import os_release_info', 'os_release_info'), ('from PyObjCTools.TestSupport import os_release', 'os_release'), ('from IPython.core.magics import osm', 'osm'), ('from IPython.terminal.pt_inputhooks import osx', 'osx'), ('from IPython.core.magics.osm import OSMagics', 'OSMagics'), ('from distro.distro import os_release_attr', 'os_release_attr'), ('from dashscope.utils import oss_utils', 'oss_utils'), ('from numpy.compat.py3k import os_fspath', 'os_fspath'), ('from psutil import OSX', 'OSX'), ('from pydevd_attach_to_process.winappdbg.win32.shlwapi import OS_DATACENTER', 'OS_DATACENTER'), ('from pydevd_attach_to_process.winappdbg.win32.shlwapi import OS_HOME', 'OS_HOME'), ('from pydevd_attach_to_process.winappdbg.win32.shlwapi import OS_PROFESSIONAL', 'OS_PROFESSIONAL'), ('from pydevd_attach_to_process.winappdbg.win32.version import OS_UNKNOWN', 'OS_UNKNOWN'), ('from pydevd_attach_to_process.winappdbg.win32.shlwapi import OS_SERVERADMINUI', 'OS_SERVERADMINUI'), ('from pydevd_attach_to_process.winappdbg.win32.shlwapi import OS_PERSONALTERMINALSERVER', 'OS_PERSONALTERMINALSERVER'), ('from pydevd_attach_to_process.winappdbg.win32.version import OS_VISTA_64', 'OS_VISTA_64'), ('from pydevd_attach_to_process.winappdbg.win32.shlwapi import OS_APPLIANCE', 'OS_APPLIANCE'), ('from pydevd_attach_to_process.winappdbg.win32.shlwapi import OS_TERMINALSERVER', 'OS_TERMINALSERVER'), ('from pydevd_attach_to_process.winappdbg.win32.version import OS_W2K3R2', 'OS_W2K3R2'), ('from pydevd_attach_to_process.winappdbg.win32.version import os', 'os'), ('from pydevd_attach_to_process.winappdbg.win32.shlwapi import OS_XPORGREATER', 'OS_XPORGREATER'), ('from pydevd_attach_to_process.winappdbg.win32.version import OS_WINDOWS_2008_R2', 'OS_WINDOWS_2008_R2'), ('from pydevd_attach_to_process.winappdbg.win32.shlwapi import OS_WEBSERVER', 'OS_WEBSERVER'), ('from pydevd_attach_to_process.winappdbg.win32.shlwapi import OS_EMBEDDED', 'OS_EMBEDDED'), ('from pydevd_attach_to_process.winappdbg.win32.version import OS_WINDOWS_SEVEN_64', 'OS_WINDOWS_SEVEN_64'), ('from pydevd_attach_to_process.winappdbg.win32.shlwapi import OS_DOMAINMEMBER', 'OS_DOMAINMEMBER'), ('from pydevd_attach_to_process.winappdbg.win32.shlwapi import OS_WIN2000PRO', 'OS_WIN2000PRO'), ('from pydevd_attach_to_process.winappdbg.win32.version import OS_W2K8', 'OS_W2K8'), ('from pydevd_attach_to_process.winappdbg.win32.shlwapi import OS_WIN98ORGREATER', 'OS_WIN98ORGREATER'), ('from pydevd_attach_to_process.winappdbg.win32.version import OS_WINDOWS_2003', 'OS_WINDOWS_2003'), ('from pydevd_attach_to_process.winappdbg.win32.version import OS_W2K3R2_64', 'OS_W2K3R2_64'), ('from pydevd_attach_to_process.winappdbg.win32.version import OS_W2K8R2', 'OS_W2K8R2'), ('from pydevd_attach_to_process.winappdbg.win32.shlwapi import OS_WIN2000DATACENTER', 'OS_WIN2000DATACENTER'), ('from test.support import os_helper', 'os_helper'), ('from pydevd_attach_to_process.winappdbg.win32.shlwapi import OS_TERMINALREMOTEADMIN', 'OS_TERMINALREMOTEADMIN'), ('from pydevd_attach_to_process.winappdbg.win32.shlwapi import OS_WIN2000ORGREATER', 'OS_WIN2000ORGREATER'), ('from pydevd_attach_to_process.winappdbg.win32.version import OS_W2K8R2_64', 'OS_W2K8R2_64'), ('from pydevd_attach_to_process.winappdbg.win32.shlwapi import OS_WIN95ORGREATER', 'OS_WIN95ORGREATER'), ('from pydevd_attach_to_process.winappdbg.win32.version import OS_SEVEN_64', 'OS_SEVEN_64'), ('from pydevd_attach_to_process.winappdbg.win32.shlwapi import OS_NT', 'OS_NT'), ('from pydevd_attach_to_process.winappdbg.win32.version import OS_WINDOWS_NT', 'OS_WINDOWS_NT'), ('from pydevd_attach_to_process.winappdbg.win32.shlwapi import OS_WIN98_GOLD', 'OS_WIN98_GOLD'), ('from pydevd_attach_to_process.winappdbg.win32.version import OS_WINDOWS_2003_64', 'OS_WINDOWS_2003_64'), ('from pydevd_attach_to_process.winappdbg.win32.version import OSVERSIONINFOW', 'OSVERSIONINFOW'), ('from pydevd_attach_to_process.winappdbg.win32.version import OS_W7_64', 'OS_W7_64'), ('from pydevd_attach_to_process.winappdbg.win32.shlwapi import OS_WIN2000SERVER', 'OS_WIN2000SERVER'), ('from pydevd_attach_to_process.winappdbg.win32.version import OS_WINDOWS_2003_R2_64', 'OS_WINDOWS_2003_R2_64'), ('from pydevd_attach_to_process.winappdbg.win32.shlwapi import OS_WOW6432', 'OS_WOW6432'), ('from pydevd_attach_to_process.winappdbg.win32.shlwapi import OS_WIN95_GOLD', 'OS_WIN95_GOLD'), ('from pydevd_attach_to_process.winappdbg.win32.shlwapi import OS_SMALLBUSINESSSERVER', 'OS_SMALLBUSINESSSERVER'), ('from pydevd_attach_to_process.winappdbg.win32.version import OS_WINDOWS_2008_64', 'OS_WINDOWS_2008_64'), ('from pydevd_attach_to_process.winappdbg.win32.shlwapi import OS_ANYSERVER', 'OS_ANYSERVER'), ('from pydevd_attach_to_process.winappdbg.win32.version import OS_W7', 'OS_W7'), ('from pydevd_attach_to_process.winappdbg.win32.version import OS_WINDOWS_2008_R2_64', 'OS_WINDOWS_2008_R2_64'), ('from pydevd_attach_to_process.winappdbg.win32.version import OS_WINDOWS_2008', 'OS_WINDOWS_2008'), ('from pydevd_attach_to_process.winappdbg.win32.version import OS_W2K', 'OS_W2K'), ('from pydevd_attach_to_process.winappdbg.win32.version import OS_W2K3', 'OS_W2K3'), ('from pydevd_attach_to_process.winappdbg.win32.shlwapi import OS_WELCOMELOGONUI', 'OS_WELCOMELOGONUI'), ('from pydevd_attach_to_process.winappdbg.win32.shlwapi import OS_FASTUSERSWITCHING', 'OS_FASTUSERSWITCHING'), ('from pydevd_attach_to_process.winappdbg.win32.version import OS_WINDOWS_SEVEN', 'OS_WINDOWS_SEVEN'), ('from pydevd_attach_to_process.winappdbg.win32.version import OSVERSIONINFOA', 'OSVERSIONINFOA'), ('from pydevd_attach_to_process.winappdbg.win32.shlwapi import OS_WIN2000TERMINAL', 'OS_WIN2000TERMINAL'), ('from pydevd_attach_to_process.winappdbg.win32.shlwapi import OS_ADVSERVER', 'OS_ADVSERVER'), ('from pydevd_attach_to_process.winappdbg.win32.shlwapi import OS_WINDOWS', 'OS_WINDOWS'), ('from pydevd_attach_to_process.winappdbg.win32.version import OS_WINDOWS_2003_R2', 'OS_WINDOWS_2003_R2'), ('from pydevd_attach_to_process.winappdbg.win32.version import OS_WINDOWS_XP', 'OS_WINDOWS_XP'), ('from pydevd_attach_to_process.winappdbg.win32.shlwapi import OS_MEORGREATER', 'OS_MEORGREATER'), ('from pydevd_attach_to_process.winappdbg.win32.version import OS_XP', 'OS_XP'), ('from pydevd_attach_to_process.winappdbg.win32.shlwapi import OS_MEDIACENTER', 'OS_MEDIACENTER'), ('from pydevd_attach_to_process.winappdbg.win32.shlwapi import OS_TERMINALCLIENT', 'OS_TERMINALCLIENT'), ('from pydevd_attach_to_process.winappdbg.win32.shlwapi import OS_TABLETPC', 'OS_TABLETPC'), ('from pydevd_attach_to_process.winappdbg.win32.version import OS_W2K3_64', 'OS_W2K3_64'), ('from pydevd_attach_to_process.winappdbg.win32.shlwapi import OS_NT4ORGREATER', 'OS_NT4ORGREATER'), ('from pydevd_attach_to_process.winappdbg.win32.shlwapi import OS_WIN2000ADVSERVER', 'OS_WIN2000ADVSERVER'), ('from pydevd_attach_to_process.winappdbg.win32.version import OSVERSION_MASK', 'OSVERSION_MASK'), ('from pydevd_attach_to_process.winappdbg.win32.version import OS_WINDOWS_VISTA_64', 'OS_WINDOWS_VISTA_64'), ('from pydevd_attach_to_process.winappdbg.win32.version import OS_NT', 'OS_NT'), ('from pydevd_attach_to_process.winappdbg.win32.version import OS_VISTA', 'OS_VISTA'), ('from pydevd_attach_to_process.winappdbg.win32.version import OS_XP_64', 'OS_XP_64'), ('from pydevd_attach_to_process.winappdbg.win32.version import OS_WINDOWS_2000', 'OS_WINDOWS_2000'), ('from pydevd_attach_to_process.winappdbg.win32.version import OS_W2K8_64', 'OS_W2K8_64'), ('from pydevd_attach_to_process.winappdbg.win32.shlwapi import OS_SERVER', 'OS_SERVER'), ('from pydevd_attach_to_process.winappdbg.win32.version import OS_WINDOWS_XP_64', 'OS_WINDOWS_XP_64'), ('from pydevd_attach_to_process.winappdbg.win32.version import OSVERSIONINFOEXW', 'OSVERSIONINFOEXW'), ('from pydevd_attach_to_process.winappdbg.win32.version import OS_WINDOWS_VISTA', 'OS_WINDOWS_VISTA'), ('from pydevd_attach_to_process.winappdbg.win32.version import OS_SEVEN', 'OS_SEVEN'), ('from pydevd_attach_to_process.winappdbg.win32.version import OSVERSIONINFOEXA', 'OSVERSIONINFOEXA')]\n"
     ]
    }
   ],
   "execution_count": 98
  },
  {
   "metadata": {
    "ExecuteTime": {
     "end_time": "2024-09-01T04:57:30.943716Z",
     "start_time": "2024-09-01T04:57:30.929546Z"
    }
   },
   "cell_type": "code",
   "source": "autoimport.get_all_names()",
   "id": "52a709fbfbba52e6",
   "outputs": [
    {
     "data": {
      "text/plain": [
       "{'ADMIN_COMMANDS',\n",
       " 'ASYNC_COMPONENTS',\n",
       " 'ATTACHMENT',\n",
       " 'AbstractUserDict',\n",
       " 'AliQwenBot',\n",
       " 'AliQwenSession',\n",
       " 'AliVoice',\n",
       " 'AliyunTokenGenerator',\n",
       " 'AttributeDict',\n",
       " 'AzureChatGPTBot',\n",
       " 'AzureVoice',\n",
       " 'BAIDU',\n",
       " 'BAIDU_API_KEY',\n",
       " 'BAIDU_SECRET_KEY',\n",
       " 'BASE_URL',\n",
       " 'BDunit',\n",
       " 'BLOCK',\n",
       " 'BaiduTranslator',\n",
       " 'BaiduUnitBot',\n",
       " 'BaiduVoice',\n",
       " 'BaiduWenxinBot',\n",
       " 'BaiduWenxinSession',\n",
       " 'Banwords',\n",
       " 'Bot',\n",
       " 'Bridge',\n",
       " 'CARD',\n",
       " 'CHATGPT',\n",
       " 'CHATGPTONAZURE',\n",
       " 'CLAUDEAI',\n",
       " 'COMMANDS',\n",
       " 'Channel',\n",
       " 'ChatChannel',\n",
       " 'ChatClient',\n",
       " 'ChatGPTBot',\n",
       " 'ChatGPTSession',\n",
       " 'ChatMessage',\n",
       " 'Chatroom',\n",
       " 'ChatroomMember',\n",
       " 'ClaudeAIBot',\n",
       " 'ClaudeAiSession',\n",
       " 'Config',\n",
       " 'ContactList',\n",
       " 'Context',\n",
       " 'ContextType',\n",
       " 'Core',\n",
       " 'DEFAULT_QR',\n",
       " 'DINGTALK',\n",
       " 'DIR',\n",
       " 'Dequeue',\n",
       " 'DingTalkChanel',\n",
       " 'DingTalkMessage',\n",
       " 'Dungeon',\n",
       " 'ElevenLabsVoice',\n",
       " 'Event',\n",
       " 'EventAction',\n",
       " 'EventContext',\n",
       " 'ExpiredDict',\n",
       " 'FEISHU',\n",
       " 'FIRST_MSG',\n",
       " 'FRIENDS',\n",
       " 'FeiShuChanel',\n",
       " 'FeishuController',\n",
       " 'FeishuMessage',\n",
       " 'Finish',\n",
       " 'GEMINI',\n",
       " 'GPT35',\n",
       " 'GPT4',\n",
       " 'GPT4_TURBO_PREVIEW',\n",
       " 'GPT4_VISION_PREVIEW',\n",
       " 'Godcmd',\n",
       " 'GoogleGeminiBot',\n",
       " 'GoogleVoice',\n",
       " 'Hello',\n",
       " 'INCOME_MSG',\n",
       " 'INVALID_REQUEST',\n",
       " 'Keyword',\n",
       " 'LINKAI',\n",
       " 'LinkAI',\n",
       " 'LinkAIBot',\n",
       " 'LinkAISession',\n",
       " 'LinkAISessionManager',\n",
       " 'LinkAIVoice',\n",
       " 'LinkSummary',\n",
       " 'LogSystem',\n",
       " 'MAP',\n",
       " 'MAX_UTF8_LEN',\n",
       " 'MJBot',\n",
       " 'MJTask',\n",
       " 'MODEL_LIST',\n",
       " 'MassivePlatform',\n",
       " 'Message',\n",
       " 'NOTE',\n",
       " 'NOT_FOUND_ORIGIN_IMAGE',\n",
       " 'NOT_FOUND_TASK',\n",
       " 'NovelHandle',\n",
       " 'OPEN_AI',\n",
       " 'OS',\n",
       " 'OpenAIBot',\n",
       " 'OpenAIImage',\n",
       " 'OpenAISession',\n",
       " 'OpenaiVoice',\n",
       " 'PICTURE',\n",
       " 'Plugin',\n",
       " 'PluginManager',\n",
       " 'PyttsVoice',\n",
       " 'QQEmailSend',\n",
       " 'QWEN',\n",
       " 'Query',\n",
       " 'Queue',\n",
       " 'RECORDING',\n",
       " 'Reply',\n",
       " 'ReplyItem',\n",
       " 'ReplyType',\n",
       " 'ReturnValue',\n",
       " 'Role',\n",
       " 'RolePlay',\n",
       " 'SHARING',\n",
       " 'SYSTEM',\n",
       " 'Session',\n",
       " 'SessionManager',\n",
       " 'SortedDict',\n",
       " 'Status',\n",
       " 'Storage',\n",
       " 'StoryTeller',\n",
       " 'TEXT',\n",
       " 'TIMEOUT',\n",
       " 'TRANSLATE',\n",
       " 'TRANSLATION',\n",
       " 'TTS_1',\n",
       " 'TTS_1_HD',\n",
       " 'TaskMode',\n",
       " 'TaskType',\n",
       " 'TerminalChannel',\n",
       " 'TerminalMessage',\n",
       " 'TmpDir',\n",
       " 'TokenBucket',\n",
       " 'Tool',\n",
       " 'Translator',\n",
       " 'TrieNode',\n",
       " 'TrieNode2',\n",
       " 'UOS_PATCH_CLIENT_VERSION',\n",
       " 'UOS_PATCH_EXTSPAM',\n",
       " 'URL_VERIFICATION',\n",
       " 'USER_AGENT',\n",
       " 'USER_FILE_MAP',\n",
       " 'USER_IMAGE_CACHE',\n",
       " 'UnInitializedItchat',\n",
       " 'User',\n",
       " 'Util',\n",
       " 'VERSION',\n",
       " 'VIDEO',\n",
       " 'VOICE',\n",
       " 'Voice',\n",
       " 'WHISPER_1',\n",
       " 'WeChatAPIException',\n",
       " 'WeChatMPMessage',\n",
       " 'WechatChannel',\n",
       " 'WechatComAppChannel',\n",
       " 'WechatComAppClient',\n",
       " 'WechatComAppMessage',\n",
       " 'WechatMPChannel',\n",
       " 'WechatMPClient',\n",
       " 'WechatMessage',\n",
       " 'WechatyChannel',\n",
       " 'WechatyMessage',\n",
       " 'WeworkChannel',\n",
       " 'WeworkMessage',\n",
       " 'WordsSearch',\n",
       " 'XI_API_KEY',\n",
       " 'XUNFEI',\n",
       " 'XunFeiBot',\n",
       " 'accept_friend',\n",
       " 'accept_friend_with_retries',\n",
       " 'add_member_into_chatroom',\n",
       " 'all_msg_handler',\n",
       " 'any_to_amr',\n",
       " 'any_to_mp3',\n",
       " 'any_to_sil',\n",
       " 'any_to_wav',\n",
       " 'aobject',\n",
       " 'auto_login',\n",
       " 'b',\n",
       " 'c2c_download_and_convert',\n",
       " 'cdn_download',\n",
       " 'chapter_has_read_num',\n",
       " 'chat_client',\n",
       " 'check_contain',\n",
       " 'check_dulwich',\n",
       " 'check_file',\n",
       " 'check_login',\n",
       " 'check_prefix',\n",
       " 'clear_screen',\n",
       " 'compress_imgfile',\n",
       " 'conf',\n",
       " 'config',\n",
       " 'configured_reply',\n",
       " 'contact_change',\n",
       " 'contact_deep_copy',\n",
       " 'content',\n",
       " 'create_bot',\n",
       " 'create_chatroom',\n",
       " 'create_message',\n",
       " 'create_translator',\n",
       " 'current_dir',\n",
       " 'current_file_path',\n",
       " 'delete_member_from_chatroom',\n",
       " 'download_and_compress_image',\n",
       " 'download_video',\n",
       " 'dump_login_status',\n",
       " 'e',\n",
       " 'emojiRegex',\n",
       " 'emoji_formatter',\n",
       " 'extracted_variable',\n",
       " 'f',\n",
       " 'fakeChatroom',\n",
       " 'fakeContactList',\n",
       " 'fakeItchat',\n",
       " 'find_closest_sil_supports',\n",
       " 'forever',\n",
       " 'friendInfoTemplate',\n",
       " 'fsize',\n",
       " 'gen_params',\n",
       " 'get_QR',\n",
       " 'get_QRuuid',\n",
       " 'get_appdata_dir',\n",
       " 'get_chatrooms',\n",
       " 'get_contact',\n",
       " 'get_download_fn',\n",
       " 'get_friends',\n",
       " 'get_head_img',\n",
       " 'get_help_text',\n",
       " 'get_image_postfix',\n",
       " 'get_mps',\n",
       " 'get_msg',\n",
       " 'get_path_suffix',\n",
       " 'get_pcm_from_wav',\n",
       " 'get_room_info',\n",
       " 'get_root',\n",
       " 'get_with_retry',\n",
       " 'get_wxid_by_name',\n",
       " 'global_config',\n",
       " 'handle_message',\n",
       " 'handler_group_msg',\n",
       " 'handler_single_msg',\n",
       " 'handler_single_msg_myself',\n",
       " 'htmlParser',\n",
       " 'i',\n",
       " 'install',\n",
       " 'install_requirements',\n",
       " 'instance',\n",
       " 'instanceList',\n",
       " 'k',\n",
       " 'load_async_itchat',\n",
       " 'load_components',\n",
       " 'load_config',\n",
       " 'load_contact',\n",
       " 'load_hotreload',\n",
       " 'load_last_login_status',\n",
       " 'load_login',\n",
       " 'load_login_status',\n",
       " 'load_messages',\n",
       " 'load_register',\n",
       " 'load_sync_itchat',\n",
       " 'logger',\n",
       " 'login',\n",
       " 'logout',\n",
       " 'ls',\n",
       " 'msg_formatter',\n",
       " 'msg_register',\n",
       " 'msg_time_control',\n",
       " 'name',\n",
       " 'novel_handle',\n",
       " 'num_tokens_by_character',\n",
       " 'num_tokens_from_messages',\n",
       " 'num_tokens_from_string',\n",
       " 'on_close',\n",
       " 'on_error',\n",
       " 'on_message',\n",
       " 'on_open',\n",
       " 'pconf',\n",
       " 'plugin_config',\n",
       " 'print_cmd_qr',\n",
       " 'print_line',\n",
       " 'print_qr',\n",
       " 'process_login_info',\n",
       " 'produce_group_chat',\n",
       " 'produce_msg',\n",
       " 'push_login',\n",
       " 'qq_email_send',\n",
       " 'qrCallback',\n",
       " 'queue_map',\n",
       " 'random_sleep',\n",
       " 'random_sleep_seconds',\n",
       " 'read_file',\n",
       " 'register',\n",
       " 'reply_map',\n",
       " 'result',\n",
       " 'revoke',\n",
       " 'run',\n",
       " 'save_merge_file_name',\n",
       " 'search_chatrooms',\n",
       " 'search_dict_list',\n",
       " 'search_friends',\n",
       " 'search_mps',\n",
       " 'send',\n",
       " 'send_file',\n",
       " 'send_image',\n",
       " 'send_msg',\n",
       " 'send_raw_msg',\n",
       " 'send_video',\n",
       " 'set_alias',\n",
       " 'set_chatroom_name',\n",
       " 'set_logging',\n",
       " 'set_pinned',\n",
       " 'show_mobile_login',\n",
       " 'sigterm_handler_wrap',\n",
       " 'sil_supports',\n",
       " 'sil_to_wav',\n",
       " 'singleton',\n",
       " 'split_audio',\n",
       " 'split_string_by_utf8_length',\n",
       " 'start',\n",
       " 'start_receiving',\n",
       " 'struct_friend_info',\n",
       " 'subscribe_msg',\n",
       " 'sync_check',\n",
       " 'task_name_mapping',\n",
       " 'test_connect',\n",
       " 'text_to_speech_aliyun',\n",
       " 'time_checker',\n",
       " 'token_bucket',\n",
       " 'update_chatroom',\n",
       " 'update_friend',\n",
       " 'update_info_dict',\n",
       " 'update_local_chatrooms',\n",
       " 'update_local_friends',\n",
       " 'update_local_uin',\n",
       " 'upload_chunk_file',\n",
       " 'upload_file',\n",
       " 'user_session',\n",
       " 'verify_server',\n",
       " 'web_init',\n",
       " 'wework',\n",
       " 'wrap_user_dict',\n",
       " 'write_plugin_config',\n",
       " '你好',\n",
       " '创建频道'}"
      ]
     },
     "execution_count": 85,
     "metadata": {},
     "output_type": "execute_result"
    }
   ],
   "execution_count": 85
  },
  {
   "metadata": {
    "ExecuteTime": {
     "end_time": "2024-09-01T04:58:58.813093Z",
     "start_time": "2024-09-01T04:58:58.778963Z"
    }
   },
   "cell_type": "code",
   "source": "autoimport.get_name_locations(\"CHATGPT\")",
   "id": "dd733b447f972940",
   "outputs": [
    {
     "data": {
      "text/plain": [
       "[]"
      ]
     },
     "execution_count": 90,
     "metadata": {},
     "output_type": "execute_result"
    }
   ],
   "execution_count": 90
  },
  {
   "metadata": {
    "ExecuteTime": {
     "end_time": "2024-09-01T04:55:13.400195Z",
     "start_time": "2024-09-01T04:55:13.380734Z"
    }
   },
   "cell_type": "code",
   "source": "autoimport.names",
   "id": "88b24f94d62683c6",
   "outputs": [
    {
     "data": {
      "text/plain": [
       "{'factory': ['create_translator'],\n",
       " 'itchat.async_components.login': ['logger',\n",
       "  'load_login',\n",
       "  'login',\n",
       "  'push_login',\n",
       "  'get_QRuuid',\n",
       "  'get_QR',\n",
       "  'check_login',\n",
       "  'process_login_info',\n",
       "  'web_init',\n",
       "  'show_mobile_login',\n",
       "  'start_receiving',\n",
       "  'sync_check',\n",
       "  'get_msg',\n",
       "  'logout'],\n",
       " 'ali_voice': ['AliVoice'],\n",
       " 'memory': ['USER_IMAGE_CACHE'],\n",
       " 'plugins.finish.finish': ['Finish'],\n",
       " 'plugins.tool.tool': ['Tool'],\n",
       " 'itchat.components.messages': ['logger',\n",
       "  'load_messages',\n",
       "  'get_download_fn',\n",
       "  'produce_msg',\n",
       "  'produce_group_chat',\n",
       "  'send_raw_msg',\n",
       "  'send_msg',\n",
       "  'upload_file',\n",
       "  'upload_chunk_file',\n",
       "  'send_file',\n",
       "  'send_image',\n",
       "  'send_video',\n",
       "  'send',\n",
       "  'revoke'],\n",
       " 'pytts_voice': ['PyttsVoice'],\n",
       " 'bot.bot': ['Bot'],\n",
       " 'novel_send_script_cobox': ['current_file_path',\n",
       "  'current_dir',\n",
       "  'NovelHandle',\n",
       "  'QQEmailSend',\n",
       "  'random_sleep',\n",
       "  'random_sleep_seconds',\n",
       "  'novel_handle',\n",
       "  'f',\n",
       "  'chapter_has_read_num',\n",
       "  'save_merge_file_name',\n",
       "  'content',\n",
       "  'qq_email_send',\n",
       "  'result'],\n",
       " 'plugins.hello': [],\n",
       " 'google_gemini_bot': ['GoogleGeminiBot'],\n",
       " 'haha': [],\n",
       " 'bot.openai': [],\n",
       " 'wework_message': ['get_with_retry',\n",
       "  'get_room_info',\n",
       "  'cdn_download',\n",
       "  'c2c_download_and_convert',\n",
       "  'WeworkMessage'],\n",
       " 'translator': ['Translator'],\n",
       " 'plugins.godcmd.godcmd': ['COMMANDS',\n",
       "  'ADMIN_COMMANDS',\n",
       "  'get_help_text',\n",
       "  'Godcmd'],\n",
       " 'linkai_voice': ['LinkAIVoice'],\n",
       " 'itchat.utils': ['logger',\n",
       "  'emojiRegex',\n",
       "  'htmlParser',\n",
       "  'b',\n",
       "  'BLOCK',\n",
       "  'friendInfoTemplate',\n",
       "  'k',\n",
       "  'clear_screen',\n",
       "  'emoji_formatter',\n",
       "  'msg_formatter',\n",
       "  'check_file',\n",
       "  'print_qr',\n",
       "  'print_cmd_qr',\n",
       "  'struct_friend_info',\n",
       "  'search_dict_list',\n",
       "  'print_line',\n",
       "  'test_connect',\n",
       "  'contact_deep_copy',\n",
       "  'get_image_postfix',\n",
       "  'update_info_dict'],\n",
       " 'feishu_channel': ['URL_VERIFICATION', 'FeiShuChanel', 'FeishuController'],\n",
       " 'itchat.async_components.contact': ['accept_friend',\n",
       "  'logger',\n",
       "  'load_contact',\n",
       "  'update_chatroom',\n",
       "  'update_friend',\n",
       "  'update_local_chatrooms',\n",
       "  'update_local_friends',\n",
       "  'update_local_uin',\n",
       "  'get_contact',\n",
       "  'get_friends',\n",
       "  'get_chatrooms',\n",
       "  'get_mps',\n",
       "  'set_alias',\n",
       "  'set_pinned',\n",
       "  'get_head_img',\n",
       "  'create_chatroom',\n",
       "  'set_chatroom_name',\n",
       "  'delete_member_from_chatroom',\n",
       "  'add_member_into_chatroom'],\n",
       " 'itchat': ['instanceList',\n",
       "  'load_async_itchat',\n",
       "  'load_sync_itchat',\n",
       "  'instance',\n",
       "  'login',\n",
       "  'get_QRuuid',\n",
       "  'get_QR',\n",
       "  'check_login',\n",
       "  'web_init',\n",
       "  'show_mobile_login',\n",
       "  'start_receiving',\n",
       "  'get_msg',\n",
       "  'logout',\n",
       "  'update_chatroom',\n",
       "  'update_friend',\n",
       "  'get_contact',\n",
       "  'get_friends',\n",
       "  'get_chatrooms',\n",
       "  'get_mps',\n",
       "  'set_alias',\n",
       "  'set_pinned',\n",
       "  'accept_friend',\n",
       "  'get_head_img',\n",
       "  'create_chatroom',\n",
       "  'set_chatroom_name',\n",
       "  'delete_member_from_chatroom',\n",
       "  'add_member_into_chatroom',\n",
       "  'send_raw_msg',\n",
       "  'send_msg',\n",
       "  'upload_file',\n",
       "  'send_file',\n",
       "  'send_image',\n",
       "  'send_video',\n",
       "  'send',\n",
       "  'revoke',\n",
       "  'dump_login_status',\n",
       "  'load_login_status',\n",
       "  'auto_login',\n",
       "  'configured_reply',\n",
       "  'msg_register',\n",
       "  'run',\n",
       "  'search_friends',\n",
       "  'search_chatrooms',\n",
       "  'search_mps'],\n",
       " 'plugins.event': ['Event', 'EventAction', 'EventContext'],\n",
       " 'plugins.banwords.banwords': ['Banwords'],\n",
       " 'plugins.tool': [],\n",
       " 'ali_qwen_bot': ['AliQwenBot'],\n",
       " 'baidu_translate': ['BaiduTranslator'],\n",
       " 'const': ['OPEN_AI',\n",
       "  'CHATGPT',\n",
       "  'BAIDU',\n",
       "  'XUNFEI',\n",
       "  'CHATGPTONAZURE',\n",
       "  'LINKAI',\n",
       "  'CLAUDEAI',\n",
       "  'QWEN',\n",
       "  'GEMINI',\n",
       "  'GPT35',\n",
       "  'GPT4',\n",
       "  'GPT4_TURBO_PREVIEW',\n",
       "  'GPT4_VISION_PREVIEW',\n",
       "  'WHISPER_1',\n",
       "  'TTS_1',\n",
       "  'TTS_1_HD',\n",
       "  'MODEL_LIST',\n",
       "  'FEISHU',\n",
       "  'DINGTALK'],\n",
       " 'claude_ai_session': ['ClaudeAiSession'],\n",
       " 'itchat.components.register': ['logger',\n",
       "  'load_register',\n",
       "  'auto_login',\n",
       "  'configured_reply',\n",
       "  'msg_register',\n",
       "  'run'],\n",
       " 'singleton': ['singleton'],\n",
       " 'bot.xunfei.hehe': [],\n",
       " 'plugins.bdunit': [],\n",
       " 'wechaty_message': ['aobject', 'WechatyMessage'],\n",
       " 'itchat.async_components.hotreload': ['logger',\n",
       "  'load_hotreload',\n",
       "  'dump_login_status',\n",
       "  'load_login_status',\n",
       "  'load_last_login_status'],\n",
       " 'chat_gpt_session': ['ChatGPTSession',\n",
       "  'num_tokens_from_messages',\n",
       "  'num_tokens_by_character'],\n",
       " 'chat_gpt_bot': ['ChatGPTBot', 'AzureChatGPTBot'],\n",
       " 'bot.bot_factory': ['create_bot'],\n",
       " 'haha.open_ai_bot': ['user_session', 'OpenAIBot'],\n",
       " 'audio_convert': ['sil_supports',\n",
       "  'find_closest_sil_supports',\n",
       "  'get_pcm_from_wav',\n",
       "  'any_to_mp3',\n",
       "  'any_to_wav',\n",
       "  'any_to_sil',\n",
       "  'any_to_amr',\n",
       "  'sil_to_wav',\n",
       "  'split_audio'],\n",
       " 'plugins.role': [],\n",
       " 'itchat.components': ['load_components'],\n",
       " 'bot.openai.open_ai_session': ['OpenAISession', 'num_tokens_from_string'],\n",
       " 'bot.session_manager': ['Session', 'SessionManager'],\n",
       " 'baidu_wenxin_session': ['BaiduWenxinSession', 'num_tokens_from_messages'],\n",
       " 'plugins.banwords': [],\n",
       " 'haha.open_ai_image': ['OpenAIImage'],\n",
       " 'dingtalk_message': ['DingTalkMessage'],\n",
       " 'terminal_channel': ['TerminalMessage', 'TerminalChannel'],\n",
       " 'log': ['logger'],\n",
       " 'bot.xunfei.hehe.open_ai_bot': ['user_session', 'OpenAIBot'],\n",
       " 'package_manager': ['install', 'install_requirements', 'check_dulwich'],\n",
       " 'plugins': ['instance', 'register'],\n",
       " 'wechatmp_message': ['WeChatMPMessage'],\n",
       " 'itchat.returnvalues': ['TRANSLATE', 'ReturnValue', 'TRANSLATION'],\n",
       " 'dingtalk_channel': ['DingTalkChanel'],\n",
       " 'run': ['wework', 'forever'],\n",
       " 'wechaty_channel': ['e', 'WechatyChannel'],\n",
       " 'baidu_wenxin': ['BAIDU_API_KEY', 'BAIDU_SECRET_KEY', 'BaiduWenxinBot'],\n",
       " 'passive_reply': ['Query'],\n",
       " 'linkai_client': ['chat_client', 'ChatClient', 'start'],\n",
       " 'plugins.bdunit.bdunit': ['BDunit'],\n",
       " 'baidu_voice': ['BaiduVoice'],\n",
       " 'itchat.async_components.register': ['logger',\n",
       "  'load_register',\n",
       "  'auto_login',\n",
       "  'configured_reply',\n",
       "  'msg_register',\n",
       "  'run'],\n",
       " 'app': ['sigterm_handler_wrap', 'run'],\n",
       " 'feishu_message': ['FeishuMessage'],\n",
       " 'common': ['MAX_UTF8_LEN', 'WeChatAPIException', 'verify_server'],\n",
       " 'azure_voice': ['AzureVoice'],\n",
       " 'itchat.log': ['LogSystem', 'ls', 'set_logging'],\n",
       " 'active_reply': ['Query'],\n",
       " 'itchat.async_components.messages': ['logger',\n",
       "  'load_messages',\n",
       "  'get_download_fn',\n",
       "  'produce_msg',\n",
       "  'produce_group_chat',\n",
       "  'send_raw_msg',\n",
       "  'send_msg',\n",
       "  'upload_file',\n",
       "  'upload_chunk_file',\n",
       "  'send_file',\n",
       "  'send_image',\n",
       "  'send_video',\n",
       "  'send',\n",
       "  'revoke'],\n",
       " 'bot.openai.open_ai_bot': ['user_session', 'OpenAIBot'],\n",
       " 'expired_dict': ['ExpiredDict'],\n",
       " 'dequeue': ['Dequeue'],\n",
       " 'bot.openai.open_ai_image': ['OpenAIImage'],\n",
       " 'wechat_message': ['WechatMessage'],\n",
       " 'bot.xunfei.hehe.open_ai_session': ['OpenAISession',\n",
       "  'num_tokens_from_string'],\n",
       " 'itchat.content': ['TEXT',\n",
       "  'MAP',\n",
       "  'CARD',\n",
       "  'NOTE',\n",
       "  'SHARING',\n",
       "  'PICTURE',\n",
       "  'RECORDING',\n",
       "  'VOICE',\n",
       "  'ATTACHMENT',\n",
       "  'VIDEO',\n",
       "  'FRIENDS',\n",
       "  'SYSTEM',\n",
       "  'INCOME_MSG'],\n",
       " 'plugins.role.role': ['RolePlay', 'Role'],\n",
       " 'token_bucket': ['TokenBucket', 'token_bucket', 'i'],\n",
       " 'tmp_dir': ['TmpDir'],\n",
       " 'itchat.components.hotreload': ['logger',\n",
       "  'load_hotreload',\n",
       "  'dump_login_status',\n",
       "  'load_login_status',\n",
       "  'load_last_login_status'],\n",
       " 'plugins.keyword': [],\n",
       " 'itchat.storage': ['contact_change', 'Storage'],\n",
       " 'plugins.dungeon': [],\n",
       " 'plugins.hello.hello': ['Hello'],\n",
       " 'channel': ['Channel'],\n",
       " 'bot.xunfei.hehe.open_ai_image': ['OpenAIImage'],\n",
       " 'test': [],\n",
       " 'elevent_voice': ['XI_API_KEY', 'name', 'ElevenLabsVoice'],\n",
       " 'itchat.components.login': ['logger',\n",
       "  'load_login',\n",
       "  'login',\n",
       "  'push_login',\n",
       "  'get_QRuuid',\n",
       "  'get_QR',\n",
       "  'check_login',\n",
       "  'process_login_info',\n",
       "  'web_init',\n",
       "  'show_mobile_login',\n",
       "  'start_receiving',\n",
       "  'sync_check',\n",
       "  'get_msg',\n",
       "  'logout'],\n",
       " 'wechatcomapp_channel': ['MAX_UTF8_LEN', 'WechatComAppChannel', 'Query'],\n",
       " 'chat_channel': ['e', 'ChatChannel', 'check_prefix', 'check_contain'],\n",
       " 'itchat.core': ['Core'],\n",
       " 'config': ['extracted_variable',\n",
       "  'Config',\n",
       "  'config',\n",
       "  'load_config',\n",
       "  'get_root',\n",
       "  'read_file',\n",
       "  'conf',\n",
       "  'get_appdata_dir',\n",
       "  'subscribe_msg',\n",
       "  'plugin_config',\n",
       "  'write_plugin_config',\n",
       "  'pconf',\n",
       "  'global_config'],\n",
       " 'plugins.godcmd': [],\n",
       " 'chat_message': ['ChatMessage'],\n",
       " 'wechatcomapp_client': ['WechatComAppClient'],\n",
       " 'wework_channel': ['get_wxid_by_name',\n",
       "  'download_and_compress_image',\n",
       "  'download_video',\n",
       "  'create_message',\n",
       "  'handle_message',\n",
       "  'all_msg_handler',\n",
       "  'accept_friend_with_retries',\n",
       "  'get_with_retry',\n",
       "  'WeworkChannel'],\n",
       " 'plugins.linkai.utils': ['Util'],\n",
       " 'ali_qwen_session': ['AliQwenSession', 'num_tokens_from_messages'],\n",
       " 'itchat.async_components': ['load_components'],\n",
       " 'novel_send_script': ['current_file_path',\n",
       "  'current_dir',\n",
       "  'NovelHandle',\n",
       "  'QQEmailSend',\n",
       "  'random_sleep',\n",
       "  'random_sleep_seconds',\n",
       "  'novel_handle',\n",
       "  'f',\n",
       "  'chapter_has_read_num',\n",
       "  'save_merge_file_name',\n",
       "  'qq_email_send',\n",
       "  'result'],\n",
       " 'plugins.dungeon.dungeon': ['StoryTeller', 'Dungeon'],\n",
       " 'utils': ['fsize',\n",
       "  'compress_imgfile',\n",
       "  'split_string_by_utf8_length',\n",
       "  'get_path_suffix'],\n",
       " 'itchat.storage.messagequeue': ['logger', 'Queue', 'Message'],\n",
       " 'bot': [],\n",
       " 'wechatmp_channel': ['WechatMPChannel'],\n",
       " 'plugins.linkai.midjourney': ['INVALID_REQUEST',\n",
       "  'NOT_FOUND_ORIGIN_IMAGE',\n",
       "  'NOT_FOUND_TASK',\n",
       "  'TaskType',\n",
       "  'Status',\n",
       "  'TaskMode',\n",
       "  'task_name_mapping',\n",
       "  'MJTask',\n",
       "  'MJBot',\n",
       "  'check_prefix'],\n",
       " 'novel_send_scriptV2': ['current_file_path',\n",
       "  'current_dir',\n",
       "  'NovelHandle',\n",
       "  'QQEmailSend',\n",
       "  'random_sleep',\n",
       "  'random_sleep_seconds',\n",
       "  'novel_handle',\n",
       "  'f',\n",
       "  'chapter_has_read_num',\n",
       "  'save_merge_file_name',\n",
       "  'qq_email_send',\n",
       "  'result'],\n",
       " 'plugins.plugin': ['Plugin'],\n",
       " 'itchat.storage.templates': ['logger',\n",
       "  'AttributeDict',\n",
       "  'UnInitializedItchat',\n",
       "  'ContactList',\n",
       "  'AbstractUserDict',\n",
       "  'User',\n",
       "  'MassivePlatform',\n",
       "  'Chatroom',\n",
       "  'ChatroomMember',\n",
       "  'wrap_user_dict',\n",
       "  'fakeItchat',\n",
       "  'fakeContactList',\n",
       "  'fakeChatroom'],\n",
       " 'bot.xunfei.fuck': [],\n",
       " 'sorted_dict': ['SortedDict'],\n",
       " 'reply': ['ReplyType', 'Reply'],\n",
       " 'time_check': ['time_checker'],\n",
       " 'google_voice': ['GoogleVoice'],\n",
       " 'ali_api': ['text_to_speech_aliyun', 'AliyunTokenGenerator'],\n",
       " 'plugins.keyword.keyword': ['Keyword'],\n",
       " 'WordsSearch': ['TrieNode', 'TrieNode2', 'WordsSearch'],\n",
       " 'bridge': ['Bridge'],\n",
       " 'context': ['ContextType', 'Context'],\n",
       " 'plugins.linkai.summary': ['LinkSummary'],\n",
       " 'wechatcomapp_message': ['WechatComAppMessage'],\n",
       " 'openai_voice': ['OpenaiVoice'],\n",
       " 'bot.xunfei': [],\n",
       " 'wechatmp_client': ['WechatMPClient'],\n",
       " 'baidu_unit_bot': ['BaiduUnitBot'],\n",
       " 'bot.xunfei.xunfei_spark_bot': ['queue_map',\n",
       "  'reply_map',\n",
       "  'XunFeiBot',\n",
       "  'ReplyItem',\n",
       "  'on_error',\n",
       "  'on_close',\n",
       "  'on_open',\n",
       "  'run',\n",
       "  'on_message',\n",
       "  'gen_params'],\n",
       " 'channel_factory': ['创建频道'],\n",
       " 'plugins.linkai.linkai': ['LinkAI', 'USER_FILE_MAP'],\n",
       " 'plugins.finish': [],\n",
       " 'plugins.linkai': [],\n",
       " 'itchat.components.contact': ['logger',\n",
       "  'load_contact',\n",
       "  'update_chatroom',\n",
       "  'update_friend',\n",
       "  'update_local_chatrooms',\n",
       "  'update_local_friends',\n",
       "  'update_local_uin',\n",
       "  'get_contact',\n",
       "  'get_friends',\n",
       "  'get_chatrooms',\n",
       "  'get_mps',\n",
       "  'set_alias',\n",
       "  'set_pinned',\n",
       "  'accept_friend',\n",
       "  'get_head_img',\n",
       "  'create_chatroom',\n",
       "  'set_chatroom_name',\n",
       "  'delete_member_from_chatroom',\n",
       "  'add_member_into_chatroom'],\n",
       " 'voice': ['Voice'],\n",
       " '测试': ['你好'],\n",
       " 'plugins.plugin_manager': ['PluginManager'],\n",
       " 'bot.linkai': [],\n",
       " 'claude_ai_bot': ['ClaudeAIBot'],\n",
       " 'haha.open_ai_session': ['OpenAISession', 'num_tokens_from_string'],\n",
       " 'itchat.config': ['VERSION',\n",
       "  'ASYNC_COMPONENTS',\n",
       "  'BASE_URL',\n",
       "  'OS',\n",
       "  'DIR',\n",
       "  'DEFAULT_QR',\n",
       "  'TIMEOUT',\n",
       "  'USER_AGENT',\n",
       "  'UOS_PATCH_CLIENT_VERSION',\n",
       "  'UOS_PATCH_EXTSPAM'],\n",
       " 'bot.linkai.link_ai_bot': ['LinkAIBot',\n",
       "  'LinkAISessionManager',\n",
       "  'LinkAISession'],\n",
       " 'wechat_channel': ['FIRST_MSG',\n",
       "  'handler_single_msg',\n",
       "  'handler_single_msg_myself',\n",
       "  'msg_time_control',\n",
       "  'handler_group_msg',\n",
       "  'qrCallback',\n",
       "  'WechatChannel']}"
      ]
     },
     "execution_count": 76,
     "metadata": {},
     "output_type": "execute_result"
    }
   ],
   "execution_count": 76
  },
  {
   "metadata": {},
   "cell_type": "code",
   "outputs": [],
   "execution_count": null,
   "source": "",
   "id": "157f061210485002"
  },
  {
   "metadata": {},
   "cell_type": "markdown",
   "source": "## 类型分析",
   "id": "92ce164e2733b1b8"
  },
  {
   "metadata": {
    "ExecuteTime": {
     "end_time": "2024-09-01T08:53:28.908202Z",
     "start_time": "2024-09-01T08:53:28.904191Z"
    }
   },
   "cell_type": "code",
   "source": "py_module = libutils.get_string_module(myproject, resource.read(), resource)",
   "id": "e4dfe1ab1b9c870e",
   "outputs": [],
   "execution_count": 37
  },
  {
   "metadata": {
    "ExecuteTime": {
     "end_time": "2024-09-01T08:53:30.463772Z",
     "start_time": "2024-09-01T08:53:30.460418Z"
    }
   },
   "cell_type": "code",
   "source": "resource",
   "id": "ce6f6c5c6488dd00",
   "outputs": [
    {
     "data": {
      "text/plain": [
       "<rope.base.resources.File \"tmp/test.py\" at 0x1062ca410>"
      ]
     },
     "execution_count": 38,
     "metadata": {},
     "output_type": "execute_result"
    }
   ],
   "execution_count": 38
  },
  {
   "metadata": {
    "ExecuteTime": {
     "end_time": "2024-09-01T08:53:31.862140Z",
     "start_time": "2024-09-01T08:53:31.858498Z"
    }
   },
   "cell_type": "code",
   "source": "defined_names = py_module.get_scope().get_names()",
   "id": "b1a3b08f0409c0cd",
   "outputs": [],
   "execution_count": 39
  },
  {
   "metadata": {
    "ExecuteTime": {
     "end_time": "2024-09-01T08:53:32.192634Z",
     "start_time": "2024-09-01T08:53:32.185666Z"
    }
   },
   "cell_type": "code",
   "source": "defined_names",
   "id": "7d9ac0800b68c1c0",
   "outputs": [
    {
     "data": {
      "text/plain": [
       "{'ArithmeticError': <rope.base.builtins.BuiltinName at 0x105b16ed0>,\n",
       " 'AssertionError': <rope.base.builtins.BuiltinName at 0x105b19d10>,\n",
       " 'AttributeError': <rope.base.builtins.BuiltinName at 0x106240dd0>,\n",
       " 'BaseException': <rope.base.builtins.BuiltinName at 0x106240f50>,\n",
       " 'BaseExceptionGroup': <rope.base.builtins.BuiltinName at 0x106241590>,\n",
       " 'BlockingIOError': <rope.base.builtins.BuiltinName at 0x106241390>,\n",
       " 'BrokenPipeError': <rope.base.builtins.BuiltinName at 0x1062415d0>,\n",
       " 'BufferError': <rope.base.builtins.BuiltinName at 0x106241610>,\n",
       " 'BytesWarning': <rope.base.builtins.BuiltinName at 0x106241810>,\n",
       " 'ChildProcessError': <rope.base.builtins.BuiltinName at 0x106241890>,\n",
       " 'ConnectionAbortedError': <rope.base.builtins.BuiltinName at 0x106241950>,\n",
       " 'ConnectionError': <rope.base.builtins.BuiltinName at 0x106241990>,\n",
       " 'ConnectionRefusedError': <rope.base.builtins.BuiltinName at 0x1062419d0>,\n",
       " 'ConnectionResetError': <rope.base.builtins.BuiltinName at 0x106241d50>,\n",
       " 'DeprecationWarning': <rope.base.builtins.BuiltinName at 0x106241b90>,\n",
       " 'EOFError': <rope.base.builtins.BuiltinName at 0x106242010>,\n",
       " 'Ellipsis': <rope.base.builtins.BuiltinName at 0x106241f10>,\n",
       " 'EncodingWarning': <rope.base.builtins.BuiltinName at 0x1052becd0>,\n",
       " 'EnvironmentError': <rope.base.builtins.BuiltinName at 0x106241fd0>,\n",
       " 'Exception': <rope.base.builtins.BuiltinName at 0x106242490>,\n",
       " 'ExceptionGroup': <rope.base.builtins.BuiltinName at 0x106242590>,\n",
       " 'False': <rope.base.builtins.BuiltinName at 0x106242290>,\n",
       " 'FileExistsError': <rope.base.builtins.BuiltinName at 0x106242610>,\n",
       " 'FileNotFoundError': <rope.base.builtins.BuiltinName at 0x106241250>,\n",
       " 'FloatingPointError': <rope.base.builtins.BuiltinName at 0x106242810>,\n",
       " 'FutureWarning': <rope.base.builtins.BuiltinName at 0x106242a10>,\n",
       " 'GeneratorExit': <rope.base.builtins.BuiltinName at 0x106242910>,\n",
       " 'IOError': <rope.base.builtins.BuiltinName at 0x106242b90>,\n",
       " 'ImportError': <rope.base.builtins.BuiltinName at 0x106242850>,\n",
       " 'ImportWarning': <rope.base.builtins.BuiltinName at 0x106242b50>,\n",
       " 'IndentationError': <rope.base.builtins.BuiltinName at 0x106242bd0>,\n",
       " 'IndexError': <rope.base.builtins.BuiltinName at 0x10625c2d0>,\n",
       " 'InterruptedError': <rope.base.builtins.BuiltinName at 0x10625c090>,\n",
       " 'IsADirectoryError': <rope.base.builtins.BuiltinName at 0x10625c350>,\n",
       " 'KeyError': <rope.base.builtins.BuiltinName at 0x10625c710>,\n",
       " 'KeyboardInterrupt': <rope.base.builtins.BuiltinName at 0x10625c410>,\n",
       " 'LookupError': <rope.base.builtins.BuiltinName at 0x10625c390>,\n",
       " 'MemoryError': <rope.base.builtins.BuiltinName at 0x10625c690>,\n",
       " 'ModuleNotFoundError': <rope.base.builtins.BuiltinName at 0x10625c9d0>,\n",
       " 'NameError': <rope.base.builtins.BuiltinName at 0x10625c610>,\n",
       " 'NotADirectoryError': <rope.base.builtins.BuiltinName at 0x10625c790>,\n",
       " 'NotImplemented': <rope.base.builtins.BuiltinName at 0x10625c8d0>,\n",
       " 'NotImplementedError': <rope.base.builtins.BuiltinName at 0x10625ca90>,\n",
       " 'OSError': <rope.base.builtins.BuiltinName at 0x10625cb10>,\n",
       " 'OverflowError': <rope.base.builtins.BuiltinName at 0x10625cbd0>,\n",
       " 'PendingDeprecationWarning': <rope.base.builtins.BuiltinName at 0x10625cc50>,\n",
       " 'PermissionError': <rope.base.builtins.BuiltinName at 0x10625ca10>,\n",
       " 'ProcessLookupError': <rope.base.builtins.BuiltinName at 0x10625cd10>,\n",
       " 'RecursionError': <rope.base.builtins.BuiltinName at 0x10625cf10>,\n",
       " 'ReferenceError': <rope.base.builtins.BuiltinName at 0x10625ce10>,\n",
       " 'ResourceWarning': <rope.base.builtins.BuiltinName at 0x10625ce90>,\n",
       " 'RuntimeError': <rope.base.builtins.BuiltinName at 0x10625cf50>,\n",
       " 'RuntimeWarning': <rope.base.builtins.BuiltinName at 0x10625cfd0>,\n",
       " 'StopAsyncIteration': <rope.base.builtins.BuiltinName at 0x10625cd90>,\n",
       " 'StopIteration': <rope.base.builtins.BuiltinName at 0x10625d110>,\n",
       " 'SyntaxError': <rope.base.builtins.BuiltinName at 0x10625d050>,\n",
       " 'SyntaxWarning': <rope.base.builtins.BuiltinName at 0x10625d1d0>,\n",
       " 'SystemError': <rope.base.builtins.BuiltinName at 0x10625d150>,\n",
       " 'SystemExit': <rope.base.builtins.BuiltinName at 0x10625d310>,\n",
       " 'TabError': <rope.base.builtins.BuiltinName at 0x10625d3d0>,\n",
       " 'TimeoutError': <rope.base.builtins.BuiltinName at 0x10625d4d0>,\n",
       " 'True': <rope.base.builtins.BuiltinName at 0x10625d6d0>,\n",
       " 'TypeError': <rope.base.builtins.BuiltinName at 0x10625d610>,\n",
       " 'UnboundLocalError': <rope.base.builtins.BuiltinName at 0x10625d510>,\n",
       " 'UnicodeDecodeError': <rope.base.builtins.BuiltinName at 0x10625d710>,\n",
       " 'UnicodeEncodeError': <rope.base.builtins.BuiltinName at 0x10625d850>,\n",
       " 'UnicodeError': <rope.base.builtins.BuiltinName at 0x10625d8d0>,\n",
       " 'UnicodeTranslateError': <rope.base.builtins.BuiltinName at 0x10625d950>,\n",
       " 'UnicodeWarning': <rope.base.builtins.BuiltinName at 0x10625c6d0>,\n",
       " 'UserWarning': <rope.base.builtins.BuiltinName at 0x10625da90>,\n",
       " 'ValueError': <rope.base.builtins.BuiltinName at 0x10625df90>,\n",
       " 'Warning': <rope.base.builtins.BuiltinName at 0x10625df50>,\n",
       " 'ZeroDivisionError': <rope.base.builtins.BuiltinName at 0x10625e050>,\n",
       " '__IPYTHON__': <rope.base.builtins.BuiltinName at 0x10625e150>,\n",
       " '__build_class__': <rope.base.builtins.BuiltinName at 0x10625e1d0>,\n",
       " '__debug__': <rope.base.builtins.BuiltinName at 0x10625e250>,\n",
       " '__doc__': <rope.base.builtins.BuiltinName at 0x10625e2d0>,\n",
       " '__import__': <rope.base.builtins.BuiltinName at 0x10625e350>,\n",
       " '__loader__': <rope.base.builtins.BuiltinName at 0x10625e410>,\n",
       " '__name__': <rope.base.builtins.BuiltinName at 0x10625e490>,\n",
       " '__package__': <rope.base.builtins.BuiltinName at 0x10625e510>,\n",
       " '__spec__': <rope.base.builtins.BuiltinName at 0x10625e590>,\n",
       " 'abs': <rope.base.builtins.BuiltinName at 0x10625e610>,\n",
       " 'aiter': <rope.base.builtins.BuiltinName at 0x10625e650>,\n",
       " 'all': <rope.base.builtins.BuiltinName at 0x10625e6d0>,\n",
       " 'anext': <rope.base.builtins.BuiltinName at 0x10625e710>,\n",
       " 'any': <rope.base.builtins.BuiltinName at 0x10625e790>,\n",
       " 'ascii': <rope.base.builtins.BuiltinName at 0x10625e810>,\n",
       " 'bin': <rope.base.builtins.BuiltinName at 0x10625e890>,\n",
       " 'bool': <rope.base.builtins.BuiltinName at 0x10625e950>,\n",
       " 'breakpoint': <rope.base.builtins.BuiltinName at 0x10625e9d0>,\n",
       " 'bytearray': <rope.base.builtins.BuiltinName at 0x10625ea90>,\n",
       " 'bytes': <rope.base.builtins.BuiltinName at 0x10625eb50>,\n",
       " 'callable': <rope.base.builtins.BuiltinName at 0x10625ebd0>,\n",
       " 'chr': <rope.base.builtins.BuiltinName at 0x10625dc50>,\n",
       " 'classmethod': <rope.base.builtins.BuiltinName at 0x10625ecd0>,\n",
       " 'compile': <rope.base.builtins.BuiltinName at 0x10625ed50>,\n",
       " 'complex': <rope.base.builtins.BuiltinName at 0x10625ee50>,\n",
       " 'copyright': <rope.base.builtins.BuiltinName at 0x10625ee90>,\n",
       " 'credits': <rope.base.builtins.BuiltinName at 0x10625edd0>,\n",
       " 'delattr': <rope.base.builtins.BuiltinName at 0x10625ef90>,\n",
       " 'dict': <rope.base.builtins.BuiltinName at 0x10606be50>,\n",
       " 'dir': <rope.base.builtins.BuiltinName at 0x10625f1d0>,\n",
       " 'display': <rope.base.builtins.BuiltinName at 0x10625f390>,\n",
       " 'divmod': <rope.base.builtins.BuiltinName at 0x10625f410>,\n",
       " 'enumerate': <rope.base.builtins.BuiltinName at 0x10608efd0>,\n",
       " 'eval': <rope.base.builtins.BuiltinName at 0x10625f510>,\n",
       " 'exec': <rope.base.builtins.BuiltinName at 0x10625f590>,\n",
       " 'execfile': <rope.base.builtins.BuiltinName at 0x10625f610>,\n",
       " 'filter': <rope.base.builtins.BuiltinName at 0x10625f690>,\n",
       " 'float': <rope.base.builtins.BuiltinName at 0x10625f750>,\n",
       " 'format': <rope.base.builtins.BuiltinName at 0x10625f7d0>,\n",
       " 'frozenset': <rope.base.builtins.BuiltinName at 0x10625f890>,\n",
       " 'get_ipython': <rope.base.builtins.BuiltinName at 0x10625f910>,\n",
       " 'getattr': <rope.base.builtins.BuiltinName at 0x10625f990>,\n",
       " 'globals': <rope.base.builtins.BuiltinName at 0x10625fa10>,\n",
       " 'hasattr': <rope.base.builtins.BuiltinName at 0x10625fa90>,\n",
       " 'hash': <rope.base.builtins.BuiltinName at 0x10625fb10>,\n",
       " 'help': <rope.base.builtins.BuiltinName at 0x10625fb50>,\n",
       " 'hex': <rope.base.builtins.BuiltinName at 0x10625fbd0>,\n",
       " 'id': <rope.base.builtins.BuiltinName at 0x10625fc50>,\n",
       " 'input': <rope.base.builtins.BuiltinName at 0x10608f210>,\n",
       " 'int': <rope.base.builtins.BuiltinName at 0x10625fd50>,\n",
       " 'isinstance': <rope.base.builtins.BuiltinName at 0x10625c950>,\n",
       " 'issubclass': <rope.base.builtins.BuiltinName at 0x10625fe10>,\n",
       " 'iter': <rope.base.builtins.BuiltinName at 0x10608f190>,\n",
       " 'len': <rope.base.builtins.BuiltinName at 0x10625ff10>,\n",
       " 'license': <rope.base.builtins.BuiltinName at 0x10625ff90>,\n",
       " 'list': <rope.base.builtins.BuiltinName at 0x1055ee450>,\n",
       " 'locals': <rope.base.builtins.BuiltinName at 0x10625c910>,\n",
       " 'map': <rope.base.builtins.BuiltinName at 0x10625f090>,\n",
       " 'max': <rope.base.builtins.BuiltinName at 0x10624d190>,\n",
       " 'memoryview': <rope.base.builtins.BuiltinName at 0x10624cc90>,\n",
       " 'min': <rope.base.builtins.BuiltinName at 0x10624d5d0>,\n",
       " 'next': <rope.base.builtins.BuiltinName at 0x10624db50>,\n",
       " 'object': <rope.base.builtins.BuiltinName at 0x10608f010>,\n",
       " 'oct': <rope.base.builtins.BuiltinName at 0x10624e7d0>,\n",
       " 'open': <rope.base.builtins.BuiltinName at 0x10608ec50>,\n",
       " 'ord': <rope.base.builtins.BuiltinName at 0x10624c2d0>,\n",
       " 'pow': <rope.base.builtins.BuiltinName at 0x10624c5d0>,\n",
       " 'print': <rope.base.builtins.BuiltinName at 0x10624c1d0>,\n",
       " 'property': <rope.base.builtins.BuiltinName at 0x10608eed0>,\n",
       " 'range': <rope.base.builtins.BuiltinName at 0x10608ecd0>,\n",
       " 'repr': <rope.base.builtins.BuiltinName at 0x10624e550>,\n",
       " 'reversed': <rope.base.builtins.BuiltinName at 0x10608ed50>,\n",
       " 'round': <rope.base.builtins.BuiltinName at 0x10624cad0>,\n",
       " 'runfile': <rope.base.builtins.BuiltinName at 0x10624ced0>,\n",
       " 'set': <rope.base.builtins.BuiltinName at 0x10608ccd0>,\n",
       " 'setattr': <rope.base.builtins.BuiltinName at 0x10624cb50>,\n",
       " 'slice': <rope.base.builtins.BuiltinName at 0x10624d250>,\n",
       " 'sorted': <rope.base.builtins.BuiltinName at 0x10608edd0>,\n",
       " 'staticmethod': <rope.base.builtins.BuiltinName at 0x10624d010>,\n",
       " 'str': <rope.base.builtins.BuiltinName at 0x10608d710>,\n",
       " 'sum': <rope.base.builtins.BuiltinName at 0x10624d490>,\n",
       " 'super': <rope.base.builtins.BuiltinName at 0x10608ee50>,\n",
       " 'tuple': <rope.base.builtins.BuiltinName at 0x10608cc10>,\n",
       " 'type': <rope.base.builtins.BuiltinName at 0x10608f090>,\n",
       " 'vars': <rope.base.builtins.BuiltinName at 0x10624dc10>,\n",
       " 'zip': <rope.base.builtins.BuiltinName at 0x10608ef50>,\n",
       " 'json': <rope.base.pynamesdef.ImportedModule at 0x10622a090>,\n",
       " 'pd': <rope.base.pynamesdef.ImportedModule at 0x10631d3d0>,\n",
       " 'a': <rope.base.pynamesdef.AssignedName at 0x10630af50>,\n",
       " 'A': <rope.base.pynamesdef.DefinedName at 0x10622b050>,\n",
       " 'f': <rope.base.pynamesdef.DefinedName at 0x10633a5d0>}"
      ]
     },
     "execution_count": 40,
     "metadata": {},
     "output_type": "execute_result"
    }
   ],
   "execution_count": 40
  },
  {
   "metadata": {
    "ExecuteTime": {
     "end_time": "2024-09-01T08:57:35.553004Z",
     "start_time": "2024-09-01T08:57:35.546597Z"
    }
   },
   "cell_type": "code",
   "source": "d = defined_names[\"f\"]",
   "id": "d6a685322b78c0fc",
   "outputs": [],
   "execution_count": 42
  },
  {
   "metadata": {
    "ExecuteTime": {
     "end_time": "2024-09-01T08:58:10.771869Z",
     "start_time": "2024-09-01T08:58:10.767544Z"
    }
   },
   "cell_type": "code",
   "source": "top_scope = py_module.get_scope()",
   "id": "4eaf8ff247cf0ccf",
   "outputs": [],
   "execution_count": 44
  },
  {
   "metadata": {
    "ExecuteTime": {
     "end_time": "2024-09-01T09:01:27.884236Z",
     "start_time": "2024-09-01T09:01:27.878870Z"
    }
   },
   "cell_type": "code",
   "source": "top_scope.get_name(\"f\")",
   "id": "9bd280c6d95f9cf2",
   "outputs": [
    {
     "data": {
      "text/plain": [
       "<rope.base.pynamesdef.DefinedName at 0x10633a5d0>"
      ]
     },
     "execution_count": 51,
     "metadata": {},
     "output_type": "execute_result"
    }
   ],
   "execution_count": 51
  },
  {
   "metadata": {
    "ExecuteTime": {
     "end_time": "2024-09-01T09:02:46.452810Z",
     "start_time": "2024-09-01T09:02:46.436066Z"
    }
   },
   "cell_type": "code",
   "source": "f = top_scope.get_inner_scope_for_line(15)",
   "id": "764f331c8a0b100b",
   "outputs": [],
   "execution_count": 55
  },
  {
   "metadata": {
    "ExecuteTime": {
     "end_time": "2024-09-01T09:06:36.353647Z",
     "start_time": "2024-09-01T09:06:36.347998Z"
    }
   },
   "cell_type": "code",
   "source": "f",
   "id": "e1dc4f5077be5814",
   "outputs": [
    {
     "data": {
      "text/plain": [
       "<rope.base.pyscopes.FunctionScope at 0x1063b3090>"
      ]
     },
     "execution_count": 58,
     "metadata": {},
     "output_type": "execute_result"
    }
   ],
   "execution_count": 58
  },
  {
   "metadata": {
    "ExecuteTime": {
     "end_time": "2024-09-01T09:03:05.531161Z",
     "start_time": "2024-09-01T09:03:05.528280Z"
    }
   },
   "cell_type": "code",
   "source": "f.get_names()",
   "id": "300198b020a8c219",
   "outputs": [
    {
     "data": {
      "text/plain": [
       "{'y': <rope.base.pynamesdef.AssignedName at 0x1063ae3d0>,\n",
       " 'x': <rope.base.pynamesdef.ParameterName at 0x1062877d0>}"
      ]
     },
     "execution_count": 57,
     "metadata": {},
     "output_type": "execute_result"
    }
   ],
   "execution_count": 57
  },
  {
   "metadata": {
    "ExecuteTime": {
     "end_time": "2024-09-01T09:54:16.315773Z",
     "start_time": "2024-09-01T09:54:16.308859Z"
    }
   },
   "cell_type": "code",
   "source": [
    "\n",
    "    "
   ],
   "id": "5c74acc85f612908",
   "outputs": [
    {
     "data": {
      "text/plain": [
       "{'ArithmeticError': <rope.base.builtins.BuiltinName at 0x105b16ed0>,\n",
       " 'AssertionError': <rope.base.builtins.BuiltinName at 0x105b19d10>,\n",
       " 'AttributeError': <rope.base.builtins.BuiltinName at 0x106240dd0>,\n",
       " 'BaseException': <rope.base.builtins.BuiltinName at 0x106240f50>,\n",
       " 'BaseExceptionGroup': <rope.base.builtins.BuiltinName at 0x106241590>,\n",
       " 'BlockingIOError': <rope.base.builtins.BuiltinName at 0x106241390>,\n",
       " 'BrokenPipeError': <rope.base.builtins.BuiltinName at 0x1062415d0>,\n",
       " 'BufferError': <rope.base.builtins.BuiltinName at 0x106241610>,\n",
       " 'BytesWarning': <rope.base.builtins.BuiltinName at 0x106241810>,\n",
       " 'ChildProcessError': <rope.base.builtins.BuiltinName at 0x106241890>,\n",
       " 'ConnectionAbortedError': <rope.base.builtins.BuiltinName at 0x106241950>,\n",
       " 'ConnectionError': <rope.base.builtins.BuiltinName at 0x106241990>,\n",
       " 'ConnectionRefusedError': <rope.base.builtins.BuiltinName at 0x1062419d0>,\n",
       " 'ConnectionResetError': <rope.base.builtins.BuiltinName at 0x106241d50>,\n",
       " 'DeprecationWarning': <rope.base.builtins.BuiltinName at 0x106241b90>,\n",
       " 'EOFError': <rope.base.builtins.BuiltinName at 0x106242010>,\n",
       " 'Ellipsis': <rope.base.builtins.BuiltinName at 0x106241f10>,\n",
       " 'EncodingWarning': <rope.base.builtins.BuiltinName at 0x1052becd0>,\n",
       " 'EnvironmentError': <rope.base.builtins.BuiltinName at 0x106241fd0>,\n",
       " 'Exception': <rope.base.builtins.BuiltinName at 0x106242490>,\n",
       " 'ExceptionGroup': <rope.base.builtins.BuiltinName at 0x106242590>,\n",
       " 'False': <rope.base.builtins.BuiltinName at 0x106242290>,\n",
       " 'FileExistsError': <rope.base.builtins.BuiltinName at 0x106242610>,\n",
       " 'FileNotFoundError': <rope.base.builtins.BuiltinName at 0x106241250>,\n",
       " 'FloatingPointError': <rope.base.builtins.BuiltinName at 0x106242810>,\n",
       " 'FutureWarning': <rope.base.builtins.BuiltinName at 0x106242a10>,\n",
       " 'GeneratorExit': <rope.base.builtins.BuiltinName at 0x106242910>,\n",
       " 'IOError': <rope.base.builtins.BuiltinName at 0x106242b90>,\n",
       " 'ImportError': <rope.base.builtins.BuiltinName at 0x106242850>,\n",
       " 'ImportWarning': <rope.base.builtins.BuiltinName at 0x106242b50>,\n",
       " 'IndentationError': <rope.base.builtins.BuiltinName at 0x106242bd0>,\n",
       " 'IndexError': <rope.base.builtins.BuiltinName at 0x10625c2d0>,\n",
       " 'InterruptedError': <rope.base.builtins.BuiltinName at 0x10625c090>,\n",
       " 'IsADirectoryError': <rope.base.builtins.BuiltinName at 0x10625c350>,\n",
       " 'KeyError': <rope.base.builtins.BuiltinName at 0x10625c710>,\n",
       " 'KeyboardInterrupt': <rope.base.builtins.BuiltinName at 0x10625c410>,\n",
       " 'LookupError': <rope.base.builtins.BuiltinName at 0x10625c390>,\n",
       " 'MemoryError': <rope.base.builtins.BuiltinName at 0x10625c690>,\n",
       " 'ModuleNotFoundError': <rope.base.builtins.BuiltinName at 0x10625c9d0>,\n",
       " 'NameError': <rope.base.builtins.BuiltinName at 0x10625c610>,\n",
       " 'NotADirectoryError': <rope.base.builtins.BuiltinName at 0x10625c790>,\n",
       " 'NotImplemented': <rope.base.builtins.BuiltinName at 0x10625c8d0>,\n",
       " 'NotImplementedError': <rope.base.builtins.BuiltinName at 0x10625ca90>,\n",
       " 'OSError': <rope.base.builtins.BuiltinName at 0x10625cb10>,\n",
       " 'OverflowError': <rope.base.builtins.BuiltinName at 0x10625cbd0>,\n",
       " 'PendingDeprecationWarning': <rope.base.builtins.BuiltinName at 0x10625cc50>,\n",
       " 'PermissionError': <rope.base.builtins.BuiltinName at 0x10625ca10>,\n",
       " 'ProcessLookupError': <rope.base.builtins.BuiltinName at 0x10625cd10>,\n",
       " 'RecursionError': <rope.base.builtins.BuiltinName at 0x10625cf10>,\n",
       " 'ReferenceError': <rope.base.builtins.BuiltinName at 0x10625ce10>,\n",
       " 'ResourceWarning': <rope.base.builtins.BuiltinName at 0x10625ce90>,\n",
       " 'RuntimeError': <rope.base.builtins.BuiltinName at 0x10625cf50>,\n",
       " 'RuntimeWarning': <rope.base.builtins.BuiltinName at 0x10625cfd0>,\n",
       " 'StopAsyncIteration': <rope.base.builtins.BuiltinName at 0x10625cd90>,\n",
       " 'StopIteration': <rope.base.builtins.BuiltinName at 0x10625d110>,\n",
       " 'SyntaxError': <rope.base.builtins.BuiltinName at 0x10625d050>,\n",
       " 'SyntaxWarning': <rope.base.builtins.BuiltinName at 0x10625d1d0>,\n",
       " 'SystemError': <rope.base.builtins.BuiltinName at 0x10625d150>,\n",
       " 'SystemExit': <rope.base.builtins.BuiltinName at 0x10625d310>,\n",
       " 'TabError': <rope.base.builtins.BuiltinName at 0x10625d3d0>,\n",
       " 'TimeoutError': <rope.base.builtins.BuiltinName at 0x10625d4d0>,\n",
       " 'True': <rope.base.builtins.BuiltinName at 0x10625d6d0>,\n",
       " 'TypeError': <rope.base.builtins.BuiltinName at 0x10625d610>,\n",
       " 'UnboundLocalError': <rope.base.builtins.BuiltinName at 0x10625d510>,\n",
       " 'UnicodeDecodeError': <rope.base.builtins.BuiltinName at 0x10625d710>,\n",
       " 'UnicodeEncodeError': <rope.base.builtins.BuiltinName at 0x10625d850>,\n",
       " 'UnicodeError': <rope.base.builtins.BuiltinName at 0x10625d8d0>,\n",
       " 'UnicodeTranslateError': <rope.base.builtins.BuiltinName at 0x10625d950>,\n",
       " 'UnicodeWarning': <rope.base.builtins.BuiltinName at 0x10625c6d0>,\n",
       " 'UserWarning': <rope.base.builtins.BuiltinName at 0x10625da90>,\n",
       " 'ValueError': <rope.base.builtins.BuiltinName at 0x10625df90>,\n",
       " 'Warning': <rope.base.builtins.BuiltinName at 0x10625df50>,\n",
       " 'ZeroDivisionError': <rope.base.builtins.BuiltinName at 0x10625e050>,\n",
       " '__IPYTHON__': <rope.base.builtins.BuiltinName at 0x10625e150>,\n",
       " '__build_class__': <rope.base.builtins.BuiltinName at 0x10625e1d0>,\n",
       " '__debug__': <rope.base.builtins.BuiltinName at 0x10625e250>,\n",
       " '__doc__': <rope.base.builtins.BuiltinName at 0x10625e2d0>,\n",
       " '__import__': <rope.base.builtins.BuiltinName at 0x10625e350>,\n",
       " '__loader__': <rope.base.builtins.BuiltinName at 0x10625e410>,\n",
       " '__name__': <rope.base.builtins.BuiltinName at 0x10625e490>,\n",
       " '__package__': <rope.base.builtins.BuiltinName at 0x10625e510>,\n",
       " '__spec__': <rope.base.builtins.BuiltinName at 0x10625e590>,\n",
       " 'abs': <rope.base.builtins.BuiltinName at 0x10625e610>,\n",
       " 'aiter': <rope.base.builtins.BuiltinName at 0x10625e650>,\n",
       " 'all': <rope.base.builtins.BuiltinName at 0x10625e6d0>,\n",
       " 'anext': <rope.base.builtins.BuiltinName at 0x10625e710>,\n",
       " 'any': <rope.base.builtins.BuiltinName at 0x10625e790>,\n",
       " 'ascii': <rope.base.builtins.BuiltinName at 0x10625e810>,\n",
       " 'bin': <rope.base.builtins.BuiltinName at 0x10625e890>,\n",
       " 'bool': <rope.base.builtins.BuiltinName at 0x10625e950>,\n",
       " 'breakpoint': <rope.base.builtins.BuiltinName at 0x10625e9d0>,\n",
       " 'bytearray': <rope.base.builtins.BuiltinName at 0x10625ea90>,\n",
       " 'bytes': <rope.base.builtins.BuiltinName at 0x10625eb50>,\n",
       " 'callable': <rope.base.builtins.BuiltinName at 0x10625ebd0>,\n",
       " 'chr': <rope.base.builtins.BuiltinName at 0x10625dc50>,\n",
       " 'classmethod': <rope.base.builtins.BuiltinName at 0x10625ecd0>,\n",
       " 'compile': <rope.base.builtins.BuiltinName at 0x10625ed50>,\n",
       " 'complex': <rope.base.builtins.BuiltinName at 0x10625ee50>,\n",
       " 'copyright': <rope.base.builtins.BuiltinName at 0x10625ee90>,\n",
       " 'credits': <rope.base.builtins.BuiltinName at 0x10625edd0>,\n",
       " 'delattr': <rope.base.builtins.BuiltinName at 0x10625ef90>,\n",
       " 'dict': <rope.base.builtins.BuiltinName at 0x10606be50>,\n",
       " 'dir': <rope.base.builtins.BuiltinName at 0x10625f1d0>,\n",
       " 'display': <rope.base.builtins.BuiltinName at 0x10625f390>,\n",
       " 'divmod': <rope.base.builtins.BuiltinName at 0x10625f410>,\n",
       " 'enumerate': <rope.base.builtins.BuiltinName at 0x10608efd0>,\n",
       " 'eval': <rope.base.builtins.BuiltinName at 0x10625f510>,\n",
       " 'exec': <rope.base.builtins.BuiltinName at 0x10625f590>,\n",
       " 'execfile': <rope.base.builtins.BuiltinName at 0x10625f610>,\n",
       " 'filter': <rope.base.builtins.BuiltinName at 0x10625f690>,\n",
       " 'float': <rope.base.builtins.BuiltinName at 0x10625f750>,\n",
       " 'format': <rope.base.builtins.BuiltinName at 0x10625f7d0>,\n",
       " 'frozenset': <rope.base.builtins.BuiltinName at 0x10625f890>,\n",
       " 'get_ipython': <rope.base.builtins.BuiltinName at 0x10625f910>,\n",
       " 'getattr': <rope.base.builtins.BuiltinName at 0x10625f990>,\n",
       " 'globals': <rope.base.builtins.BuiltinName at 0x10625fa10>,\n",
       " 'hasattr': <rope.base.builtins.BuiltinName at 0x10625fa90>,\n",
       " 'hash': <rope.base.builtins.BuiltinName at 0x10625fb10>,\n",
       " 'help': <rope.base.builtins.BuiltinName at 0x10625fb50>,\n",
       " 'hex': <rope.base.builtins.BuiltinName at 0x10625fbd0>,\n",
       " 'id': <rope.base.builtins.BuiltinName at 0x10625fc50>,\n",
       " 'input': <rope.base.builtins.BuiltinName at 0x10608f210>,\n",
       " 'int': <rope.base.builtins.BuiltinName at 0x10625fd50>,\n",
       " 'isinstance': <rope.base.builtins.BuiltinName at 0x10625c950>,\n",
       " 'issubclass': <rope.base.builtins.BuiltinName at 0x10625fe10>,\n",
       " 'iter': <rope.base.builtins.BuiltinName at 0x10608f190>,\n",
       " 'len': <rope.base.builtins.BuiltinName at 0x10625ff10>,\n",
       " 'license': <rope.base.builtins.BuiltinName at 0x10625ff90>,\n",
       " 'list': <rope.base.builtins.BuiltinName at 0x1055ee450>,\n",
       " 'locals': <rope.base.builtins.BuiltinName at 0x10625c910>,\n",
       " 'map': <rope.base.builtins.BuiltinName at 0x10625f090>,\n",
       " 'max': <rope.base.builtins.BuiltinName at 0x10624d190>,\n",
       " 'memoryview': <rope.base.builtins.BuiltinName at 0x10624cc90>,\n",
       " 'min': <rope.base.builtins.BuiltinName at 0x10624d5d0>,\n",
       " 'next': <rope.base.builtins.BuiltinName at 0x10624db50>,\n",
       " 'object': <rope.base.builtins.BuiltinName at 0x10608f010>,\n",
       " 'oct': <rope.base.builtins.BuiltinName at 0x10624e7d0>,\n",
       " 'open': <rope.base.builtins.BuiltinName at 0x10608ec50>,\n",
       " 'ord': <rope.base.builtins.BuiltinName at 0x10624c2d0>,\n",
       " 'pow': <rope.base.builtins.BuiltinName at 0x10624c5d0>,\n",
       " 'print': <rope.base.builtins.BuiltinName at 0x10624c1d0>,\n",
       " 'property': <rope.base.builtins.BuiltinName at 0x10608eed0>,\n",
       " 'range': <rope.base.builtins.BuiltinName at 0x10608ecd0>,\n",
       " 'repr': <rope.base.builtins.BuiltinName at 0x10624e550>,\n",
       " 'reversed': <rope.base.builtins.BuiltinName at 0x10608ed50>,\n",
       " 'round': <rope.base.builtins.BuiltinName at 0x10624cad0>,\n",
       " 'runfile': <rope.base.builtins.BuiltinName at 0x10624ced0>,\n",
       " 'set': <rope.base.builtins.BuiltinName at 0x10608ccd0>,\n",
       " 'setattr': <rope.base.builtins.BuiltinName at 0x10624cb50>,\n",
       " 'slice': <rope.base.builtins.BuiltinName at 0x10624d250>,\n",
       " 'sorted': <rope.base.builtins.BuiltinName at 0x10608edd0>,\n",
       " 'staticmethod': <rope.base.builtins.BuiltinName at 0x10624d010>,\n",
       " 'str': <rope.base.builtins.BuiltinName at 0x10608d710>,\n",
       " 'sum': <rope.base.builtins.BuiltinName at 0x10624d490>,\n",
       " 'super': <rope.base.builtins.BuiltinName at 0x10608ee50>,\n",
       " 'tuple': <rope.base.builtins.BuiltinName at 0x10608cc10>,\n",
       " 'type': <rope.base.builtins.BuiltinName at 0x10608f090>,\n",
       " 'vars': <rope.base.builtins.BuiltinName at 0x10624dc10>,\n",
       " 'zip': <rope.base.builtins.BuiltinName at 0x10608ef50>,\n",
       " 'json': <rope.base.pynamesdef.ImportedModule at 0x10622a090>,\n",
       " 'pd': <rope.base.pynamesdef.ImportedModule at 0x10631d3d0>,\n",
       " 'a': <rope.base.pynamesdef.AssignedName at 0x10630af50>,\n",
       " 'A': <rope.base.pynamesdef.DefinedName at 0x10622b050>,\n",
       " 'f': <rope.base.pynamesdef.DefinedName at 0x10633a5d0>}"
      ]
     },
     "execution_count": 95,
     "metadata": {},
     "output_type": "execute_result"
    }
   ],
   "execution_count": 95
  },
  {
   "metadata": {},
   "cell_type": "code",
   "outputs": [],
   "execution_count": null,
   "source": "",
   "id": "44be0a7b9e580cdf"
  },
  {
   "metadata": {
    "ExecuteTime": {
     "end_time": "2024-09-01T09:26:11.264360Z",
     "start_time": "2024-09-01T09:26:11.250942Z"
    }
   },
   "cell_type": "code",
   "source": [
    "def print_scope_details(scope, indent=0):\n",
    "    indent_space = ' ' * indent\n",
    "    print(f\"{indent_space}Scope: {scope.get_kind()} (Start: {scope.get_start()}, End: {scope.get_end()})\")\n",
    "    print(f\"{indent_space}Variables:\")\n",
    "    for name, pyname in scope.get_names().items():\n",
    "        print(f\"{indent_space}  {name}: {type(pyname).__name__}\")\n",
    "\n",
    "    # 递归打印子作用域的信息\n",
    "    subscopes = scope.get_scopes()\n",
    "    for subscope in subscopes:\n",
    "        print_scope_details(subscope, indent + 2)"
   ],
   "id": "2892af62fc7ff2f3",
   "outputs": [],
   "execution_count": 89
  },
  {
   "metadata": {
    "ExecuteTime": {
     "end_time": "2024-09-01T09:26:11.926614Z",
     "start_time": "2024-09-01T09:26:11.923802Z"
    }
   },
   "cell_type": "code",
   "source": "print_scope_details(top_scope)",
   "id": "c05e86947b5cc000",
   "outputs": [
    {
     "name": "stdout",
     "output_type": "stream",
     "text": [
      "Scope: Module (Start: 1, End: 17)\n",
      "Variables:\n",
      "  ArithmeticError: BuiltinName\n",
      "  AssertionError: BuiltinName\n",
      "  AttributeError: BuiltinName\n",
      "  BaseException: BuiltinName\n",
      "  BaseExceptionGroup: BuiltinName\n",
      "  BlockingIOError: BuiltinName\n",
      "  BrokenPipeError: BuiltinName\n",
      "  BufferError: BuiltinName\n",
      "  BytesWarning: BuiltinName\n",
      "  ChildProcessError: BuiltinName\n",
      "  ConnectionAbortedError: BuiltinName\n",
      "  ConnectionError: BuiltinName\n",
      "  ConnectionRefusedError: BuiltinName\n",
      "  ConnectionResetError: BuiltinName\n",
      "  DeprecationWarning: BuiltinName\n",
      "  EOFError: BuiltinName\n",
      "  Ellipsis: BuiltinName\n",
      "  EncodingWarning: BuiltinName\n",
      "  EnvironmentError: BuiltinName\n",
      "  Exception: BuiltinName\n",
      "  ExceptionGroup: BuiltinName\n",
      "  False: BuiltinName\n",
      "  FileExistsError: BuiltinName\n",
      "  FileNotFoundError: BuiltinName\n",
      "  FloatingPointError: BuiltinName\n",
      "  FutureWarning: BuiltinName\n",
      "  GeneratorExit: BuiltinName\n",
      "  IOError: BuiltinName\n",
      "  ImportError: BuiltinName\n",
      "  ImportWarning: BuiltinName\n",
      "  IndentationError: BuiltinName\n",
      "  IndexError: BuiltinName\n",
      "  InterruptedError: BuiltinName\n",
      "  IsADirectoryError: BuiltinName\n",
      "  KeyError: BuiltinName\n",
      "  KeyboardInterrupt: BuiltinName\n",
      "  LookupError: BuiltinName\n",
      "  MemoryError: BuiltinName\n",
      "  ModuleNotFoundError: BuiltinName\n",
      "  NameError: BuiltinName\n",
      "  NotADirectoryError: BuiltinName\n",
      "  NotImplemented: BuiltinName\n",
      "  NotImplementedError: BuiltinName\n",
      "  OSError: BuiltinName\n",
      "  OverflowError: BuiltinName\n",
      "  PendingDeprecationWarning: BuiltinName\n",
      "  PermissionError: BuiltinName\n",
      "  ProcessLookupError: BuiltinName\n",
      "  RecursionError: BuiltinName\n",
      "  ReferenceError: BuiltinName\n",
      "  ResourceWarning: BuiltinName\n",
      "  RuntimeError: BuiltinName\n",
      "  RuntimeWarning: BuiltinName\n",
      "  StopAsyncIteration: BuiltinName\n",
      "  StopIteration: BuiltinName\n",
      "  SyntaxError: BuiltinName\n",
      "  SyntaxWarning: BuiltinName\n",
      "  SystemError: BuiltinName\n",
      "  SystemExit: BuiltinName\n",
      "  TabError: BuiltinName\n",
      "  TimeoutError: BuiltinName\n",
      "  True: BuiltinName\n",
      "  TypeError: BuiltinName\n",
      "  UnboundLocalError: BuiltinName\n",
      "  UnicodeDecodeError: BuiltinName\n",
      "  UnicodeEncodeError: BuiltinName\n",
      "  UnicodeError: BuiltinName\n",
      "  UnicodeTranslateError: BuiltinName\n",
      "  UnicodeWarning: BuiltinName\n",
      "  UserWarning: BuiltinName\n",
      "  ValueError: BuiltinName\n",
      "  Warning: BuiltinName\n",
      "  ZeroDivisionError: BuiltinName\n",
      "  __IPYTHON__: BuiltinName\n",
      "  __build_class__: BuiltinName\n",
      "  __debug__: BuiltinName\n",
      "  __doc__: BuiltinName\n",
      "  __import__: BuiltinName\n",
      "  __loader__: BuiltinName\n",
      "  __name__: BuiltinName\n",
      "  __package__: BuiltinName\n",
      "  __spec__: BuiltinName\n",
      "  abs: BuiltinName\n",
      "  aiter: BuiltinName\n",
      "  all: BuiltinName\n",
      "  anext: BuiltinName\n",
      "  any: BuiltinName\n",
      "  ascii: BuiltinName\n",
      "  bin: BuiltinName\n",
      "  bool: BuiltinName\n",
      "  breakpoint: BuiltinName\n",
      "  bytearray: BuiltinName\n",
      "  bytes: BuiltinName\n",
      "  callable: BuiltinName\n",
      "  chr: BuiltinName\n",
      "  classmethod: BuiltinName\n",
      "  compile: BuiltinName\n",
      "  complex: BuiltinName\n",
      "  copyright: BuiltinName\n",
      "  credits: BuiltinName\n",
      "  delattr: BuiltinName\n",
      "  dict: BuiltinName\n",
      "  dir: BuiltinName\n",
      "  display: BuiltinName\n",
      "  divmod: BuiltinName\n",
      "  enumerate: BuiltinName\n",
      "  eval: BuiltinName\n",
      "  exec: BuiltinName\n",
      "  execfile: BuiltinName\n",
      "  filter: BuiltinName\n",
      "  float: BuiltinName\n",
      "  format: BuiltinName\n",
      "  frozenset: BuiltinName\n",
      "  get_ipython: BuiltinName\n",
      "  getattr: BuiltinName\n",
      "  globals: BuiltinName\n",
      "  hasattr: BuiltinName\n",
      "  hash: BuiltinName\n",
      "  help: BuiltinName\n",
      "  hex: BuiltinName\n",
      "  id: BuiltinName\n",
      "  input: BuiltinName\n",
      "  int: BuiltinName\n",
      "  isinstance: BuiltinName\n",
      "  issubclass: BuiltinName\n",
      "  iter: BuiltinName\n",
      "  len: BuiltinName\n",
      "  license: BuiltinName\n",
      "  list: BuiltinName\n",
      "  locals: BuiltinName\n",
      "  map: BuiltinName\n",
      "  max: BuiltinName\n",
      "  memoryview: BuiltinName\n",
      "  min: BuiltinName\n",
      "  next: BuiltinName\n",
      "  object: BuiltinName\n",
      "  oct: BuiltinName\n",
      "  open: BuiltinName\n",
      "  ord: BuiltinName\n",
      "  pow: BuiltinName\n",
      "  print: BuiltinName\n",
      "  property: BuiltinName\n",
      "  range: BuiltinName\n",
      "  repr: BuiltinName\n",
      "  reversed: BuiltinName\n",
      "  round: BuiltinName\n",
      "  runfile: BuiltinName\n",
      "  set: BuiltinName\n",
      "  setattr: BuiltinName\n",
      "  slice: BuiltinName\n",
      "  sorted: BuiltinName\n",
      "  staticmethod: BuiltinName\n",
      "  str: BuiltinName\n",
      "  sum: BuiltinName\n",
      "  super: BuiltinName\n",
      "  tuple: BuiltinName\n",
      "  type: BuiltinName\n",
      "  vars: BuiltinName\n",
      "  zip: BuiltinName\n",
      "  json: ImportedModule\n",
      "  pd: ImportedModule\n",
      "  a: AssignedName\n",
      "  A: DefinedName\n",
      "  f: DefinedName\n",
      "  Scope: Class (Start: 6, End: 12)\n",
      "  Variables:\n",
      "    __init__: DefinedName\n",
      "    C: AssignedName\n",
      "    t: DefinedName\n",
      "    Scope: Function (Start: 7, End: 8)\n",
      "    Variables:\n",
      "      self: ParameterName\n",
      "      B: ParameterName\n",
      "    Scope: Function (Start: 10, End: 12)\n",
      "    Variables:\n",
      "      O: AssignedName\n",
      "      self: ParameterName\n",
      "      K: ParameterName\n",
      "  Scope: Function (Start: 15, End: 17)\n",
      "  Variables:\n",
      "    y: AssignedName\n",
      "    x: ParameterName\n"
     ]
    }
   ],
   "execution_count": 90
  },
  {
   "metadata": {
    "ExecuteTime": {
     "end_time": "2024-09-01T08:44:47.577087Z",
     "start_time": "2024-09-01T08:44:47.543981Z"
    }
   },
   "cell_type": "code",
   "source": [
    "# 过滤出自定义变量（排除内置名称）\n",
    "custom_vars = []\n",
    "for name in defined_names:\n",
    "    if defined_names[name].is_defined() and not defined_names[name].get_object().is_builtin():  # 检查是否为自定义定义且不是内置的\n",
    "        py_object = name.get_object()\n",
    "        if py_object.get_kind() == 'variable':\n",
    "            custom_vars.append(name)"
   ],
   "id": "ef4e69ae1da5d7fd",
   "outputs": [
    {
     "ename": "AttributeError",
     "evalue": "'BuiltinName' object has no attribute 'is_defined'",
     "output_type": "error",
     "traceback": [
      "\u001B[0;31m---------------------------------------------------------------------------\u001B[0m",
      "\u001B[0;31mAttributeError\u001B[0m                            Traceback (most recent call last)",
      "Cell \u001B[0;32mIn[16], line 4\u001B[0m\n\u001B[1;32m      2\u001B[0m custom_vars \u001B[38;5;241m=\u001B[39m []\n\u001B[1;32m      3\u001B[0m \u001B[38;5;28;01mfor\u001B[39;00m name \u001B[38;5;129;01min\u001B[39;00m defined_names:\n\u001B[0;32m----> 4\u001B[0m     \u001B[38;5;28;01mif\u001B[39;00m \u001B[43mdefined_names\u001B[49m\u001B[43m[\u001B[49m\u001B[43mname\u001B[49m\u001B[43m]\u001B[49m\u001B[38;5;241;43m.\u001B[39;49m\u001B[43mis_defined\u001B[49m() \u001B[38;5;129;01mand\u001B[39;00m \u001B[38;5;129;01mnot\u001B[39;00m defined_names[name]\u001B[38;5;241m.\u001B[39mget_object()\u001B[38;5;241m.\u001B[39mis_builtin():  \u001B[38;5;66;03m# 检查是否为自定义定义且不是内置的\u001B[39;00m\n\u001B[1;32m      5\u001B[0m         py_object \u001B[38;5;241m=\u001B[39m name\u001B[38;5;241m.\u001B[39mget_object()\n\u001B[1;32m      6\u001B[0m         \u001B[38;5;28;01mif\u001B[39;00m py_object\u001B[38;5;241m.\u001B[39mget_kind() \u001B[38;5;241m==\u001B[39m \u001B[38;5;124m'\u001B[39m\u001B[38;5;124mvariable\u001B[39m\u001B[38;5;124m'\u001B[39m:\n",
      "\u001B[0;31mAttributeError\u001B[0m: 'BuiltinName' object has no attribute 'is_defined'"
     ]
    }
   ],
   "execution_count": 16
  },
  {
   "metadata": {
    "ExecuteTime": {
     "end_time": "2024-09-01T08:50:16.034275Z",
     "start_time": "2024-09-01T08:50:16.004032Z"
    }
   },
   "cell_type": "code",
   "source": "b = defined_names[\"pandas\"]",
   "id": "512da1404c365ea7",
   "outputs": [
    {
     "ename": "KeyError",
     "evalue": "'pandas'",
     "output_type": "error",
     "traceback": [
      "\u001B[0;31m---------------------------------------------------------------------------\u001B[0m",
      "\u001B[0;31mKeyError\u001B[0m                                  Traceback (most recent call last)",
      "Cell \u001B[0;32mIn[33], line 1\u001B[0m\n\u001B[0;32m----> 1\u001B[0m b \u001B[38;5;241m=\u001B[39m \u001B[43mdefined_names\u001B[49m\u001B[43m[\u001B[49m\u001B[38;5;124;43m\"\u001B[39;49m\u001B[38;5;124;43mpandas\u001B[39;49m\u001B[38;5;124;43m\"\u001B[39;49m\u001B[43m]\u001B[49m\n",
      "\u001B[0;31mKeyError\u001B[0m: 'pandas'"
     ]
    }
   ],
   "execution_count": 33
  },
  {
   "metadata": {
    "ExecuteTime": {
     "end_time": "2024-09-01T08:48:07.164564Z",
     "start_time": "2024-09-01T08:48:07.157645Z"
    }
   },
   "cell_type": "code",
   "source": "b.get_definition_location()",
   "id": "1b98beb0bc279e6a",
   "outputs": [
    {
     "data": {
      "text/plain": [
       "(<rope.base.pyobjectsdef.PyModule \"test\" at 0x105b15ed0>, 3)"
      ]
     },
     "execution_count": 25,
     "metadata": {},
     "output_type": "execute_result"
    }
   ],
   "execution_count": 25
  },
  {
   "metadata": {
    "ExecuteTime": {
     "end_time": "2024-09-01T08:45:34.950880Z",
     "start_time": "2024-09-01T08:45:34.944812Z"
    }
   },
   "cell_type": "code",
   "source": "type(b)",
   "id": "d00f98573f2405cc",
   "outputs": [
    {
     "data": {
      "text/plain": [
       "rope.base.pynamesdef.AssignedName"
      ]
     },
     "execution_count": 18,
     "metadata": {},
     "output_type": "execute_result"
    }
   ],
   "execution_count": 18
  },
  {
   "metadata": {
    "ExecuteTime": {
     "end_time": "2024-09-01T08:46:26.967538Z",
     "start_time": "2024-09-01T08:46:26.930964Z"
    }
   },
   "cell_type": "code",
   "source": "c = b.get_object()",
   "id": "8118a870f022d32c",
   "outputs": [],
   "execution_count": 20
  },
  {
   "metadata": {
    "ExecuteTime": {
     "end_time": "2024-09-01T08:47:02.620410Z",
     "start_time": "2024-09-01T08:47:02.615056Z"
    }
   },
   "cell_type": "code",
   "source": "c.get_type()",
   "id": "3f5c6eecb2cd3311",
   "outputs": [
    {
     "data": {
      "text/plain": [
       "<rope.base.builtins.BuiltinClass at 0x10625fc90>"
      ]
     },
     "execution_count": 22,
     "metadata": {},
     "output_type": "execute_result"
    }
   ],
   "execution_count": 22
  },
  {
   "metadata": {},
   "cell_type": "code",
   "outputs": [],
   "execution_count": null,
   "source": "",
   "id": "b8a8d3c8cb7a0de5"
  },
  {
   "metadata": {
    "ExecuteTime": {
     "end_time": "2024-09-01T09:09:30.050141Z",
     "start_time": "2024-09-01T09:09:30.024608Z"
    }
   },
   "cell_type": "code",
   "source": [
    "import rope\n",
    "from rope.base.project import Project\n",
    "from rope.base import ast, pyobjects, evaluate"
   ],
   "id": "16e72474fbe7a3df",
   "outputs": [],
   "execution_count": 59
  },
  {
   "metadata": {
    "ExecuteTime": {
     "end_time": "2024-09-01T09:13:29.275762Z",
     "start_time": "2024-09-01T09:13:29.234926Z"
    }
   },
   "cell_type": "code",
   "source": "myproject.get_resource(\"tmp/test.py\").get_python_object()",
   "id": "cb011168c74fe04d",
   "outputs": [
    {
     "ename": "AttributeError",
     "evalue": "'File' object has no attribute 'get_python_object'",
     "output_type": "error",
     "traceback": [
      "\u001B[0;31m---------------------------------------------------------------------------\u001B[0m",
      "\u001B[0;31mAttributeError\u001B[0m                            Traceback (most recent call last)",
      "Cell \u001B[0;32mIn[68], line 1\u001B[0m\n\u001B[0;32m----> 1\u001B[0m \u001B[43mmyproject\u001B[49m\u001B[38;5;241;43m.\u001B[39;49m\u001B[43mget_resource\u001B[49m\u001B[43m(\u001B[49m\u001B[38;5;124;43m\"\u001B[39;49m\u001B[38;5;124;43mtmp/test.py\u001B[39;49m\u001B[38;5;124;43m\"\u001B[39;49m\u001B[43m)\u001B[49m\u001B[38;5;241;43m.\u001B[39;49m\u001B[43mget_python_object\u001B[49m()\n",
      "\u001B[0;31mAttributeError\u001B[0m: 'File' object has no attribute 'get_python_object'"
     ]
    }
   ],
   "execution_count": 68
  },
  {
   "metadata": {
    "ExecuteTime": {
     "end_time": "2024-09-01T09:09:42.839432Z",
     "start_time": "2024-09-01T09:09:42.791868Z"
    }
   },
   "cell_type": "code",
   "source": "pyobject = myproject.get_pyobject(resource)",
   "id": "97d1a85d1e5ac4fa",
   "outputs": [
    {
     "ename": "AttributeError",
     "evalue": "'Project' object has no attribute 'get_pyobject'",
     "output_type": "error",
     "traceback": [
      "\u001B[0;31m---------------------------------------------------------------------------\u001B[0m",
      "\u001B[0;31mAttributeError\u001B[0m                            Traceback (most recent call last)",
      "Cell \u001B[0;32mIn[61], line 1\u001B[0m\n\u001B[0;32m----> 1\u001B[0m pyobject \u001B[38;5;241m=\u001B[39m \u001B[43mmyproject\u001B[49m\u001B[38;5;241;43m.\u001B[39;49m\u001B[43mget_pyobject\u001B[49m(resource)\n",
      "\u001B[0;31mAttributeError\u001B[0m: 'Project' object has no attribute 'get_pyobject'"
     ]
    }
   ],
   "execution_count": 61
  },
  {
   "metadata": {
    "ExecuteTime": {
     "end_time": "2024-09-01T09:10:17.716803Z",
     "start_time": "2024-09-01T09:10:17.711605Z"
    }
   },
   "cell_type": "code",
   "source": "myproject",
   "id": "d7748acace86f286",
   "outputs": [
    {
     "data": {
      "text/plain": [
       "<rope.base.project.Project \"/Users/yangxinyi/Downloads/200_临时文件夹/english_test_project_V2\">"
      ]
     },
     "execution_count": 63,
     "metadata": {},
     "output_type": "execute_result"
    }
   ],
   "execution_count": 63
  },
  {
   "metadata": {
    "ExecuteTime": {
     "end_time": "2024-09-01T09:14:42.669900Z",
     "start_time": "2024-09-01T09:14:42.610135Z"
    }
   },
   "cell_type": "code",
   "source": "",
   "id": "3ea516e43caf2ecc",
   "outputs": [],
   "execution_count": 70
  },
  {
   "metadata": {
    "ExecuteTime": {
     "end_time": "2024-09-01T09:17:04.213474Z",
     "start_time": "2024-09-01T09:17:04.203423Z"
    }
   },
   "cell_type": "code",
   "source": "tree = ast.parse(resource.read())",
   "id": "d82f66d9b167c0cc",
   "outputs": [],
   "execution_count": 77
  },
  {
   "metadata": {
    "ExecuteTime": {
     "end_time": "2024-09-01T09:17:08.633467Z",
     "start_time": "2024-09-01T09:17:08.627653Z"
    }
   },
   "cell_type": "code",
   "source": "ast.walk(ast.parse(resource.read()))",
   "id": "7ca71c43197e17a9",
   "outputs": [
    {
     "data": {
      "text/plain": [
       "<generator object walk at 0x1067304f0>"
      ]
     },
     "execution_count": 78,
     "metadata": {},
     "output_type": "execute_result"
    }
   ],
   "execution_count": 78
  },
  {
   "metadata": {
    "ExecuteTime": {
     "end_time": "2024-09-01T09:17:38.618764Z",
     "start_time": "2024-09-01T09:17:38.580814Z"
    }
   },
   "cell_type": "code",
   "source": [
    "for i in ast.walk(ast.parse(resource.read())):\n",
    "    print(i)"
   ],
   "id": "2ba91d0c571f3f76",
   "outputs": [
    {
     "name": "stdout",
     "output_type": "stream",
     "text": [
      "<ast.Module object at 0x10664ccd0>\n",
      "<ast.Import object at 0x10664c640>\n",
      "<ast.Import object at 0x10664dd50>\n",
      "<ast.Assign object at 0x10664ebc0>\n",
      "<ast.ClassDef object at 0x10664d960>\n",
      "<ast.FunctionDef object at 0x10664ec80>\n",
      "<ast.alias object at 0x10664d720>\n",
      "<ast.alias object at 0x10664d570>\n",
      "<ast.Name object at 0x10664c520>\n",
      "<ast.Constant object at 0x10664ead0>\n",
      "<ast.FunctionDef object at 0x10664e7d0>\n",
      "<ast.FunctionDef object at 0x10664e560>\n",
      "<ast.arguments object at 0x10664c760>\n",
      "<ast.Assign object at 0x10664d780>\n",
      "<ast.Return object at 0x10664c490>\n",
      "<ast.Store object at 0x1016cfc40>\n",
      "<ast.arguments object at 0x10664d330>\n",
      "<ast.Assign object at 0x10664e260>\n",
      "<ast.arguments object at 0x10664eb60>\n",
      "<ast.Assign object at 0x10664e8f0>\n",
      "<ast.Return object at 0x10664c130>\n",
      "<ast.arg object at 0x10664e800>\n",
      "<ast.Name object at 0x10664d990>\n",
      "<ast.BinOp object at 0x10664e440>\n",
      "<ast.Name object at 0x10664d9c0>\n",
      "<ast.arg object at 0x10664d690>\n",
      "<ast.arg object at 0x10664e830>\n",
      "<ast.Attribute object at 0x10664e320>\n",
      "<ast.Name object at 0x10664ece0>\n",
      "<ast.arg object at 0x10664db70>\n",
      "<ast.arg object at 0x10664d5a0>\n",
      "<ast.Name object at 0x10664d3c0>\n",
      "<ast.BinOp object at 0x10664e380>\n",
      "<ast.Name object at 0x10664e350>\n",
      "<ast.Store object at 0x1016cfc40>\n",
      "<ast.Name object at 0x10664e770>\n",
      "<ast.Add object at 0x1016cfe20>\n",
      "<ast.Constant object at 0x10664d8d0>\n",
      "<ast.Load object at 0x1016cfbe0>\n",
      "<ast.Name object at 0x10664c8e0>\n",
      "<ast.Store object at 0x1016cfc40>\n",
      "<ast.Load object at 0x1016cfbe0>\n",
      "<ast.Store object at 0x1016cfc40>\n",
      "<ast.Name object at 0x10664ecb0>\n",
      "<ast.Add object at 0x1016cfe20>\n",
      "<ast.Constant object at 0x10664df90>\n",
      "<ast.Load object at 0x1016cfbe0>\n",
      "<ast.Load object at 0x1016cfbe0>\n",
      "<ast.Load object at 0x1016cfbe0>\n",
      "<ast.Load object at 0x1016cfbe0>\n"
     ]
    }
   ],
   "execution_count": 81
  },
  {
   "metadata": {
    "ExecuteTime": {
     "end_time": "2024-09-01T09:16:19.465513Z",
     "start_time": "2024-09-01T09:16:19.458698Z"
    }
   },
   "cell_type": "code",
   "source": "a = list(ast.walk(ast.parse(resource.read())))",
   "id": "c560716525b34b68",
   "outputs": [],
   "execution_count": 75
  },
  {
   "metadata": {
    "ExecuteTime": {
     "end_time": "2024-09-01T09:18:09.863977Z",
     "start_time": "2024-09-01T09:18:09.848184Z"
    }
   },
   "cell_type": "code",
   "source": "b = a[0]",
   "id": "3813d29b99eecd0f",
   "outputs": [],
   "execution_count": 82
  },
  {
   "metadata": {
    "ExecuteTime": {
     "end_time": "2024-09-01T09:18:31.193801Z",
     "start_time": "2024-09-01T09:18:31.167510Z"
    }
   },
   "cell_type": "code",
   "source": "b",
   "id": "6cad2824ae8e0f54",
   "outputs": [
    {
     "ename": "AttributeError",
     "evalue": "'Module' object has no attribute 'id'",
     "output_type": "error",
     "traceback": [
      "\u001B[0;31m---------------------------------------------------------------------------\u001B[0m",
      "\u001B[0;31mAttributeError\u001B[0m                            Traceback (most recent call last)",
      "Cell \u001B[0;32mIn[84], line 1\u001B[0m\n\u001B[0;32m----> 1\u001B[0m \u001B[43mb\u001B[49m\u001B[38;5;241;43m.\u001B[39;49m\u001B[43mid\u001B[49m\n",
      "\u001B[0;31mAttributeError\u001B[0m: 'Module' object has no attribute 'id'"
     ]
    }
   ],
   "execution_count": 84
  },
  {
   "metadata": {
    "ExecuteTime": {
     "end_time": "2024-09-01T09:31:08.509696Z",
     "start_time": "2024-09-01T09:31:08.490516Z"
    }
   },
   "cell_type": "code",
   "source": "libutils.analyze_module(myproject, resource)",
   "id": "b20281c7348633d2",
   "outputs": [],
   "execution_count": 92
  },
  {
   "metadata": {},
   "cell_type": "code",
   "outputs": [],
   "execution_count": null,
   "source": "",
   "id": "7cadffcb6def424f"
  },
  {
   "metadata": {
    "ExecuteTime": {
     "end_time": "2024-09-01T09:32:09.817798Z",
     "start_time": "2024-09-01T09:32:09.804727Z"
    }
   },
   "cell_type": "code",
   "source": "libutils.modname(resource)",
   "id": "6610c4e8a46b7bd3",
   "outputs": [
    {
     "data": {
      "text/plain": [
       "'test'"
      ]
     },
     "execution_count": 93,
     "metadata": {},
     "output_type": "execute_result"
    }
   ],
   "execution_count": 93
  },
  {
   "metadata": {
    "ExecuteTime": {
     "end_time": "2024-09-01T10:51:43.654438Z",
     "start_time": "2024-09-01T10:51:43.609193Z"
    }
   },
   "cell_type": "code",
   "source": [
    "import importlib.util\n",
    "import pkgutil\n",
    "import sys"
   ],
   "id": "c0885fd34a025089",
   "outputs": [],
   "execution_count": 96
  },
  {
   "metadata": {
    "ExecuteTime": {
     "end_time": "2024-09-01T10:51:44.861259Z",
     "start_time": "2024-09-01T10:51:44.856678Z"
    }
   },
   "cell_type": "code",
   "source": "sys.builtin_module_names",
   "id": "355315778ca2c840",
   "outputs": [
    {
     "data": {
      "text/plain": [
       "('_abc',\n",
       " '_ast',\n",
       " '_codecs',\n",
       " '_collections',\n",
       " '_functools',\n",
       " '_imp',\n",
       " '_io',\n",
       " '_locale',\n",
       " '_operator',\n",
       " '_signal',\n",
       " '_sre',\n",
       " '_stat',\n",
       " '_string',\n",
       " '_symtable',\n",
       " '_thread',\n",
       " '_tokenize',\n",
       " '_tracemalloc',\n",
       " '_warnings',\n",
       " '_weakref',\n",
       " 'atexit',\n",
       " 'builtins',\n",
       " 'errno',\n",
       " 'faulthandler',\n",
       " 'gc',\n",
       " 'itertools',\n",
       " 'marshal',\n",
       " 'posix',\n",
       " 'pwd',\n",
       " 'sys',\n",
       " 'time',\n",
       " 'xxsubtype')"
      ]
     },
     "execution_count": 97,
     "metadata": {},
     "output_type": "execute_result"
    }
   ],
   "execution_count": 97
  },
  {
   "metadata": {},
   "cell_type": "markdown",
   "source": "",
   "id": "334589dc7839ac68"
  },
  {
   "metadata": {
    "ExecuteTime": {
     "end_time": "2024-09-01T10:53:02.915135Z",
     "start_time": "2024-09-01T10:53:02.908270Z"
    }
   },
   "cell_type": "code",
   "source": "importlib.util.find_spec(\"re\").origin",
   "id": "498e6fb287948399",
   "outputs": [
    {
     "data": {
      "text/plain": [
       "'/Users/yangxinyi/opt/miniforge3/envs/code_chinese_to_english/lib/python3.11/re/__init__.py'"
      ]
     },
     "execution_count": 101,
     "metadata": {},
     "output_type": "execute_result"
    }
   ],
   "execution_count": 101
  },
  {
   "metadata": {
    "ExecuteTime": {
     "end_time": "2024-09-01T10:58:27.200935Z",
     "start_time": "2024-09-01T10:58:27.194876Z"
    }
   },
   "cell_type": "code",
   "source": [
    "module_spec = importlib.util.find_spec(\"channel\")\n",
    "module_spec"
   ],
   "id": "7b711970c305cb4c",
   "outputs": [],
   "execution_count": 103
  },
  {
   "metadata": {
    "ExecuteTime": {
     "end_time": "2024-09-01T10:58:50.798857Z",
     "start_time": "2024-09-01T10:58:50.770112Z"
    }
   },
   "cell_type": "code",
   "source": [
    "module_path = module_spec.origin\n",
    "module_path"
   ],
   "id": "a4a8b1b2c9834458",
   "outputs": [
    {
     "ename": "AttributeError",
     "evalue": "'NoneType' object has no attribute 'origin'",
     "output_type": "error",
     "traceback": [
      "\u001B[0;31m---------------------------------------------------------------------------\u001B[0m",
      "\u001B[0;31mAttributeError\u001B[0m                            Traceback (most recent call last)",
      "Cell \u001B[0;32mIn[104], line 1\u001B[0m\n\u001B[0;32m----> 1\u001B[0m module_path \u001B[38;5;241m=\u001B[39m \u001B[43mmodule_spec\u001B[49m\u001B[38;5;241;43m.\u001B[39;49m\u001B[43morigin\u001B[49m\n\u001B[1;32m      2\u001B[0m module_path\n",
      "\u001B[0;31mAttributeError\u001B[0m: 'NoneType' object has no attribute 'origin'"
     ]
    }
   ],
   "execution_count": 104
  },
  {
   "metadata": {
    "ExecuteTime": {
     "end_time": "2024-09-01T11:03:44.052999Z",
     "start_time": "2024-09-01T11:03:44.038413Z"
    }
   },
   "cell_type": "code",
   "source": [
    "import ast\n",
    "\n",
    "code = \"\"\"\n",
    "import json\n",
    "import pandas as pd\n",
    "from os import path as os_path\n",
    "\"\"\"\n",
    "\n",
    "class ImportExtractor(ast.NodeVisitor):\n",
    "    def __init__(self):\n",
    "        self.imports = []\n",
    "\n",
    "    def visit_Import(self, node):\n",
    "        for alias in node.names:\n",
    "            self.imports.append((alias.name, alias.asname if alias.asname else alias.name))\n",
    "        self.generic_visit(node)\n",
    "\n",
    "    def visit_ImportFrom(self, node):\n",
    "        for alias in node.names:\n",
    "            module_name = f\"{node.module}.{alias.name}\" if node.module else alias.name\n",
    "            self.imports.append((module_name, alias.asname if alias.asname else alias.name))\n",
    "        self.generic_visit(node)\n",
    "\n",
    "# 解析代码\n",
    "tree = ast.parse(code)\n",
    "extractor = ImportExtractor()\n",
    "extractor.visit(tree)\n",
    "\n",
    "# 输出结果\n",
    "print(extractor.imports)\n"
   ],
   "id": "8e302aab99ac9809",
   "outputs": [
    {
     "name": "stdout",
     "output_type": "stream",
     "text": [
      "[('json', 'json'), ('pandas', 'pd'), ('os.path', 'os_path')]\n"
     ]
    }
   ],
   "execution_count": 105
  },
  {
   "metadata": {},
   "cell_type": "code",
   "outputs": [],
   "execution_count": null,
   "source": "",
   "id": "e6d70e1ec802969f"
  }
 ],
 "metadata": {
  "kernelspec": {
   "display_name": "Python 3",
   "language": "python",
   "name": "python3"
  },
  "language_info": {
   "codemirror_mode": {
    "name": "ipython",
    "version": 2
   },
   "file_extension": ".py",
   "mimetype": "text/x-python",
   "name": "python",
   "nbconvert_exporter": "python",
   "pygments_lexer": "ipython2",
   "version": "2.7.6"
  }
 },
 "nbformat": 4,
 "nbformat_minor": 5
}
